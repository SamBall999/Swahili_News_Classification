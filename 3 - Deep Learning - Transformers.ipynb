{
 "cells": [
  {
   "cell_type": "markdown",
   "metadata": {
    "id": "JeptIlPi_Vq4"
   },
   "source": [
    "<h2><center>COMS7047A Term Project: Swahili News Classification</center></h2> \n",
    "<h2><center>Notebook 3 - Investigating Transformers</center></h2> \n",
    "\n",
    "<img src=\"./wits_logo.png\" alt=\"Wits_Logo\" style=\"width: 200px;\"/>\n",
    "\n",
    "***\n",
    "<h4><center> Samantha Ball  &nbsp;   1603701   &nbsp;  2021</center></h4>"
   ]
  },
  {
   "cell_type": "markdown",
   "metadata": {
    "id": "mT4BENglfDpj"
   },
   "source": [
    "In this notebook, the use of deep learning techniques will be explored for the classification of Swahili news articles.\n",
    "\n",
    "### Table of Contents\n",
    "\n",
    "- Deep learning pipeline\n",
    "- Preparing training, validation and test sets\n",
    "- Model Instantiation and Training: Multilingual BERT\n",
    "- Evaluation of classification performance \n",
    "- Model optimization: One cycle learning rate schedule, no. of epochs and class weights\n",
    "- Final evaluation and discussion"
   ]
  },
  {
   "cell_type": "markdown",
   "metadata": {
    "id": "KT10c4kR_Vq6"
   },
   "source": [
    "Please note it is recommended to run this notebook in Google Colab due to GPU usage."
   ]
  },
  {
   "cell_type": "code",
   "execution_count": 1,
   "metadata": {
    "colab": {
     "base_uri": "https://localhost:8080/"
    },
    "executionInfo": {
     "elapsed": 23081,
     "status": "ok",
     "timestamp": 1624259849022,
     "user": {
      "displayName": "Sam Ball",
      "photoUrl": "",
      "userId": "13021419479325006913"
     },
     "user_tz": -120
    },
    "id": "WiEdF3u0_oPX",
    "outputId": "e1245ad8-7d8d-4ae9-caf8-d70c4f90a143"
   },
   "outputs": [
    {
     "name": "stdout",
     "output_type": "stream",
     "text": [
      "Mounted at /content/drive\n"
     ]
    }
   ],
   "source": [
    "from google.colab import drive\n",
    "drive.mount('/content/drive')"
   ]
  },
  {
   "cell_type": "code",
   "execution_count": 2,
   "metadata": {
    "colab": {
     "base_uri": "https://localhost:8080/"
    },
    "executionInfo": {
     "elapsed": 388,
     "status": "ok",
     "timestamp": 1624259852326,
     "user": {
      "displayName": "Sam Ball",
      "photoUrl": "",
      "userId": "13021419479325006913"
     },
     "user_tz": -120
    },
    "id": "WT4Z1Qd0_7ph",
    "outputId": "bd595070-5418-4281-d1c9-05b9ce294c95"
   },
   "outputs": [
    {
     "name": "stdout",
     "output_type": "stream",
     "text": [
      "/content/drive/MyDrive/Swahili_News_Classification\n"
     ]
    }
   ],
   "source": [
    "cd drive/MyDrive/Swahili_News_Classification/"
   ]
  },
  {
   "cell_type": "markdown",
   "metadata": {
    "id": "pxOmg8yK_Vq6"
   },
   "source": [
    "## Transformers\n",
    "\n",
    "The Transformer model is based on the concept of sequence-to-sequence models together with attention mechanisms. Transformer-based methods first pre-train the network on textual data to extract semantic knowledge which then forms the base for a variety of NLP tasks, rather than one specific task. "
   ]
  },
  {
   "cell_type": "markdown",
   "metadata": {
    "id": "QwVAC0Pb_Vq7"
   },
   "source": [
    "### Deep learning pipeline\n",
    "\n",
    "- The *ktrain* library will be utilised for the training and testing of each transformer model.\n",
    "- The *huggingface* library will be utilised to provide pretrained transformer models which will then be fine-tuned on our Swahili News Classification dataset."
   ]
  },
  {
   "cell_type": "code",
   "execution_count": null,
   "metadata": {
    "colab": {
     "base_uri": "https://localhost:8080/"
    },
    "executionInfo": {
     "elapsed": 1813,
     "status": "ok",
     "timestamp": 1624176936142,
     "user": {
      "displayName": "Sam Ball",
      "photoUrl": "",
      "userId": "13021419479325006913"
     },
     "user_tz": -120
    },
    "id": "uhma2s0r_Vq7",
    "outputId": "af377064-0a27-43dd-eebc-0dc91399b042"
   },
   "outputs": [
    {
     "name": "stdout",
     "output_type": "stream",
     "text": [
      "2.5.0\n"
     ]
    }
   ],
   "source": [
    "# must check tensorflow version 2.0 or more recent is installed\n",
    "import tensorflow as tf\n",
    "print(tf.__version__)"
   ]
  },
  {
   "cell_type": "markdown",
   "metadata": {
    "id": "uETGX7WzfDpn"
   },
   "source": [
    "#### Install ktrain library"
   ]
  },
  {
   "cell_type": "code",
   "execution_count": 3,
   "metadata": {
    "colab": {
     "base_uri": "https://localhost:8080/"
    },
    "executionInfo": {
     "elapsed": 28468,
     "status": "ok",
     "timestamp": 1624259884670,
     "user": {
      "displayName": "Sam Ball",
      "photoUrl": "",
      "userId": "13021419479325006913"
     },
     "user_tz": -120
    },
    "id": "MsLlNgKg_Vq8",
    "outputId": "b201d544-2a7d-48d3-e137-1800f31804e2"
   },
   "outputs": [
    {
     "name": "stdout",
     "output_type": "stream",
     "text": [
      "Collecting ktrain\n",
      "\u001b[?25l  Downloading https://files.pythonhosted.org/packages/4c/88/10d29578f47d0d140bf669d5598e9f5a50465ddc423b32031c65e840d003/ktrain-0.26.3.tar.gz (25.3MB)\n",
      "\u001b[K     |████████████████████████████████| 25.3MB 119kB/s \n",
      "\u001b[?25hCollecting scikit-learn==0.23.2\n",
      "\u001b[?25l  Downloading https://files.pythonhosted.org/packages/f4/cb/64623369f348e9bfb29ff898a57ac7c91ed4921f228e9726546614d63ccb/scikit_learn-0.23.2-cp37-cp37m-manylinux1_x86_64.whl (6.8MB)\n",
      "\u001b[K     |████████████████████████████████| 6.8MB 35.9MB/s \n",
      "\u001b[?25hRequirement already satisfied: matplotlib>=3.0.0 in /usr/local/lib/python3.7/dist-packages (from ktrain) (3.2.2)\n",
      "Requirement already satisfied: pandas>=1.0.1 in /usr/local/lib/python3.7/dist-packages (from ktrain) (1.1.5)\n",
      "Requirement already satisfied: fastprogress>=0.1.21 in /usr/local/lib/python3.7/dist-packages (from ktrain) (1.0.0)\n",
      "Requirement already satisfied: requests in /usr/local/lib/python3.7/dist-packages (from ktrain) (2.23.0)\n",
      "Requirement already satisfied: joblib in /usr/local/lib/python3.7/dist-packages (from ktrain) (1.0.1)\n",
      "Requirement already satisfied: packaging in /usr/local/lib/python3.7/dist-packages (from ktrain) (20.9)\n",
      "Requirement already satisfied: ipython in /usr/local/lib/python3.7/dist-packages (from ktrain) (5.5.0)\n",
      "Collecting langdetect\n",
      "\u001b[?25l  Downloading https://files.pythonhosted.org/packages/0e/72/a3add0e4eec4eb9e2569554f7c70f4a3c27712f40e3284d483e88094cc0e/langdetect-1.0.9.tar.gz (981kB)\n",
      "\u001b[K     |████████████████████████████████| 983kB 47.6MB/s \n",
      "\u001b[?25hRequirement already satisfied: jieba in /usr/local/lib/python3.7/dist-packages (from ktrain) (0.42.1)\n",
      "Collecting cchardet\n",
      "\u001b[?25l  Downloading https://files.pythonhosted.org/packages/80/72/a4fba7559978de00cf44081c548c5d294bf00ac7dcda2db405d2baa8c67a/cchardet-2.1.7-cp37-cp37m-manylinux2010_x86_64.whl (263kB)\n",
      "\u001b[K     |████████████████████████████████| 266kB 53.3MB/s \n",
      "\u001b[?25hCollecting syntok\n",
      "  Downloading https://files.pythonhosted.org/packages/8c/76/a49e73a04b3e3a14ce232e8e28a1587f8108baa665644fe8c40e307e792e/syntok-1.3.1.tar.gz\n",
      "Collecting seqeval==0.0.19\n",
      "  Downloading https://files.pythonhosted.org/packages/93/e5/b7705156a77f742cfe4fc6f22d0c71591edb2d243328dff2f8fc0f933ab6/seqeval-0.0.19.tar.gz\n",
      "Collecting transformers<=4.3.3,>=4.0.0\n",
      "\u001b[?25l  Downloading https://files.pythonhosted.org/packages/f9/54/5ca07ec9569d2f232f3166de5457b63943882f7950ddfcc887732fc7fb23/transformers-4.3.3-py3-none-any.whl (1.9MB)\n",
      "\u001b[K     |████████████████████████████████| 1.9MB 46.9MB/s \n",
      "\u001b[?25hCollecting sentencepiece\n",
      "\u001b[?25l  Downloading https://files.pythonhosted.org/packages/ac/aa/1437691b0c7c83086ebb79ce2da16e00bef024f24fec2a5161c35476f499/sentencepiece-0.1.96-cp37-cp37m-manylinux_2_17_x86_64.manylinux2014_x86_64.whl (1.2MB)\n",
      "\u001b[K     |████████████████████████████████| 1.2MB 27.1MB/s \n",
      "\u001b[?25hCollecting keras_bert>=0.86.0\n",
      "  Downloading https://files.pythonhosted.org/packages/6a/e4/3b2e2927c15c22f44005cb0ab0eaf2f7e623ea2b6488e4b7c5aca6c162c2/keras-bert-0.88.0.tar.gz\n",
      "Requirement already satisfied: networkx>=2.3 in /usr/local/lib/python3.7/dist-packages (from ktrain) (2.5.1)\n",
      "Collecting whoosh\n",
      "\u001b[?25l  Downloading https://files.pythonhosted.org/packages/ba/19/24d0f1f454a2c1eb689ca28d2f178db81e5024f42d82729a4ff6771155cf/Whoosh-2.7.4-py2.py3-none-any.whl (468kB)\n",
      "\u001b[K     |████████████████████████████████| 471kB 47.2MB/s \n",
      "\u001b[?25hRequirement already satisfied: numpy>=1.13.3 in /usr/local/lib/python3.7/dist-packages (from scikit-learn==0.23.2->ktrain) (1.19.5)\n",
      "Collecting threadpoolctl>=2.0.0\n",
      "  Downloading https://files.pythonhosted.org/packages/f7/12/ec3f2e203afa394a149911729357aa48affc59c20e2c1c8297a60f33f133/threadpoolctl-2.1.0-py3-none-any.whl\n",
      "Requirement already satisfied: scipy>=0.19.1 in /usr/local/lib/python3.7/dist-packages (from scikit-learn==0.23.2->ktrain) (1.4.1)\n",
      "Requirement already satisfied: kiwisolver>=1.0.1 in /usr/local/lib/python3.7/dist-packages (from matplotlib>=3.0.0->ktrain) (1.3.1)\n",
      "Requirement already satisfied: cycler>=0.10 in /usr/local/lib/python3.7/dist-packages (from matplotlib>=3.0.0->ktrain) (0.10.0)\n",
      "Requirement already satisfied: pyparsing!=2.0.4,!=2.1.2,!=2.1.6,>=2.0.1 in /usr/local/lib/python3.7/dist-packages (from matplotlib>=3.0.0->ktrain) (2.4.7)\n",
      "Requirement already satisfied: python-dateutil>=2.1 in /usr/local/lib/python3.7/dist-packages (from matplotlib>=3.0.0->ktrain) (2.8.1)\n",
      "Requirement already satisfied: pytz>=2017.2 in /usr/local/lib/python3.7/dist-packages (from pandas>=1.0.1->ktrain) (2018.9)\n",
      "Requirement already satisfied: urllib3!=1.25.0,!=1.25.1,<1.26,>=1.21.1 in /usr/local/lib/python3.7/dist-packages (from requests->ktrain) (1.24.3)\n",
      "Requirement already satisfied: chardet<4,>=3.0.2 in /usr/local/lib/python3.7/dist-packages (from requests->ktrain) (3.0.4)\n",
      "Requirement already satisfied: idna<3,>=2.5 in /usr/local/lib/python3.7/dist-packages (from requests->ktrain) (2.10)\n",
      "Requirement already satisfied: certifi>=2017.4.17 in /usr/local/lib/python3.7/dist-packages (from requests->ktrain) (2021.5.30)\n",
      "Requirement already satisfied: prompt-toolkit<2.0.0,>=1.0.4 in /usr/local/lib/python3.7/dist-packages (from ipython->ktrain) (1.0.18)\n",
      "Requirement already satisfied: simplegeneric>0.8 in /usr/local/lib/python3.7/dist-packages (from ipython->ktrain) (0.8.1)\n",
      "Requirement already satisfied: setuptools>=18.5 in /usr/local/lib/python3.7/dist-packages (from ipython->ktrain) (57.0.0)\n",
      "Requirement already satisfied: decorator in /usr/local/lib/python3.7/dist-packages (from ipython->ktrain) (4.4.2)\n",
      "Requirement already satisfied: pygments in /usr/local/lib/python3.7/dist-packages (from ipython->ktrain) (2.6.1)\n",
      "Requirement already satisfied: traitlets>=4.2 in /usr/local/lib/python3.7/dist-packages (from ipython->ktrain) (5.0.5)\n",
      "Requirement already satisfied: pexpect; sys_platform != \"win32\" in /usr/local/lib/python3.7/dist-packages (from ipython->ktrain) (4.8.0)\n",
      "Requirement already satisfied: pickleshare in /usr/local/lib/python3.7/dist-packages (from ipython->ktrain) (0.7.5)\n",
      "Requirement already satisfied: six in /usr/local/lib/python3.7/dist-packages (from langdetect->ktrain) (1.15.0)\n",
      "Requirement already satisfied: regex in /usr/local/lib/python3.7/dist-packages (from syntok->ktrain) (2019.12.20)\n",
      "Requirement already satisfied: Keras>=2.2.4 in /usr/local/lib/python3.7/dist-packages (from seqeval==0.0.19->ktrain) (2.4.3)\n",
      "Requirement already satisfied: importlib-metadata; python_version < \"3.8\" in /usr/local/lib/python3.7/dist-packages (from transformers<=4.3.3,>=4.0.0->ktrain) (4.5.0)\n",
      "Requirement already satisfied: filelock in /usr/local/lib/python3.7/dist-packages (from transformers<=4.3.3,>=4.0.0->ktrain) (3.0.12)\n",
      "Collecting sacremoses\n",
      "\u001b[?25l  Downloading https://files.pythonhosted.org/packages/75/ee/67241dc87f266093c533a2d4d3d69438e57d7a90abb216fa076e7d475d4a/sacremoses-0.0.45-py3-none-any.whl (895kB)\n",
      "\u001b[K     |████████████████████████████████| 901kB 40.4MB/s \n",
      "\u001b[?25hCollecting tokenizers<0.11,>=0.10.1\n",
      "\u001b[?25l  Downloading https://files.pythonhosted.org/packages/d4/e2/df3543e8ffdab68f5acc73f613de9c2b155ac47f162e725dcac87c521c11/tokenizers-0.10.3-cp37-cp37m-manylinux_2_5_x86_64.manylinux1_x86_64.manylinux_2_12_x86_64.manylinux2010_x86_64.whl (3.3MB)\n",
      "\u001b[K     |████████████████████████████████| 3.3MB 42.2MB/s \n",
      "\u001b[?25hRequirement already satisfied: tqdm>=4.27 in /usr/local/lib/python3.7/dist-packages (from transformers<=4.3.3,>=4.0.0->ktrain) (4.41.1)\n",
      "Collecting keras-transformer>=0.39.0\n",
      "  Downloading https://files.pythonhosted.org/packages/8a/35/6b079e920fe09a9349028bc2f209447e5636d90e29c5cf060bcc3177803a/keras-transformer-0.39.0.tar.gz\n",
      "Requirement already satisfied: wcwidth in /usr/local/lib/python3.7/dist-packages (from prompt-toolkit<2.0.0,>=1.0.4->ipython->ktrain) (0.2.5)\n",
      "Requirement already satisfied: ipython-genutils in /usr/local/lib/python3.7/dist-packages (from traitlets>=4.2->ipython->ktrain) (0.2.0)\n",
      "Requirement already satisfied: ptyprocess>=0.5 in /usr/local/lib/python3.7/dist-packages (from pexpect; sys_platform != \"win32\"->ipython->ktrain) (0.7.0)\n",
      "Requirement already satisfied: pyyaml in /usr/local/lib/python3.7/dist-packages (from Keras>=2.2.4->seqeval==0.0.19->ktrain) (3.13)\n",
      "Requirement already satisfied: h5py in /usr/local/lib/python3.7/dist-packages (from Keras>=2.2.4->seqeval==0.0.19->ktrain) (3.1.0)\n",
      "Requirement already satisfied: typing-extensions>=3.6.4; python_version < \"3.8\" in /usr/local/lib/python3.7/dist-packages (from importlib-metadata; python_version < \"3.8\"->transformers<=4.3.3,>=4.0.0->ktrain) (3.7.4.3)\n",
      "Requirement already satisfied: zipp>=0.5 in /usr/local/lib/python3.7/dist-packages (from importlib-metadata; python_version < \"3.8\"->transformers<=4.3.3,>=4.0.0->ktrain) (3.4.1)\n",
      "Requirement already satisfied: click in /usr/local/lib/python3.7/dist-packages (from sacremoses->transformers<=4.3.3,>=4.0.0->ktrain) (7.1.2)\n",
      "Collecting keras-pos-embd>=0.12.0\n",
      "  Downloading https://files.pythonhosted.org/packages/d8/d2/1cc072ea68b573f366e08936177a33e237e66fa7d5338289d4bee64696cf/keras-pos-embd-0.12.0.tar.gz\n",
      "Collecting keras-multi-head>=0.28.0\n",
      "  Downloading https://files.pythonhosted.org/packages/a5/e6/a83f26b2e1582de237b125f595874d808e40698f31d44d5903e872d5b64d/keras-multi-head-0.28.0.tar.gz\n",
      "Collecting keras-layer-normalization>=0.15.0\n",
      "  Downloading https://files.pythonhosted.org/packages/33/e1/0da586d544a0940a56a2f4aa704b7dbd95eaa8ceda6168b48f5ac95e6608/keras-layer-normalization-0.15.0.tar.gz\n",
      "Collecting keras-position-wise-feed-forward>=0.7.0\n",
      "  Downloading https://files.pythonhosted.org/packages/58/02/cd3e7e51cf45d3825818384a2f7d9c340b60c9bf55a5682b7318e1c16eab/keras-position-wise-feed-forward-0.7.0.tar.gz\n",
      "Collecting keras-embed-sim>=0.9.0\n",
      "  Downloading https://files.pythonhosted.org/packages/2d/48/78f6d134f1ede597d91186819c9e428ada51cd8d9ea28e5faf37ed2ee602/keras-embed-sim-0.9.0.tar.gz\n",
      "Requirement already satisfied: cached-property; python_version < \"3.8\" in /usr/local/lib/python3.7/dist-packages (from h5py->Keras>=2.2.4->seqeval==0.0.19->ktrain) (1.5.2)\n",
      "Collecting keras-self-attention>=0.50.0\n",
      "  Downloading https://files.pythonhosted.org/packages/ea/75/e6bc5b43ee968fef714f2f10a2a1674639ec85d2428cc47b2fe1f9af0115/keras-self-attention-0.50.0.tar.gz\n",
      "Building wheels for collected packages: ktrain, langdetect, syntok, seqeval, keras-bert, keras-transformer, keras-pos-embd, keras-multi-head, keras-layer-normalization, keras-position-wise-feed-forward, keras-embed-sim, keras-self-attention\n",
      "  Building wheel for ktrain (setup.py) ... \u001b[?25l\u001b[?25hdone\n",
      "  Created wheel for ktrain: filename=ktrain-0.26.3-cp37-none-any.whl size=25282390 sha256=0749d6f7c475cc561b25a0f581cb84a2bfca8280b195531419e1da81d61404c8\n",
      "  Stored in directory: /root/.cache/pip/wheels/16/05/be/d6e659b3349016b1059e19fa028f165af4eeae2c196f329112\n",
      "  Building wheel for langdetect (setup.py) ... \u001b[?25l\u001b[?25hdone\n",
      "  Created wheel for langdetect: filename=langdetect-1.0.9-cp37-none-any.whl size=993242 sha256=6af2019fa7d017cc533319598be1dd85209bac9c056b26d34211a9b35af7dea7\n",
      "  Stored in directory: /root/.cache/pip/wheels/7e/18/13/038c34057808931c7ddc6c92d3aa015cf1a498df5a70268996\n",
      "  Building wheel for syntok (setup.py) ... \u001b[?25l\u001b[?25hdone\n",
      "  Created wheel for syntok: filename=syntok-1.3.1-cp37-none-any.whl size=20919 sha256=ed2df3a040e58595219ae15080089056900c10e81d877c1756c7d3e3243f322a\n",
      "  Stored in directory: /root/.cache/pip/wheels/51/c6/a4/be1920586c49469846bcd2888200bdecfe109ec421dab9be2d\n",
      "  Building wheel for seqeval (setup.py) ... \u001b[?25l\u001b[?25hdone\n",
      "  Created wheel for seqeval: filename=seqeval-0.0.19-cp37-none-any.whl size=9932 sha256=ad7c0b94b30b4ec7ce4ba73a712f0fd54aed99eaf969262e678c0a74812b3f78\n",
      "  Stored in directory: /root/.cache/pip/wheels/8d/1f/bf/1198beceed805a2099060975f6281d1b01046dd279e19c97be\n",
      "  Building wheel for keras-bert (setup.py) ... \u001b[?25l\u001b[?25hdone\n",
      "  Created wheel for keras-bert: filename=keras_bert-0.88.0-cp37-none-any.whl size=34206 sha256=63542d2e2c41f53dbad6d76c1557c28c56f5f242b77744283f6a610ccf097e30\n",
      "  Stored in directory: /root/.cache/pip/wheels/7f/d8/86/b4d91b941f6f3256c487b258d5e4268a3301203b717dd11f11\n",
      "  Building wheel for keras-transformer (setup.py) ... \u001b[?25l\u001b[?25hdone\n",
      "  Created wheel for keras-transformer: filename=keras_transformer-0.39.0-cp37-none-any.whl size=12841 sha256=22b954d74bda6a1034962893ebe0eb75873301bd86c2ae4a922374ceece1b850\n",
      "  Stored in directory: /root/.cache/pip/wheels/77/42/35/d33c5907bca04ac5742e9eceefb644b680286de26728506a70\n",
      "  Building wheel for keras-pos-embd (setup.py) ... \u001b[?25l\u001b[?25hdone\n",
      "  Created wheel for keras-pos-embd: filename=keras_pos_embd-0.12.0-cp37-none-any.whl size=7471 sha256=50e3a557f99bac3635dabb3e4088a504df5c67c4f6fc88f78bbee5b7086afad7\n",
      "  Stored in directory: /root/.cache/pip/wheels/36/d8/36/06ed09215806dca9ff504d8c0dda5da68d7f2c67d34a231d82\n",
      "  Building wheel for keras-multi-head (setup.py) ... \u001b[?25l\u001b[?25hdone\n",
      "  Created wheel for keras-multi-head: filename=keras_multi_head-0.28.0-cp37-none-any.whl size=15559 sha256=c02119ab36364931d149a5e82db2fae1b77410a4c1a19262948ca3000b9a8524\n",
      "  Stored in directory: /root/.cache/pip/wheels/ec/92/bd/b3407bc29501f7e28eb970a6c425a9a375485c5d8197df6a8f\n",
      "  Building wheel for keras-layer-normalization (setup.py) ... \u001b[?25l\u001b[?25hdone\n",
      "  Created wheel for keras-layer-normalization: filename=keras_layer_normalization-0.15.0-cp37-none-any.whl size=5224 sha256=3deab940e5a55f44ad7b1db82106986a979c5f915a47e4d3f459cf8ecf0da802\n",
      "  Stored in directory: /root/.cache/pip/wheels/de/ea/db/833c8a9b8326e703e9f8a78c0d4153294e6a1b1f97a1836397\n",
      "  Building wheel for keras-position-wise-feed-forward (setup.py) ... \u001b[?25l\u001b[?25hdone\n",
      "  Created wheel for keras-position-wise-feed-forward: filename=keras_position_wise_feed_forward-0.7.0-cp37-none-any.whl size=5542 sha256=c021a2ed559e513e696b7d0e1f796004398d6944e2e8d4f70504f6cb79d03611\n",
      "  Stored in directory: /root/.cache/pip/wheels/d2/d2/f6/58ce0aae0055dbccba8b40e62a6c22ab997105ad8c431a9e80\n",
      "  Building wheel for keras-embed-sim (setup.py) ... \u001b[?25l\u001b[?25hdone\n",
      "  Created wheel for keras-embed-sim: filename=keras_embed_sim-0.9.0-cp37-none-any.whl size=4505 sha256=882805e385e172b84368f0c758e5d8029fb45f8251e2f1e6942d24e50a1a873c\n",
      "  Stored in directory: /root/.cache/pip/wheels/c1/d5/7d/bef5ee93c88bc6150294cc74cbb081647c505bf816918dd7ff\n",
      "  Building wheel for keras-self-attention (setup.py) ... \u001b[?25l\u001b[?25hdone\n",
      "  Created wheel for keras-self-attention: filename=keras_self_attention-0.50.0-cp37-none-any.whl size=19416 sha256=ed2042886207b9bdf0ae00d386db933b50b153466725cae3388ee02634942258\n",
      "  Stored in directory: /root/.cache/pip/wheels/29/93/0d/891573db60f74d0e43bd7db1496c3ef898f8b5946a4c24cbda\n",
      "Successfully built ktrain langdetect syntok seqeval keras-bert keras-transformer keras-pos-embd keras-multi-head keras-layer-normalization keras-position-wise-feed-forward keras-embed-sim keras-self-attention\n",
      "Installing collected packages: threadpoolctl, scikit-learn, langdetect, cchardet, syntok, seqeval, sacremoses, tokenizers, transformers, sentencepiece, keras-pos-embd, keras-self-attention, keras-multi-head, keras-layer-normalization, keras-position-wise-feed-forward, keras-embed-sim, keras-transformer, keras-bert, whoosh, ktrain\n",
      "  Found existing installation: scikit-learn 0.22.2.post1\n",
      "    Uninstalling scikit-learn-0.22.2.post1:\n",
      "      Successfully uninstalled scikit-learn-0.22.2.post1\n",
      "Successfully installed cchardet-2.1.7 keras-bert-0.88.0 keras-embed-sim-0.9.0 keras-layer-normalization-0.15.0 keras-multi-head-0.28.0 keras-pos-embd-0.12.0 keras-position-wise-feed-forward-0.7.0 keras-self-attention-0.50.0 keras-transformer-0.39.0 ktrain-0.26.3 langdetect-1.0.9 sacremoses-0.0.45 scikit-learn-0.23.2 sentencepiece-0.1.96 seqeval-0.0.19 syntok-1.3.1 threadpoolctl-2.1.0 tokenizers-0.10.3 transformers-4.3.3 whoosh-2.7.4\n"
     ]
    }
   ],
   "source": [
    "# install ktrain\n",
    "!pip3 install ktrain"
   ]
  },
  {
   "cell_type": "code",
   "execution_count": 2,
   "metadata": {
    "colab": {
     "base_uri": "https://localhost:8080/"
    },
    "executionInfo": {
     "elapsed": 6993,
     "status": "ok",
     "timestamp": 1624259894866,
     "user": {
      "displayName": "Sam Ball",
      "photoUrl": "",
      "userId": "13021419479325006913"
     },
     "user_tz": -120
    },
    "id": "Bl1OUQ7j_Vq8",
    "outputId": "a954d737-e8fa-4619-c4ee-477f9e200e15"
   },
   "outputs": [],
   "source": [
    "#----INSTALL LIBRARIES----#\n",
    "import matplotlib.pyplot as plt\n",
    "import numpy as np\n",
    "import pandas as pd\n",
    "import pandas.util.testing as tm\n",
    "import seaborn as sns\n",
    "from sklearn.metrics import r2_score , mean_squared_error, ConfusionMatrixDisplay\n",
    "from sklearn.model_selection import train_test_split \n",
    "import ktrain\n",
    "from ktrain import text\n",
    "%matplotlib inline"
   ]
  },
  {
   "cell_type": "markdown",
   "metadata": {
    "id": "XaeJ5Mhq_Vq8"
   },
   "source": [
    "### Train, validation and test sets\n",
    "\n",
    "The dataset was split into a training, validation and test set with ratios 70%, 15% and 15% respectively."
   ]
  },
  {
   "cell_type": "code",
   "execution_count": 5,
   "metadata": {
    "colab": {
     "base_uri": "https://localhost:8080/",
     "height": 376
    },
    "executionInfo": {
     "elapsed": 2227,
     "status": "ok",
     "timestamp": 1624259899566,
     "user": {
      "displayName": "Sam Ball",
      "photoUrl": "",
      "userId": "13021419479325006913"
     },
     "user_tz": -120
    },
    "id": "v6b4gHip_Vq9",
    "outputId": "f9890e1c-60e4-402f-dc1f-2bcb97b5200d"
   },
   "outputs": [
    {
     "name": "stdout",
     "output_type": "stream",
     "text": [
      "The first 10 rows of the dataframe\n"
     ]
    },
    {
     "data": {
      "text/html": [
       "<div>\n",
       "<style scoped>\n",
       "    .dataframe tbody tr th:only-of-type {\n",
       "        vertical-align: middle;\n",
       "    }\n",
       "\n",
       "    .dataframe tbody tr th {\n",
       "        vertical-align: top;\n",
       "    }\n",
       "\n",
       "    .dataframe thead th {\n",
       "        text-align: right;\n",
       "    }\n",
       "</style>\n",
       "<table border=\"1\" class=\"dataframe\">\n",
       "  <thead>\n",
       "    <tr style=\"text-align: right;\">\n",
       "      <th></th>\n",
       "      <th>id</th>\n",
       "      <th>content</th>\n",
       "      <th>category</th>\n",
       "    </tr>\n",
       "  </thead>\n",
       "  <tbody>\n",
       "    <tr>\n",
       "      <th>0</th>\n",
       "      <td>SW4670</td>\n",
       "      <td>Bodi ya Utalii Tanzania (TTB) imesema, itafan...</td>\n",
       "      <td>uchumi</td>\n",
       "    </tr>\n",
       "    <tr>\n",
       "      <th>1</th>\n",
       "      <td>SW30826</td>\n",
       "      <td>PENDO FUNDISHA-MBEYA RAIS Dk. John Magufuri, ...</td>\n",
       "      <td>kitaifa</td>\n",
       "    </tr>\n",
       "    <tr>\n",
       "      <th>2</th>\n",
       "      <td>SW29725</td>\n",
       "      <td>Mwandishi Wetu -Singida BENKI ya NMB imetoa ms...</td>\n",
       "      <td>uchumi</td>\n",
       "    </tr>\n",
       "    <tr>\n",
       "      <th>3</th>\n",
       "      <td>SW20901</td>\n",
       "      <td>TIMU ya taifa ya Tanzania, Serengeti Boys jan...</td>\n",
       "      <td>michezo</td>\n",
       "    </tr>\n",
       "    <tr>\n",
       "      <th>4</th>\n",
       "      <td>SW12560</td>\n",
       "      <td>Na AGATHA CHARLES – DAR ES SALAAM ALIYEKUWA K...</td>\n",
       "      <td>kitaifa</td>\n",
       "    </tr>\n",
       "    <tr>\n",
       "      <th>5</th>\n",
       "      <td>SW30734</td>\n",
       "      <td>MAJADILIANO kati ya aliyekuwa Mkurugenzi wa z...</td>\n",
       "      <td>kitaifa</td>\n",
       "    </tr>\n",
       "    <tr>\n",
       "      <th>6</th>\n",
       "      <td>SW28096</td>\n",
       "      <td>Mwandishi\\nWetu – butiama MKUU wa majeshi\\nmst...</td>\n",
       "      <td>kitaifa</td>\n",
       "    </tr>\n",
       "    <tr>\n",
       "      <th>7</th>\n",
       "      <td>SW1223</td>\n",
       "      <td>['Huenda Manchester United ikasubiri ukaguzi w...</td>\n",
       "      <td>michezo</td>\n",
       "    </tr>\n",
       "    <tr>\n",
       "      <th>8</th>\n",
       "      <td>SW20534</td>\n",
       "      <td>SHIRIKA la Bima la Taifa (NIC) linakuja na Bi...</td>\n",
       "      <td>uchumi</td>\n",
       "    </tr>\n",
       "    <tr>\n",
       "      <th>9</th>\n",
       "      <td>SW9193</td>\n",
       "      <td>RAIS wa Zanzibar, Dk Ali Mohamed Shein amewat...</td>\n",
       "      <td>kitaifa</td>\n",
       "    </tr>\n",
       "  </tbody>\n",
       "</table>\n",
       "</div>"
      ],
      "text/plain": [
       "        id                                            content category\n",
       "0   SW4670   Bodi ya Utalii Tanzania (TTB) imesema, itafan...   uchumi\n",
       "1  SW30826   PENDO FUNDISHA-MBEYA RAIS Dk. John Magufuri, ...  kitaifa\n",
       "2  SW29725  Mwandishi Wetu -Singida BENKI ya NMB imetoa ms...   uchumi\n",
       "3  SW20901   TIMU ya taifa ya Tanzania, Serengeti Boys jan...  michezo\n",
       "4  SW12560   Na AGATHA CHARLES – DAR ES SALAAM ALIYEKUWA K...  kitaifa\n",
       "5  SW30734   MAJADILIANO kati ya aliyekuwa Mkurugenzi wa z...  kitaifa\n",
       "6  SW28096  Mwandishi\\nWetu – butiama MKUU wa majeshi\\nmst...  kitaifa\n",
       "7   SW1223  ['Huenda Manchester United ikasubiri ukaguzi w...  michezo\n",
       "8  SW20534   SHIRIKA la Bima la Taifa (NIC) linakuja na Bi...   uchumi\n",
       "9   SW9193   RAIS wa Zanzibar, Dk Ali Mohamed Shein amewat...  kitaifa"
      ]
     },
     "execution_count": 5,
     "metadata": {
      "tags": []
     },
     "output_type": "execute_result"
    }
   ],
   "source": [
    "#----IMPORT DATA----#\n",
    "data_path = \"./train.csv\" # data given in CSV format\n",
    "df = pd.read_csv(data_path) #read in data\n",
    "\n",
    "pd.set_option('display.max_columns', None) #show all columns\n",
    "print(\"The first 10 rows of the dataframe\") \n",
    "df.head(10)"
   ]
  },
  {
   "cell_type": "code",
   "execution_count": null,
   "metadata": {
    "colab": {
     "base_uri": "https://localhost:8080/",
     "height": 359
    },
    "executionInfo": {
     "elapsed": 513,
     "status": "ok",
     "timestamp": 1623667963513,
     "user": {
      "displayName": "Sam Ball",
      "photoUrl": "",
      "userId": "13021419479325006913"
     },
     "user_tz": -120
    },
    "id": "9TJlBPPT_Vq-",
    "outputId": "6f2b900c-59bb-48d1-ad02-f41b9acbcb1c"
   },
   "outputs": [
    {
     "data": {
      "text/html": [
       "<div>\n",
       "<style scoped>\n",
       "    .dataframe tbody tr th:only-of-type {\n",
       "        vertical-align: middle;\n",
       "    }\n",
       "\n",
       "    .dataframe tbody tr th {\n",
       "        vertical-align: top;\n",
       "    }\n",
       "\n",
       "    .dataframe thead th {\n",
       "        text-align: right;\n",
       "    }\n",
       "</style>\n",
       "<table border=\"1\" class=\"dataframe\">\n",
       "  <thead>\n",
       "    <tr style=\"text-align: right;\">\n",
       "      <th></th>\n",
       "      <th>id</th>\n",
       "      <th>content</th>\n",
       "      <th>category</th>\n",
       "    </tr>\n",
       "  </thead>\n",
       "  <tbody>\n",
       "    <tr>\n",
       "      <th>23258</th>\n",
       "      <td>SW6098</td>\n",
       "      <td>Na RAMADHAN LIBENANGA-MOROGORO \\nWAFUGAJI wila...</td>\n",
       "      <td>kitaifa</td>\n",
       "    </tr>\n",
       "    <tr>\n",
       "      <th>23259</th>\n",
       "      <td>SW24061</td>\n",
       "      <td>Mwandishi Wetu,Dar es Salaam ZAIDI ya wafanyab...</td>\n",
       "      <td>uchumi</td>\n",
       "    </tr>\n",
       "    <tr>\n",
       "      <th>23260</th>\n",
       "      <td>SW12537</td>\n",
       "      <td>Na Said Ameir, MAELEZO  KUWAPATIA wananchi daw...</td>\n",
       "      <td>afya</td>\n",
       "    </tr>\n",
       "    <tr>\n",
       "      <th>23261</th>\n",
       "      <td>SW5272</td>\n",
       "      <td>MWILI wa binadamu na viumbe wengine kama vile...</td>\n",
       "      <td>afya</td>\n",
       "    </tr>\n",
       "    <tr>\n",
       "      <th>23262</th>\n",
       "      <td>SW897</td>\n",
       "      <td>\\n\\tNa WAANDISHI WETU – ZANZIBAR/DAR ES SALAAM...</td>\n",
       "      <td>kitaifa</td>\n",
       "    </tr>\n",
       "    <tr>\n",
       "      <th>23263</th>\n",
       "      <td>SW24920</td>\n",
       "      <td>Alitoa pongezi hizo alipozindua rasmi hatua y...</td>\n",
       "      <td>uchumi</td>\n",
       "    </tr>\n",
       "    <tr>\n",
       "      <th>23264</th>\n",
       "      <td>SW4038</td>\n",
       "      <td>Na NORA DAMIAN-DAR ES SALAAM  TEKLA (si jina ...</td>\n",
       "      <td>kitaifa</td>\n",
       "    </tr>\n",
       "    <tr>\n",
       "      <th>23265</th>\n",
       "      <td>SW16649</td>\n",
       "      <td>Mkuu wa Mkoa wa Njombe, Dk Rehema Nchimbi wak...</td>\n",
       "      <td>uchumi</td>\n",
       "    </tr>\n",
       "    <tr>\n",
       "      <th>23266</th>\n",
       "      <td>SW23291</td>\n",
       "      <td>MABINGWA wa Ligi Kuu Soka Tanzania Bara, Simb...</td>\n",
       "      <td>michezo</td>\n",
       "    </tr>\n",
       "    <tr>\n",
       "      <th>23267</th>\n",
       "      <td>SW11778</td>\n",
       "      <td>WIKI iliyopita, nilianza makala haya yanayole...</td>\n",
       "      <td>kitaifa</td>\n",
       "    </tr>\n",
       "  </tbody>\n",
       "</table>\n",
       "</div>"
      ],
      "text/plain": [
       "            id                                            content category\n",
       "23258   SW6098  Na RAMADHAN LIBENANGA-MOROGORO \\nWAFUGAJI wila...  kitaifa\n",
       "23259  SW24061  Mwandishi Wetu,Dar es Salaam ZAIDI ya wafanyab...   uchumi\n",
       "23260  SW12537  Na Said Ameir, MAELEZO  KUWAPATIA wananchi daw...     afya\n",
       "23261   SW5272   MWILI wa binadamu na viumbe wengine kama vile...     afya\n",
       "23262    SW897  \\n\\tNa WAANDISHI WETU – ZANZIBAR/DAR ES SALAAM...  kitaifa\n",
       "23263  SW24920   Alitoa pongezi hizo alipozindua rasmi hatua y...   uchumi\n",
       "23264   SW4038   Na NORA DAMIAN-DAR ES SALAAM  TEKLA (si jina ...  kitaifa\n",
       "23265  SW16649   Mkuu wa Mkoa wa Njombe, Dk Rehema Nchimbi wak...   uchumi\n",
       "23266  SW23291   MABINGWA wa Ligi Kuu Soka Tanzania Bara, Simb...  michezo\n",
       "23267  SW11778   WIKI iliyopita, nilianza makala haya yanayole...  kitaifa"
      ]
     },
     "execution_count": 8,
     "metadata": {
      "tags": []
     },
     "output_type": "execute_result"
    }
   ],
   "source": [
    "df.tail(10)"
   ]
  },
  {
   "cell_type": "code",
   "execution_count": 6,
   "metadata": {
    "executionInfo": {
     "elapsed": 359,
     "status": "ok",
     "timestamp": 1624259903303,
     "user": {
      "displayName": "Sam Ball",
      "photoUrl": "",
      "userId": "13021419479325006913"
     },
     "user_tz": -120
    },
    "id": "YirFlKKv_Vq-"
   },
   "outputs": [],
   "source": [
    "#---SPLITTING DATA INTO TRAIN, VALIDATION AND TEST SETS---#\n",
    "\n",
    "x = df[\"content\"].values\n",
    "y = df[\"category\"].values\n",
    "x_train, x_temp, y_train, y_temp = train_test_split(x, y, test_size = 1/3, random_state = 0)\n",
    "x_val, x_test, y_val, y_test = train_test_split(x_temp, y_temp, test_size = 1/2, random_state = 0)"
   ]
  },
  {
   "cell_type": "code",
   "execution_count": 7,
   "metadata": {
    "colab": {
     "base_uri": "https://localhost:8080/"
    },
    "executionInfo": {
     "elapsed": 3,
     "status": "ok",
     "timestamp": 1624259905042,
     "user": {
      "displayName": "Sam Ball",
      "photoUrl": "",
      "userId": "13021419479325006913"
     },
     "user_tz": -120
    },
    "id": "elri5r-N_Vq-",
    "outputId": "1b5e4d72-e30c-43a7-f9ac-0c5bc9d8d556"
   },
   "outputs": [
    {
     "name": "stdout",
     "output_type": "stream",
     "text": [
      "Training Dataset: 15512\n",
      "Validation Dataset: 3878\n",
      "Test Dataset: 3878\n"
     ]
    }
   ],
   "source": [
    "#----NO. OF SAMPLES IN EACH SET----#\n",
    "\n",
    "print(\"Training Dataset: {}\".format(len(x_train)))\n",
    "print(\"Validation Dataset: {}\".format(len(x_val)))\n",
    "print(\"Test Dataset: {}\".format(len(x_test)))"
   ]
  },
  {
   "cell_type": "code",
   "execution_count": 8,
   "metadata": {
    "executionInfo": {
     "elapsed": 735,
     "status": "ok",
     "timestamp": 1624259907741,
     "user": {
      "displayName": "Sam Ball",
      "photoUrl": "",
      "userId": "13021419479325006913"
     },
     "user_tz": -120
    },
    "id": "U35h4eqa_Vq-"
   },
   "outputs": [],
   "source": [
    "#----TARGET NAMES----#\n",
    "\n",
    "target_names = ['kitaifa', 'uchumi', 'michezo', 'afya', 'kimataifa', 'burudani']"
   ]
  },
  {
   "cell_type": "markdown",
   "metadata": {
    "id": "wf5IvNNX_Vq_"
   },
   "source": [
    "## Transformer Models"
   ]
  },
  {
   "cell_type": "markdown",
   "metadata": {
    "id": "mbvxRdZj_Vq_"
   },
   "source": [
    "### BERT\n",
    "\n",
    "The popular Bidirectional Encoder Representations from Transformers (BERT) will be utilised as the pre-trained Transformer model to be fine-tuned on the Swahili News Classification dataset."
   ]
  },
  {
   "cell_type": "markdown",
   "metadata": {
    "id": "mAopip-a_VrA"
   },
   "source": [
    "### Multilingual BERT\n",
    "\n",
    "Specifically, the *bert-base-multingual-cased* model is selected from the *huggingface* library. The multilingual BERT model is trained on 104 languages using Masked Language Modelling (MLM). "
   ]
  },
  {
   "cell_type": "markdown",
   "metadata": {
    "id": "bxNO7o7f_VrA"
   },
   "source": [
    "### Deep learning pipeline\n",
    "\n",
    "A pipeline is built to create a model instance, process the input data into the correct format and train the model for the specified number of epochs."
   ]
  },
  {
   "cell_type": "markdown",
   "metadata": {
    "id": "cS0XxnYT_VrA"
   },
   "source": [
    "#### Choose model"
   ]
  },
  {
   "cell_type": "code",
   "execution_count": 6,
   "metadata": {
    "id": "9WyBhsGb_VrB"
   },
   "outputs": [],
   "source": [
    "MODEL_NAME = 'bert-base-multilingual-cased'"
   ]
  },
  {
   "cell_type": "markdown",
   "metadata": {
    "id": "VOVLsR67_VrB"
   },
   "source": [
    "#### Create a Transformer instance"
   ]
  },
  {
   "cell_type": "code",
   "execution_count": null,
   "metadata": {
    "colab": {
     "base_uri": "https://localhost:8080/",
     "height": 66,
     "referenced_widgets": [
      "f6828918084046619e14432d47ff81f4",
      "9e901f14fd4241ab94a41ddab2438683",
      "cebbeacbcc704f60bc69658153ad50cc",
      "e9d7f4888e714d798f4767655a6779ea",
      "ba3a856d51bf4681b0f46b39b97aceb6",
      "9d602bd1c04043e2a556830b80d0f2ec",
      "f448a5b675314ca2a534641268a361ba",
      "0337c25cf3de491182b635d233177cbd"
     ]
    },
    "executionInfo": {
     "elapsed": 1659,
     "status": "ok",
     "timestamp": 1623667979392,
     "user": {
      "displayName": "Sam Ball",
      "photoUrl": "",
      "userId": "13021419479325006913"
     },
     "user_tz": -120
    },
    "id": "wCY1Oehk_VrB",
    "outputId": "df460f32-dce1-4e28-9ee2-09742a30124b"
   },
   "outputs": [
    {
     "data": {
      "application/vnd.jupyter.widget-view+json": {
       "model_id": "46a6ddabf44e4030a528c46543ae6b58",
       "version_major": 2,
       "version_minor": 0
      },
      "text/plain": [
       "HBox(children=(IntProgress(value=0, description='Downloading', max=625, style=ProgressStyle(description_width=…"
      ]
     },
     "metadata": {
      "tags": []
     },
     "output_type": "display_data"
    },
    {
     "name": "stdout",
     "output_type": "stream",
     "text": [
      "\n"
     ]
    }
   ],
   "source": [
    "# create Transformer instance\n",
    "t = text.Transformer(MODEL_NAME, maxlen = 500)"
   ]
  },
  {
   "cell_type": "markdown",
   "metadata": {
    "id": "G2FJSB-o_VrB"
   },
   "source": [
    "#### Preprocess datasets into required format for selected model"
   ]
  },
  {
   "cell_type": "code",
   "execution_count": null,
   "metadata": {
    "colab": {
     "base_uri": "https://localhost:8080/",
     "height": 492,
     "referenced_widgets": [
      "b364bb98f57343c395f3697bb65260f9",
      "3566f4324ea34c30a18a084f49e9e449",
      "d763548ad4a248d187614652a2c7c076",
      "37a4d3d0d28343d7adfabf1ab70bb6af",
      "eaa95ff76f874799becf3ac80cef869e",
      "00ec522befe84181b5c48492ab427c8b",
      "fd536bef296c40559b3ecbbe4c04bed0",
      "a6bc6a17c9654796b73dce618fabeb6b",
      "2257bdc02d8049de98b000d98a387978",
      "7f2af4b00e0c48d1aa53e2683ab1c06b",
      "340d81a4b1724dd2a715dbf8a8b4396b",
      "d8f36ed6f1d84652813336e6d8fa403d",
      "86b0939f03794628b05ac080672a60b9",
      "7e7b9585f26a4c838e70020e36abf04b",
      "d7c62d9de69646f5a2fd6b1b08aefaa1",
      "4c66d14bb2f14e5e9bbc8b816ea48b41"
     ]
    },
    "executionInfo": {
     "elapsed": 59808,
     "status": "ok",
     "timestamp": 1623668042148,
     "user": {
      "displayName": "Sam Ball",
      "photoUrl": "",
      "userId": "13021419479325006913"
     },
     "user_tz": -120
    },
    "id": "EdGldT1J_VrB",
    "outputId": "d5a0af35-f83c-4b51-86ef-60418f773945"
   },
   "outputs": [
    {
     "name": "stdout",
     "output_type": "stream",
     "text": [
      "preprocessing train...\n",
      "language: sw\n",
      "train sequence lengths:\n",
      "\tmean : 332\n",
      "\t95percentile : 786\n",
      "\t99percentile : 1254\n"
     ]
    },
    {
     "data": {
      "application/vnd.jupyter.widget-view+json": {
       "model_id": "21588fbef1894e59a53711259500efcb",
       "version_major": 2,
       "version_minor": 0
      },
      "text/plain": [
       "HBox(children=(IntProgress(value=0, description='Downloading', max=995526, style=ProgressStyle(description_wid…"
      ]
     },
     "metadata": {
      "tags": []
     },
     "output_type": "display_data"
    },
    {
     "name": "stdout",
     "output_type": "stream",
     "text": [
      "\n"
     ]
    },
    {
     "data": {
      "application/vnd.jupyter.widget-view+json": {
       "model_id": "51cf2375fb7f44848de6ed0dd6480961",
       "version_major": 2,
       "version_minor": 0
      },
      "text/plain": [
       "HBox(children=(IntProgress(value=0, description='Downloading', max=1961828, style=ProgressStyle(description_wi…"
      ]
     },
     "metadata": {
      "tags": []
     },
     "output_type": "display_data"
    },
    {
     "name": "stdout",
     "output_type": "stream",
     "text": [
      "\n"
     ]
    },
    {
     "data": {
      "text/html": [],
      "text/plain": [
       "<IPython.core.display.HTML object>"
      ]
     },
     "metadata": {
      "tags": []
     },
     "output_type": "display_data"
    },
    {
     "name": "stdout",
     "output_type": "stream",
     "text": [
      "Is Multi-Label? False\n",
      "preprocessing test...\n",
      "language: sw\n",
      "test sequence lengths:\n",
      "\tmean : 329\n",
      "\t95percentile : 770\n",
      "\t99percentile : 1234\n"
     ]
    },
    {
     "data": {
      "text/html": [],
      "text/plain": [
       "<IPython.core.display.HTML object>"
      ]
     },
     "metadata": {
      "tags": []
     },
     "output_type": "display_data"
    },
    {
     "name": "stdout",
     "output_type": "stream",
     "text": [
      "preprocessing test...\n",
      "language: sw\n",
      "test sequence lengths:\n",
      "\tmean : 336\n",
      "\t95percentile : 788\n",
      "\t99percentile : 1302\n"
     ]
    },
    {
     "data": {
      "text/html": [],
      "text/plain": [
       "<IPython.core.display.HTML object>"
      ]
     },
     "metadata": {
      "tags": []
     },
     "output_type": "display_data"
    }
   ],
   "source": [
    "# preprocess the training, validation and test datasets\n",
    "\n",
    "trn = t.preprocess_train(x_train, y_train)\n",
    "val = t.preprocess_test(x_val, y_val)\n",
    "test = t.preprocess_test(x_test, y_test)"
   ]
  },
  {
   "cell_type": "markdown",
   "metadata": {
    "id": "kxvuG0ti_VrC"
   },
   "source": [
    "#### Create a model wrapped in a learner\n",
    "\n",
    "- Learner object allows training, prediction and inspection of model\n",
    "- Model has pretrained weights and randomly initialized final layers\n",
    "- Fine-tuning is performed since our dataset size is much smaller than the size required to train from the network from scratch.\n",
    "\n",
    "A batch size of 4 was chosen to ensure memory limits of GPU were not exceeded."
   ]
  },
  {
   "cell_type": "code",
   "execution_count": null,
   "metadata": {
    "colab": {
     "base_uri": "https://localhost:8080/",
     "height": 66,
     "referenced_widgets": [
      "5555b15a2123434db35928f38dc70877",
      "6964495806564d9db66ab675a10090c5",
      "8a1ecae7d3514f8392a919e044024b83",
      "e3d596e837ee4dbeb895a246708295f9",
      "46ff86607422492798351a63d09137d7",
      "4ffe15601377440c896200e08e910305",
      "20d3cf4805424416ac493f28c604d62c",
      "08ed1d73e4264fa5a8bb2a4843034610"
     ]
    },
    "executionInfo": {
     "elapsed": 46853,
     "status": "ok",
     "timestamp": 1623668114506,
     "user": {
      "displayName": "Sam Ball",
      "photoUrl": "",
      "userId": "13021419479325006913"
     },
     "user_tz": -120
    },
    "id": "vFhbVnnJ_VrC",
    "outputId": "20990293-4b25-4371-92c5-10a3daba2680"
   },
   "outputs": [
    {
     "data": {
      "application/vnd.jupyter.widget-view+json": {
       "model_id": "739f54c209524f7dbfa5760e690c6954",
       "version_major": 2,
       "version_minor": 0
      },
      "text/plain": [
       "HBox(children=(IntProgress(value=0, description='Downloading', max=1083389348, style=ProgressStyle(description…"
      ]
     },
     "metadata": {
      "tags": []
     },
     "output_type": "display_data"
    },
    {
     "name": "stdout",
     "output_type": "stream",
     "text": [
      "\n"
     ]
    }
   ],
   "source": [
    "# create model and learner wrapper\n",
    "\n",
    "model = t.get_classifier()\n",
    "learner = ktrain.get_learner(model, train_data = trn, val_data = val, batch_size = 4) # within GPU memory limits"
   ]
  },
  {
   "cell_type": "markdown",
   "metadata": {
    "id": "zQrohP1D_VrC"
   },
   "source": [
    "#### Train model\n",
    "\n",
    "A learning rate schedule was employed in favour of a fixed learning rate as cyclical learning rates have been shown to simultaneously improve performance while requiring fewer iterations. In particular, the *triangular learning rate schedule* was implemented. Training was inititally performed with only 2 epochs to ensure reasonable training times."
   ]
  },
  {
   "cell_type": "code",
   "execution_count": null,
   "metadata": {
    "colab": {
     "base_uri": "https://localhost:8080/",
     "height": 712
    },
    "executionInfo": {
     "elapsed": 8306953,
     "status": "ok",
     "timestamp": 1623676850554,
     "user": {
      "displayName": "Sam Ball",
      "photoUrl": "",
      "userId": "13021419479325006913"
     },
     "user_tz": -120
    },
    "id": "6Hvw-Vxj_VrC",
    "outputId": "e7894817-05ec-41cb-85e9-52fd97f43df8"
   },
   "outputs": [
    {
     "name": "stdout",
     "output_type": "stream",
     "text": [
      "\n",
      "\n",
      "begin training using triangular learning rate policy with max lr of 2e-05...\n",
      "Epoch 1/2\n",
      "3878/3878 [==============================] - 4125s 1s/step - loss: 0.4869 - accuracy: 0.8532 - val_loss: 0.3100 - val_accuracy: 0.9015\n",
      "Epoch 2/2\n",
      "3878/3878 [==============================] - 4123s 1s/step - loss: 0.3251 - accuracy: 0.8999 - val_loss: 0.2866 - val_accuracy: 0.9090\n"
     ]
    },
    {
     "data": {
      "image/png": "[encoded data removed]",
      "text/plain": [
       "<Figure size 432x288 with 1 Axes>"
      ]
     },
     "metadata": {
      "needs_background": "light",
      "tags": []
     },
     "output_type": "display_data"
    },
    {
     "data": {
      "image/png": "[encoded data removed]",
      "text/plain": [
       "<Figure size 432x288 with 1 Axes>"
      ]
     },
     "metadata": {
      "needs_background": "light",
      "tags": []
     },
     "output_type": "display_data"
    }
   ],
   "source": [
    "#----TRAIN WITH TRIANGULAR LEARNING RATE POLICY----#\n",
    "\n",
    "\n",
    "# Triangular learning rate policy has initial warmup period that increases the learning rate,\n",
    "# followed by a decrease in learning rate.\n",
    "\n",
    "history = learner.autofit(2e-5, epochs = 2) #  method employs a triangular learning rate policy\n",
    "\n",
    "learner.plot('loss') # visualising training and validation loss\n",
    "learner.plot('lr') # visualise learning rate schedule\n",
    "\n",
    "# save progress as a checkpoint\n",
    "ktrain.get_predictor(learner.model, preproc = t).save('./tmp/bert_multilingual_predictor')"
   ]
  },
  {
   "cell_type": "markdown",
   "metadata": {
    "id": "4Hk_0-kP_VrD"
   },
   "source": [
    "## Metrics and Evaluation"
   ]
  },
  {
   "cell_type": "markdown",
   "metadata": {
    "id": "ivRK4MWk_VrD"
   },
   "source": [
    "\n",
    "As in the case of the classical methods, several metrics will be reported, including *test accuracy, precision, recall* and *F1-score*. Each of the chosen metrics provides different insight into the performance of the models. In addition, the *confusion matrix* will be plotted to indicate the nature of the misclassifications.\n",
    "\n",
    "1. Accuracy \n",
    "\n",
    "Accuracy provides a measure of how many samples are correctly predicted and is calculated as follows,\n",
    "\n",
    "\\begin{equation}\n",
    "    Accuracy = \\frac{(TP + TN)}{(TN + FP + FN + TP)}\n",
    "\\end{equation}\n",
    "\n",
    "\n",
    "where $TP, TN, FP$ and $FN$ represent the number of true positives, true negatives, false positives and false negatives respectively.\n",
    "\n",
    "2. Precision\n",
    "\n",
    "\\begin{equation}\n",
    "    Precision = \\frac{TP}{(TP + FP)}\n",
    "\\end{equation}\n",
    "\n",
    "\n",
    "3. Recall\n",
    "\n",
    "\\begin{equation}\n",
    "    Recall = \\frac{TP}{(TP+FN)}\n",
    "\\end{equation}\n",
    "\n",
    "\n",
    "4. F1-Score\n",
    "\n",
    "The F1-score is the harmonic mean of the precision and recall and therefore provides a combined metric balancing these two objectives.\n",
    "\n",
    "\\begin{equation}\n",
    "    F1 \\; Score = \\frac{(2*precision*recall)}{(precision+recall)}\n",
    "\\end{equation}\n",
    "\n",
    "The F1-score provides an insightful metric in the face of class imbalance as it incorporates both precision and recall and is not skewed by the majority class."
   ]
  },
  {
   "cell_type": "code",
   "execution_count": null,
   "metadata": {
    "colab": {
     "base_uri": "https://localhost:8080/"
    },
    "executionInfo": {
     "elapsed": 329265,
     "status": "ok",
     "timestamp": 1623677756788,
     "user": {
      "displayName": "Sam Ball",
      "photoUrl": "",
      "userId": "13021419479325006913"
     },
     "user_tz": -120
    },
    "id": "Y62kT4RL_VrD",
    "outputId": "4f891af7-6b4c-4fae-8cc6-010bbcf3c605"
   },
   "outputs": [
    {
     "name": "stdout",
     "output_type": "stream",
     "text": [
      "              precision    recall  f1-score   support\n",
      "\n",
      "        afya       0.60      0.34      0.44       157\n",
      "    burudani       0.85      0.89      0.87       340\n",
      "   kimataifa       0.92      0.85      0.88       300\n",
      "     kitaifa       0.89      0.93      0.91      1736\n",
      "     michezo       0.92      0.97      0.95       975\n",
      "      uchumi       0.93      0.80      0.86       370\n",
      "\n",
      "    accuracy                           0.90      3878\n",
      "   macro avg       0.85      0.80      0.82      3878\n",
      "weighted avg       0.89      0.90      0.89      3878\n",
      "\n"
     ]
    },
    {
     "data": {
      "text/plain": [
       "array([[  54,    1,    4,   97,    1,    0],\n",
       "       [   4,  304,    0,   10,   22,    0],\n",
       "       [   6,   21,  255,   11,    5,    2],\n",
       "       [  26,   17,   15, 1617,   47,   14],\n",
       "       [   0,   13,    2,    8,  947,    5],\n",
       "       [   0,    1,    1,   67,    4,  297]])"
      ]
     },
     "execution_count": 18,
     "metadata": {
      "tags": []
     },
     "output_type": "execute_result"
    }
   ],
   "source": [
    "learner.validate(test, class_names=t.get_classes()) # classification report"
   ]
  },
  {
   "cell_type": "markdown",
   "metadata": {
    "id": "kty1vEcP_VrE"
   },
   "source": [
    "It can be seen that the *afya* (health news) category has a lower f-score than the other categories due to poor recall and precision. This could be due to class imbalance as the *afya* category has much fewer training examples associated with it and thus poor representation compared to other categories. "
   ]
  },
  {
   "cell_type": "code",
   "execution_count": null,
   "metadata": {
    "id": "K4bDxUGefDpt",
    "outputId": "4214d893-09a4-47d8-e378-cddb3db43d48"
   },
   "outputs": [
    {
     "data": {
      "image/png": "[encoded data removed]",
      "text/plain": [
       "<Figure size 432x432 with 2 Axes>"
      ]
     },
     "metadata": {
      "needs_background": "light",
      "tags": []
     },
     "output_type": "display_data"
    }
   ],
   "source": [
    "cm = np.array([[  54,    1,    4,   97,    1,    0],\n",
    "       [   4,  304,    0,   10,   22,    0],\n",
    "       [   6,   21,  255,   11,    5,    2],\n",
    "       [  26,   17,   15, 1617,   47,   14],\n",
    "       [   0,   13,    2,    8,  947,    5],\n",
    "       [   0,    1,    1,   67,    4,  297]])\n",
    "\n",
    "\n",
    "labels = ['afya', 'burudani', 'kimataifa', 'kitaifa', 'michezo', 'uchumi']\n",
    "\n",
    "disp = ConfusionMatrixDisplay(confusion_matrix=cm,\n",
    "                              display_labels=labels)\n",
    "\n",
    "\n",
    "fig, ax = plt.subplots(figsize=(6, 6))\n",
    "disp = disp.plot(cmap=plt.cm.Blues, ax=ax, xticks_rotation='vertical')\n",
    "\n",
    "plt.savefig('bert_confusion_matrix', dpi = 300, bbox_inches='tight')\n",
    "plt.show()"
   ]
  },
  {
   "cell_type": "code",
   "execution_count": 9,
   "metadata": {
    "executionInfo": {
     "elapsed": 392,
     "status": "ok",
     "timestamp": 1624259916586,
     "user": {
      "displayName": "Sam Ball",
      "photoUrl": "",
      "userId": "13021419479325006913"
     },
     "user_tz": -120
    },
    "id": "kaaFjrmg_VrE"
   },
   "outputs": [],
   "source": [
    "# own accuracy function\n",
    "\n",
    "def calculate_rates(targets, predictions):\n",
    "\n",
    "    \"\"\"\n",
    "    Calculates number of true positives, false positives, true negatives and false negatives for the given predictions and targets.\n",
    "\n",
    "    Arguments:\n",
    "    - True labels for the dataset\n",
    "    - Predicted labels for the dataset\n",
    "\n",
    "    Returns:\n",
    "    - Number of true positives, false positives, true negatives and false negatives \n",
    "    \"\"\"\n",
    "\n",
    "    correct = 0\n",
    "    \n",
    "\n",
    "\n",
    "    for i in range(len(predictions)): \n",
    "        if (targets[i]==predictions[i]):\n",
    "            correct += 1\n",
    "    \n",
    "    accuracy = correct/len(predictions)\n",
    "    return accuracy\n",
    "        "
   ]
  },
  {
   "cell_type": "code",
   "execution_count": null,
   "metadata": {
    "id": "X3U9ZNTnfDpu",
    "outputId": "7a193e82-b28c-4e40-cf61-8a02db86fe89"
   },
   "outputs": [
    {
     "name": "stdout",
     "output_type": "stream",
     "text": [
      "0.8958225889633832\n"
     ]
    }
   ],
   "source": [
    "predictor = ktrain.get_predictor(learner.model, preproc =t)\n",
    "#predictor = ktrain.load_predictor('content/drive/MyDrive/News_Classification/tmp/bert_multilingual_predictor')\n",
    "\n",
    "predictor.batch_size = 4\n",
    "answer = predictor.predict(x_test) # assume this would just be the input text\n",
    "accuracy = calculate_rates(answer, y_test)\n",
    "print(accuracy)"
   ]
  },
  {
   "cell_type": "markdown",
   "metadata": {
    "id": "n4d-IbLP_VrF"
   },
   "source": [
    "## Hyperparameters"
   ]
  },
  {
   "cell_type": "markdown",
   "metadata": {
    "id": "19BUo8Vp_VrF"
   },
   "source": [
    "#### a) Learning rate\n",
    "\n",
    "If learning rate is too high, training loss increases due to divergence.\n",
    "Therefore a learning rate of $2 \\times 10^{-5}$ is chosen to ensure convergence."
   ]
  },
  {
   "cell_type": "markdown",
   "metadata": {
    "id": "-opl-hNS_VrF"
   },
   "source": [
    "#### b) Batch size\n",
    "\n",
    "Selecting an appropriate batch size was essential to ensure that memory limitations were taken into account and thus to prevent resource exhaustion on the Google Colab platform. A batch size of 4 was found to allow for training without exceeding memory limits."
   ]
  },
  {
   "cell_type": "markdown",
   "metadata": {
    "id": "A1XL7Pdi_VrG"
   },
   "source": [
    "#### c) No. of epochs\n",
    "\n",
    "Training and validation loss were monitored to identify overfitting."
   ]
  },
  {
   "cell_type": "markdown",
   "metadata": {
    "id": "ttJ-J7Es_VrH"
   },
   "source": [
    "#### d) Dataset size\n",
    "\n",
    "The network was trained using half of the training dataset (7756 samples) in order to ascertain the effects of dataset size on text classification performance."
   ]
  },
  {
   "cell_type": "code",
   "execution_count": null,
   "metadata": {
    "colab": {
     "base_uri": "https://localhost:8080/",
     "height": 1000
    },
    "executionInfo": {
     "elapsed": 4510306,
     "status": "ok",
     "timestamp": 1623683350758,
     "user": {
      "displayName": "Sam Ball",
      "photoUrl": "",
      "userId": "13021419479325006913"
     },
     "user_tz": -120
    },
    "id": "aRxINg51_VrH",
    "outputId": "cc23b0ba-bfed-4fc1-8bbb-d59c4a9fe1a9"
   },
   "outputs": [
    {
     "name": "stdout",
     "output_type": "stream",
     "text": [
      "preprocessing train...\n",
      "language: sw\n",
      "train sequence lengths:\n",
      "\tmean : 331\n",
      "\t95percentile : 792\n",
      "\t99percentile : 1253\n"
     ]
    },
    {
     "name": "stderr",
     "output_type": "stream",
     "text": [
      "/usr/local/lib/python3.7/dist-packages/ktrain/utils.py:589: UserWarning: class_names argument was ignored, as they were extracted from string labels in dataset\n",
      "  if self.get_classes(): warnings.warn('class_names argument was ignored, as they were extracted from string labels in dataset')\n"
     ]
    },
    {
     "data": {
      "text/html": [],
      "text/plain": [
       "<IPython.core.display.HTML object>"
      ]
     },
     "metadata": {
      "tags": []
     },
     "output_type": "display_data"
    },
    {
     "name": "stdout",
     "output_type": "stream",
     "text": [
      "Is Multi-Label? False\n",
      "preprocessing test...\n",
      "language: sw\n",
      "test sequence lengths:\n",
      "\tmean : 329\n",
      "\t95percentile : 770\n",
      "\t99percentile : 1234\n"
     ]
    },
    {
     "data": {
      "text/html": [],
      "text/plain": [
       "<IPython.core.display.HTML object>"
      ]
     },
     "metadata": {
      "tags": []
     },
     "output_type": "display_data"
    },
    {
     "name": "stdout",
     "output_type": "stream",
     "text": [
      "preprocessing test...\n",
      "language: sw\n",
      "test sequence lengths:\n",
      "\tmean : 336\n",
      "\t95percentile : 788\n",
      "\t99percentile : 1302\n"
     ]
    },
    {
     "data": {
      "text/html": [],
      "text/plain": [
       "<IPython.core.display.HTML object>"
      ]
     },
     "metadata": {
      "tags": []
     },
     "output_type": "display_data"
    },
    {
     "name": "stdout",
     "output_type": "stream",
     "text": [
      "\n",
      "\n",
      "begin training using triangular learning rate policy with max lr of 2e-05...\n",
      "Epoch 1/2\n",
      "1939/1939 [==============================] - 2215s 1s/step - loss: 0.7109 - accuracy: 0.7754 - val_loss: 0.3844 - val_accuracy: 0.8767\n",
      "Epoch 2/2\n",
      "1939/1939 [==============================] - 2189s 1s/step - loss: 0.3736 - accuracy: 0.8871 - val_loss: 0.3188 - val_accuracy: 0.9002\n"
     ]
    },
    {
     "data": {
      "image/png": "[encoded data removed]",
      "text/plain": [
       "<Figure size 432x288 with 1 Axes>"
      ]
     },
     "metadata": {
      "needs_background": "light",
      "tags": []
     },
     "output_type": "display_data"
    },
    {
     "data": {
      "image/png": "[encoded data removed]",
      "text/plain": [
       "<Figure size 432x288 with 1 Axes>"
      ]
     },
     "metadata": {
      "needs_background": "light",
      "tags": []
     },
     "output_type": "display_data"
    }
   ],
   "source": [
    "MODEL_NAME = 'bert-base-multilingual-cased' # choose model\n",
    "t = text.Transformer(MODEL_NAME, maxlen = 500, class_names = target_names) # create Transformer instance\n",
    "\n",
    "# preprocess datasets - use half of the training data \n",
    "# keep validation and test sets the same for fairness\n",
    "half_x = int(np.round(len(x_train)/2))\n",
    "half_y = int(np.round(len(y_train)/2))\n",
    "trn = t.preprocess_train(x_train[0:half_x], y_train[0:half_y])\n",
    "val = t.preprocess_test(x_val, y_val)\n",
    "test = t.preprocess_test(x_test, y_test)\n",
    "\n",
    "# create model wrapped in learner\n",
    "model = t.get_classifier()\n",
    "learner = ktrain.get_learner(model, train_data = trn, val_data = val, batch_size = 4)\n",
    "\n",
    "# train and save model\n",
    "history = learner.autofit(2e-5, epochs = 2)\n",
    "learner.plot('loss') # visualising training and validation loss\n",
    "learner.plot('lr') # visualise learning rate schedule\n",
    "ktrain.get_predictor(learner.model, preproc = t).save('./tmp/bert_multilingual_predictor') # save progress as a checkpoint"
   ]
  },
  {
   "cell_type": "markdown",
   "metadata": {
    "id": "9mGM54BG_VrH"
   },
   "source": [
    "We now evaluate the multilingual BERT model trained with less data and compare the results with that of the multilingual BERT model trained with all available data."
   ]
  },
  {
   "cell_type": "code",
   "execution_count": null,
   "metadata": {
    "colab": {
     "base_uri": "https://localhost:8080/"
    },
    "executionInfo": {
     "elapsed": 329483,
     "status": "ok",
     "timestamp": 1623683799872,
     "user": {
      "displayName": "Sam Ball",
      "photoUrl": "",
      "userId": "13021419479325006913"
     },
     "user_tz": -120
    },
    "id": "_AXZU_1o_VrH",
    "outputId": "9fb62acf-fb22-4267-d1ce-fff95dfb9400"
   },
   "outputs": [
    {
     "name": "stdout",
     "output_type": "stream",
     "text": [
      "              precision    recall  f1-score   support\n",
      "\n",
      "        afya       0.57      0.39      0.47       157\n",
      "    burudani       0.82      0.90      0.86       340\n",
      "   kimataifa       0.92      0.80      0.86       300\n",
      "     kitaifa       0.89      0.92      0.90      1736\n",
      "     michezo       0.93      0.96      0.94       975\n",
      "      uchumi       0.89      0.81      0.85       370\n",
      "\n",
      "    accuracy                           0.89      3878\n",
      "   macro avg       0.84      0.80      0.81      3878\n",
      "weighted avg       0.88      0.89      0.88      3878\n",
      "\n"
     ]
    },
    {
     "data": {
      "text/plain": [
       "array([[  62,    3,    4,   88,    0,    0],\n",
       "       [   3,  305,    0,   14,   18,    0],\n",
       "       [   6,   20,  241,   18,   14,    1],\n",
       "       [  36,   24,   14, 1594,   37,   31],\n",
       "       [   0,   17,    2,   16,  937,    3],\n",
       "       [   1,    1,    1,   63,    6,  298]])"
      ]
     },
     "execution_count": 24,
     "metadata": {
      "tags": []
     },
     "output_type": "execute_result"
    }
   ],
   "source": [
    "#---CLASSIFICATION REPORT---#\n",
    "\n",
    "# evaluate model on test data\n",
    "\n",
    "learner.validate(test, class_names=t.get_classes()) "
   ]
  },
  {
   "cell_type": "code",
   "execution_count": null,
   "metadata": {
    "id": "XbAOKzupfDpw",
    "outputId": "9739f92d-fa8a-407e-dad8-1bef187d4338"
   },
   "outputs": [
    {
     "data": {
      "image/png": "[encoded data removed]",
      "text/plain": [
       "<Figure size 432x432 with 2 Axes>"
      ]
     },
     "metadata": {
      "needs_background": "light",
      "tags": []
     },
     "output_type": "display_data"
    }
   ],
   "source": [
    "cm = np.array([[  62,    3,    4,   88,    0,    0],\n",
    "       [   3,  305,    0,   14,   18,    0],\n",
    "       [   6,   20,  241,   18,   14,    1],\n",
    "       [  36,   24,   14, 1594,   37,   31],\n",
    "       [   0,   17,    2,   16,  937,    3],\n",
    "       [   1,    1,    1,   63,    6,  298]])\n",
    "\n",
    "\n",
    "labels = ['afya', 'burudani', 'kimataifa', 'kitaifa', 'michezo', 'uchumi']\n",
    "\n",
    "disp = ConfusionMatrixDisplay(confusion_matrix=cm,\n",
    "                              display_labels=labels)\n",
    "\n",
    "\n",
    "fig, ax = plt.subplots(figsize=(6, 6))\n",
    "disp = disp.plot(cmap=plt.cm.Blues, ax=ax, xticks_rotation='vertical')\n",
    "\n",
    "plt.savefig('bert_confusion_matrix_half_data', dpi = 300, bbox_inches='tight')\n",
    "plt.show()"
   ]
  },
  {
   "cell_type": "code",
   "execution_count": null,
   "metadata": {
    "id": "GSn2ZNk8fDpx",
    "outputId": "7a9a71a1-019c-4185-b895-44747ebfb371"
   },
   "outputs": [
    {
     "name": "stdout",
     "output_type": "stream",
     "text": [
      "0.8862815884476535\n"
     ]
    }
   ],
   "source": [
    "# predict and calculate accuracy\n",
    "\n",
    "predictor = ktrain.get_predictor(learner.model, preproc =t)\n",
    "#predictor = ktrain.load_predictor('./tmp/bert_multilingual_predictor') # load from checkpoint if new runtime\n",
    "\n",
    "predictor.batch_size = 4\n",
    "answer = predictor.predict(x_test) # assume this would just be the input text\n",
    "accuracy = calculate_rates(answer, y_test)\n",
    "print(accuracy)"
   ]
  },
  {
   "cell_type": "markdown",
   "metadata": {
    "id": "uMtMN3hh_VrI"
   },
   "source": [
    "Very similar performance is observed in terms of both test accuracy and macro F1-score. This is an unexpected result and allows the model to train in half the time taken for training with the full dataset. However, we reset the training data back to full size for the remainder of the experiments in order to ensure parity with the other classical approaches."
   ]
  },
  {
   "cell_type": "markdown",
   "metadata": {
    "id": "9BtMBIJe_VrL"
   },
   "source": [
    "## Model Optimization and Improvement\n",
    "\n",
    "In order to improve on the baseline results, several optimization techniques will be considered."
   ]
  },
  {
   "cell_type": "markdown",
   "metadata": {
    "id": "o8NaNJis_VrL"
   },
   "source": [
    "### 1. Different Learning Rate Schedules\n",
    "\n",
    "In order to improve the training speed of the multilingual BERT model, the *one-cycle learning rate schedule* was utilised in place of the original triangular learning rate schedule. The *one-cycle policy* allows for higher learning rates and faster convergence, known as super-convergence.\n"
   ]
  },
  {
   "cell_type": "markdown",
   "metadata": {
    "id": "XhRAjGD9fDpx"
   },
   "source": [
    "### 2. Increased No. of Epochs\n",
    "\n",
    "The improved training speed in turn allowed for an increased number of epochs in a similar total training time. Therefore the number of epochs was doubled to 4 epochs."
   ]
  },
  {
   "cell_type": "code",
   "execution_count": 10,
   "metadata": {
    "colab": {
     "base_uri": "https://localhost:8080/",
     "height": 1000,
     "referenced_widgets": [
      "c1bb21021f034d948c54c2bc692f0fbd",
      "47916d39f6ca425a8fb7a9e7efb845c5",
      "b0f52fe9b17c4db89c2396bbffbee0a8",
      "edb9682b784f4fccbbe53593286c4f49",
      "c7e674f51b1d432c8d78675ec54abcc3",
      "aafd37308b044e5fa00c0b68757f9474",
      "0cc048ade37642b89ce8f464979d3ec9",
      "275fa525f73f4df9890d19ad12dd99e2",
      "c8ee80d63ff84f37bca6710576c0d6b9",
      "a9400c4a81b344f0a0a02bf317c1735a",
      "25b2cc65c3ec4b36bf2ec6b77ae6a076",
      "376b3caf391048e293a284e92b7db30e",
      "143bb8975f194fc1a5914ce4bfb96595",
      "24d37a75521f4570ab92caef43b6cc32",
      "4f118d3ed4db4d34a0a617aa7ed3f3d4",
      "638ef8a7ca224854bd0e48cfb60a509d",
      "c61673c539634e5c9ab9086a0ce466ea",
      "6f4ddbaba9dc4be38c94393700f5f92d",
      "37c132ea7dac4106947b1cf9a6fb8ab7",
      "c34661fac1184b8a910065b56695aeef",
      "21ecb215be424b2cbbd0b7881170a89c",
      "bf4306c519a7450ea6f371c380edde89",
      "fb10f527b6e843e3956ab3a042526160",
      "04d5cd20093e4935b54cdc729c54904f",
      "b52765301099496d8f4c491307acc787",
      "6257898aa1a8452e92a326fabf9539c1",
      "15c2a2dfcc7d42788711a5b6e0323da5",
      "f79f52c7bf1044fdb270283a5b791a2c",
      "dbf59548d59b401b986e1ed07c012c6c",
      "04843c8401fd42f0a1f95143c8fe67b3",
      "fa66b025e77743ae885e9ff4ac40fbb5",
      "7dfec3e3d4d94e68b2fc3a669c4991ef"
     ]
    },
    "executionInfo": {
     "elapsed": 6093023,
     "status": "ok",
     "timestamp": 1624269140206,
     "user": {
      "displayName": "Sam Ball",
      "photoUrl": "",
      "userId": "13021419479325006913"
     },
     "user_tz": -120
    },
    "id": "E8F9G4-R_VrL",
    "outputId": "2df5ee74-b19c-4353-a5c7-edfd7fe3fc00"
   },
   "outputs": [
    {
     "data": {
      "application/vnd.jupyter.widget-view+json": {
       "model_id": "c1bb21021f034d948c54c2bc692f0fbd",
       "version_major": 2,
       "version_minor": 0
      },
      "text/plain": [
       "HBox(children=(FloatProgress(value=0.0, description='Downloading', max=625.0, style=ProgressStyle(description_…"
      ]
     },
     "metadata": {
      "tags": []
     },
     "output_type": "display_data"
    },
    {
     "name": "stdout",
     "output_type": "stream",
     "text": [
      "\n",
      "preprocessing train...\n",
      "language: sw\n",
      "train sequence lengths:\n",
      "\tmean : 332\n",
      "\t95percentile : 786\n",
      "\t99percentile : 1254\n"
     ]
    },
    {
     "name": "stderr",
     "output_type": "stream",
     "text": [
      "/usr/local/lib/python3.7/dist-packages/ktrain/utils.py:589: UserWarning: class_names argument was ignored, as they were extracted from string labels in dataset\n",
      "  if self.get_classes(): warnings.warn('class_names argument was ignored, as they were extracted from string labels in dataset')\n"
     ]
    },
    {
     "data": {
      "application/vnd.jupyter.widget-view+json": {
       "model_id": "c8ee80d63ff84f37bca6710576c0d6b9",
       "version_major": 2,
       "version_minor": 0
      },
      "text/plain": [
       "HBox(children=(FloatProgress(value=0.0, description='Downloading', max=995526.0, style=ProgressStyle(descripti…"
      ]
     },
     "metadata": {
      "tags": []
     },
     "output_type": "display_data"
    },
    {
     "name": "stdout",
     "output_type": "stream",
     "text": [
      "\n"
     ]
    },
    {
     "data": {
      "application/vnd.jupyter.widget-view+json": {
       "model_id": "c61673c539634e5c9ab9086a0ce466ea",
       "version_major": 2,
       "version_minor": 0
      },
      "text/plain": [
       "HBox(children=(FloatProgress(value=0.0, description='Downloading', max=1961828.0, style=ProgressStyle(descript…"
      ]
     },
     "metadata": {
      "tags": []
     },
     "output_type": "display_data"
    },
    {
     "name": "stdout",
     "output_type": "stream",
     "text": [
      "\n"
     ]
    },
    {
     "data": {
      "text/html": [],
      "text/plain": [
       "<IPython.core.display.HTML object>"
      ]
     },
     "metadata": {
      "tags": []
     },
     "output_type": "display_data"
    },
    {
     "name": "stdout",
     "output_type": "stream",
     "text": [
      "Is Multi-Label? False\n",
      "preprocessing test...\n",
      "language: sw\n",
      "test sequence lengths:\n",
      "\tmean : 329\n",
      "\t95percentile : 770\n",
      "\t99percentile : 1234\n"
     ]
    },
    {
     "data": {
      "text/html": [],
      "text/plain": [
       "<IPython.core.display.HTML object>"
      ]
     },
     "metadata": {
      "tags": []
     },
     "output_type": "display_data"
    },
    {
     "name": "stdout",
     "output_type": "stream",
     "text": [
      "preprocessing test...\n",
      "language: sw\n",
      "test sequence lengths:\n",
      "\tmean : 336\n",
      "\t95percentile : 788\n",
      "\t99percentile : 1302\n"
     ]
    },
    {
     "data": {
      "text/html": [],
      "text/plain": [
       "<IPython.core.display.HTML object>"
      ]
     },
     "metadata": {
      "tags": []
     },
     "output_type": "display_data"
    },
    {
     "data": {
      "application/vnd.jupyter.widget-view+json": {
       "model_id": "b52765301099496d8f4c491307acc787",
       "version_major": 2,
       "version_minor": 0
      },
      "text/plain": [
       "HBox(children=(FloatProgress(value=0.0, description='Downloading', max=1083389348.0, style=ProgressStyle(descr…"
      ]
     },
     "metadata": {
      "tags": []
     },
     "output_type": "display_data"
    },
    {
     "name": "stdout",
     "output_type": "stream",
     "text": [
      "\n",
      "\n",
      "\n",
      "begin training using onecycle policy with max lr of 2e-05...\n",
      "Epoch 1/4\n",
      "3878/3878 [==============================] - 2236s 573ms/step - loss: 0.6006 - accuracy: 0.8127 - val_loss: 0.3589 - val_accuracy: 0.8907\n",
      "Epoch 2/4\n",
      "3878/3878 [==============================] - 2228s 574ms/step - loss: 0.3600 - accuracy: 0.8903 - val_loss: 0.3436 - val_accuracy: 0.8914\n",
      "Epoch 3/4\n",
      "3878/3878 [==============================] - 2230s 574ms/step - loss: 0.2995 - accuracy: 0.9044 - val_loss: 0.2866 - val_accuracy: 0.9116\n",
      "Epoch 4/4\n",
      "3878/3878 [==============================] - 2229s 574ms/step - loss: 0.2139 - accuracy: 0.9308 - val_loss: 0.2769 - val_accuracy: 0.9067\n"
     ]
    },
    {
     "data": {
      "image/png": "[encoded data removed]",
      "text/plain": [
       "<Figure size 432x288 with 1 Axes>"
      ]
     },
     "metadata": {
      "needs_background": "light",
      "tags": []
     },
     "output_type": "display_data"
    },
    {
     "data": {
      "image/png": "[encoded data removed]",
      "text/plain": [
       "<Figure size 432x288 with 1 Axes>"
      ]
     },
     "metadata": {
      "needs_background": "light",
      "tags": []
     },
     "output_type": "display_data"
    }
   ],
   "source": [
    "MODEL_NAME = 'bert-base-multilingual-cased' # choose model\n",
    "t = text.Transformer(MODEL_NAME, maxlen = 500, class_names = target_names) # create Transformer instance\n",
    "\n",
    "# preprocess datasets\n",
    "trn = t.preprocess_train(x_train, y_train)\n",
    "val = t.preprocess_test(x_val, y_val)\n",
    "test = t.preprocess_test(x_test, y_test)\n",
    "\n",
    "# create model wrapped in learner\n",
    "model = t.get_classifier()\n",
    "learner = ktrain.get_learner(model, train_data = trn, val_data = val, batch_size = 4)\n",
    "\n",
    "# train and save model\n",
    "history = learner.fit_onecycle(2e-5, 4)\n",
    "learner.plot('loss') # visualising training and validation loss\n",
    "learner.plot('lr') # visualise learning rate schedule\n",
    "ktrain.get_predictor(learner.model, preproc = t).save('./tmp/bert_multilingual_predictor') # save progress as a checkpoint"
   ]
  },
  {
   "cell_type": "code",
   "execution_count": 11,
   "metadata": {
    "colab": {
     "base_uri": "https://localhost:8080/"
    },
    "executionInfo": {
     "elapsed": 158606,
     "status": "ok",
     "timestamp": 1624269337411,
     "user": {
      "displayName": "Sam Ball",
      "photoUrl": "",
      "userId": "13021419479325006913"
     },
     "user_tz": -120
    },
    "id": "fzkJMafC_KyB",
    "outputId": "122d3c0e-8636-42ec-aaec-252560ebf86f"
   },
   "outputs": [
    {
     "name": "stdout",
     "output_type": "stream",
     "text": [
      "              precision    recall  f1-score   support\n",
      "\n",
      "        afya       0.60      0.49      0.54       157\n",
      "    burudani       0.86      0.91      0.88       340\n",
      "   kimataifa       0.90      0.87      0.88       300\n",
      "     kitaifa       0.91      0.92      0.92      1736\n",
      "     michezo       0.93      0.98      0.96       975\n",
      "      uchumi       0.95      0.80      0.87       370\n",
      "\n",
      "    accuracy                           0.90      3878\n",
      "   macro avg       0.86      0.83      0.84      3878\n",
      "weighted avg       0.90      0.90      0.90      3878\n",
      "\n"
     ]
    },
    {
     "data": {
      "text/plain": [
       "array([[  77,    1,   10,   68,    0,    1],\n",
       "       [   0,  309,    0,   11,   20,    0],\n",
       "       [   6,   18,  261,    9,    5,    1],\n",
       "       [  45,   19,   18, 1599,   41,   14],\n",
       "       [   0,   14,    1,    4,  956,    0],\n",
       "       [   1,    0,    0,   68,    5,  296]])"
      ]
     },
     "execution_count": 11,
     "metadata": {
      "tags": []
     },
     "output_type": "execute_result"
    }
   ],
   "source": [
    "learner.validate(test, class_names=t.get_classes()) "
   ]
  },
  {
   "cell_type": "code",
   "execution_count": 12,
   "metadata": {
    "colab": {
     "base_uri": "https://localhost:8080/",
     "height": 396
    },
    "executionInfo": {
     "elapsed": 1176,
     "status": "ok",
     "timestamp": 1624270078395,
     "user": {
      "displayName": "Sam Ball",
      "photoUrl": "",
      "userId": "13021419479325006913"
     },
     "user_tz": -120
    },
    "id": "2bSMAR6Dt-RG",
    "outputId": "1d6e035e-03f3-4cb4-a8b3-9452e5280614"
   },
   "outputs": [
    {
     "data": {
      "image/png": "[encoded data removed]",
      "text/plain": [
       "<Figure size 432x432 with 2 Axes>"
      ]
     },
     "metadata": {
      "needs_background": "light",
      "tags": []
     },
     "output_type": "display_data"
    }
   ],
   "source": [
    "cm = np.array([[  77,    1,   10,   68,    0,    1],\n",
    "       [   0,  309,    0,   11,   20,    0],\n",
    "       [   6,   18,  261,    9,    5,    1],\n",
    "       [  45,   19,   18, 1599,   41,   14],\n",
    "       [   0,   14,    1,    4,  956,    0],\n",
    "       [   1,    0,    0,   68,    5,  296]])\n",
    "\n",
    "\n",
    "labels = ['afya', 'burudani', 'kimataifa', 'kitaifa', 'michezo', 'uchumi']\n",
    "\n",
    "disp = ConfusionMatrixDisplay(confusion_matrix=cm,\n",
    "                              display_labels=labels)\n",
    "\n",
    "\n",
    "fig, ax = plt.subplots(figsize=(6, 6))\n",
    "disp = disp.plot(cmap='OrRd', ax=ax, xticks_rotation='vertical')\n",
    "\n",
    "plt.savefig('bert_confusion_matrix_one_cycle', dpi = 300, bbox_inches='tight')\n",
    "plt.show()"
   ]
  },
  {
   "cell_type": "code",
   "execution_count": 13,
   "metadata": {
    "colab": {
     "base_uri": "https://localhost:8080/"
    },
    "executionInfo": {
     "elapsed": 208797,
     "status": "ok",
     "timestamp": 1624270321351,
     "user": {
      "displayName": "Sam Ball",
      "photoUrl": "",
      "userId": "13021419479325006913"
     },
     "user_tz": -120
    },
    "id": "fTGWRwRbCvZB",
    "outputId": "7b481d9e-f44f-4856-d942-53fe80875413"
   },
   "outputs": [
    {
     "name": "stdout",
     "output_type": "stream",
     "text": [
      "0.9020113460546674\n"
     ]
    }
   ],
   "source": [
    "predictor = ktrain.get_predictor(learner.model, preproc =t)\n",
    "#predictor = ktrain.load_predictor('content/drive/MyDrive/News_Classification/tmp/bert_multilingual_predictor')\n",
    "\n",
    "predictor.batch_size = 4\n",
    "answer = predictor.predict(x_test) # assume this would just be the input text\n",
    "accuracy = calculate_rates(answer, y_test)\n",
    "print(accuracy)"
   ]
  },
  {
   "cell_type": "markdown",
   "metadata": {
    "id": "2ib1pXtr_VrL"
   },
   "source": [
    "### 3. Adjusting for Class Imbalance\n",
    "\n",
    "Similarly to the SVM, class weights can be set to emphasize under-represented classes during model training. Using the *class weight* parameter in ktrain, the class weights were set manually.\n",
    "\n",
    "Initially, the class weights were chosen to be the ratio of the number of samples of each class to the number of\n",
    "samples in the majority class, as per traditional use."
   ]
  },
  {
   "cell_type": "code",
   "execution_count": null,
   "metadata": {
    "colab": {
     "base_uri": "https://localhost:8080/"
    },
    "executionInfo": {
     "elapsed": 469,
     "status": "ok",
     "timestamp": 1623848844872,
     "user": {
      "displayName": "Sam Ball",
      "photoUrl": "",
      "userId": "13021419479325006913"
     },
     "user_tz": -120
    },
    "id": "t2KROX39t_NY",
    "outputId": "e9b71151-8ef9-44a0-b741-4b5e36cd0361"
   },
   "outputs": [
    {
     "name": "stdout",
     "output_type": "stream",
     "text": [
      "['afya' 'burudani' 'kimataifa' 'kitaifa' 'michezo' 'uchumi']\n",
      "[ 557 1503 1300 6797 4022 1333]\n"
     ]
    }
   ],
   "source": [
    "# calculate number of smaples of each class in the training data\n",
    "\n",
    "unique, counts = np.unique(y_train, return_counts=True)\n",
    "print(unique)\n",
    "print(counts)"
   ]
  },
  {
   "cell_type": "code",
   "execution_count": null,
   "metadata": {
    "colab": {
     "base_uri": "https://localhost:8080/",
     "height": 1000,
     "referenced_widgets": [
      "309b5338f2d44303b4b7ac5129638e0a",
      "13c7603bb96c4dc7a0de1d87b0efee7c",
      "bcc1ab5049ce4bc2af26d30831fe0b6b",
      "990f229e95394d5a80ee284d760349b9",
      "5bc89bea074f4010a460d58582f0e617",
      "f9fa6576029f4e5fb6bf5ffa74f43d74",
      "677bfea9f7ee461db9a3cd4c22fa8b83",
      "611507f512a043cdbd2a2c37c80202d0",
      "ddc6778078264d0093a71e3daf7f8461",
      "fb57fc0dd234417ea33935fc3640c737",
      "e59e67bde1ec48d9921db980e413bfa3",
      "13e861884e874bd3be484545f225dd47",
      "56db266fba244e0b8e730e3b0e8bd0fb",
      "6ebe302de49841319bc6f235f2fc1e8a",
      "8891f5eaa00347f0b6caa379d5b9b24d",
      "bf8ede15208b45d9aaed45f4b72ea757",
      "04e574adcb21487483a0e44df62938ea",
      "83c81735960143539b7d6f77814b282b",
      "53e3b5c26dc1442789f45a80d56e7ec6",
      "69293b9cf79c47d0873f833ef3562bd6",
      "3a48a3d3e2c24d0abe60d4da113592be",
      "10f959d5452d439f8f142eb11fb449b6",
      "73ecd11f3194443ca24f4e3d915acc8a",
      "206759dff654428b85ca65fe6f398537",
      "98c0fbb204304d3f924f552ee9fcb930",
      "c7a14479fee243f79c77a74cbca7f72f",
      "dac51b2826474779b2fb706857e56f81",
      "bbd22fbcf57c4418b5744a12795315cb",
      "50eeac3f16084503b1f5dc02da6ed044",
      "be54afeec956480ea52891867929fce0",
      "f6ef1bb83ef44c96b94fdbb59c602dcf",
      "4c5b9edb521744a9b80fb7674f111f0d"
     ]
    },
    "executionInfo": {
     "elapsed": 8499085,
     "status": "ok",
     "timestamp": 1623857351718,
     "user": {
      "displayName": "Sam Ball",
      "photoUrl": "",
      "userId": "13021419479325006913"
     },
     "user_tz": -120
    },
    "id": "TVgO7l1Btw9s",
    "outputId": "1b6c0e38-6ae8-4e33-e3b1-470a2da18fdb"
   },
   "outputs": [
    {
     "data": {
      "application/vnd.jupyter.widget-view+json": {
       "model_id": "309b5338f2d44303b4b7ac5129638e0a",
       "version_major": 2,
       "version_minor": 0
      },
      "text/plain": [
       "HBox(children=(FloatProgress(value=0.0, description='Downloading', max=625.0, style=ProgressStyle(description_…"
      ]
     },
     "metadata": {
      "tags": []
     },
     "output_type": "display_data"
    },
    {
     "name": "stdout",
     "output_type": "stream",
     "text": [
      "\n",
      "preprocessing train...\n",
      "language: sw\n",
      "train sequence lengths:\n",
      "\tmean : 332\n",
      "\t95percentile : 786\n",
      "\t99percentile : 1254\n"
     ]
    },
    {
     "name": "stderr",
     "output_type": "stream",
     "text": [
      "/usr/local/lib/python3.7/dist-packages/ktrain/utils.py:589: UserWarning: class_names argument was ignored, as they were extracted from string labels in dataset\n",
      "  if self.get_classes(): warnings.warn('class_names argument was ignored, as they were extracted from string labels in dataset')\n"
     ]
    },
    {
     "data": {
      "application/vnd.jupyter.widget-view+json": {
       "model_id": "ddc6778078264d0093a71e3daf7f8461",
       "version_major": 2,
       "version_minor": 0
      },
      "text/plain": [
       "HBox(children=(FloatProgress(value=0.0, description='Downloading', max=995526.0, style=ProgressStyle(descripti…"
      ]
     },
     "metadata": {
      "tags": []
     },
     "output_type": "display_data"
    },
    {
     "name": "stdout",
     "output_type": "stream",
     "text": [
      "\n"
     ]
    },
    {
     "data": {
      "application/vnd.jupyter.widget-view+json": {
       "model_id": "04e574adcb21487483a0e44df62938ea",
       "version_major": 2,
       "version_minor": 0
      },
      "text/plain": [
       "HBox(children=(FloatProgress(value=0.0, description='Downloading', max=1961828.0, style=ProgressStyle(descript…"
      ]
     },
     "metadata": {
      "tags": []
     },
     "output_type": "display_data"
    },
    {
     "name": "stdout",
     "output_type": "stream",
     "text": [
      "\n"
     ]
    },
    {
     "data": {
      "text/html": [],
      "text/plain": [
       "<IPython.core.display.HTML object>"
      ]
     },
     "metadata": {
      "tags": []
     },
     "output_type": "display_data"
    },
    {
     "name": "stdout",
     "output_type": "stream",
     "text": [
      "Is Multi-Label? False\n",
      "preprocessing test...\n",
      "language: sw\n",
      "test sequence lengths:\n",
      "\tmean : 329\n",
      "\t95percentile : 770\n",
      "\t99percentile : 1234\n"
     ]
    },
    {
     "data": {
      "text/html": [],
      "text/plain": [
       "<IPython.core.display.HTML object>"
      ]
     },
     "metadata": {
      "tags": []
     },
     "output_type": "display_data"
    },
    {
     "name": "stdout",
     "output_type": "stream",
     "text": [
      "preprocessing test...\n",
      "language: sw\n",
      "test sequence lengths:\n",
      "\tmean : 336\n",
      "\t95percentile : 788\n",
      "\t99percentile : 1302\n"
     ]
    },
    {
     "data": {
      "text/html": [],
      "text/plain": [
       "<IPython.core.display.HTML object>"
      ]
     },
     "metadata": {
      "tags": []
     },
     "output_type": "display_data"
    },
    {
     "data": {
      "application/vnd.jupyter.widget-view+json": {
       "model_id": "98c0fbb204304d3f924f552ee9fcb930",
       "version_major": 2,
       "version_minor": 0
      },
      "text/plain": [
       "HBox(children=(FloatProgress(value=0.0, description='Downloading', max=1083389348.0, style=ProgressStyle(descr…"
      ]
     },
     "metadata": {
      "tags": []
     },
     "output_type": "display_data"
    },
    {
     "name": "stdout",
     "output_type": "stream",
     "text": [
      "\n",
      "\n",
      "\n",
      "begin training using onecycle policy with max lr of 2e-05...\n",
      "Epoch 1/2\n",
      "3878/3878 [==============================] - 4195s 1s/step - loss: 2.0030 - accuracy: 0.6842 - val_loss: 0.5741 - val_accuracy: 0.8014\n",
      "Epoch 2/2\n",
      "3878/3878 [==============================] - 4174s 1s/step - loss: 1.0731 - accuracy: 0.8337 - val_loss: 0.3905 - val_accuracy: 0.8672\n"
     ]
    },
    {
     "data": {
      "image/png": "[encoded data removed]",
      "text/plain": [
       "<Figure size 432x288 with 1 Axes>"
      ]
     },
     "metadata": {
      "needs_background": "light",
      "tags": []
     },
     "output_type": "display_data"
    },
    {
     "data": {
      "image/png": "[encoded data removed]",
      "text/plain": [
       "<Figure size 432x288 with 1 Axes>"
      ]
     },
     "metadata": {
      "needs_background": "light",
      "tags": []
     },
     "output_type": "display_data"
    }
   ],
   "source": [
    "# create a class weight dictionary\n",
    "\n",
    "class_weight_dict = {0: 12.2, 1: 4.52, 2: 5.23, 3: 1, 4:1.69, 5:5.1}\n",
    "\n",
    "MODEL_NAME = 'bert-base-multilingual-cased' # choose model\n",
    "t = text.Transformer(MODEL_NAME, maxlen = 500, class_names = target_names) # create Transformer instance\n",
    "\n",
    "# preprocess datasets\n",
    "trn = t.preprocess_train(x_train, y_train)\n",
    "val = t.preprocess_test(x_val, y_val)\n",
    "test = t.preprocess_test(x_test, y_test)\n",
    "\n",
    "# create model wrapped in learner\n",
    "model = t.get_classifier()\n",
    "learner = ktrain.get_learner(model, train_data = trn, val_data = val, batch_size = 4)\n",
    "\n",
    "# train and save model\n",
    "history = learner.fit_onecycle(2e-5, 2, class_weight = class_weight_dict)\n",
    "learner.plot('loss') # visualising training and validation loss\n",
    "learner.plot('lr') # visualise learning rate schedule\n",
    "ktrain.get_predictor(learner.model, preproc = t).save('./tmp/bert_multilingual_predictor') # save progress as a checkpoint"
   ]
  },
  {
   "cell_type": "code",
   "execution_count": null,
   "metadata": {
    "colab": {
     "base_uri": "https://localhost:8080/"
    },
    "executionInfo": {
     "elapsed": 335166,
     "status": "ok",
     "timestamp": 1623857782111,
     "user": {
      "displayName": "Sam Ball",
      "photoUrl": "",
      "userId": "13021419479325006913"
     },
     "user_tz": -120
    },
    "id": "YMN-cWs6cjBK",
    "outputId": "70730206-09cc-4690-c2d5-98c3bc9e94e5"
   },
   "outputs": [
    {
     "name": "stdout",
     "output_type": "stream",
     "text": [
      "              precision    recall  f1-score   support\n",
      "\n",
      "        afya       0.40      0.80      0.54       157\n",
      "    burudani       0.84      0.94      0.89       340\n",
      "   kimataifa       0.84      0.87      0.86       300\n",
      "     kitaifa       0.95      0.78      0.85      1736\n",
      "     michezo       0.94      0.97      0.95       975\n",
      "      uchumi       0.74      0.90      0.82       370\n",
      "\n",
      "    accuracy                           0.86      3878\n",
      "   macro avg       0.79      0.88      0.82      3878\n",
      "weighted avg       0.89      0.86      0.87      3878\n",
      "\n"
     ]
    },
    {
     "data": {
      "text/plain": [
       "array([[ 126,    1,    4,   25,    0,    1],\n",
       "       [   4,  320,    0,    5,   11,    0],\n",
       "       [  11,   17,  262,    4,    5,    1],\n",
       "       [ 169,   24,   44, 1349,   42,  108],\n",
       "       [   1,   19,    1,    6,  943,    5],\n",
       "       [   1,    1,    1,   32,    1,  334]])"
      ]
     },
     "execution_count": 13,
     "metadata": {
      "tags": []
     },
     "output_type": "execute_result"
    }
   ],
   "source": [
    "# evaluate model on test data\n",
    "\n",
    "learner.validate(test, class_names=t.get_classes()) "
   ]
  },
  {
   "cell_type": "code",
   "execution_count": 5,
   "metadata": {
    "id": "aYpwNcJtfDpz",
    "outputId": "c7c81142-ae3f-4489-b752-5d79fa02ad3a"
   },
   "outputs": [
    {
     "data": {
      "image/png": "[encoded data removed]",
      "text/plain": [
       "<Figure size 432x432 with 2 Axes>"
      ]
     },
     "metadata": {
      "needs_background": "light"
     },
     "output_type": "display_data"
    }
   ],
   "source": [
    "cm = np.array([[ 126,    1,    4,   25,    0,    1],\n",
    "       [   4,  320,    0,    5,   11,    0],\n",
    "       [  11,   17,  262,    4,    5,    1],\n",
    "       [ 169,   24,   44, 1349,   42,  108],\n",
    "       [   1,   19,    1,    6,  943,    5],\n",
    "       [   1,    1,    1,   32,    1,  334]])\n",
    "\n",
    "\n",
    "labels = ['afya', 'burudani', 'kimataifa', 'kitaifa', 'michezo', 'uchumi']\n",
    "\n",
    "disp = ConfusionMatrixDisplay(confusion_matrix=cm,\n",
    "                              display_labels=labels)\n",
    "\n",
    "\n",
    "fig, ax = plt.subplots(figsize=(6, 6))\n",
    "disp = disp.plot(cmap='OrRd', ax=ax, xticks_rotation='vertical')\n",
    "\n",
    "plt.savefig('bert_confusion_matrix_class_weights', dpi = 300, bbox_inches='tight')\n",
    "plt.show()"
   ]
  },
  {
   "cell_type": "code",
   "execution_count": null,
   "metadata": {
    "id": "hxTCKOyLfDpz",
    "outputId": "2ee2bd41-66fc-4f02-d632-62d3a334c5e9"
   },
   "outputs": [
    {
     "name": "stdout",
     "output_type": "stream",
     "text": [
      "0.8597215059308922\n"
     ]
    }
   ],
   "source": [
    "predictor = ktrain.get_predictor(learner.model, preproc =t)\n",
    "#predictor = ktrain.load_predictor('content/drive/MyDrive/News_Classification/tmp/bert_multilingual_predictor')\n",
    "\n",
    "predictor.batch_size = 4\n",
    "answer = predictor.predict(x_test) # assume this would just be the input text\n",
    "accuracy = calculate_rates(answer, y_test)\n",
    "print(accuracy)"
   ]
  },
  {
   "cell_type": "markdown",
   "metadata": {},
   "source": [
    "It can be noted that the inclusion of class weights causes over-correction. Although recall is improved significantly to 88% recall, precision and accuracy have decreased. Therefore a more subtle approach to class weights is required for the BERT model."
   ]
  },
  {
   "cell_type": "markdown",
   "metadata": {
    "id": "ok1aOOi8fDpz"
   },
   "source": [
    "## Combined Optimizations\n",
    "\n",
    "In order to utilise the knowledge gained from the three optimization techniques above, we combine several of the techniques to improve performance. \n",
    "\n",
    "In order to provide a balance between improved recall and decreased accuracy and precision, the class weights are modified to half their original value. Additional epochs are then introduced to optimize the results."
   ]
  },
  {
   "cell_type": "markdown",
   "metadata": {
    "id": "ILaY5_zhfDpz"
   },
   "source": [
    "### Modified class weights + one cycle learning rate policy + 3 epochs"
   ]
  },
  {
   "cell_type": "code",
   "execution_count": null,
   "metadata": {
    "colab": {
     "base_uri": "https://localhost:8080/",
     "height": 1000,
     "referenced_widgets": [
      "974c10895e104312a3724a01b43cbf3c",
      "c35e9a8429f745459f28c8643d749951",
      "a82c1b5a424345fb86d2c1728e44abf7",
      "f4734d41af4a479a9a253f22f995259e",
      "eb14d6e4c9944b3c9e6c1c95a7512b22",
      "97ebed5eac384efdb21b190d33393363",
      "0f6bc8bed2d3434caa301c3bc5460aed",
      "90831baa4ae140e19a1fa686777a1fa3",
      "eea4c9db1c374050a079566d92e49c18",
      "4b329ecf949947ceb3995ce967281335",
      "faeec5239da4416da619d79057e3ca45",
      "4048259cb3e042c19a06c08e361521d0",
      "a745fc76d15340ee946887008d6ae9ff",
      "e1cc87e460f64b00aa364e0dafd4a051",
      "bf2b827b6fb748ddb5b620954653c37d",
      "99965d5852624089bca9089e0e50dc02",
      "64dec425be0e488eb960b5e570e9d830",
      "566b81de7d194531916f69cc4b828f43",
      "3c8acc63ac934b3aa4a8754eab56fa6a",
      "e3d864fdddbc4dd289aafe1a3887fbab",
      "e3364f9b8f0b4d4cac5f6187650c634a",
      "5d7d3891c8c9464fac422fa3432bcb86",
      "12023bab20424d52963941ba9d4e9fd9",
      "59db8f726ffa409285ae77b79368b1c3",
      "ecfc9f947035497a9bbcd786f3e59391",
      "481ae790b5f84d0ab1b0139e72bc3013",
      "d1282f5b7fde4ace9bbce6a58a4a6117",
      "07088b30256b41beabed4aa4c42fc31e",
      "3e2a00a24ca44d1fa89f30ed945edb1c",
      "febf8e272c4844f48d4ae066ceea2b60",
      "d197afcc5e6040e581aa282d221d4d52",
      "47ba078b6b3d4fd7b02acd815256059c"
     ]
    },
    "executionInfo": {
     "elapsed": 82477,
     "status": "ok",
     "timestamp": 1623950006193,
     "user": {
      "displayName": "Sam Ball",
      "photoUrl": "",
      "userId": "13021419479325006913"
     },
     "user_tz": -120
    },
    "id": "6RsHo2xjeewY",
    "outputId": "7f1df180-8160-4bc1-c1a1-41864c13c750"
   },
   "outputs": [
    {
     "data": {
      "application/vnd.jupyter.widget-view+json": {
       "model_id": "974c10895e104312a3724a01b43cbf3c",
       "version_major": 2,
       "version_minor": 0
      },
      "text/plain": [
       "HBox(children=(FloatProgress(value=0.0, description='Downloading', max=625.0, style=ProgressStyle(description_…"
      ]
     },
     "metadata": {
      "tags": []
     },
     "output_type": "display_data"
    },
    {
     "name": "stdout",
     "output_type": "stream",
     "text": [
      "\n",
      "preprocessing train...\n",
      "language: sw\n",
      "train sequence lengths:\n",
      "\tmean : 332\n",
      "\t95percentile : 786\n",
      "\t99percentile : 1254\n"
     ]
    },
    {
     "name": "stderr",
     "output_type": "stream",
     "text": [
      "/usr/local/lib/python3.7/dist-packages/ktrain/utils.py:589: UserWarning: class_names argument was ignored, as they were extracted from string labels in dataset\n",
      "  if self.get_classes(): warnings.warn('class_names argument was ignored, as they were extracted from string labels in dataset')\n"
     ]
    },
    {
     "data": {
      "application/vnd.jupyter.widget-view+json": {
       "model_id": "eea4c9db1c374050a079566d92e49c18",
       "version_major": 2,
       "version_minor": 0
      },
      "text/plain": [
       "HBox(children=(FloatProgress(value=0.0, description='Downloading', max=995526.0, style=ProgressStyle(descripti…"
      ]
     },
     "metadata": {
      "tags": []
     },
     "output_type": "display_data"
    },
    {
     "name": "stdout",
     "output_type": "stream",
     "text": [
      "\n"
     ]
    },
    {
     "data": {
      "application/vnd.jupyter.widget-view+json": {
       "model_id": "64dec425be0e488eb960b5e570e9d830",
       "version_major": 2,
       "version_minor": 0
      },
      "text/plain": [
       "HBox(children=(FloatProgress(value=0.0, description='Downloading', max=1961828.0, style=ProgressStyle(descript…"
      ]
     },
     "metadata": {
      "tags": []
     },
     "output_type": "display_data"
    },
    {
     "name": "stdout",
     "output_type": "stream",
     "text": [
      "\n"
     ]
    },
    {
     "data": {
      "text/html": [],
      "text/plain": [
       "<IPython.core.display.HTML object>"
      ]
     },
     "metadata": {
      "tags": []
     },
     "output_type": "display_data"
    },
    {
     "name": "stdout",
     "output_type": "stream",
     "text": [
      "Is Multi-Label? False\n",
      "preprocessing test...\n",
      "language: sw\n",
      "test sequence lengths:\n",
      "\tmean : 329\n",
      "\t95percentile : 770\n",
      "\t99percentile : 1234\n"
     ]
    },
    {
     "data": {
      "text/html": [],
      "text/plain": [
       "<IPython.core.display.HTML object>"
      ]
     },
     "metadata": {
      "tags": []
     },
     "output_type": "display_data"
    },
    {
     "name": "stdout",
     "output_type": "stream",
     "text": [
      "preprocessing test...\n",
      "language: sw\n",
      "test sequence lengths:\n",
      "\tmean : 336\n",
      "\t95percentile : 788\n",
      "\t99percentile : 1302\n"
     ]
    },
    {
     "data": {
      "text/html": [],
      "text/plain": [
       "<IPython.core.display.HTML object>"
      ]
     },
     "metadata": {
      "tags": []
     },
     "output_type": "display_data"
    },
    {
     "data": {
      "application/vnd.jupyter.widget-view+json": {
       "model_id": "ecfc9f947035497a9bbcd786f3e59391",
       "version_major": 2,
       "version_minor": 0
      },
      "text/plain": [
       "HBox(children=(FloatProgress(value=0.0, description='Downloading', max=1083389348.0, style=ProgressStyle(descr…"
      ]
     },
     "metadata": {
      "tags": []
     },
     "output_type": "display_data"
    },
    {
     "name": "stdout",
     "output_type": "stream",
     "text": [
      "\n",
      "\n",
      "\n",
      "begin training using onecycle policy with max lr of 2e-05...\n",
      "Epoch 1/3\n",
      "3878/3878 [==============================] - 2250s 576ms/step - loss: 1.1793 - accuracy: 0.7789 - val_loss: 0.4588 - val_accuracy: 0.8368\n",
      "Epoch 2/3\n",
      "3878/3878 [==============================] - 2236s 577ms/step - loss: 0.7040 - accuracy: 0.8646 - val_loss: 0.3667 - val_accuracy: 0.8889\n",
      "Epoch 3/3\n",
      "3878/3878 [==============================] - 2237s 577ms/step - loss: 0.4922 - accuracy: 0.8992 - val_loss: 0.3281 - val_accuracy: 0.8832\n"
     ]
    },
    {
     "data": {
      "image/png": "[encoded data removed]",
      "text/plain": [
       "<Figure size 432x288 with 1 Axes>"
      ]
     },
     "metadata": {
      "needs_background": "light",
      "tags": []
     },
     "output_type": "display_data"
    },
    {
     "data": {
      "image/png": "[encoded data removed]",
      "text/plain": [
       "<Figure size 432x288 with 1 Axes>"
      ]
     },
     "metadata": {
      "needs_background": "light",
      "tags": []
     },
     "output_type": "display_data"
    }
   ],
   "source": [
    "# original class weights are halved in value\n",
    "class_weight_dict = {0: 6.1, 1: 2.26, 2: 2.615, 3: 1, 4:1, 5:2.55}\n",
    "\n",
    "MODEL_NAME = 'bert-base-multilingual-cased' # choose model\n",
    "t = text.Transformer(MODEL_NAME, maxlen = 500, class_names = target_names) # create Transformer instance\n",
    "\n",
    "# preprocess datasets\n",
    "trn = t.preprocess_train(x_train, y_train)\n",
    "val = t.preprocess_test(x_val, y_val)\n",
    "test = t.preprocess_test(x_test, y_test)\n",
    "\n",
    "# create model wrapped in learner\n",
    "model = t.get_classifier()\n",
    "learner = ktrain.get_learner(model, train_data = trn, val_data = val, batch_size = 4)\n",
    "\n",
    "# train and save model\n",
    "history = learner.fit_onecycle(2e-5, 3, class_weight = class_weight_dict)\n",
    "learner.plot('loss') # visualising training and validation loss\n",
    "learner.plot('lr') # visualise learning rate schedule\n",
    "ktrain.get_predictor(learner.model, preproc = t).save('./tmp/bert_multilingual_predictor') # save progress as a checkpoint"
   ]
  },
  {
   "cell_type": "code",
   "execution_count": null,
   "metadata": {
    "colab": {
     "base_uri": "https://localhost:8080/"
    },
    "executionInfo": {
     "elapsed": 160081,
     "status": "ok",
     "timestamp": 1623950434373,
     "user": {
      "displayName": "Sam Ball",
      "photoUrl": "",
      "userId": "13021419479325006913"
     },
     "user_tz": -120
    },
    "id": "dx9bQQzF-pxI",
    "outputId": "2c53dbb0-32bd-4f5e-a202-dd6dea41f0ea"
   },
   "outputs": [
    {
     "name": "stdout",
     "output_type": "stream",
     "text": [
      "              precision    recall  f1-score   support\n",
      "\n",
      "        afya       0.47      0.80      0.59       157\n",
      "    burudani       0.86      0.94      0.90       340\n",
      "   kimataifa       0.90      0.87      0.88       300\n",
      "     kitaifa       0.94      0.84      0.89      1736\n",
      "     michezo       0.95      0.96      0.96       975\n",
      "      uchumi       0.80      0.89      0.84       370\n",
      "\n",
      "    accuracy                           0.88      3878\n",
      "   macro avg       0.82      0.88      0.84      3878\n",
      "weighted avg       0.90      0.88      0.89      3878\n",
      "\n"
     ]
    },
    {
     "data": {
      "text/plain": [
       "array([[ 125,    1,    4,   26,    0,    1],\n",
       "       [   2,  320,    0,    8,   10,    0],\n",
       "       [  11,   16,  260,    7,    4,    2],\n",
       "       [ 128,   20,   22, 1460,   30,   76],\n",
       "       [   1,   15,    2,   14,  938,    5],\n",
       "       [   1,    1,    1,   37,    2,  328]])"
      ]
     },
     "execution_count": 11,
     "metadata": {
      "tags": []
     },
     "output_type": "execute_result"
    }
   ],
   "source": [
    "# evaluate model on test data\n",
    "\n",
    "learner.validate(test, class_names=t.get_classes()) "
   ]
  },
  {
   "cell_type": "code",
   "execution_count": 4,
   "metadata": {
    "id": "c59fokgefDp0",
    "outputId": "25182305-cfe1-43d5-dbcb-cbd827082857"
   },
   "outputs": [
    {
     "data": {
      "image/png": "[encoded data removed]",
      "text/plain": [
       "<Figure size 432x432 with 2 Axes>"
      ]
     },
     "metadata": {
      "needs_background": "light"
     },
     "output_type": "display_data"
    }
   ],
   "source": [
    "# plot confusion matrix\n",
    "\n",
    "cm = np.array([[ 125,    1,    4,   26,    0,    1],\n",
    "       [   2,  320,    0,    8,   10,    0],\n",
    "       [  11,   16,  260,    7,    4,    2],\n",
    "       [ 128,   20,   22, 1460,   30,   76],\n",
    "       [   1,   15,    2,   14,  938,    5],\n",
    "       [   1,    1,    1,   37,    2,  328]])\n",
    "\n",
    "\n",
    "labels = ['afya', 'burudani', 'kimataifa', 'kitaifa', 'michezo', 'uchumi']\n",
    "\n",
    "disp = ConfusionMatrixDisplay(confusion_matrix=cm,\n",
    "                              display_labels=labels)\n",
    "\n",
    "\n",
    "fig, ax = plt.subplots(figsize=(6, 6))\n",
    "disp = disp.plot(cmap='OrRd', ax=ax, xticks_rotation='vertical')\n",
    "\n",
    "plt.savefig('bert_confusion_matrix_class_weights', dpi = 300, bbox_inches='tight')\n",
    "plt.show()"
   ]
  },
  {
   "cell_type": "code",
   "execution_count": null,
   "metadata": {
    "colab": {
     "base_uri": "https://localhost:8080/"
    },
    "executionInfo": {
     "elapsed": 617,
     "status": "ok",
     "timestamp": 1623951249020,
     "user": {
      "displayName": "Sam Ball",
      "photoUrl": "",
      "userId": "13021419479325006913"
     },
     "user_tz": -120
    },
    "id": "ocZEsWGlCYFa",
    "outputId": "c275422d-652f-471f-8f4f-09e445aa70a2"
   },
   "outputs": [
    {
     "name": "stdout",
     "output_type": "stream",
     "text": [
      "0.8847343991748324\n"
     ]
    }
   ],
   "source": [
    "predictor = ktrain.get_predictor(learner.model, preproc =t)\n",
    "#predictor = ktrain.load_predictor('content/drive/MyDrive/News_Classification/tmp/bert_multilingual_predictor')\n",
    "predictor.batch_size = 4\n",
    "answer = predictor.predict(x_test) # input text\n",
    "accuracy = calculate_rates(answer, y_test)\n",
    "print(accuracy)"
   ]
  },
  {
   "cell_type": "markdown",
   "metadata": {
    "id": "UsablwVFfDp1"
   },
   "source": [
    "### Modified class weights + one cycle learning rate policy + 4 epochs"
   ]
  },
  {
   "cell_type": "code",
   "execution_count": null,
   "metadata": {
    "colab": {
     "base_uri": "https://localhost:8080/",
     "height": 1000,
     "referenced_widgets": [
      "e3095119b7934d28ac330751905ed0e2",
      "5d2ab67544384f7c860d434cf3981550",
      "030cfbebebe4445597da222e7183958e",
      "67a66d213bac41d08e63877848c14dff",
      "5fc17f18b9944d0bbb1f9dfba7beb28a",
      "b9fe457b02c0404698e27f2a658823d5",
      "fba1b8625e0d4690b66b58a4275dbcd1",
      "732b4aba9e204af0b9560ebf7b58503b",
      "b805efaef609476eb56d10cce24ba309",
      "221de448e59d4c85812913197fee0fd3",
      "815e75fd22be4ae48d77a0f18eb2a96f",
      "473c13487ad7493687eea19e161b392f",
      "9c0d3a528d25415ca5baab8fd38d36e8",
      "00a10eab07af4443a4753cd143f02a8c",
      "83862f35ecde4bcc8a3765e5ecfa11c1",
      "261ac2d722604c3b890117eea71b386e",
      "7adbb28edc2749a7a86f8c558276ddf5",
      "56bd8dc1117042d0bd9c0c5a9ba20925",
      "a53e878ceef44860b3cbea3556d26a2f",
      "71c876f785ea4e40a76eca14d929177f",
      "0c90cebcde4e41cdb183dd1850b88891",
      "9400741d547444ad897527ce2fc58d45",
      "5aa34ab2ad5b453c99f7a4b4bad659b8",
      "8b419462b4b946baaa47bfdca428da8c",
      "769519316119451f815f335992eb995e",
      "91b072f5e3ad4989a724c313b3f401ce",
      "3bcc8dd7ad314e6d925f82d6119327ff",
      "373d3b88eba74d2b8baf0bb6fab20763",
      "b0aab7b55ca04b3fac75ef2699a3323a",
      "92ff32bdb8354bacbf115c36381d63f5",
      "44dea04ad9014430b21fb07af1f5e968",
      "07638ddc3dfa44c5a0d8b8c59abb0ef0"
     ]
    },
    "executionInfo": {
     "elapsed": 8762711,
     "status": "ok",
     "timestamp": 1624031119884,
     "user": {
      "displayName": "Sam Ball",
      "photoUrl": "",
      "userId": "13021419479325006913"
     },
     "user_tz": -120
    },
    "id": "mBMioi-0_6TH",
    "outputId": "57f7e7d7-cfd5-41f9-8a05-a899bf725892"
   },
   "outputs": [
    {
     "data": {
      "application/vnd.jupyter.widget-view+json": {
       "model_id": "e3095119b7934d28ac330751905ed0e2",
       "version_major": 2,
       "version_minor": 0
      },
      "text/plain": [
       "HBox(children=(FloatProgress(value=0.0, description='Downloading', max=625.0, style=ProgressStyle(description_…"
      ]
     },
     "metadata": {
      "tags": []
     },
     "output_type": "display_data"
    },
    {
     "name": "stdout",
     "output_type": "stream",
     "text": [
      "\n",
      "preprocessing train...\n",
      "language: sw\n",
      "train sequence lengths:\n",
      "\tmean : 332\n",
      "\t95percentile : 786\n",
      "\t99percentile : 1254\n"
     ]
    },
    {
     "name": "stderr",
     "output_type": "stream",
     "text": [
      "/usr/local/lib/python3.7/dist-packages/ktrain/utils.py:589: UserWarning: class_names argument was ignored, as they were extracted from string labels in dataset\n",
      "  if self.get_classes(): warnings.warn('class_names argument was ignored, as they were extracted from string labels in dataset')\n"
     ]
    },
    {
     "data": {
      "application/vnd.jupyter.widget-view+json": {
       "model_id": "b805efaef609476eb56d10cce24ba309",
       "version_major": 2,
       "version_minor": 0
      },
      "text/plain": [
       "HBox(children=(FloatProgress(value=0.0, description='Downloading', max=995526.0, style=ProgressStyle(descripti…"
      ]
     },
     "metadata": {
      "tags": []
     },
     "output_type": "display_data"
    },
    {
     "name": "stdout",
     "output_type": "stream",
     "text": [
      "\n"
     ]
    },
    {
     "data": {
      "application/vnd.jupyter.widget-view+json": {
       "model_id": "7adbb28edc2749a7a86f8c558276ddf5",
       "version_major": 2,
       "version_minor": 0
      },
      "text/plain": [
       "HBox(children=(FloatProgress(value=0.0, description='Downloading', max=1961828.0, style=ProgressStyle(descript…"
      ]
     },
     "metadata": {
      "tags": []
     },
     "output_type": "display_data"
    },
    {
     "name": "stdout",
     "output_type": "stream",
     "text": [
      "\n"
     ]
    },
    {
     "data": {
      "text/html": [],
      "text/plain": [
       "<IPython.core.display.HTML object>"
      ]
     },
     "metadata": {
      "tags": []
     },
     "output_type": "display_data"
    },
    {
     "name": "stdout",
     "output_type": "stream",
     "text": [
      "Is Multi-Label? False\n",
      "preprocessing test...\n",
      "language: sw\n",
      "test sequence lengths:\n",
      "\tmean : 329\n",
      "\t95percentile : 770\n",
      "\t99percentile : 1234\n"
     ]
    },
    {
     "data": {
      "text/html": [],
      "text/plain": [
       "<IPython.core.display.HTML object>"
      ]
     },
     "metadata": {
      "tags": []
     },
     "output_type": "display_data"
    },
    {
     "name": "stdout",
     "output_type": "stream",
     "text": [
      "preprocessing test...\n",
      "language: sw\n",
      "test sequence lengths:\n",
      "\tmean : 336\n",
      "\t95percentile : 788\n",
      "\t99percentile : 1302\n"
     ]
    },
    {
     "data": {
      "text/html": [],
      "text/plain": [
       "<IPython.core.display.HTML object>"
      ]
     },
     "metadata": {
      "tags": []
     },
     "output_type": "display_data"
    },
    {
     "data": {
      "application/vnd.jupyter.widget-view+json": {
       "model_id": "769519316119451f815f335992eb995e",
       "version_major": 2,
       "version_minor": 0
      },
      "text/plain": [
       "HBox(children=(FloatProgress(value=0.0, description='Downloading', max=1083389348.0, style=ProgressStyle(descr…"
      ]
     },
     "metadata": {
      "tags": []
     },
     "output_type": "display_data"
    },
    {
     "name": "stdout",
     "output_type": "stream",
     "text": [
      "\n",
      "\n",
      "\n",
      "begin training using onecycle policy with max lr of 2e-05...\n",
      "Epoch 1/4\n",
      "3878/3878 [==============================] - 2175s 557ms/step - loss: 1.2225 - accuracy: 0.7795 - val_loss: 0.4425 - val_accuracy: 0.8667\n",
      "Epoch 2/4\n",
      "3878/3878 [==============================] - 2165s 558ms/step - loss: 0.7154 - accuracy: 0.8584 - val_loss: 0.3757 - val_accuracy: 0.8925\n",
      "Epoch 3/4\n",
      "3878/3878 [==============================] - 2164s 558ms/step - loss: 0.6000 - accuracy: 0.8755 - val_loss: 0.3023 - val_accuracy: 0.9005\n",
      "Epoch 4/4\n",
      "3878/3878 [==============================] - 2164s 558ms/step - loss: 0.4205 - accuracy: 0.9109 - val_loss: 0.3139 - val_accuracy: 0.8940\n"
     ]
    },
    {
     "data": {
      "image/png": "[encoded data removed]",
      "text/plain": [
       "<Figure size 432x288 with 1 Axes>"
      ]
     },
     "metadata": {
      "needs_background": "light",
      "tags": []
     },
     "output_type": "display_data"
    },
    {
     "data": {
      "image/png": "[encoded data removed]",
      "text/plain": [
       "<Figure size 432x288 with 1 Axes>"
      ]
     },
     "metadata": {
      "needs_background": "light",
      "tags": []
     },
     "output_type": "display_data"
    }
   ],
   "source": [
    "class_weight_dict = {0: 6.1, 1: 2.26, 2: 2.615, 3: 1, 4:1, 5:2.55}\n",
    "\n",
    "MODEL_NAME = 'bert-base-multilingual-cased' # choose model\n",
    "t = text.Transformer(MODEL_NAME, maxlen = 500, class_names = target_names) # create Transformer instance\n",
    "\n",
    "# preprocess datasets\n",
    "trn = t.preprocess_train(x_train, y_train)\n",
    "val = t.preprocess_test(x_val, y_val)\n",
    "test = t.preprocess_test(x_test, y_test)\n",
    "\n",
    "# create model wrapped in learner\n",
    "model = t.get_classifier()\n",
    "learner = ktrain.get_learner(model, train_data = trn, val_data = val, batch_size = 4)\n",
    "\n",
    "# train and save model\n",
    "history = learner.fit_onecycle(2e-5, 4, class_weight = class_weight_dict)\n",
    "learner.plot('loss') # visualising training and validation loss\n",
    "learner.plot('lr') # visualise learning rate schedule\n",
    "ktrain.get_predictor(learner.model, preproc = t).save('./tmp/bert_multilingual_predictor') # save progress as a checkpoint"
   ]
  },
  {
   "cell_type": "code",
   "execution_count": null,
   "metadata": {
    "colab": {
     "base_uri": "https://localhost:8080/"
    },
    "executionInfo": {
     "elapsed": 155252,
     "status": "ok",
     "timestamp": 1624031323759,
     "user": {
      "displayName": "Sam Ball",
      "photoUrl": "",
      "userId": "13021419479325006913"
     },
     "user_tz": -120
    },
    "id": "3KhqyqbPzPYY",
    "outputId": "83b339ca-1bcc-4b6c-c535-110dc4cbd547"
   },
   "outputs": [
    {
     "name": "stdout",
     "output_type": "stream",
     "text": [
      "              precision    recall  f1-score   support\n",
      "\n",
      "        afya       0.48      0.75      0.59       157\n",
      "    burudani       0.86      0.94      0.90       340\n",
      "   kimataifa       0.86      0.87      0.87       300\n",
      "     kitaifa       0.94      0.86      0.90      1736\n",
      "     michezo       0.95      0.97      0.96       975\n",
      "      uchumi       0.86      0.88      0.87       370\n",
      "\n",
      "    accuracy                           0.89      3878\n",
      "   macro avg       0.83      0.88      0.85      3878\n",
      "weighted avg       0.90      0.89      0.90      3878\n",
      "\n"
     ]
    },
    {
     "data": {
      "text/plain": [
       "array([[ 118,    2,    6,   30,    1,    0],\n",
       "       [   2,  318,    1,    8,   11,    0],\n",
       "       [  10,   16,  260,    8,    4,    2],\n",
       "       [ 112,   23,   30, 1489,   34,   48],\n",
       "       [   2,   10,    3,    9,  948,    3],\n",
       "       [   1,    1,    1,   38,    3,  326]])"
      ]
     },
     "execution_count": 13,
     "metadata": {
      "tags": []
     },
     "output_type": "execute_result"
    }
   ],
   "source": [
    "# evaluate model on test data\n",
    "\n",
    "learner.validate(test, class_names=t.get_classes()) "
   ]
  },
  {
   "cell_type": "code",
   "execution_count": 3,
   "metadata": {
    "id": "c0yK1b8PfDp1",
    "outputId": "9f53f496-30f9-4de4-909e-22482d54e743"
   },
   "outputs": [
    {
     "data": {
      "image/png": "[encoded data removed]",
      "text/plain": [
       "<Figure size 432x432 with 2 Axes>"
      ]
     },
     "metadata": {
      "needs_background": "light"
     },
     "output_type": "display_data"
    }
   ],
   "source": [
    "# plot confusion matrix\n",
    "\n",
    "cm = np.array([[ 118,    2,    6,   30,    1,    0],\n",
    "       [   2,  318,    1,    8,   11,    0],\n",
    "       [  10,   16,  260,    8,    4,    2],\n",
    "       [ 112,   23,   30, 1489,   34,   48],\n",
    "       [   2,   10,    3,    9,  948,    3],\n",
    "       [   1,    1,    1,   38,    3,  326]])\n",
    "\n",
    "\n",
    "labels = ['afya', 'burudani', 'kimataifa', 'kitaifa', 'michezo', 'uchumi']\n",
    "\n",
    "disp = ConfusionMatrixDisplay(confusion_matrix=cm,\n",
    "                              display_labels=labels)\n",
    "\n",
    "\n",
    "fig, ax = plt.subplots(figsize=(6, 6))\n",
    "disp = disp.plot(cmap='OrRd', ax=ax, xticks_rotation='vertical')\n",
    "\n",
    "plt.savefig('bert_confusion_matrix_class_weights', dpi = 300, bbox_inches='tight')\n",
    "plt.show()"
   ]
  },
  {
   "cell_type": "code",
   "execution_count": null,
   "metadata": {
    "colab": {
     "base_uri": "https://localhost:8080/"
    },
    "executionInfo": {
     "elapsed": 811083,
     "status": "ok",
     "timestamp": 1624032247447,
     "user": {
      "displayName": "Sam Ball",
      "photoUrl": "",
      "userId": "13021419479325006913"
     },
     "user_tz": -120
    },
    "id": "kV3Md98z0RGw",
    "outputId": "de9fefcf-4c8a-4aa3-fbd2-1fd9dbef0a26"
   },
   "outputs": [
    {
     "name": "stdout",
     "output_type": "stream",
     "text": [
      "0.8919546157813306\n"
     ]
    }
   ],
   "source": [
    "predictor = ktrain.get_predictor(learner.model, preproc =t)\n",
    "#predictor = ktrain.load_predictor('content/drive/MyDrive/News_Classification/tmp/bert_multilingual_predictor') # if disconnected\n",
    "predictor.batch_size = 4\n",
    "answer = predictor.predict(x_test) # input text\n",
    "accuracy = calculate_rates(answer, y_test)\n",
    "print(accuracy)"
   ]
  },
  {
   "cell_type": "markdown",
   "metadata": {},
   "source": [
    "Halving the class weights and increasing the number of epochs allows the BERT model to achieve an optimal F1-score of **85%**. Since this is an imbalanced problem, F1-score provides the best measure of classification performance. Therefore we conclude that the multlingual BERT model together with modified class weights, the one cycle learning rate schedule and four epochs obtains the best results on the Swahili News Classification dataset."
   ]
  },
  {
   "cell_type": "markdown",
   "metadata": {
    "id": "pOd_43yE_VrM"
   },
   "source": [
    "Therefore, after investigating both classical and deep learning approaches the Swahili text classification, it is observed that the multilingual BERT model attains the optimal performance with an F1-score of **85%**. Crucially, model optimizations such as accounting for class imbalance play a pivotal role in ensuring optimal model performance."
   ]
  }
 ],
 "metadata": {
  "accelerator": "GPU",
  "colab": {
   "collapsed_sections": [
    "cS0XxnYT_VrA",
    "VOVLsR67_VrB",
    "G2FJSB-o_VrB",
    "kxvuG0ti_VrC",
    "19BUo8Vp_VrF",
    "-opl-hNS_VrF",
    "A1XL7Pdi_VrG"
   ],
   "name": "3 - Deep Learning - Transformers.ipynb",
   "provenance": []
  },
  "kernelspec": {
   "display_name": "Python 3",
   "language": "python",
   "name": "python3"
  },
  "language_info": {
   "codemirror_mode": {
    "name": "ipython",
    "version": 3
   },
   "file_extension": ".py",
   "mimetype": "text/x-python",
   "name": "python",
   "nbconvert_exporter": "python",
   "pygments_lexer": "ipython3",
   "version": "3.7.4"
  },
  "widgets": {
   "application/vnd.jupyter.widget-state+json": {
    "00a10eab07af4443a4753cd143f02a8c": {
     "model_module": "@jupyter-widgets/base",
     "model_name": "LayoutModel",
     "state": {
      "_model_module": "@jupyter-widgets/base",
      "_model_module_version": "1.2.0",
      "_model_name": "LayoutModel",
      "_view_count": null,
      "_view_module": "@jupyter-widgets/base",
      "_view_module_version": "1.2.0",
      "_view_name": "LayoutView",
      "align_content": null,
      "align_items": null,
      "align_self": null,
      "border": null,
      "bottom": null,
      "display": null,
      "flex": null,
      "flex_flow": null,
      "grid_area": null,
      "grid_auto_columns": null,
      "grid_auto_flow": null,
      "grid_auto_rows": null,
      "grid_column": null,
      "grid_gap": null,
      "grid_row": null,
      "grid_template_areas": null,
      "grid_template_columns": null,
      "grid_template_rows": null,
      "height": null,
      "justify_content": null,
      "justify_items": null,
      "left": null,
      "margin": null,
      "max_height": null,
      "max_width": null,
      "min_height": null,
      "min_width": null,
      "object_fit": null,
      "object_position": null,
      "order": null,
      "overflow": null,
      "overflow_x": null,
      "overflow_y": null,
      "padding": null,
      "right": null,
      "top": null,
      "visibility": null,
      "width": null
     }
    },
    "00ec522befe84181b5c48492ab427c8b": {
     "model_module": "@jupyter-widgets/base",
     "model_name": "LayoutModel",
     "state": {
      "_model_module": "@jupyter-widgets/base",
      "_model_module_version": "1.2.0",
      "_model_name": "LayoutModel",
      "_view_count": null,
      "_view_module": "@jupyter-widgets/base",
      "_view_module_version": "1.2.0",
      "_view_name": "LayoutView",
      "align_content": null,
      "align_items": null,
      "align_self": null,
      "border": null,
      "bottom": null,
      "display": null,
      "flex": null,
      "flex_flow": null,
      "grid_area": null,
      "grid_auto_columns": null,
      "grid_auto_flow": null,
      "grid_auto_rows": null,
      "grid_column": null,
      "grid_gap": null,
      "grid_row": null,
      "grid_template_areas": null,
      "grid_template_columns": null,
      "grid_template_rows": null,
      "height": null,
      "justify_content": null,
      "justify_items": null,
      "left": null,
      "margin": null,
      "max_height": null,
      "max_width": null,
      "min_height": null,
      "min_width": null,
      "object_fit": null,
      "object_position": null,
      "order": null,
      "overflow": null,
      "overflow_x": null,
      "overflow_y": null,
      "padding": null,
      "right": null,
      "top": null,
      "visibility": null,
      "width": null
     }
    },
    "030cfbebebe4445597da222e7183958e": {
     "model_module": "@jupyter-widgets/controls",
     "model_name": "FloatProgressModel",
     "state": {
      "_dom_classes": [],
      "_model_module": "@jupyter-widgets/controls",
      "_model_module_version": "1.5.0",
      "_model_name": "FloatProgressModel",
      "_view_count": null,
      "_view_module": "@jupyter-widgets/controls",
      "_view_module_version": "1.5.0",
      "_view_name": "ProgressView",
      "bar_style": "success",
      "description": "Downloading: 100%",
      "description_tooltip": null,
      "layout": "IPY_MODEL_b9fe457b02c0404698e27f2a658823d5",
      "max": 625,
      "min": 0,
      "orientation": "horizontal",
      "style": "IPY_MODEL_5fc17f18b9944d0bbb1f9dfba7beb28a",
      "value": 625
     }
    },
    "0337c25cf3de491182b635d233177cbd": {
     "model_module": "@jupyter-widgets/base",
     "model_name": "LayoutModel",
     "state": {
      "_model_module": "@jupyter-widgets/base",
      "_model_module_version": "1.2.0",
      "_model_name": "LayoutModel",
      "_view_count": null,
      "_view_module": "@jupyter-widgets/base",
      "_view_module_version": "1.2.0",
      "_view_name": "LayoutView",
      "align_content": null,
      "align_items": null,
      "align_self": null,
      "border": null,
      "bottom": null,
      "display": null,
      "flex": null,
      "flex_flow": null,
      "grid_area": null,
      "grid_auto_columns": null,
      "grid_auto_flow": null,
      "grid_auto_rows": null,
      "grid_column": null,
      "grid_gap": null,
      "grid_row": null,
      "grid_template_areas": null,
      "grid_template_columns": null,
      "grid_template_rows": null,
      "height": null,
      "justify_content": null,
      "justify_items": null,
      "left": null,
      "margin": null,
      "max_height": null,
      "max_width": null,
      "min_height": null,
      "min_width": null,
      "object_fit": null,
      "object_position": null,
      "order": null,
      "overflow": null,
      "overflow_x": null,
      "overflow_y": null,
      "padding": null,
      "right": null,
      "top": null,
      "visibility": null,
      "width": null
     }
    },
    "04843c8401fd42f0a1f95143c8fe67b3": {
     "model_module": "@jupyter-widgets/base",
     "model_name": "LayoutModel",
     "state": {
      "_model_module": "@jupyter-widgets/base",
      "_model_module_version": "1.2.0",
      "_model_name": "LayoutModel",
      "_view_count": null,
      "_view_module": "@jupyter-widgets/base",
      "_view_module_version": "1.2.0",
      "_view_name": "LayoutView",
      "align_content": null,
      "align_items": null,
      "align_self": null,
      "border": null,
      "bottom": null,
      "display": null,
      "flex": null,
      "flex_flow": null,
      "grid_area": null,
      "grid_auto_columns": null,
      "grid_auto_flow": null,
      "grid_auto_rows": null,
      "grid_column": null,
      "grid_gap": null,
      "grid_row": null,
      "grid_template_areas": null,
      "grid_template_columns": null,
      "grid_template_rows": null,
      "height": null,
      "justify_content": null,
      "justify_items": null,
      "left": null,
      "margin": null,
      "max_height": null,
      "max_width": null,
      "min_height": null,
      "min_width": null,
      "object_fit": null,
      "object_position": null,
      "order": null,
      "overflow": null,
      "overflow_x": null,
      "overflow_y": null,
      "padding": null,
      "right": null,
      "top": null,
      "visibility": null,
      "width": null
     }
    },
    "04d5cd20093e4935b54cdc729c54904f": {
     "model_module": "@jupyter-widgets/base",
     "model_name": "LayoutModel",
     "state": {
      "_model_module": "@jupyter-widgets/base",
      "_model_module_version": "1.2.0",
      "_model_name": "LayoutModel",
      "_view_count": null,
      "_view_module": "@jupyter-widgets/base",
      "_view_module_version": "1.2.0",
      "_view_name": "LayoutView",
      "align_content": null,
      "align_items": null,
      "align_self": null,
      "border": null,
      "bottom": null,
      "display": null,
      "flex": null,
      "flex_flow": null,
      "grid_area": null,
      "grid_auto_columns": null,
      "grid_auto_flow": null,
      "grid_auto_rows": null,
      "grid_column": null,
      "grid_gap": null,
      "grid_row": null,
      "grid_template_areas": null,
      "grid_template_columns": null,
      "grid_template_rows": null,
      "height": null,
      "justify_content": null,
      "justify_items": null,
      "left": null,
      "margin": null,
      "max_height": null,
      "max_width": null,
      "min_height": null,
      "min_width": null,
      "object_fit": null,
      "object_position": null,
      "order": null,
      "overflow": null,
      "overflow_x": null,
      "overflow_y": null,
      "padding": null,
      "right": null,
      "top": null,
      "visibility": null,
      "width": null
     }
    },
    "04e574adcb21487483a0e44df62938ea": {
     "model_module": "@jupyter-widgets/controls",
     "model_name": "HBoxModel",
     "state": {
      "_dom_classes": [],
      "_model_module": "@jupyter-widgets/controls",
      "_model_module_version": "1.5.0",
      "_model_name": "HBoxModel",
      "_view_count": null,
      "_view_module": "@jupyter-widgets/controls",
      "_view_module_version": "1.5.0",
      "_view_name": "HBoxView",
      "box_style": "",
      "children": [
       "IPY_MODEL_53e3b5c26dc1442789f45a80d56e7ec6",
       "IPY_MODEL_69293b9cf79c47d0873f833ef3562bd6"
      ],
      "layout": "IPY_MODEL_83c81735960143539b7d6f77814b282b"
     }
    },
    "07088b30256b41beabed4aa4c42fc31e": {
     "model_module": "@jupyter-widgets/controls",
     "model_name": "HTMLModel",
     "state": {
      "_dom_classes": [],
      "_model_module": "@jupyter-widgets/controls",
      "_model_module_version": "1.5.0",
      "_model_name": "HTMLModel",
      "_view_count": null,
      "_view_module": "@jupyter-widgets/controls",
      "_view_module_version": "1.5.0",
      "_view_name": "HTMLView",
      "description": "",
      "description_tooltip": null,
      "layout": "IPY_MODEL_47ba078b6b3d4fd7b02acd815256059c",
      "placeholder": "​",
      "style": "IPY_MODEL_d197afcc5e6040e581aa282d221d4d52",
      "value": " 1.08G/1.08G [00:27&lt;00:00, 39.7MB/s]"
     }
    },
    "07638ddc3dfa44c5a0d8b8c59abb0ef0": {
     "model_module": "@jupyter-widgets/base",
     "model_name": "LayoutModel",
     "state": {
      "_model_module": "@jupyter-widgets/base",
      "_model_module_version": "1.2.0",
      "_model_name": "LayoutModel",
      "_view_count": null,
      "_view_module": "@jupyter-widgets/base",
      "_view_module_version": "1.2.0",
      "_view_name": "LayoutView",
      "align_content": null,
      "align_items": null,
      "align_self": null,
      "border": null,
      "bottom": null,
      "display": null,
      "flex": null,
      "flex_flow": null,
      "grid_area": null,
      "grid_auto_columns": null,
      "grid_auto_flow": null,
      "grid_auto_rows": null,
      "grid_column": null,
      "grid_gap": null,
      "grid_row": null,
      "grid_template_areas": null,
      "grid_template_columns": null,
      "grid_template_rows": null,
      "height": null,
      "justify_content": null,
      "justify_items": null,
      "left": null,
      "margin": null,
      "max_height": null,
      "max_width": null,
      "min_height": null,
      "min_width": null,
      "object_fit": null,
      "object_position": null,
      "order": null,
      "overflow": null,
      "overflow_x": null,
      "overflow_y": null,
      "padding": null,
      "right": null,
      "top": null,
      "visibility": null,
      "width": null
     }
    },
    "08ed1d73e4264fa5a8bb2a4843034610": {
     "model_module": "@jupyter-widgets/base",
     "model_name": "LayoutModel",
     "state": {
      "_model_module": "@jupyter-widgets/base",
      "_model_module_version": "1.2.0",
      "_model_name": "LayoutModel",
      "_view_count": null,
      "_view_module": "@jupyter-widgets/base",
      "_view_module_version": "1.2.0",
      "_view_name": "LayoutView",
      "align_content": null,
      "align_items": null,
      "align_self": null,
      "border": null,
      "bottom": null,
      "display": null,
      "flex": null,
      "flex_flow": null,
      "grid_area": null,
      "grid_auto_columns": null,
      "grid_auto_flow": null,
      "grid_auto_rows": null,
      "grid_column": null,
      "grid_gap": null,
      "grid_row": null,
      "grid_template_areas": null,
      "grid_template_columns": null,
      "grid_template_rows": null,
      "height": null,
      "justify_content": null,
      "justify_items": null,
      "left": null,
      "margin": null,
      "max_height": null,
      "max_width": null,
      "min_height": null,
      "min_width": null,
      "object_fit": null,
      "object_position": null,
      "order": null,
      "overflow": null,
      "overflow_x": null,
      "overflow_y": null,
      "padding": null,
      "right": null,
      "top": null,
      "visibility": null,
      "width": null
     }
    },
    "0c90cebcde4e41cdb183dd1850b88891": {
     "model_module": "@jupyter-widgets/controls",
     "model_name": "ProgressStyleModel",
     "state": {
      "_model_module": "@jupyter-widgets/controls",
      "_model_module_version": "1.5.0",
      "_model_name": "ProgressStyleModel",
      "_view_count": null,
      "_view_module": "@jupyter-widgets/base",
      "_view_module_version": "1.2.0",
      "_view_name": "StyleView",
      "bar_color": null,
      "description_width": "initial"
     }
    },
    "0cc048ade37642b89ce8f464979d3ec9": {
     "model_module": "@jupyter-widgets/controls",
     "model_name": "DescriptionStyleModel",
     "state": {
      "_model_module": "@jupyter-widgets/controls",
      "_model_module_version": "1.5.0",
      "_model_name": "DescriptionStyleModel",
      "_view_count": null,
      "_view_module": "@jupyter-widgets/base",
      "_view_module_version": "1.2.0",
      "_view_name": "StyleView",
      "description_width": ""
     }
    },
    "0f6bc8bed2d3434caa301c3bc5460aed": {
     "model_module": "@jupyter-widgets/controls",
     "model_name": "DescriptionStyleModel",
     "state": {
      "_model_module": "@jupyter-widgets/controls",
      "_model_module_version": "1.5.0",
      "_model_name": "DescriptionStyleModel",
      "_view_count": null,
      "_view_module": "@jupyter-widgets/base",
      "_view_module_version": "1.2.0",
      "_view_name": "StyleView",
      "description_width": ""
     }
    },
    "10f959d5452d439f8f142eb11fb449b6": {
     "model_module": "@jupyter-widgets/base",
     "model_name": "LayoutModel",
     "state": {
      "_model_module": "@jupyter-widgets/base",
      "_model_module_version": "1.2.0",
      "_model_name": "LayoutModel",
      "_view_count": null,
      "_view_module": "@jupyter-widgets/base",
      "_view_module_version": "1.2.0",
      "_view_name": "LayoutView",
      "align_content": null,
      "align_items": null,
      "align_self": null,
      "border": null,
      "bottom": null,
      "display": null,
      "flex": null,
      "flex_flow": null,
      "grid_area": null,
      "grid_auto_columns": null,
      "grid_auto_flow": null,
      "grid_auto_rows": null,
      "grid_column": null,
      "grid_gap": null,
      "grid_row": null,
      "grid_template_areas": null,
      "grid_template_columns": null,
      "grid_template_rows": null,
      "height": null,
      "justify_content": null,
      "justify_items": null,
      "left": null,
      "margin": null,
      "max_height": null,
      "max_width": null,
      "min_height": null,
      "min_width": null,
      "object_fit": null,
      "object_position": null,
      "order": null,
      "overflow": null,
      "overflow_x": null,
      "overflow_y": null,
      "padding": null,
      "right": null,
      "top": null,
      "visibility": null,
      "width": null
     }
    },
    "12023bab20424d52963941ba9d4e9fd9": {
     "model_module": "@jupyter-widgets/controls",
     "model_name": "DescriptionStyleModel",
     "state": {
      "_model_module": "@jupyter-widgets/controls",
      "_model_module_version": "1.5.0",
      "_model_name": "DescriptionStyleModel",
      "_view_count": null,
      "_view_module": "@jupyter-widgets/base",
      "_view_module_version": "1.2.0",
      "_view_name": "StyleView",
      "description_width": ""
     }
    },
    "13c7603bb96c4dc7a0de1d87b0efee7c": {
     "model_module": "@jupyter-widgets/base",
     "model_name": "LayoutModel",
     "state": {
      "_model_module": "@jupyter-widgets/base",
      "_model_module_version": "1.2.0",
      "_model_name": "LayoutModel",
      "_view_count": null,
      "_view_module": "@jupyter-widgets/base",
      "_view_module_version": "1.2.0",
      "_view_name": "LayoutView",
      "align_content": null,
      "align_items": null,
      "align_self": null,
      "border": null,
      "bottom": null,
      "display": null,
      "flex": null,
      "flex_flow": null,
      "grid_area": null,
      "grid_auto_columns": null,
      "grid_auto_flow": null,
      "grid_auto_rows": null,
      "grid_column": null,
      "grid_gap": null,
      "grid_row": null,
      "grid_template_areas": null,
      "grid_template_columns": null,
      "grid_template_rows": null,
      "height": null,
      "justify_content": null,
      "justify_items": null,
      "left": null,
      "margin": null,
      "max_height": null,
      "max_width": null,
      "min_height": null,
      "min_width": null,
      "object_fit": null,
      "object_position": null,
      "order": null,
      "overflow": null,
      "overflow_x": null,
      "overflow_y": null,
      "padding": null,
      "right": null,
      "top": null,
      "visibility": null,
      "width": null
     }
    },
    "13e861884e874bd3be484545f225dd47": {
     "model_module": "@jupyter-widgets/controls",
     "model_name": "HTMLModel",
     "state": {
      "_dom_classes": [],
      "_model_module": "@jupyter-widgets/controls",
      "_model_module_version": "1.5.0",
      "_model_name": "HTMLModel",
      "_view_count": null,
      "_view_module": "@jupyter-widgets/controls",
      "_view_module_version": "1.5.0",
      "_view_name": "HTMLView",
      "description": "",
      "description_tooltip": null,
      "layout": "IPY_MODEL_bf8ede15208b45d9aaed45f4b72ea757",
      "placeholder": "​",
      "style": "IPY_MODEL_8891f5eaa00347f0b6caa379d5b9b24d",
      "value": " 996k/996k [00:01&lt;00:00, 613kB/s]"
     }
    },
    "143bb8975f194fc1a5914ce4bfb96595": {
     "model_module": "@jupyter-widgets/controls",
     "model_name": "ProgressStyleModel",
     "state": {
      "_model_module": "@jupyter-widgets/controls",
      "_model_module_version": "1.5.0",
      "_model_name": "ProgressStyleModel",
      "_view_count": null,
      "_view_module": "@jupyter-widgets/base",
      "_view_module_version": "1.2.0",
      "_view_name": "StyleView",
      "bar_color": null,
      "description_width": "initial"
     }
    },
    "15c2a2dfcc7d42788711a5b6e0323da5": {
     "model_module": "@jupyter-widgets/controls",
     "model_name": "FloatProgressModel",
     "state": {
      "_dom_classes": [],
      "_model_module": "@jupyter-widgets/controls",
      "_model_module_version": "1.5.0",
      "_model_name": "FloatProgressModel",
      "_view_count": null,
      "_view_module": "@jupyter-widgets/controls",
      "_view_module_version": "1.5.0",
      "_view_name": "ProgressView",
      "bar_style": "success",
      "description": "Downloading: 100%",
      "description_tooltip": null,
      "layout": "IPY_MODEL_04843c8401fd42f0a1f95143c8fe67b3",
      "max": 1083389348,
      "min": 0,
      "orientation": "horizontal",
      "style": "IPY_MODEL_dbf59548d59b401b986e1ed07c012c6c",
      "value": 1083389348
     }
    },
    "206759dff654428b85ca65fe6f398537": {
     "model_module": "@jupyter-widgets/base",
     "model_name": "LayoutModel",
     "state": {
      "_model_module": "@jupyter-widgets/base",
      "_model_module_version": "1.2.0",
      "_model_name": "LayoutModel",
      "_view_count": null,
      "_view_module": "@jupyter-widgets/base",
      "_view_module_version": "1.2.0",
      "_view_name": "LayoutView",
      "align_content": null,
      "align_items": null,
      "align_self": null,
      "border": null,
      "bottom": null,
      "display": null,
      "flex": null,
      "flex_flow": null,
      "grid_area": null,
      "grid_auto_columns": null,
      "grid_auto_flow": null,
      "grid_auto_rows": null,
      "grid_column": null,
      "grid_gap": null,
      "grid_row": null,
      "grid_template_areas": null,
      "grid_template_columns": null,
      "grid_template_rows": null,
      "height": null,
      "justify_content": null,
      "justify_items": null,
      "left": null,
      "margin": null,
      "max_height": null,
      "max_width": null,
      "min_height": null,
      "min_width": null,
      "object_fit": null,
      "object_position": null,
      "order": null,
      "overflow": null,
      "overflow_x": null,
      "overflow_y": null,
      "padding": null,
      "right": null,
      "top": null,
      "visibility": null,
      "width": null
     }
    },
    "20d3cf4805424416ac493f28c604d62c": {
     "model_module": "@jupyter-widgets/controls",
     "model_name": "DescriptionStyleModel",
     "state": {
      "_model_module": "@jupyter-widgets/controls",
      "_model_module_version": "1.5.0",
      "_model_name": "DescriptionStyleModel",
      "_view_count": null,
      "_view_module": "@jupyter-widgets/base",
      "_view_module_version": "1.2.0",
      "_view_name": "StyleView",
      "description_width": ""
     }
    },
    "21ecb215be424b2cbbd0b7881170a89c": {
     "model_module": "@jupyter-widgets/controls",
     "model_name": "ProgressStyleModel",
     "state": {
      "_model_module": "@jupyter-widgets/controls",
      "_model_module_version": "1.5.0",
      "_model_name": "ProgressStyleModel",
      "_view_count": null,
      "_view_module": "@jupyter-widgets/base",
      "_view_module_version": "1.2.0",
      "_view_name": "StyleView",
      "bar_color": null,
      "description_width": "initial"
     }
    },
    "221de448e59d4c85812913197fee0fd3": {
     "model_module": "@jupyter-widgets/base",
     "model_name": "LayoutModel",
     "state": {
      "_model_module": "@jupyter-widgets/base",
      "_model_module_version": "1.2.0",
      "_model_name": "LayoutModel",
      "_view_count": null,
      "_view_module": "@jupyter-widgets/base",
      "_view_module_version": "1.2.0",
      "_view_name": "LayoutView",
      "align_content": null,
      "align_items": null,
      "align_self": null,
      "border": null,
      "bottom": null,
      "display": null,
      "flex": null,
      "flex_flow": null,
      "grid_area": null,
      "grid_auto_columns": null,
      "grid_auto_flow": null,
      "grid_auto_rows": null,
      "grid_column": null,
      "grid_gap": null,
      "grid_row": null,
      "grid_template_areas": null,
      "grid_template_columns": null,
      "grid_template_rows": null,
      "height": null,
      "justify_content": null,
      "justify_items": null,
      "left": null,
      "margin": null,
      "max_height": null,
      "max_width": null,
      "min_height": null,
      "min_width": null,
      "object_fit": null,
      "object_position": null,
      "order": null,
      "overflow": null,
      "overflow_x": null,
      "overflow_y": null,
      "padding": null,
      "right": null,
      "top": null,
      "visibility": null,
      "width": null
     }
    },
    "2257bdc02d8049de98b000d98a387978": {
     "model_module": "@jupyter-widgets/controls",
     "model_name": "HBoxModel",
     "state": {
      "_dom_classes": [],
      "_model_module": "@jupyter-widgets/controls",
      "_model_module_version": "1.5.0",
      "_model_name": "HBoxModel",
      "_view_count": null,
      "_view_module": "@jupyter-widgets/controls",
      "_view_module_version": "1.5.0",
      "_view_name": "HBoxView",
      "box_style": "",
      "children": [
       "IPY_MODEL_340d81a4b1724dd2a715dbf8a8b4396b",
       "IPY_MODEL_d8f36ed6f1d84652813336e6d8fa403d"
      ],
      "layout": "IPY_MODEL_7f2af4b00e0c48d1aa53e2683ab1c06b"
     }
    },
    "24d37a75521f4570ab92caef43b6cc32": {
     "model_module": "@jupyter-widgets/base",
     "model_name": "LayoutModel",
     "state": {
      "_model_module": "@jupyter-widgets/base",
      "_model_module_version": "1.2.0",
      "_model_name": "LayoutModel",
      "_view_count": null,
      "_view_module": "@jupyter-widgets/base",
      "_view_module_version": "1.2.0",
      "_view_name": "LayoutView",
      "align_content": null,
      "align_items": null,
      "align_self": null,
      "border": null,
      "bottom": null,
      "display": null,
      "flex": null,
      "flex_flow": null,
      "grid_area": null,
      "grid_auto_columns": null,
      "grid_auto_flow": null,
      "grid_auto_rows": null,
      "grid_column": null,
      "grid_gap": null,
      "grid_row": null,
      "grid_template_areas": null,
      "grid_template_columns": null,
      "grid_template_rows": null,
      "height": null,
      "justify_content": null,
      "justify_items": null,
      "left": null,
      "margin": null,
      "max_height": null,
      "max_width": null,
      "min_height": null,
      "min_width": null,
      "object_fit": null,
      "object_position": null,
      "order": null,
      "overflow": null,
      "overflow_x": null,
      "overflow_y": null,
      "padding": null,
      "right": null,
      "top": null,
      "visibility": null,
      "width": null
     }
    },
    "25b2cc65c3ec4b36bf2ec6b77ae6a076": {
     "model_module": "@jupyter-widgets/controls",
     "model_name": "FloatProgressModel",
     "state": {
      "_dom_classes": [],
      "_model_module": "@jupyter-widgets/controls",
      "_model_module_version": "1.5.0",
      "_model_name": "FloatProgressModel",
      "_view_count": null,
      "_view_module": "@jupyter-widgets/controls",
      "_view_module_version": "1.5.0",
      "_view_name": "ProgressView",
      "bar_style": "success",
      "description": "Downloading: 100%",
      "description_tooltip": null,
      "layout": "IPY_MODEL_24d37a75521f4570ab92caef43b6cc32",
      "max": 995526,
      "min": 0,
      "orientation": "horizontal",
      "style": "IPY_MODEL_143bb8975f194fc1a5914ce4bfb96595",
      "value": 995526
     }
    },
    "261ac2d722604c3b890117eea71b386e": {
     "model_module": "@jupyter-widgets/base",
     "model_name": "LayoutModel",
     "state": {
      "_model_module": "@jupyter-widgets/base",
      "_model_module_version": "1.2.0",
      "_model_name": "LayoutModel",
      "_view_count": null,
      "_view_module": "@jupyter-widgets/base",
      "_view_module_version": "1.2.0",
      "_view_name": "LayoutView",
      "align_content": null,
      "align_items": null,
      "align_self": null,
      "border": null,
      "bottom": null,
      "display": null,
      "flex": null,
      "flex_flow": null,
      "grid_area": null,
      "grid_auto_columns": null,
      "grid_auto_flow": null,
      "grid_auto_rows": null,
      "grid_column": null,
      "grid_gap": null,
      "grid_row": null,
      "grid_template_areas": null,
      "grid_template_columns": null,
      "grid_template_rows": null,
      "height": null,
      "justify_content": null,
      "justify_items": null,
      "left": null,
      "margin": null,
      "max_height": null,
      "max_width": null,
      "min_height": null,
      "min_width": null,
      "object_fit": null,
      "object_position": null,
      "order": null,
      "overflow": null,
      "overflow_x": null,
      "overflow_y": null,
      "padding": null,
      "right": null,
      "top": null,
      "visibility": null,
      "width": null
     }
    },
    "275fa525f73f4df9890d19ad12dd99e2": {
     "model_module": "@jupyter-widgets/base",
     "model_name": "LayoutModel",
     "state": {
      "_model_module": "@jupyter-widgets/base",
      "_model_module_version": "1.2.0",
      "_model_name": "LayoutModel",
      "_view_count": null,
      "_view_module": "@jupyter-widgets/base",
      "_view_module_version": "1.2.0",
      "_view_name": "LayoutView",
      "align_content": null,
      "align_items": null,
      "align_self": null,
      "border": null,
      "bottom": null,
      "display": null,
      "flex": null,
      "flex_flow": null,
      "grid_area": null,
      "grid_auto_columns": null,
      "grid_auto_flow": null,
      "grid_auto_rows": null,
      "grid_column": null,
      "grid_gap": null,
      "grid_row": null,
      "grid_template_areas": null,
      "grid_template_columns": null,
      "grid_template_rows": null,
      "height": null,
      "justify_content": null,
      "justify_items": null,
      "left": null,
      "margin": null,
      "max_height": null,
      "max_width": null,
      "min_height": null,
      "min_width": null,
      "object_fit": null,
      "object_position": null,
      "order": null,
      "overflow": null,
      "overflow_x": null,
      "overflow_y": null,
      "padding": null,
      "right": null,
      "top": null,
      "visibility": null,
      "width": null
     }
    },
    "309b5338f2d44303b4b7ac5129638e0a": {
     "model_module": "@jupyter-widgets/controls",
     "model_name": "HBoxModel",
     "state": {
      "_dom_classes": [],
      "_model_module": "@jupyter-widgets/controls",
      "_model_module_version": "1.5.0",
      "_model_name": "HBoxModel",
      "_view_count": null,
      "_view_module": "@jupyter-widgets/controls",
      "_view_module_version": "1.5.0",
      "_view_name": "HBoxView",
      "box_style": "",
      "children": [
       "IPY_MODEL_bcc1ab5049ce4bc2af26d30831fe0b6b",
       "IPY_MODEL_990f229e95394d5a80ee284d760349b9"
      ],
      "layout": "IPY_MODEL_13c7603bb96c4dc7a0de1d87b0efee7c"
     }
    },
    "340d81a4b1724dd2a715dbf8a8b4396b": {
     "model_module": "@jupyter-widgets/controls",
     "model_name": "FloatProgressModel",
     "state": {
      "_dom_classes": [],
      "_model_module": "@jupyter-widgets/controls",
      "_model_module_version": "1.5.0",
      "_model_name": "FloatProgressModel",
      "_view_count": null,
      "_view_module": "@jupyter-widgets/controls",
      "_view_module_version": "1.5.0",
      "_view_name": "ProgressView",
      "bar_style": "success",
      "description": "Downloading: 100%",
      "description_tooltip": null,
      "layout": "IPY_MODEL_7e7b9585f26a4c838e70020e36abf04b",
      "max": 1961828,
      "min": 0,
      "orientation": "horizontal",
      "style": "IPY_MODEL_86b0939f03794628b05ac080672a60b9",
      "value": 1961828
     }
    },
    "3566f4324ea34c30a18a084f49e9e449": {
     "model_module": "@jupyter-widgets/base",
     "model_name": "LayoutModel",
     "state": {
      "_model_module": "@jupyter-widgets/base",
      "_model_module_version": "1.2.0",
      "_model_name": "LayoutModel",
      "_view_count": null,
      "_view_module": "@jupyter-widgets/base",
      "_view_module_version": "1.2.0",
      "_view_name": "LayoutView",
      "align_content": null,
      "align_items": null,
      "align_self": null,
      "border": null,
      "bottom": null,
      "display": null,
      "flex": null,
      "flex_flow": null,
      "grid_area": null,
      "grid_auto_columns": null,
      "grid_auto_flow": null,
      "grid_auto_rows": null,
      "grid_column": null,
      "grid_gap": null,
      "grid_row": null,
      "grid_template_areas": null,
      "grid_template_columns": null,
      "grid_template_rows": null,
      "height": null,
      "justify_content": null,
      "justify_items": null,
      "left": null,
      "margin": null,
      "max_height": null,
      "max_width": null,
      "min_height": null,
      "min_width": null,
      "object_fit": null,
      "object_position": null,
      "order": null,
      "overflow": null,
      "overflow_x": null,
      "overflow_y": null,
      "padding": null,
      "right": null,
      "top": null,
      "visibility": null,
      "width": null
     }
    },
    "373d3b88eba74d2b8baf0bb6fab20763": {
     "model_module": "@jupyter-widgets/controls",
     "model_name": "HTMLModel",
     "state": {
      "_dom_classes": [],
      "_model_module": "@jupyter-widgets/controls",
      "_model_module_version": "1.5.0",
      "_model_name": "HTMLModel",
      "_view_count": null,
      "_view_module": "@jupyter-widgets/controls",
      "_view_module_version": "1.5.0",
      "_view_name": "HTMLView",
      "description": "",
      "description_tooltip": null,
      "layout": "IPY_MODEL_07638ddc3dfa44c5a0d8b8c59abb0ef0",
      "placeholder": "​",
      "style": "IPY_MODEL_44dea04ad9014430b21fb07af1f5e968",
      "value": " 1.08G/1.08G [00:25&lt;00:00, 41.8MB/s]"
     }
    },
    "376b3caf391048e293a284e92b7db30e": {
     "model_module": "@jupyter-widgets/controls",
     "model_name": "HTMLModel",
     "state": {
      "_dom_classes": [],
      "_model_module": "@jupyter-widgets/controls",
      "_model_module_version": "1.5.0",
      "_model_name": "HTMLModel",
      "_view_count": null,
      "_view_module": "@jupyter-widgets/controls",
      "_view_module_version": "1.5.0",
      "_view_name": "HTMLView",
      "description": "",
      "description_tooltip": null,
      "layout": "IPY_MODEL_638ef8a7ca224854bd0e48cfb60a509d",
      "placeholder": "​",
      "style": "IPY_MODEL_4f118d3ed4db4d34a0a617aa7ed3f3d4",
      "value": " 996k/996k [00:00&lt;00:00, 6.99MB/s]"
     }
    },
    "37a4d3d0d28343d7adfabf1ab70bb6af": {
     "model_module": "@jupyter-widgets/controls",
     "model_name": "HTMLModel",
     "state": {
      "_dom_classes": [],
      "_model_module": "@jupyter-widgets/controls",
      "_model_module_version": "1.5.0",
      "_model_name": "HTMLModel",
      "_view_count": null,
      "_view_module": "@jupyter-widgets/controls",
      "_view_module_version": "1.5.0",
      "_view_name": "HTMLView",
      "description": "",
      "description_tooltip": null,
      "layout": "IPY_MODEL_a6bc6a17c9654796b73dce618fabeb6b",
      "placeholder": "​",
      "style": "IPY_MODEL_fd536bef296c40559b3ecbbe4c04bed0",
      "value": " 996k/996k [00:03&lt;00:00, 302kB/s]"
     }
    },
    "37c132ea7dac4106947b1cf9a6fb8ab7": {
     "model_module": "@jupyter-widgets/controls",
     "model_name": "FloatProgressModel",
     "state": {
      "_dom_classes": [],
      "_model_module": "@jupyter-widgets/controls",
      "_model_module_version": "1.5.0",
      "_model_name": "FloatProgressModel",
      "_view_count": null,
      "_view_module": "@jupyter-widgets/controls",
      "_view_module_version": "1.5.0",
      "_view_name": "ProgressView",
      "bar_style": "success",
      "description": "Downloading: 100%",
      "description_tooltip": null,
      "layout": "IPY_MODEL_bf4306c519a7450ea6f371c380edde89",
      "max": 1961828,
      "min": 0,
      "orientation": "horizontal",
      "style": "IPY_MODEL_21ecb215be424b2cbbd0b7881170a89c",
      "value": 1961828
     }
    },
    "3a48a3d3e2c24d0abe60d4da113592be": {
     "model_module": "@jupyter-widgets/controls",
     "model_name": "ProgressStyleModel",
     "state": {
      "_model_module": "@jupyter-widgets/controls",
      "_model_module_version": "1.5.0",
      "_model_name": "ProgressStyleModel",
      "_view_count": null,
      "_view_module": "@jupyter-widgets/base",
      "_view_module_version": "1.2.0",
      "_view_name": "StyleView",
      "bar_color": null,
      "description_width": "initial"
     }
    },
    "3bcc8dd7ad314e6d925f82d6119327ff": {
     "model_module": "@jupyter-widgets/controls",
     "model_name": "FloatProgressModel",
     "state": {
      "_dom_classes": [],
      "_model_module": "@jupyter-widgets/controls",
      "_model_module_version": "1.5.0",
      "_model_name": "FloatProgressModel",
      "_view_count": null,
      "_view_module": "@jupyter-widgets/controls",
      "_view_module_version": "1.5.0",
      "_view_name": "ProgressView",
      "bar_style": "success",
      "description": "Downloading: 100%",
      "description_tooltip": null,
      "layout": "IPY_MODEL_92ff32bdb8354bacbf115c36381d63f5",
      "max": 1083389348,
      "min": 0,
      "orientation": "horizontal",
      "style": "IPY_MODEL_b0aab7b55ca04b3fac75ef2699a3323a",
      "value": 1083389348
     }
    },
    "3c8acc63ac934b3aa4a8754eab56fa6a": {
     "model_module": "@jupyter-widgets/controls",
     "model_name": "FloatProgressModel",
     "state": {
      "_dom_classes": [],
      "_model_module": "@jupyter-widgets/controls",
      "_model_module_version": "1.5.0",
      "_model_name": "FloatProgressModel",
      "_view_count": null,
      "_view_module": "@jupyter-widgets/controls",
      "_view_module_version": "1.5.0",
      "_view_name": "ProgressView",
      "bar_style": "success",
      "description": "Downloading: 100%",
      "description_tooltip": null,
      "layout": "IPY_MODEL_5d7d3891c8c9464fac422fa3432bcb86",
      "max": 1961828,
      "min": 0,
      "orientation": "horizontal",
      "style": "IPY_MODEL_e3364f9b8f0b4d4cac5f6187650c634a",
      "value": 1961828
     }
    },
    "3e2a00a24ca44d1fa89f30ed945edb1c": {
     "model_module": "@jupyter-widgets/controls",
     "model_name": "ProgressStyleModel",
     "state": {
      "_model_module": "@jupyter-widgets/controls",
      "_model_module_version": "1.5.0",
      "_model_name": "ProgressStyleModel",
      "_view_count": null,
      "_view_module": "@jupyter-widgets/base",
      "_view_module_version": "1.2.0",
      "_view_name": "StyleView",
      "bar_color": null,
      "description_width": "initial"
     }
    },
    "4048259cb3e042c19a06c08e361521d0": {
     "model_module": "@jupyter-widgets/controls",
     "model_name": "HTMLModel",
     "state": {
      "_dom_classes": [],
      "_model_module": "@jupyter-widgets/controls",
      "_model_module_version": "1.5.0",
      "_model_name": "HTMLModel",
      "_view_count": null,
      "_view_module": "@jupyter-widgets/controls",
      "_view_module_version": "1.5.0",
      "_view_name": "HTMLView",
      "description": "",
      "description_tooltip": null,
      "layout": "IPY_MODEL_99965d5852624089bca9089e0e50dc02",
      "placeholder": "​",
      "style": "IPY_MODEL_bf2b827b6fb748ddb5b620954653c37d",
      "value": " 996k/996k [00:01&lt;00:00, 770kB/s]"
     }
    },
    "44dea04ad9014430b21fb07af1f5e968": {
     "model_module": "@jupyter-widgets/controls",
     "model_name": "DescriptionStyleModel",
     "state": {
      "_model_module": "@jupyter-widgets/controls",
      "_model_module_version": "1.5.0",
      "_model_name": "DescriptionStyleModel",
      "_view_count": null,
      "_view_module": "@jupyter-widgets/base",
      "_view_module_version": "1.2.0",
      "_view_name": "StyleView",
      "description_width": ""
     }
    },
    "46ff86607422492798351a63d09137d7": {
     "model_module": "@jupyter-widgets/controls",
     "model_name": "ProgressStyleModel",
     "state": {
      "_model_module": "@jupyter-widgets/controls",
      "_model_module_version": "1.5.0",
      "_model_name": "ProgressStyleModel",
      "_view_count": null,
      "_view_module": "@jupyter-widgets/base",
      "_view_module_version": "1.2.0",
      "_view_name": "StyleView",
      "bar_color": null,
      "description_width": "initial"
     }
    },
    "473c13487ad7493687eea19e161b392f": {
     "model_module": "@jupyter-widgets/controls",
     "model_name": "HTMLModel",
     "state": {
      "_dom_classes": [],
      "_model_module": "@jupyter-widgets/controls",
      "_model_module_version": "1.5.0",
      "_model_name": "HTMLModel",
      "_view_count": null,
      "_view_module": "@jupyter-widgets/controls",
      "_view_module_version": "1.5.0",
      "_view_name": "HTMLView",
      "description": "",
      "description_tooltip": null,
      "layout": "IPY_MODEL_261ac2d722604c3b890117eea71b386e",
      "placeholder": "​",
      "style": "IPY_MODEL_83862f35ecde4bcc8a3765e5ecfa11c1",
      "value": " 996k/996k [00:01&lt;00:00, 749kB/s]"
     }
    },
    "47916d39f6ca425a8fb7a9e7efb845c5": {
     "model_module": "@jupyter-widgets/base",
     "model_name": "LayoutModel",
     "state": {
      "_model_module": "@jupyter-widgets/base",
      "_model_module_version": "1.2.0",
      "_model_name": "LayoutModel",
      "_view_count": null,
      "_view_module": "@jupyter-widgets/base",
      "_view_module_version": "1.2.0",
      "_view_name": "LayoutView",
      "align_content": null,
      "align_items": null,
      "align_self": null,
      "border": null,
      "bottom": null,
      "display": null,
      "flex": null,
      "flex_flow": null,
      "grid_area": null,
      "grid_auto_columns": null,
      "grid_auto_flow": null,
      "grid_auto_rows": null,
      "grid_column": null,
      "grid_gap": null,
      "grid_row": null,
      "grid_template_areas": null,
      "grid_template_columns": null,
      "grid_template_rows": null,
      "height": null,
      "justify_content": null,
      "justify_items": null,
      "left": null,
      "margin": null,
      "max_height": null,
      "max_width": null,
      "min_height": null,
      "min_width": null,
      "object_fit": null,
      "object_position": null,
      "order": null,
      "overflow": null,
      "overflow_x": null,
      "overflow_y": null,
      "padding": null,
      "right": null,
      "top": null,
      "visibility": null,
      "width": null
     }
    },
    "47ba078b6b3d4fd7b02acd815256059c": {
     "model_module": "@jupyter-widgets/base",
     "model_name": "LayoutModel",
     "state": {
      "_model_module": "@jupyter-widgets/base",
      "_model_module_version": "1.2.0",
      "_model_name": "LayoutModel",
      "_view_count": null,
      "_view_module": "@jupyter-widgets/base",
      "_view_module_version": "1.2.0",
      "_view_name": "LayoutView",
      "align_content": null,
      "align_items": null,
      "align_self": null,
      "border": null,
      "bottom": null,
      "display": null,
      "flex": null,
      "flex_flow": null,
      "grid_area": null,
      "grid_auto_columns": null,
      "grid_auto_flow": null,
      "grid_auto_rows": null,
      "grid_column": null,
      "grid_gap": null,
      "grid_row": null,
      "grid_template_areas": null,
      "grid_template_columns": null,
      "grid_template_rows": null,
      "height": null,
      "justify_content": null,
      "justify_items": null,
      "left": null,
      "margin": null,
      "max_height": null,
      "max_width": null,
      "min_height": null,
      "min_width": null,
      "object_fit": null,
      "object_position": null,
      "order": null,
      "overflow": null,
      "overflow_x": null,
      "overflow_y": null,
      "padding": null,
      "right": null,
      "top": null,
      "visibility": null,
      "width": null
     }
    },
    "481ae790b5f84d0ab1b0139e72bc3013": {
     "model_module": "@jupyter-widgets/base",
     "model_name": "LayoutModel",
     "state": {
      "_model_module": "@jupyter-widgets/base",
      "_model_module_version": "1.2.0",
      "_model_name": "LayoutModel",
      "_view_count": null,
      "_view_module": "@jupyter-widgets/base",
      "_view_module_version": "1.2.0",
      "_view_name": "LayoutView",
      "align_content": null,
      "align_items": null,
      "align_self": null,
      "border": null,
      "bottom": null,
      "display": null,
      "flex": null,
      "flex_flow": null,
      "grid_area": null,
      "grid_auto_columns": null,
      "grid_auto_flow": null,
      "grid_auto_rows": null,
      "grid_column": null,
      "grid_gap": null,
      "grid_row": null,
      "grid_template_areas": null,
      "grid_template_columns": null,
      "grid_template_rows": null,
      "height": null,
      "justify_content": null,
      "justify_items": null,
      "left": null,
      "margin": null,
      "max_height": null,
      "max_width": null,
      "min_height": null,
      "min_width": null,
      "object_fit": null,
      "object_position": null,
      "order": null,
      "overflow": null,
      "overflow_x": null,
      "overflow_y": null,
      "padding": null,
      "right": null,
      "top": null,
      "visibility": null,
      "width": null
     }
    },
    "4b329ecf949947ceb3995ce967281335": {
     "model_module": "@jupyter-widgets/base",
     "model_name": "LayoutModel",
     "state": {
      "_model_module": "@jupyter-widgets/base",
      "_model_module_version": "1.2.0",
      "_model_name": "LayoutModel",
      "_view_count": null,
      "_view_module": "@jupyter-widgets/base",
      "_view_module_version": "1.2.0",
      "_view_name": "LayoutView",
      "align_content": null,
      "align_items": null,
      "align_self": null,
      "border": null,
      "bottom": null,
      "display": null,
      "flex": null,
      "flex_flow": null,
      "grid_area": null,
      "grid_auto_columns": null,
      "grid_auto_flow": null,
      "grid_auto_rows": null,
      "grid_column": null,
      "grid_gap": null,
      "grid_row": null,
      "grid_template_areas": null,
      "grid_template_columns": null,
      "grid_template_rows": null,
      "height": null,
      "justify_content": null,
      "justify_items": null,
      "left": null,
      "margin": null,
      "max_height": null,
      "max_width": null,
      "min_height": null,
      "min_width": null,
      "object_fit": null,
      "object_position": null,
      "order": null,
      "overflow": null,
      "overflow_x": null,
      "overflow_y": null,
      "padding": null,
      "right": null,
      "top": null,
      "visibility": null,
      "width": null
     }
    },
    "4c5b9edb521744a9b80fb7674f111f0d": {
     "model_module": "@jupyter-widgets/base",
     "model_name": "LayoutModel",
     "state": {
      "_model_module": "@jupyter-widgets/base",
      "_model_module_version": "1.2.0",
      "_model_name": "LayoutModel",
      "_view_count": null,
      "_view_module": "@jupyter-widgets/base",
      "_view_module_version": "1.2.0",
      "_view_name": "LayoutView",
      "align_content": null,
      "align_items": null,
      "align_self": null,
      "border": null,
      "bottom": null,
      "display": null,
      "flex": null,
      "flex_flow": null,
      "grid_area": null,
      "grid_auto_columns": null,
      "grid_auto_flow": null,
      "grid_auto_rows": null,
      "grid_column": null,
      "grid_gap": null,
      "grid_row": null,
      "grid_template_areas": null,
      "grid_template_columns": null,
      "grid_template_rows": null,
      "height": null,
      "justify_content": null,
      "justify_items": null,
      "left": null,
      "margin": null,
      "max_height": null,
      "max_width": null,
      "min_height": null,
      "min_width": null,
      "object_fit": null,
      "object_position": null,
      "order": null,
      "overflow": null,
      "overflow_x": null,
      "overflow_y": null,
      "padding": null,
      "right": null,
      "top": null,
      "visibility": null,
      "width": null
     }
    },
    "4c66d14bb2f14e5e9bbc8b816ea48b41": {
     "model_module": "@jupyter-widgets/base",
     "model_name": "LayoutModel",
     "state": {
      "_model_module": "@jupyter-widgets/base",
      "_model_module_version": "1.2.0",
      "_model_name": "LayoutModel",
      "_view_count": null,
      "_view_module": "@jupyter-widgets/base",
      "_view_module_version": "1.2.0",
      "_view_name": "LayoutView",
      "align_content": null,
      "align_items": null,
      "align_self": null,
      "border": null,
      "bottom": null,
      "display": null,
      "flex": null,
      "flex_flow": null,
      "grid_area": null,
      "grid_auto_columns": null,
      "grid_auto_flow": null,
      "grid_auto_rows": null,
      "grid_column": null,
      "grid_gap": null,
      "grid_row": null,
      "grid_template_areas": null,
      "grid_template_columns": null,
      "grid_template_rows": null,
      "height": null,
      "justify_content": null,
      "justify_items": null,
      "left": null,
      "margin": null,
      "max_height": null,
      "max_width": null,
      "min_height": null,
      "min_width": null,
      "object_fit": null,
      "object_position": null,
      "order": null,
      "overflow": null,
      "overflow_x": null,
      "overflow_y": null,
      "padding": null,
      "right": null,
      "top": null,
      "visibility": null,
      "width": null
     }
    },
    "4f118d3ed4db4d34a0a617aa7ed3f3d4": {
     "model_module": "@jupyter-widgets/controls",
     "model_name": "DescriptionStyleModel",
     "state": {
      "_model_module": "@jupyter-widgets/controls",
      "_model_module_version": "1.5.0",
      "_model_name": "DescriptionStyleModel",
      "_view_count": null,
      "_view_module": "@jupyter-widgets/base",
      "_view_module_version": "1.2.0",
      "_view_name": "StyleView",
      "description_width": ""
     }
    },
    "4ffe15601377440c896200e08e910305": {
     "model_module": "@jupyter-widgets/base",
     "model_name": "LayoutModel",
     "state": {
      "_model_module": "@jupyter-widgets/base",
      "_model_module_version": "1.2.0",
      "_model_name": "LayoutModel",
      "_view_count": null,
      "_view_module": "@jupyter-widgets/base",
      "_view_module_version": "1.2.0",
      "_view_name": "LayoutView",
      "align_content": null,
      "align_items": null,
      "align_self": null,
      "border": null,
      "bottom": null,
      "display": null,
      "flex": null,
      "flex_flow": null,
      "grid_area": null,
      "grid_auto_columns": null,
      "grid_auto_flow": null,
      "grid_auto_rows": null,
      "grid_column": null,
      "grid_gap": null,
      "grid_row": null,
      "grid_template_areas": null,
      "grid_template_columns": null,
      "grid_template_rows": null,
      "height": null,
      "justify_content": null,
      "justify_items": null,
      "left": null,
      "margin": null,
      "max_height": null,
      "max_width": null,
      "min_height": null,
      "min_width": null,
      "object_fit": null,
      "object_position": null,
      "order": null,
      "overflow": null,
      "overflow_x": null,
      "overflow_y": null,
      "padding": null,
      "right": null,
      "top": null,
      "visibility": null,
      "width": null
     }
    },
    "50eeac3f16084503b1f5dc02da6ed044": {
     "model_module": "@jupyter-widgets/controls",
     "model_name": "ProgressStyleModel",
     "state": {
      "_model_module": "@jupyter-widgets/controls",
      "_model_module_version": "1.5.0",
      "_model_name": "ProgressStyleModel",
      "_view_count": null,
      "_view_module": "@jupyter-widgets/base",
      "_view_module_version": "1.2.0",
      "_view_name": "StyleView",
      "bar_color": null,
      "description_width": "initial"
     }
    },
    "53e3b5c26dc1442789f45a80d56e7ec6": {
     "model_module": "@jupyter-widgets/controls",
     "model_name": "FloatProgressModel",
     "state": {
      "_dom_classes": [],
      "_model_module": "@jupyter-widgets/controls",
      "_model_module_version": "1.5.0",
      "_model_name": "FloatProgressModel",
      "_view_count": null,
      "_view_module": "@jupyter-widgets/controls",
      "_view_module_version": "1.5.0",
      "_view_name": "ProgressView",
      "bar_style": "success",
      "description": "Downloading: 100%",
      "description_tooltip": null,
      "layout": "IPY_MODEL_10f959d5452d439f8f142eb11fb449b6",
      "max": 1961828,
      "min": 0,
      "orientation": "horizontal",
      "style": "IPY_MODEL_3a48a3d3e2c24d0abe60d4da113592be",
      "value": 1961828
     }
    },
    "5555b15a2123434db35928f38dc70877": {
     "model_module": "@jupyter-widgets/controls",
     "model_name": "HBoxModel",
     "state": {
      "_dom_classes": [],
      "_model_module": "@jupyter-widgets/controls",
      "_model_module_version": "1.5.0",
      "_model_name": "HBoxModel",
      "_view_count": null,
      "_view_module": "@jupyter-widgets/controls",
      "_view_module_version": "1.5.0",
      "_view_name": "HBoxView",
      "box_style": "",
      "children": [
       "IPY_MODEL_8a1ecae7d3514f8392a919e044024b83",
       "IPY_MODEL_e3d596e837ee4dbeb895a246708295f9"
      ],
      "layout": "IPY_MODEL_6964495806564d9db66ab675a10090c5"
     }
    },
    "566b81de7d194531916f69cc4b828f43": {
     "model_module": "@jupyter-widgets/base",
     "model_name": "LayoutModel",
     "state": {
      "_model_module": "@jupyter-widgets/base",
      "_model_module_version": "1.2.0",
      "_model_name": "LayoutModel",
      "_view_count": null,
      "_view_module": "@jupyter-widgets/base",
      "_view_module_version": "1.2.0",
      "_view_name": "LayoutView",
      "align_content": null,
      "align_items": null,
      "align_self": null,
      "border": null,
      "bottom": null,
      "display": null,
      "flex": null,
      "flex_flow": null,
      "grid_area": null,
      "grid_auto_columns": null,
      "grid_auto_flow": null,
      "grid_auto_rows": null,
      "grid_column": null,
      "grid_gap": null,
      "grid_row": null,
      "grid_template_areas": null,
      "grid_template_columns": null,
      "grid_template_rows": null,
      "height": null,
      "justify_content": null,
      "justify_items": null,
      "left": null,
      "margin": null,
      "max_height": null,
      "max_width": null,
      "min_height": null,
      "min_width": null,
      "object_fit": null,
      "object_position": null,
      "order": null,
      "overflow": null,
      "overflow_x": null,
      "overflow_y": null,
      "padding": null,
      "right": null,
      "top": null,
      "visibility": null,
      "width": null
     }
    },
    "56bd8dc1117042d0bd9c0c5a9ba20925": {
     "model_module": "@jupyter-widgets/base",
     "model_name": "LayoutModel",
     "state": {
      "_model_module": "@jupyter-widgets/base",
      "_model_module_version": "1.2.0",
      "_model_name": "LayoutModel",
      "_view_count": null,
      "_view_module": "@jupyter-widgets/base",
      "_view_module_version": "1.2.0",
      "_view_name": "LayoutView",
      "align_content": null,
      "align_items": null,
      "align_self": null,
      "border": null,
      "bottom": null,
      "display": null,
      "flex": null,
      "flex_flow": null,
      "grid_area": null,
      "grid_auto_columns": null,
      "grid_auto_flow": null,
      "grid_auto_rows": null,
      "grid_column": null,
      "grid_gap": null,
      "grid_row": null,
      "grid_template_areas": null,
      "grid_template_columns": null,
      "grid_template_rows": null,
      "height": null,
      "justify_content": null,
      "justify_items": null,
      "left": null,
      "margin": null,
      "max_height": null,
      "max_width": null,
      "min_height": null,
      "min_width": null,
      "object_fit": null,
      "object_position": null,
      "order": null,
      "overflow": null,
      "overflow_x": null,
      "overflow_y": null,
      "padding": null,
      "right": null,
      "top": null,
      "visibility": null,
      "width": null
     }
    },
    "56db266fba244e0b8e730e3b0e8bd0fb": {
     "model_module": "@jupyter-widgets/controls",
     "model_name": "ProgressStyleModel",
     "state": {
      "_model_module": "@jupyter-widgets/controls",
      "_model_module_version": "1.5.0",
      "_model_name": "ProgressStyleModel",
      "_view_count": null,
      "_view_module": "@jupyter-widgets/base",
      "_view_module_version": "1.2.0",
      "_view_name": "StyleView",
      "bar_color": null,
      "description_width": "initial"
     }
    },
    "59db8f726ffa409285ae77b79368b1c3": {
     "model_module": "@jupyter-widgets/base",
     "model_name": "LayoutModel",
     "state": {
      "_model_module": "@jupyter-widgets/base",
      "_model_module_version": "1.2.0",
      "_model_name": "LayoutModel",
      "_view_count": null,
      "_view_module": "@jupyter-widgets/base",
      "_view_module_version": "1.2.0",
      "_view_name": "LayoutView",
      "align_content": null,
      "align_items": null,
      "align_self": null,
      "border": null,
      "bottom": null,
      "display": null,
      "flex": null,
      "flex_flow": null,
      "grid_area": null,
      "grid_auto_columns": null,
      "grid_auto_flow": null,
      "grid_auto_rows": null,
      "grid_column": null,
      "grid_gap": null,
      "grid_row": null,
      "grid_template_areas": null,
      "grid_template_columns": null,
      "grid_template_rows": null,
      "height": null,
      "justify_content": null,
      "justify_items": null,
      "left": null,
      "margin": null,
      "max_height": null,
      "max_width": null,
      "min_height": null,
      "min_width": null,
      "object_fit": null,
      "object_position": null,
      "order": null,
      "overflow": null,
      "overflow_x": null,
      "overflow_y": null,
      "padding": null,
      "right": null,
      "top": null,
      "visibility": null,
      "width": null
     }
    },
    "5aa34ab2ad5b453c99f7a4b4bad659b8": {
     "model_module": "@jupyter-widgets/controls",
     "model_name": "DescriptionStyleModel",
     "state": {
      "_model_module": "@jupyter-widgets/controls",
      "_model_module_version": "1.5.0",
      "_model_name": "DescriptionStyleModel",
      "_view_count": null,
      "_view_module": "@jupyter-widgets/base",
      "_view_module_version": "1.2.0",
      "_view_name": "StyleView",
      "description_width": ""
     }
    },
    "5bc89bea074f4010a460d58582f0e617": {
     "model_module": "@jupyter-widgets/controls",
     "model_name": "ProgressStyleModel",
     "state": {
      "_model_module": "@jupyter-widgets/controls",
      "_model_module_version": "1.5.0",
      "_model_name": "ProgressStyleModel",
      "_view_count": null,
      "_view_module": "@jupyter-widgets/base",
      "_view_module_version": "1.2.0",
      "_view_name": "StyleView",
      "bar_color": null,
      "description_width": "initial"
     }
    },
    "5d2ab67544384f7c860d434cf3981550": {
     "model_module": "@jupyter-widgets/base",
     "model_name": "LayoutModel",
     "state": {
      "_model_module": "@jupyter-widgets/base",
      "_model_module_version": "1.2.0",
      "_model_name": "LayoutModel",
      "_view_count": null,
      "_view_module": "@jupyter-widgets/base",
      "_view_module_version": "1.2.0",
      "_view_name": "LayoutView",
      "align_content": null,
      "align_items": null,
      "align_self": null,
      "border": null,
      "bottom": null,
      "display": null,
      "flex": null,
      "flex_flow": null,
      "grid_area": null,
      "grid_auto_columns": null,
      "grid_auto_flow": null,
      "grid_auto_rows": null,
      "grid_column": null,
      "grid_gap": null,
      "grid_row": null,
      "grid_template_areas": null,
      "grid_template_columns": null,
      "grid_template_rows": null,
      "height": null,
      "justify_content": null,
      "justify_items": null,
      "left": null,
      "margin": null,
      "max_height": null,
      "max_width": null,
      "min_height": null,
      "min_width": null,
      "object_fit": null,
      "object_position": null,
      "order": null,
      "overflow": null,
      "overflow_x": null,
      "overflow_y": null,
      "padding": null,
      "right": null,
      "top": null,
      "visibility": null,
      "width": null
     }
    },
    "5d7d3891c8c9464fac422fa3432bcb86": {
     "model_module": "@jupyter-widgets/base",
     "model_name": "LayoutModel",
     "state": {
      "_model_module": "@jupyter-widgets/base",
      "_model_module_version": "1.2.0",
      "_model_name": "LayoutModel",
      "_view_count": null,
      "_view_module": "@jupyter-widgets/base",
      "_view_module_version": "1.2.0",
      "_view_name": "LayoutView",
      "align_content": null,
      "align_items": null,
      "align_self": null,
      "border": null,
      "bottom": null,
      "display": null,
      "flex": null,
      "flex_flow": null,
      "grid_area": null,
      "grid_auto_columns": null,
      "grid_auto_flow": null,
      "grid_auto_rows": null,
      "grid_column": null,
      "grid_gap": null,
      "grid_row": null,
      "grid_template_areas": null,
      "grid_template_columns": null,
      "grid_template_rows": null,
      "height": null,
      "justify_content": null,
      "justify_items": null,
      "left": null,
      "margin": null,
      "max_height": null,
      "max_width": null,
      "min_height": null,
      "min_width": null,
      "object_fit": null,
      "object_position": null,
      "order": null,
      "overflow": null,
      "overflow_x": null,
      "overflow_y": null,
      "padding": null,
      "right": null,
      "top": null,
      "visibility": null,
      "width": null
     }
    },
    "5fc17f18b9944d0bbb1f9dfba7beb28a": {
     "model_module": "@jupyter-widgets/controls",
     "model_name": "ProgressStyleModel",
     "state": {
      "_model_module": "@jupyter-widgets/controls",
      "_model_module_version": "1.5.0",
      "_model_name": "ProgressStyleModel",
      "_view_count": null,
      "_view_module": "@jupyter-widgets/base",
      "_view_module_version": "1.2.0",
      "_view_name": "StyleView",
      "bar_color": null,
      "description_width": "initial"
     }
    },
    "611507f512a043cdbd2a2c37c80202d0": {
     "model_module": "@jupyter-widgets/base",
     "model_name": "LayoutModel",
     "state": {
      "_model_module": "@jupyter-widgets/base",
      "_model_module_version": "1.2.0",
      "_model_name": "LayoutModel",
      "_view_count": null,
      "_view_module": "@jupyter-widgets/base",
      "_view_module_version": "1.2.0",
      "_view_name": "LayoutView",
      "align_content": null,
      "align_items": null,
      "align_self": null,
      "border": null,
      "bottom": null,
      "display": null,
      "flex": null,
      "flex_flow": null,
      "grid_area": null,
      "grid_auto_columns": null,
      "grid_auto_flow": null,
      "grid_auto_rows": null,
      "grid_column": null,
      "grid_gap": null,
      "grid_row": null,
      "grid_template_areas": null,
      "grid_template_columns": null,
      "grid_template_rows": null,
      "height": null,
      "justify_content": null,
      "justify_items": null,
      "left": null,
      "margin": null,
      "max_height": null,
      "max_width": null,
      "min_height": null,
      "min_width": null,
      "object_fit": null,
      "object_position": null,
      "order": null,
      "overflow": null,
      "overflow_x": null,
      "overflow_y": null,
      "padding": null,
      "right": null,
      "top": null,
      "visibility": null,
      "width": null
     }
    },
    "6257898aa1a8452e92a326fabf9539c1": {
     "model_module": "@jupyter-widgets/base",
     "model_name": "LayoutModel",
     "state": {
      "_model_module": "@jupyter-widgets/base",
      "_model_module_version": "1.2.0",
      "_model_name": "LayoutModel",
      "_view_count": null,
      "_view_module": "@jupyter-widgets/base",
      "_view_module_version": "1.2.0",
      "_view_name": "LayoutView",
      "align_content": null,
      "align_items": null,
      "align_self": null,
      "border": null,
      "bottom": null,
      "display": null,
      "flex": null,
      "flex_flow": null,
      "grid_area": null,
      "grid_auto_columns": null,
      "grid_auto_flow": null,
      "grid_auto_rows": null,
      "grid_column": null,
      "grid_gap": null,
      "grid_row": null,
      "grid_template_areas": null,
      "grid_template_columns": null,
      "grid_template_rows": null,
      "height": null,
      "justify_content": null,
      "justify_items": null,
      "left": null,
      "margin": null,
      "max_height": null,
      "max_width": null,
      "min_height": null,
      "min_width": null,
      "object_fit": null,
      "object_position": null,
      "order": null,
      "overflow": null,
      "overflow_x": null,
      "overflow_y": null,
      "padding": null,
      "right": null,
      "top": null,
      "visibility": null,
      "width": null
     }
    },
    "638ef8a7ca224854bd0e48cfb60a509d": {
     "model_module": "@jupyter-widgets/base",
     "model_name": "LayoutModel",
     "state": {
      "_model_module": "@jupyter-widgets/base",
      "_model_module_version": "1.2.0",
      "_model_name": "LayoutModel",
      "_view_count": null,
      "_view_module": "@jupyter-widgets/base",
      "_view_module_version": "1.2.0",
      "_view_name": "LayoutView",
      "align_content": null,
      "align_items": null,
      "align_self": null,
      "border": null,
      "bottom": null,
      "display": null,
      "flex": null,
      "flex_flow": null,
      "grid_area": null,
      "grid_auto_columns": null,
      "grid_auto_flow": null,
      "grid_auto_rows": null,
      "grid_column": null,
      "grid_gap": null,
      "grid_row": null,
      "grid_template_areas": null,
      "grid_template_columns": null,
      "grid_template_rows": null,
      "height": null,
      "justify_content": null,
      "justify_items": null,
      "left": null,
      "margin": null,
      "max_height": null,
      "max_width": null,
      "min_height": null,
      "min_width": null,
      "object_fit": null,
      "object_position": null,
      "order": null,
      "overflow": null,
      "overflow_x": null,
      "overflow_y": null,
      "padding": null,
      "right": null,
      "top": null,
      "visibility": null,
      "width": null
     }
    },
    "64dec425be0e488eb960b5e570e9d830": {
     "model_module": "@jupyter-widgets/controls",
     "model_name": "HBoxModel",
     "state": {
      "_dom_classes": [],
      "_model_module": "@jupyter-widgets/controls",
      "_model_module_version": "1.5.0",
      "_model_name": "HBoxModel",
      "_view_count": null,
      "_view_module": "@jupyter-widgets/controls",
      "_view_module_version": "1.5.0",
      "_view_name": "HBoxView",
      "box_style": "",
      "children": [
       "IPY_MODEL_3c8acc63ac934b3aa4a8754eab56fa6a",
       "IPY_MODEL_e3d864fdddbc4dd289aafe1a3887fbab"
      ],
      "layout": "IPY_MODEL_566b81de7d194531916f69cc4b828f43"
     }
    },
    "677bfea9f7ee461db9a3cd4c22fa8b83": {
     "model_module": "@jupyter-widgets/controls",
     "model_name": "DescriptionStyleModel",
     "state": {
      "_model_module": "@jupyter-widgets/controls",
      "_model_module_version": "1.5.0",
      "_model_name": "DescriptionStyleModel",
      "_view_count": null,
      "_view_module": "@jupyter-widgets/base",
      "_view_module_version": "1.2.0",
      "_view_name": "StyleView",
      "description_width": ""
     }
    },
    "67a66d213bac41d08e63877848c14dff": {
     "model_module": "@jupyter-widgets/controls",
     "model_name": "HTMLModel",
     "state": {
      "_dom_classes": [],
      "_model_module": "@jupyter-widgets/controls",
      "_model_module_version": "1.5.0",
      "_model_name": "HTMLModel",
      "_view_count": null,
      "_view_module": "@jupyter-widgets/controls",
      "_view_module_version": "1.5.0",
      "_view_name": "HTMLView",
      "description": "",
      "description_tooltip": null,
      "layout": "IPY_MODEL_732b4aba9e204af0b9560ebf7b58503b",
      "placeholder": "​",
      "style": "IPY_MODEL_fba1b8625e0d4690b66b58a4275dbcd1",
      "value": " 625/625 [00:00&lt;00:00, 14.9kB/s]"
     }
    },
    "69293b9cf79c47d0873f833ef3562bd6": {
     "model_module": "@jupyter-widgets/controls",
     "model_name": "HTMLModel",
     "state": {
      "_dom_classes": [],
      "_model_module": "@jupyter-widgets/controls",
      "_model_module_version": "1.5.0",
      "_model_name": "HTMLModel",
      "_view_count": null,
      "_view_module": "@jupyter-widgets/controls",
      "_view_module_version": "1.5.0",
      "_view_name": "HTMLView",
      "description": "",
      "description_tooltip": null,
      "layout": "IPY_MODEL_206759dff654428b85ca65fe6f398537",
      "placeholder": "​",
      "style": "IPY_MODEL_73ecd11f3194443ca24f4e3d915acc8a",
      "value": " 1.96M/1.96M [00:00&lt;00:00, 3.18MB/s]"
     }
    },
    "6964495806564d9db66ab675a10090c5": {
     "model_module": "@jupyter-widgets/base",
     "model_name": "LayoutModel",
     "state": {
      "_model_module": "@jupyter-widgets/base",
      "_model_module_version": "1.2.0",
      "_model_name": "LayoutModel",
      "_view_count": null,
      "_view_module": "@jupyter-widgets/base",
      "_view_module_version": "1.2.0",
      "_view_name": "LayoutView",
      "align_content": null,
      "align_items": null,
      "align_self": null,
      "border": null,
      "bottom": null,
      "display": null,
      "flex": null,
      "flex_flow": null,
      "grid_area": null,
      "grid_auto_columns": null,
      "grid_auto_flow": null,
      "grid_auto_rows": null,
      "grid_column": null,
      "grid_gap": null,
      "grid_row": null,
      "grid_template_areas": null,
      "grid_template_columns": null,
      "grid_template_rows": null,
      "height": null,
      "justify_content": null,
      "justify_items": null,
      "left": null,
      "margin": null,
      "max_height": null,
      "max_width": null,
      "min_height": null,
      "min_width": null,
      "object_fit": null,
      "object_position": null,
      "order": null,
      "overflow": null,
      "overflow_x": null,
      "overflow_y": null,
      "padding": null,
      "right": null,
      "top": null,
      "visibility": null,
      "width": null
     }
    },
    "6ebe302de49841319bc6f235f2fc1e8a": {
     "model_module": "@jupyter-widgets/base",
     "model_name": "LayoutModel",
     "state": {
      "_model_module": "@jupyter-widgets/base",
      "_model_module_version": "1.2.0",
      "_model_name": "LayoutModel",
      "_view_count": null,
      "_view_module": "@jupyter-widgets/base",
      "_view_module_version": "1.2.0",
      "_view_name": "LayoutView",
      "align_content": null,
      "align_items": null,
      "align_self": null,
      "border": null,
      "bottom": null,
      "display": null,
      "flex": null,
      "flex_flow": null,
      "grid_area": null,
      "grid_auto_columns": null,
      "grid_auto_flow": null,
      "grid_auto_rows": null,
      "grid_column": null,
      "grid_gap": null,
      "grid_row": null,
      "grid_template_areas": null,
      "grid_template_columns": null,
      "grid_template_rows": null,
      "height": null,
      "justify_content": null,
      "justify_items": null,
      "left": null,
      "margin": null,
      "max_height": null,
      "max_width": null,
      "min_height": null,
      "min_width": null,
      "object_fit": null,
      "object_position": null,
      "order": null,
      "overflow": null,
      "overflow_x": null,
      "overflow_y": null,
      "padding": null,
      "right": null,
      "top": null,
      "visibility": null,
      "width": null
     }
    },
    "6f4ddbaba9dc4be38c94393700f5f92d": {
     "model_module": "@jupyter-widgets/base",
     "model_name": "LayoutModel",
     "state": {
      "_model_module": "@jupyter-widgets/base",
      "_model_module_version": "1.2.0",
      "_model_name": "LayoutModel",
      "_view_count": null,
      "_view_module": "@jupyter-widgets/base",
      "_view_module_version": "1.2.0",
      "_view_name": "LayoutView",
      "align_content": null,
      "align_items": null,
      "align_self": null,
      "border": null,
      "bottom": null,
      "display": null,
      "flex": null,
      "flex_flow": null,
      "grid_area": null,
      "grid_auto_columns": null,
      "grid_auto_flow": null,
      "grid_auto_rows": null,
      "grid_column": null,
      "grid_gap": null,
      "grid_row": null,
      "grid_template_areas": null,
      "grid_template_columns": null,
      "grid_template_rows": null,
      "height": null,
      "justify_content": null,
      "justify_items": null,
      "left": null,
      "margin": null,
      "max_height": null,
      "max_width": null,
      "min_height": null,
      "min_width": null,
      "object_fit": null,
      "object_position": null,
      "order": null,
      "overflow": null,
      "overflow_x": null,
      "overflow_y": null,
      "padding": null,
      "right": null,
      "top": null,
      "visibility": null,
      "width": null
     }
    },
    "71c876f785ea4e40a76eca14d929177f": {
     "model_module": "@jupyter-widgets/controls",
     "model_name": "HTMLModel",
     "state": {
      "_dom_classes": [],
      "_model_module": "@jupyter-widgets/controls",
      "_model_module_version": "1.5.0",
      "_model_name": "HTMLModel",
      "_view_count": null,
      "_view_module": "@jupyter-widgets/controls",
      "_view_module_version": "1.5.0",
      "_view_name": "HTMLView",
      "description": "",
      "description_tooltip": null,
      "layout": "IPY_MODEL_8b419462b4b946baaa47bfdca428da8c",
      "placeholder": "​",
      "style": "IPY_MODEL_5aa34ab2ad5b453c99f7a4b4bad659b8",
      "value": " 1.96M/1.96M [00:00&lt;00:00, 3.64MB/s]"
     }
    },
    "732b4aba9e204af0b9560ebf7b58503b": {
     "model_module": "@jupyter-widgets/base",
     "model_name": "LayoutModel",
     "state": {
      "_model_module": "@jupyter-widgets/base",
      "_model_module_version": "1.2.0",
      "_model_name": "LayoutModel",
      "_view_count": null,
      "_view_module": "@jupyter-widgets/base",
      "_view_module_version": "1.2.0",
      "_view_name": "LayoutView",
      "align_content": null,
      "align_items": null,
      "align_self": null,
      "border": null,
      "bottom": null,
      "display": null,
      "flex": null,
      "flex_flow": null,
      "grid_area": null,
      "grid_auto_columns": null,
      "grid_auto_flow": null,
      "grid_auto_rows": null,
      "grid_column": null,
      "grid_gap": null,
      "grid_row": null,
      "grid_template_areas": null,
      "grid_template_columns": null,
      "grid_template_rows": null,
      "height": null,
      "justify_content": null,
      "justify_items": null,
      "left": null,
      "margin": null,
      "max_height": null,
      "max_width": null,
      "min_height": null,
      "min_width": null,
      "object_fit": null,
      "object_position": null,
      "order": null,
      "overflow": null,
      "overflow_x": null,
      "overflow_y": null,
      "padding": null,
      "right": null,
      "top": null,
      "visibility": null,
      "width": null
     }
    },
    "73ecd11f3194443ca24f4e3d915acc8a": {
     "model_module": "@jupyter-widgets/controls",
     "model_name": "DescriptionStyleModel",
     "state": {
      "_model_module": "@jupyter-widgets/controls",
      "_model_module_version": "1.5.0",
      "_model_name": "DescriptionStyleModel",
      "_view_count": null,
      "_view_module": "@jupyter-widgets/base",
      "_view_module_version": "1.2.0",
      "_view_name": "StyleView",
      "description_width": ""
     }
    },
    "769519316119451f815f335992eb995e": {
     "model_module": "@jupyter-widgets/controls",
     "model_name": "HBoxModel",
     "state": {
      "_dom_classes": [],
      "_model_module": "@jupyter-widgets/controls",
      "_model_module_version": "1.5.0",
      "_model_name": "HBoxModel",
      "_view_count": null,
      "_view_module": "@jupyter-widgets/controls",
      "_view_module_version": "1.5.0",
      "_view_name": "HBoxView",
      "box_style": "",
      "children": [
       "IPY_MODEL_3bcc8dd7ad314e6d925f82d6119327ff",
       "IPY_MODEL_373d3b88eba74d2b8baf0bb6fab20763"
      ],
      "layout": "IPY_MODEL_91b072f5e3ad4989a724c313b3f401ce"
     }
    },
    "7adbb28edc2749a7a86f8c558276ddf5": {
     "model_module": "@jupyter-widgets/controls",
     "model_name": "HBoxModel",
     "state": {
      "_dom_classes": [],
      "_model_module": "@jupyter-widgets/controls",
      "_model_module_version": "1.5.0",
      "_model_name": "HBoxModel",
      "_view_count": null,
      "_view_module": "@jupyter-widgets/controls",
      "_view_module_version": "1.5.0",
      "_view_name": "HBoxView",
      "box_style": "",
      "children": [
       "IPY_MODEL_a53e878ceef44860b3cbea3556d26a2f",
       "IPY_MODEL_71c876f785ea4e40a76eca14d929177f"
      ],
      "layout": "IPY_MODEL_56bd8dc1117042d0bd9c0c5a9ba20925"
     }
    },
    "7dfec3e3d4d94e68b2fc3a669c4991ef": {
     "model_module": "@jupyter-widgets/base",
     "model_name": "LayoutModel",
     "state": {
      "_model_module": "@jupyter-widgets/base",
      "_model_module_version": "1.2.0",
      "_model_name": "LayoutModel",
      "_view_count": null,
      "_view_module": "@jupyter-widgets/base",
      "_view_module_version": "1.2.0",
      "_view_name": "LayoutView",
      "align_content": null,
      "align_items": null,
      "align_self": null,
      "border": null,
      "bottom": null,
      "display": null,
      "flex": null,
      "flex_flow": null,
      "grid_area": null,
      "grid_auto_columns": null,
      "grid_auto_flow": null,
      "grid_auto_rows": null,
      "grid_column": null,
      "grid_gap": null,
      "grid_row": null,
      "grid_template_areas": null,
      "grid_template_columns": null,
      "grid_template_rows": null,
      "height": null,
      "justify_content": null,
      "justify_items": null,
      "left": null,
      "margin": null,
      "max_height": null,
      "max_width": null,
      "min_height": null,
      "min_width": null,
      "object_fit": null,
      "object_position": null,
      "order": null,
      "overflow": null,
      "overflow_x": null,
      "overflow_y": null,
      "padding": null,
      "right": null,
      "top": null,
      "visibility": null,
      "width": null
     }
    },
    "7e7b9585f26a4c838e70020e36abf04b": {
     "model_module": "@jupyter-widgets/base",
     "model_name": "LayoutModel",
     "state": {
      "_model_module": "@jupyter-widgets/base",
      "_model_module_version": "1.2.0",
      "_model_name": "LayoutModel",
      "_view_count": null,
      "_view_module": "@jupyter-widgets/base",
      "_view_module_version": "1.2.0",
      "_view_name": "LayoutView",
      "align_content": null,
      "align_items": null,
      "align_self": null,
      "border": null,
      "bottom": null,
      "display": null,
      "flex": null,
      "flex_flow": null,
      "grid_area": null,
      "grid_auto_columns": null,
      "grid_auto_flow": null,
      "grid_auto_rows": null,
      "grid_column": null,
      "grid_gap": null,
      "grid_row": null,
      "grid_template_areas": null,
      "grid_template_columns": null,
      "grid_template_rows": null,
      "height": null,
      "justify_content": null,
      "justify_items": null,
      "left": null,
      "margin": null,
      "max_height": null,
      "max_width": null,
      "min_height": null,
      "min_width": null,
      "object_fit": null,
      "object_position": null,
      "order": null,
      "overflow": null,
      "overflow_x": null,
      "overflow_y": null,
      "padding": null,
      "right": null,
      "top": null,
      "visibility": null,
      "width": null
     }
    },
    "7f2af4b00e0c48d1aa53e2683ab1c06b": {
     "model_module": "@jupyter-widgets/base",
     "model_name": "LayoutModel",
     "state": {
      "_model_module": "@jupyter-widgets/base",
      "_model_module_version": "1.2.0",
      "_model_name": "LayoutModel",
      "_view_count": null,
      "_view_module": "@jupyter-widgets/base",
      "_view_module_version": "1.2.0",
      "_view_name": "LayoutView",
      "align_content": null,
      "align_items": null,
      "align_self": null,
      "border": null,
      "bottom": null,
      "display": null,
      "flex": null,
      "flex_flow": null,
      "grid_area": null,
      "grid_auto_columns": null,
      "grid_auto_flow": null,
      "grid_auto_rows": null,
      "grid_column": null,
      "grid_gap": null,
      "grid_row": null,
      "grid_template_areas": null,
      "grid_template_columns": null,
      "grid_template_rows": null,
      "height": null,
      "justify_content": null,
      "justify_items": null,
      "left": null,
      "margin": null,
      "max_height": null,
      "max_width": null,
      "min_height": null,
      "min_width": null,
      "object_fit": null,
      "object_position": null,
      "order": null,
      "overflow": null,
      "overflow_x": null,
      "overflow_y": null,
      "padding": null,
      "right": null,
      "top": null,
      "visibility": null,
      "width": null
     }
    },
    "815e75fd22be4ae48d77a0f18eb2a96f": {
     "model_module": "@jupyter-widgets/controls",
     "model_name": "FloatProgressModel",
     "state": {
      "_dom_classes": [],
      "_model_module": "@jupyter-widgets/controls",
      "_model_module_version": "1.5.0",
      "_model_name": "FloatProgressModel",
      "_view_count": null,
      "_view_module": "@jupyter-widgets/controls",
      "_view_module_version": "1.5.0",
      "_view_name": "ProgressView",
      "bar_style": "success",
      "description": "Downloading: 100%",
      "description_tooltip": null,
      "layout": "IPY_MODEL_00a10eab07af4443a4753cd143f02a8c",
      "max": 995526,
      "min": 0,
      "orientation": "horizontal",
      "style": "IPY_MODEL_9c0d3a528d25415ca5baab8fd38d36e8",
      "value": 995526
     }
    },
    "83862f35ecde4bcc8a3765e5ecfa11c1": {
     "model_module": "@jupyter-widgets/controls",
     "model_name": "DescriptionStyleModel",
     "state": {
      "_model_module": "@jupyter-widgets/controls",
      "_model_module_version": "1.5.0",
      "_model_name": "DescriptionStyleModel",
      "_view_count": null,
      "_view_module": "@jupyter-widgets/base",
      "_view_module_version": "1.2.0",
      "_view_name": "StyleView",
      "description_width": ""
     }
    },
    "83c81735960143539b7d6f77814b282b": {
     "model_module": "@jupyter-widgets/base",
     "model_name": "LayoutModel",
     "state": {
      "_model_module": "@jupyter-widgets/base",
      "_model_module_version": "1.2.0",
      "_model_name": "LayoutModel",
      "_view_count": null,
      "_view_module": "@jupyter-widgets/base",
      "_view_module_version": "1.2.0",
      "_view_name": "LayoutView",
      "align_content": null,
      "align_items": null,
      "align_self": null,
      "border": null,
      "bottom": null,
      "display": null,
      "flex": null,
      "flex_flow": null,
      "grid_area": null,
      "grid_auto_columns": null,
      "grid_auto_flow": null,
      "grid_auto_rows": null,
      "grid_column": null,
      "grid_gap": null,
      "grid_row": null,
      "grid_template_areas": null,
      "grid_template_columns": null,
      "grid_template_rows": null,
      "height": null,
      "justify_content": null,
      "justify_items": null,
      "left": null,
      "margin": null,
      "max_height": null,
      "max_width": null,
      "min_height": null,
      "min_width": null,
      "object_fit": null,
      "object_position": null,
      "order": null,
      "overflow": null,
      "overflow_x": null,
      "overflow_y": null,
      "padding": null,
      "right": null,
      "top": null,
      "visibility": null,
      "width": null
     }
    },
    "86b0939f03794628b05ac080672a60b9": {
     "model_module": "@jupyter-widgets/controls",
     "model_name": "ProgressStyleModel",
     "state": {
      "_model_module": "@jupyter-widgets/controls",
      "_model_module_version": "1.5.0",
      "_model_name": "ProgressStyleModel",
      "_view_count": null,
      "_view_module": "@jupyter-widgets/base",
      "_view_module_version": "1.2.0",
      "_view_name": "StyleView",
      "bar_color": null,
      "description_width": "initial"
     }
    },
    "8891f5eaa00347f0b6caa379d5b9b24d": {
     "model_module": "@jupyter-widgets/controls",
     "model_name": "DescriptionStyleModel",
     "state": {
      "_model_module": "@jupyter-widgets/controls",
      "_model_module_version": "1.5.0",
      "_model_name": "DescriptionStyleModel",
      "_view_count": null,
      "_view_module": "@jupyter-widgets/base",
      "_view_module_version": "1.2.0",
      "_view_name": "StyleView",
      "description_width": ""
     }
    },
    "8a1ecae7d3514f8392a919e044024b83": {
     "model_module": "@jupyter-widgets/controls",
     "model_name": "FloatProgressModel",
     "state": {
      "_dom_classes": [],
      "_model_module": "@jupyter-widgets/controls",
      "_model_module_version": "1.5.0",
      "_model_name": "FloatProgressModel",
      "_view_count": null,
      "_view_module": "@jupyter-widgets/controls",
      "_view_module_version": "1.5.0",
      "_view_name": "ProgressView",
      "bar_style": "success",
      "description": "Downloading: 100%",
      "description_tooltip": null,
      "layout": "IPY_MODEL_4ffe15601377440c896200e08e910305",
      "max": 1083389348,
      "min": 0,
      "orientation": "horizontal",
      "style": "IPY_MODEL_46ff86607422492798351a63d09137d7",
      "value": 1083389348
     }
    },
    "8b419462b4b946baaa47bfdca428da8c": {
     "model_module": "@jupyter-widgets/base",
     "model_name": "LayoutModel",
     "state": {
      "_model_module": "@jupyter-widgets/base",
      "_model_module_version": "1.2.0",
      "_model_name": "LayoutModel",
      "_view_count": null,
      "_view_module": "@jupyter-widgets/base",
      "_view_module_version": "1.2.0",
      "_view_name": "LayoutView",
      "align_content": null,
      "align_items": null,
      "align_self": null,
      "border": null,
      "bottom": null,
      "display": null,
      "flex": null,
      "flex_flow": null,
      "grid_area": null,
      "grid_auto_columns": null,
      "grid_auto_flow": null,
      "grid_auto_rows": null,
      "grid_column": null,
      "grid_gap": null,
      "grid_row": null,
      "grid_template_areas": null,
      "grid_template_columns": null,
      "grid_template_rows": null,
      "height": null,
      "justify_content": null,
      "justify_items": null,
      "left": null,
      "margin": null,
      "max_height": null,
      "max_width": null,
      "min_height": null,
      "min_width": null,
      "object_fit": null,
      "object_position": null,
      "order": null,
      "overflow": null,
      "overflow_x": null,
      "overflow_y": null,
      "padding": null,
      "right": null,
      "top": null,
      "visibility": null,
      "width": null
     }
    },
    "90831baa4ae140e19a1fa686777a1fa3": {
     "model_module": "@jupyter-widgets/base",
     "model_name": "LayoutModel",
     "state": {
      "_model_module": "@jupyter-widgets/base",
      "_model_module_version": "1.2.0",
      "_model_name": "LayoutModel",
      "_view_count": null,
      "_view_module": "@jupyter-widgets/base",
      "_view_module_version": "1.2.0",
      "_view_name": "LayoutView",
      "align_content": null,
      "align_items": null,
      "align_self": null,
      "border": null,
      "bottom": null,
      "display": null,
      "flex": null,
      "flex_flow": null,
      "grid_area": null,
      "grid_auto_columns": null,
      "grid_auto_flow": null,
      "grid_auto_rows": null,
      "grid_column": null,
      "grid_gap": null,
      "grid_row": null,
      "grid_template_areas": null,
      "grid_template_columns": null,
      "grid_template_rows": null,
      "height": null,
      "justify_content": null,
      "justify_items": null,
      "left": null,
      "margin": null,
      "max_height": null,
      "max_width": null,
      "min_height": null,
      "min_width": null,
      "object_fit": null,
      "object_position": null,
      "order": null,
      "overflow": null,
      "overflow_x": null,
      "overflow_y": null,
      "padding": null,
      "right": null,
      "top": null,
      "visibility": null,
      "width": null
     }
    },
    "91b072f5e3ad4989a724c313b3f401ce": {
     "model_module": "@jupyter-widgets/base",
     "model_name": "LayoutModel",
     "state": {
      "_model_module": "@jupyter-widgets/base",
      "_model_module_version": "1.2.0",
      "_model_name": "LayoutModel",
      "_view_count": null,
      "_view_module": "@jupyter-widgets/base",
      "_view_module_version": "1.2.0",
      "_view_name": "LayoutView",
      "align_content": null,
      "align_items": null,
      "align_self": null,
      "border": null,
      "bottom": null,
      "display": null,
      "flex": null,
      "flex_flow": null,
      "grid_area": null,
      "grid_auto_columns": null,
      "grid_auto_flow": null,
      "grid_auto_rows": null,
      "grid_column": null,
      "grid_gap": null,
      "grid_row": null,
      "grid_template_areas": null,
      "grid_template_columns": null,
      "grid_template_rows": null,
      "height": null,
      "justify_content": null,
      "justify_items": null,
      "left": null,
      "margin": null,
      "max_height": null,
      "max_width": null,
      "min_height": null,
      "min_width": null,
      "object_fit": null,
      "object_position": null,
      "order": null,
      "overflow": null,
      "overflow_x": null,
      "overflow_y": null,
      "padding": null,
      "right": null,
      "top": null,
      "visibility": null,
      "width": null
     }
    },
    "92ff32bdb8354bacbf115c36381d63f5": {
     "model_module": "@jupyter-widgets/base",
     "model_name": "LayoutModel",
     "state": {
      "_model_module": "@jupyter-widgets/base",
      "_model_module_version": "1.2.0",
      "_model_name": "LayoutModel",
      "_view_count": null,
      "_view_module": "@jupyter-widgets/base",
      "_view_module_version": "1.2.0",
      "_view_name": "LayoutView",
      "align_content": null,
      "align_items": null,
      "align_self": null,
      "border": null,
      "bottom": null,
      "display": null,
      "flex": null,
      "flex_flow": null,
      "grid_area": null,
      "grid_auto_columns": null,
      "grid_auto_flow": null,
      "grid_auto_rows": null,
      "grid_column": null,
      "grid_gap": null,
      "grid_row": null,
      "grid_template_areas": null,
      "grid_template_columns": null,
      "grid_template_rows": null,
      "height": null,
      "justify_content": null,
      "justify_items": null,
      "left": null,
      "margin": null,
      "max_height": null,
      "max_width": null,
      "min_height": null,
      "min_width": null,
      "object_fit": null,
      "object_position": null,
      "order": null,
      "overflow": null,
      "overflow_x": null,
      "overflow_y": null,
      "padding": null,
      "right": null,
      "top": null,
      "visibility": null,
      "width": null
     }
    },
    "9400741d547444ad897527ce2fc58d45": {
     "model_module": "@jupyter-widgets/base",
     "model_name": "LayoutModel",
     "state": {
      "_model_module": "@jupyter-widgets/base",
      "_model_module_version": "1.2.0",
      "_model_name": "LayoutModel",
      "_view_count": null,
      "_view_module": "@jupyter-widgets/base",
      "_view_module_version": "1.2.0",
      "_view_name": "LayoutView",
      "align_content": null,
      "align_items": null,
      "align_self": null,
      "border": null,
      "bottom": null,
      "display": null,
      "flex": null,
      "flex_flow": null,
      "grid_area": null,
      "grid_auto_columns": null,
      "grid_auto_flow": null,
      "grid_auto_rows": null,
      "grid_column": null,
      "grid_gap": null,
      "grid_row": null,
      "grid_template_areas": null,
      "grid_template_columns": null,
      "grid_template_rows": null,
      "height": null,
      "justify_content": null,
      "justify_items": null,
      "left": null,
      "margin": null,
      "max_height": null,
      "max_width": null,
      "min_height": null,
      "min_width": null,
      "object_fit": null,
      "object_position": null,
      "order": null,
      "overflow": null,
      "overflow_x": null,
      "overflow_y": null,
      "padding": null,
      "right": null,
      "top": null,
      "visibility": null,
      "width": null
     }
    },
    "974c10895e104312a3724a01b43cbf3c": {
     "model_module": "@jupyter-widgets/controls",
     "model_name": "HBoxModel",
     "state": {
      "_dom_classes": [],
      "_model_module": "@jupyter-widgets/controls",
      "_model_module_version": "1.5.0",
      "_model_name": "HBoxModel",
      "_view_count": null,
      "_view_module": "@jupyter-widgets/controls",
      "_view_module_version": "1.5.0",
      "_view_name": "HBoxView",
      "box_style": "",
      "children": [
       "IPY_MODEL_a82c1b5a424345fb86d2c1728e44abf7",
       "IPY_MODEL_f4734d41af4a479a9a253f22f995259e"
      ],
      "layout": "IPY_MODEL_c35e9a8429f745459f28c8643d749951"
     }
    },
    "97ebed5eac384efdb21b190d33393363": {
     "model_module": "@jupyter-widgets/base",
     "model_name": "LayoutModel",
     "state": {
      "_model_module": "@jupyter-widgets/base",
      "_model_module_version": "1.2.0",
      "_model_name": "LayoutModel",
      "_view_count": null,
      "_view_module": "@jupyter-widgets/base",
      "_view_module_version": "1.2.0",
      "_view_name": "LayoutView",
      "align_content": null,
      "align_items": null,
      "align_self": null,
      "border": null,
      "bottom": null,
      "display": null,
      "flex": null,
      "flex_flow": null,
      "grid_area": null,
      "grid_auto_columns": null,
      "grid_auto_flow": null,
      "grid_auto_rows": null,
      "grid_column": null,
      "grid_gap": null,
      "grid_row": null,
      "grid_template_areas": null,
      "grid_template_columns": null,
      "grid_template_rows": null,
      "height": null,
      "justify_content": null,
      "justify_items": null,
      "left": null,
      "margin": null,
      "max_height": null,
      "max_width": null,
      "min_height": null,
      "min_width": null,
      "object_fit": null,
      "object_position": null,
      "order": null,
      "overflow": null,
      "overflow_x": null,
      "overflow_y": null,
      "padding": null,
      "right": null,
      "top": null,
      "visibility": null,
      "width": null
     }
    },
    "98c0fbb204304d3f924f552ee9fcb930": {
     "model_module": "@jupyter-widgets/controls",
     "model_name": "HBoxModel",
     "state": {
      "_dom_classes": [],
      "_model_module": "@jupyter-widgets/controls",
      "_model_module_version": "1.5.0",
      "_model_name": "HBoxModel",
      "_view_count": null,
      "_view_module": "@jupyter-widgets/controls",
      "_view_module_version": "1.5.0",
      "_view_name": "HBoxView",
      "box_style": "",
      "children": [
       "IPY_MODEL_dac51b2826474779b2fb706857e56f81",
       "IPY_MODEL_bbd22fbcf57c4418b5744a12795315cb"
      ],
      "layout": "IPY_MODEL_c7a14479fee243f79c77a74cbca7f72f"
     }
    },
    "990f229e95394d5a80ee284d760349b9": {
     "model_module": "@jupyter-widgets/controls",
     "model_name": "HTMLModel",
     "state": {
      "_dom_classes": [],
      "_model_module": "@jupyter-widgets/controls",
      "_model_module_version": "1.5.0",
      "_model_name": "HTMLModel",
      "_view_count": null,
      "_view_module": "@jupyter-widgets/controls",
      "_view_module_version": "1.5.0",
      "_view_name": "HTMLView",
      "description": "",
      "description_tooltip": null,
      "layout": "IPY_MODEL_611507f512a043cdbd2a2c37c80202d0",
      "placeholder": "​",
      "style": "IPY_MODEL_677bfea9f7ee461db9a3cd4c22fa8b83",
      "value": " 625/625 [00:00&lt;00:00, 8.43kB/s]"
     }
    },
    "99965d5852624089bca9089e0e50dc02": {
     "model_module": "@jupyter-widgets/base",
     "model_name": "LayoutModel",
     "state": {
      "_model_module": "@jupyter-widgets/base",
      "_model_module_version": "1.2.0",
      "_model_name": "LayoutModel",
      "_view_count": null,
      "_view_module": "@jupyter-widgets/base",
      "_view_module_version": "1.2.0",
      "_view_name": "LayoutView",
      "align_content": null,
      "align_items": null,
      "align_self": null,
      "border": null,
      "bottom": null,
      "display": null,
      "flex": null,
      "flex_flow": null,
      "grid_area": null,
      "grid_auto_columns": null,
      "grid_auto_flow": null,
      "grid_auto_rows": null,
      "grid_column": null,
      "grid_gap": null,
      "grid_row": null,
      "grid_template_areas": null,
      "grid_template_columns": null,
      "grid_template_rows": null,
      "height": null,
      "justify_content": null,
      "justify_items": null,
      "left": null,
      "margin": null,
      "max_height": null,
      "max_width": null,
      "min_height": null,
      "min_width": null,
      "object_fit": null,
      "object_position": null,
      "order": null,
      "overflow": null,
      "overflow_x": null,
      "overflow_y": null,
      "padding": null,
      "right": null,
      "top": null,
      "visibility": null,
      "width": null
     }
    },
    "9c0d3a528d25415ca5baab8fd38d36e8": {
     "model_module": "@jupyter-widgets/controls",
     "model_name": "ProgressStyleModel",
     "state": {
      "_model_module": "@jupyter-widgets/controls",
      "_model_module_version": "1.5.0",
      "_model_name": "ProgressStyleModel",
      "_view_count": null,
      "_view_module": "@jupyter-widgets/base",
      "_view_module_version": "1.2.0",
      "_view_name": "StyleView",
      "bar_color": null,
      "description_width": "initial"
     }
    },
    "9d602bd1c04043e2a556830b80d0f2ec": {
     "model_module": "@jupyter-widgets/base",
     "model_name": "LayoutModel",
     "state": {
      "_model_module": "@jupyter-widgets/base",
      "_model_module_version": "1.2.0",
      "_model_name": "LayoutModel",
      "_view_count": null,
      "_view_module": "@jupyter-widgets/base",
      "_view_module_version": "1.2.0",
      "_view_name": "LayoutView",
      "align_content": null,
      "align_items": null,
      "align_self": null,
      "border": null,
      "bottom": null,
      "display": null,
      "flex": null,
      "flex_flow": null,
      "grid_area": null,
      "grid_auto_columns": null,
      "grid_auto_flow": null,
      "grid_auto_rows": null,
      "grid_column": null,
      "grid_gap": null,
      "grid_row": null,
      "grid_template_areas": null,
      "grid_template_columns": null,
      "grid_template_rows": null,
      "height": null,
      "justify_content": null,
      "justify_items": null,
      "left": null,
      "margin": null,
      "max_height": null,
      "max_width": null,
      "min_height": null,
      "min_width": null,
      "object_fit": null,
      "object_position": null,
      "order": null,
      "overflow": null,
      "overflow_x": null,
      "overflow_y": null,
      "padding": null,
      "right": null,
      "top": null,
      "visibility": null,
      "width": null
     }
    },
    "9e901f14fd4241ab94a41ddab2438683": {
     "model_module": "@jupyter-widgets/base",
     "model_name": "LayoutModel",
     "state": {
      "_model_module": "@jupyter-widgets/base",
      "_model_module_version": "1.2.0",
      "_model_name": "LayoutModel",
      "_view_count": null,
      "_view_module": "@jupyter-widgets/base",
      "_view_module_version": "1.2.0",
      "_view_name": "LayoutView",
      "align_content": null,
      "align_items": null,
      "align_self": null,
      "border": null,
      "bottom": null,
      "display": null,
      "flex": null,
      "flex_flow": null,
      "grid_area": null,
      "grid_auto_columns": null,
      "grid_auto_flow": null,
      "grid_auto_rows": null,
      "grid_column": null,
      "grid_gap": null,
      "grid_row": null,
      "grid_template_areas": null,
      "grid_template_columns": null,
      "grid_template_rows": null,
      "height": null,
      "justify_content": null,
      "justify_items": null,
      "left": null,
      "margin": null,
      "max_height": null,
      "max_width": null,
      "min_height": null,
      "min_width": null,
      "object_fit": null,
      "object_position": null,
      "order": null,
      "overflow": null,
      "overflow_x": null,
      "overflow_y": null,
      "padding": null,
      "right": null,
      "top": null,
      "visibility": null,
      "width": null
     }
    },
    "a53e878ceef44860b3cbea3556d26a2f": {
     "model_module": "@jupyter-widgets/controls",
     "model_name": "FloatProgressModel",
     "state": {
      "_dom_classes": [],
      "_model_module": "@jupyter-widgets/controls",
      "_model_module_version": "1.5.0",
      "_model_name": "FloatProgressModel",
      "_view_count": null,
      "_view_module": "@jupyter-widgets/controls",
      "_view_module_version": "1.5.0",
      "_view_name": "ProgressView",
      "bar_style": "success",
      "description": "Downloading: 100%",
      "description_tooltip": null,
      "layout": "IPY_MODEL_9400741d547444ad897527ce2fc58d45",
      "max": 1961828,
      "min": 0,
      "orientation": "horizontal",
      "style": "IPY_MODEL_0c90cebcde4e41cdb183dd1850b88891",
      "value": 1961828
     }
    },
    "a6bc6a17c9654796b73dce618fabeb6b": {
     "model_module": "@jupyter-widgets/base",
     "model_name": "LayoutModel",
     "state": {
      "_model_module": "@jupyter-widgets/base",
      "_model_module_version": "1.2.0",
      "_model_name": "LayoutModel",
      "_view_count": null,
      "_view_module": "@jupyter-widgets/base",
      "_view_module_version": "1.2.0",
      "_view_name": "LayoutView",
      "align_content": null,
      "align_items": null,
      "align_self": null,
      "border": null,
      "bottom": null,
      "display": null,
      "flex": null,
      "flex_flow": null,
      "grid_area": null,
      "grid_auto_columns": null,
      "grid_auto_flow": null,
      "grid_auto_rows": null,
      "grid_column": null,
      "grid_gap": null,
      "grid_row": null,
      "grid_template_areas": null,
      "grid_template_columns": null,
      "grid_template_rows": null,
      "height": null,
      "justify_content": null,
      "justify_items": null,
      "left": null,
      "margin": null,
      "max_height": null,
      "max_width": null,
      "min_height": null,
      "min_width": null,
      "object_fit": null,
      "object_position": null,
      "order": null,
      "overflow": null,
      "overflow_x": null,
      "overflow_y": null,
      "padding": null,
      "right": null,
      "top": null,
      "visibility": null,
      "width": null
     }
    },
    "a745fc76d15340ee946887008d6ae9ff": {
     "model_module": "@jupyter-widgets/controls",
     "model_name": "ProgressStyleModel",
     "state": {
      "_model_module": "@jupyter-widgets/controls",
      "_model_module_version": "1.5.0",
      "_model_name": "ProgressStyleModel",
      "_view_count": null,
      "_view_module": "@jupyter-widgets/base",
      "_view_module_version": "1.2.0",
      "_view_name": "StyleView",
      "bar_color": null,
      "description_width": "initial"
     }
    },
    "a82c1b5a424345fb86d2c1728e44abf7": {
     "model_module": "@jupyter-widgets/controls",
     "model_name": "FloatProgressModel",
     "state": {
      "_dom_classes": [],
      "_model_module": "@jupyter-widgets/controls",
      "_model_module_version": "1.5.0",
      "_model_name": "FloatProgressModel",
      "_view_count": null,
      "_view_module": "@jupyter-widgets/controls",
      "_view_module_version": "1.5.0",
      "_view_name": "ProgressView",
      "bar_style": "success",
      "description": "Downloading: 100%",
      "description_tooltip": null,
      "layout": "IPY_MODEL_97ebed5eac384efdb21b190d33393363",
      "max": 625,
      "min": 0,
      "orientation": "horizontal",
      "style": "IPY_MODEL_eb14d6e4c9944b3c9e6c1c95a7512b22",
      "value": 625
     }
    },
    "a9400c4a81b344f0a0a02bf317c1735a": {
     "model_module": "@jupyter-widgets/base",
     "model_name": "LayoutModel",
     "state": {
      "_model_module": "@jupyter-widgets/base",
      "_model_module_version": "1.2.0",
      "_model_name": "LayoutModel",
      "_view_count": null,
      "_view_module": "@jupyter-widgets/base",
      "_view_module_version": "1.2.0",
      "_view_name": "LayoutView",
      "align_content": null,
      "align_items": null,
      "align_self": null,
      "border": null,
      "bottom": null,
      "display": null,
      "flex": null,
      "flex_flow": null,
      "grid_area": null,
      "grid_auto_columns": null,
      "grid_auto_flow": null,
      "grid_auto_rows": null,
      "grid_column": null,
      "grid_gap": null,
      "grid_row": null,
      "grid_template_areas": null,
      "grid_template_columns": null,
      "grid_template_rows": null,
      "height": null,
      "justify_content": null,
      "justify_items": null,
      "left": null,
      "margin": null,
      "max_height": null,
      "max_width": null,
      "min_height": null,
      "min_width": null,
      "object_fit": null,
      "object_position": null,
      "order": null,
      "overflow": null,
      "overflow_x": null,
      "overflow_y": null,
      "padding": null,
      "right": null,
      "top": null,
      "visibility": null,
      "width": null
     }
    },
    "aafd37308b044e5fa00c0b68757f9474": {
     "model_module": "@jupyter-widgets/base",
     "model_name": "LayoutModel",
     "state": {
      "_model_module": "@jupyter-widgets/base",
      "_model_module_version": "1.2.0",
      "_model_name": "LayoutModel",
      "_view_count": null,
      "_view_module": "@jupyter-widgets/base",
      "_view_module_version": "1.2.0",
      "_view_name": "LayoutView",
      "align_content": null,
      "align_items": null,
      "align_self": null,
      "border": null,
      "bottom": null,
      "display": null,
      "flex": null,
      "flex_flow": null,
      "grid_area": null,
      "grid_auto_columns": null,
      "grid_auto_flow": null,
      "grid_auto_rows": null,
      "grid_column": null,
      "grid_gap": null,
      "grid_row": null,
      "grid_template_areas": null,
      "grid_template_columns": null,
      "grid_template_rows": null,
      "height": null,
      "justify_content": null,
      "justify_items": null,
      "left": null,
      "margin": null,
      "max_height": null,
      "max_width": null,
      "min_height": null,
      "min_width": null,
      "object_fit": null,
      "object_position": null,
      "order": null,
      "overflow": null,
      "overflow_x": null,
      "overflow_y": null,
      "padding": null,
      "right": null,
      "top": null,
      "visibility": null,
      "width": null
     }
    },
    "b0aab7b55ca04b3fac75ef2699a3323a": {
     "model_module": "@jupyter-widgets/controls",
     "model_name": "ProgressStyleModel",
     "state": {
      "_model_module": "@jupyter-widgets/controls",
      "_model_module_version": "1.5.0",
      "_model_name": "ProgressStyleModel",
      "_view_count": null,
      "_view_module": "@jupyter-widgets/base",
      "_view_module_version": "1.2.0",
      "_view_name": "StyleView",
      "bar_color": null,
      "description_width": "initial"
     }
    },
    "b0f52fe9b17c4db89c2396bbffbee0a8": {
     "model_module": "@jupyter-widgets/controls",
     "model_name": "FloatProgressModel",
     "state": {
      "_dom_classes": [],
      "_model_module": "@jupyter-widgets/controls",
      "_model_module_version": "1.5.0",
      "_model_name": "FloatProgressModel",
      "_view_count": null,
      "_view_module": "@jupyter-widgets/controls",
      "_view_module_version": "1.5.0",
      "_view_name": "ProgressView",
      "bar_style": "success",
      "description": "Downloading: 100%",
      "description_tooltip": null,
      "layout": "IPY_MODEL_aafd37308b044e5fa00c0b68757f9474",
      "max": 625,
      "min": 0,
      "orientation": "horizontal",
      "style": "IPY_MODEL_c7e674f51b1d432c8d78675ec54abcc3",
      "value": 625
     }
    },
    "b364bb98f57343c395f3697bb65260f9": {
     "model_module": "@jupyter-widgets/controls",
     "model_name": "HBoxModel",
     "state": {
      "_dom_classes": [],
      "_model_module": "@jupyter-widgets/controls",
      "_model_module_version": "1.5.0",
      "_model_name": "HBoxModel",
      "_view_count": null,
      "_view_module": "@jupyter-widgets/controls",
      "_view_module_version": "1.5.0",
      "_view_name": "HBoxView",
      "box_style": "",
      "children": [
       "IPY_MODEL_d763548ad4a248d187614652a2c7c076",
       "IPY_MODEL_37a4d3d0d28343d7adfabf1ab70bb6af"
      ],
      "layout": "IPY_MODEL_3566f4324ea34c30a18a084f49e9e449"
     }
    },
    "b52765301099496d8f4c491307acc787": {
     "model_module": "@jupyter-widgets/controls",
     "model_name": "HBoxModel",
     "state": {
      "_dom_classes": [],
      "_model_module": "@jupyter-widgets/controls",
      "_model_module_version": "1.5.0",
      "_model_name": "HBoxModel",
      "_view_count": null,
      "_view_module": "@jupyter-widgets/controls",
      "_view_module_version": "1.5.0",
      "_view_name": "HBoxView",
      "box_style": "",
      "children": [
       "IPY_MODEL_15c2a2dfcc7d42788711a5b6e0323da5",
       "IPY_MODEL_f79f52c7bf1044fdb270283a5b791a2c"
      ],
      "layout": "IPY_MODEL_6257898aa1a8452e92a326fabf9539c1"
     }
    },
    "b805efaef609476eb56d10cce24ba309": {
     "model_module": "@jupyter-widgets/controls",
     "model_name": "HBoxModel",
     "state": {
      "_dom_classes": [],
      "_model_module": "@jupyter-widgets/controls",
      "_model_module_version": "1.5.0",
      "_model_name": "HBoxModel",
      "_view_count": null,
      "_view_module": "@jupyter-widgets/controls",
      "_view_module_version": "1.5.0",
      "_view_name": "HBoxView",
      "box_style": "",
      "children": [
       "IPY_MODEL_815e75fd22be4ae48d77a0f18eb2a96f",
       "IPY_MODEL_473c13487ad7493687eea19e161b392f"
      ],
      "layout": "IPY_MODEL_221de448e59d4c85812913197fee0fd3"
     }
    },
    "b9fe457b02c0404698e27f2a658823d5": {
     "model_module": "@jupyter-widgets/base",
     "model_name": "LayoutModel",
     "state": {
      "_model_module": "@jupyter-widgets/base",
      "_model_module_version": "1.2.0",
      "_model_name": "LayoutModel",
      "_view_count": null,
      "_view_module": "@jupyter-widgets/base",
      "_view_module_version": "1.2.0",
      "_view_name": "LayoutView",
      "align_content": null,
      "align_items": null,
      "align_self": null,
      "border": null,
      "bottom": null,
      "display": null,
      "flex": null,
      "flex_flow": null,
      "grid_area": null,
      "grid_auto_columns": null,
      "grid_auto_flow": null,
      "grid_auto_rows": null,
      "grid_column": null,
      "grid_gap": null,
      "grid_row": null,
      "grid_template_areas": null,
      "grid_template_columns": null,
      "grid_template_rows": null,
      "height": null,
      "justify_content": null,
      "justify_items": null,
      "left": null,
      "margin": null,
      "max_height": null,
      "max_width": null,
      "min_height": null,
      "min_width": null,
      "object_fit": null,
      "object_position": null,
      "order": null,
      "overflow": null,
      "overflow_x": null,
      "overflow_y": null,
      "padding": null,
      "right": null,
      "top": null,
      "visibility": null,
      "width": null
     }
    },
    "ba3a856d51bf4681b0f46b39b97aceb6": {
     "model_module": "@jupyter-widgets/controls",
     "model_name": "ProgressStyleModel",
     "state": {
      "_model_module": "@jupyter-widgets/controls",
      "_model_module_version": "1.5.0",
      "_model_name": "ProgressStyleModel",
      "_view_count": null,
      "_view_module": "@jupyter-widgets/base",
      "_view_module_version": "1.2.0",
      "_view_name": "StyleView",
      "bar_color": null,
      "description_width": "initial"
     }
    },
    "bbd22fbcf57c4418b5744a12795315cb": {
     "model_module": "@jupyter-widgets/controls",
     "model_name": "HTMLModel",
     "state": {
      "_dom_classes": [],
      "_model_module": "@jupyter-widgets/controls",
      "_model_module_version": "1.5.0",
      "_model_name": "HTMLModel",
      "_view_count": null,
      "_view_module": "@jupyter-widgets/controls",
      "_view_module_version": "1.5.0",
      "_view_name": "HTMLView",
      "description": "",
      "description_tooltip": null,
      "layout": "IPY_MODEL_4c5b9edb521744a9b80fb7674f111f0d",
      "placeholder": "​",
      "style": "IPY_MODEL_f6ef1bb83ef44c96b94fdbb59c602dcf",
      "value": " 1.08G/1.08G [00:38&lt;00:00, 28.2MB/s]"
     }
    },
    "bcc1ab5049ce4bc2af26d30831fe0b6b": {
     "model_module": "@jupyter-widgets/controls",
     "model_name": "FloatProgressModel",
     "state": {
      "_dom_classes": [],
      "_model_module": "@jupyter-widgets/controls",
      "_model_module_version": "1.5.0",
      "_model_name": "FloatProgressModel",
      "_view_count": null,
      "_view_module": "@jupyter-widgets/controls",
      "_view_module_version": "1.5.0",
      "_view_name": "ProgressView",
      "bar_style": "success",
      "description": "Downloading: 100%",
      "description_tooltip": null,
      "layout": "IPY_MODEL_f9fa6576029f4e5fb6bf5ffa74f43d74",
      "max": 625,
      "min": 0,
      "orientation": "horizontal",
      "style": "IPY_MODEL_5bc89bea074f4010a460d58582f0e617",
      "value": 625
     }
    },
    "be54afeec956480ea52891867929fce0": {
     "model_module": "@jupyter-widgets/base",
     "model_name": "LayoutModel",
     "state": {
      "_model_module": "@jupyter-widgets/base",
      "_model_module_version": "1.2.0",
      "_model_name": "LayoutModel",
      "_view_count": null,
      "_view_module": "@jupyter-widgets/base",
      "_view_module_version": "1.2.0",
      "_view_name": "LayoutView",
      "align_content": null,
      "align_items": null,
      "align_self": null,
      "border": null,
      "bottom": null,
      "display": null,
      "flex": null,
      "flex_flow": null,
      "grid_area": null,
      "grid_auto_columns": null,
      "grid_auto_flow": null,
      "grid_auto_rows": null,
      "grid_column": null,
      "grid_gap": null,
      "grid_row": null,
      "grid_template_areas": null,
      "grid_template_columns": null,
      "grid_template_rows": null,
      "height": null,
      "justify_content": null,
      "justify_items": null,
      "left": null,
      "margin": null,
      "max_height": null,
      "max_width": null,
      "min_height": null,
      "min_width": null,
      "object_fit": null,
      "object_position": null,
      "order": null,
      "overflow": null,
      "overflow_x": null,
      "overflow_y": null,
      "padding": null,
      "right": null,
      "top": null,
      "visibility": null,
      "width": null
     }
    },
    "bf2b827b6fb748ddb5b620954653c37d": {
     "model_module": "@jupyter-widgets/controls",
     "model_name": "DescriptionStyleModel",
     "state": {
      "_model_module": "@jupyter-widgets/controls",
      "_model_module_version": "1.5.0",
      "_model_name": "DescriptionStyleModel",
      "_view_count": null,
      "_view_module": "@jupyter-widgets/base",
      "_view_module_version": "1.2.0",
      "_view_name": "StyleView",
      "description_width": ""
     }
    },
    "bf4306c519a7450ea6f371c380edde89": {
     "model_module": "@jupyter-widgets/base",
     "model_name": "LayoutModel",
     "state": {
      "_model_module": "@jupyter-widgets/base",
      "_model_module_version": "1.2.0",
      "_model_name": "LayoutModel",
      "_view_count": null,
      "_view_module": "@jupyter-widgets/base",
      "_view_module_version": "1.2.0",
      "_view_name": "LayoutView",
      "align_content": null,
      "align_items": null,
      "align_self": null,
      "border": null,
      "bottom": null,
      "display": null,
      "flex": null,
      "flex_flow": null,
      "grid_area": null,
      "grid_auto_columns": null,
      "grid_auto_flow": null,
      "grid_auto_rows": null,
      "grid_column": null,
      "grid_gap": null,
      "grid_row": null,
      "grid_template_areas": null,
      "grid_template_columns": null,
      "grid_template_rows": null,
      "height": null,
      "justify_content": null,
      "justify_items": null,
      "left": null,
      "margin": null,
      "max_height": null,
      "max_width": null,
      "min_height": null,
      "min_width": null,
      "object_fit": null,
      "object_position": null,
      "order": null,
      "overflow": null,
      "overflow_x": null,
      "overflow_y": null,
      "padding": null,
      "right": null,
      "top": null,
      "visibility": null,
      "width": null
     }
    },
    "bf8ede15208b45d9aaed45f4b72ea757": {
     "model_module": "@jupyter-widgets/base",
     "model_name": "LayoutModel",
     "state": {
      "_model_module": "@jupyter-widgets/base",
      "_model_module_version": "1.2.0",
      "_model_name": "LayoutModel",
      "_view_count": null,
      "_view_module": "@jupyter-widgets/base",
      "_view_module_version": "1.2.0",
      "_view_name": "LayoutView",
      "align_content": null,
      "align_items": null,
      "align_self": null,
      "border": null,
      "bottom": null,
      "display": null,
      "flex": null,
      "flex_flow": null,
      "grid_area": null,
      "grid_auto_columns": null,
      "grid_auto_flow": null,
      "grid_auto_rows": null,
      "grid_column": null,
      "grid_gap": null,
      "grid_row": null,
      "grid_template_areas": null,
      "grid_template_columns": null,
      "grid_template_rows": null,
      "height": null,
      "justify_content": null,
      "justify_items": null,
      "left": null,
      "margin": null,
      "max_height": null,
      "max_width": null,
      "min_height": null,
      "min_width": null,
      "object_fit": null,
      "object_position": null,
      "order": null,
      "overflow": null,
      "overflow_x": null,
      "overflow_y": null,
      "padding": null,
      "right": null,
      "top": null,
      "visibility": null,
      "width": null
     }
    },
    "c1bb21021f034d948c54c2bc692f0fbd": {
     "model_module": "@jupyter-widgets/controls",
     "model_name": "HBoxModel",
     "state": {
      "_dom_classes": [],
      "_model_module": "@jupyter-widgets/controls",
      "_model_module_version": "1.5.0",
      "_model_name": "HBoxModel",
      "_view_count": null,
      "_view_module": "@jupyter-widgets/controls",
      "_view_module_version": "1.5.0",
      "_view_name": "HBoxView",
      "box_style": "",
      "children": [
       "IPY_MODEL_b0f52fe9b17c4db89c2396bbffbee0a8",
       "IPY_MODEL_edb9682b784f4fccbbe53593286c4f49"
      ],
      "layout": "IPY_MODEL_47916d39f6ca425a8fb7a9e7efb845c5"
     }
    },
    "c34661fac1184b8a910065b56695aeef": {
     "model_module": "@jupyter-widgets/controls",
     "model_name": "HTMLModel",
     "state": {
      "_dom_classes": [],
      "_model_module": "@jupyter-widgets/controls",
      "_model_module_version": "1.5.0",
      "_model_name": "HTMLModel",
      "_view_count": null,
      "_view_module": "@jupyter-widgets/controls",
      "_view_module_version": "1.5.0",
      "_view_name": "HTMLView",
      "description": "",
      "description_tooltip": null,
      "layout": "IPY_MODEL_04d5cd20093e4935b54cdc729c54904f",
      "placeholder": "​",
      "style": "IPY_MODEL_fb10f527b6e843e3956ab3a042526160",
      "value": " 1.96M/1.96M [00:00&lt;00:00, 5.16MB/s]"
     }
    },
    "c35e9a8429f745459f28c8643d749951": {
     "model_module": "@jupyter-widgets/base",
     "model_name": "LayoutModel",
     "state": {
      "_model_module": "@jupyter-widgets/base",
      "_model_module_version": "1.2.0",
      "_model_name": "LayoutModel",
      "_view_count": null,
      "_view_module": "@jupyter-widgets/base",
      "_view_module_version": "1.2.0",
      "_view_name": "LayoutView",
      "align_content": null,
      "align_items": null,
      "align_self": null,
      "border": null,
      "bottom": null,
      "display": null,
      "flex": null,
      "flex_flow": null,
      "grid_area": null,
      "grid_auto_columns": null,
      "grid_auto_flow": null,
      "grid_auto_rows": null,
      "grid_column": null,
      "grid_gap": null,
      "grid_row": null,
      "grid_template_areas": null,
      "grid_template_columns": null,
      "grid_template_rows": null,
      "height": null,
      "justify_content": null,
      "justify_items": null,
      "left": null,
      "margin": null,
      "max_height": null,
      "max_width": null,
      "min_height": null,
      "min_width": null,
      "object_fit": null,
      "object_position": null,
      "order": null,
      "overflow": null,
      "overflow_x": null,
      "overflow_y": null,
      "padding": null,
      "right": null,
      "top": null,
      "visibility": null,
      "width": null
     }
    },
    "c61673c539634e5c9ab9086a0ce466ea": {
     "model_module": "@jupyter-widgets/controls",
     "model_name": "HBoxModel",
     "state": {
      "_dom_classes": [],
      "_model_module": "@jupyter-widgets/controls",
      "_model_module_version": "1.5.0",
      "_model_name": "HBoxModel",
      "_view_count": null,
      "_view_module": "@jupyter-widgets/controls",
      "_view_module_version": "1.5.0",
      "_view_name": "HBoxView",
      "box_style": "",
      "children": [
       "IPY_MODEL_37c132ea7dac4106947b1cf9a6fb8ab7",
       "IPY_MODEL_c34661fac1184b8a910065b56695aeef"
      ],
      "layout": "IPY_MODEL_6f4ddbaba9dc4be38c94393700f5f92d"
     }
    },
    "c7a14479fee243f79c77a74cbca7f72f": {
     "model_module": "@jupyter-widgets/base",
     "model_name": "LayoutModel",
     "state": {
      "_model_module": "@jupyter-widgets/base",
      "_model_module_version": "1.2.0",
      "_model_name": "LayoutModel",
      "_view_count": null,
      "_view_module": "@jupyter-widgets/base",
      "_view_module_version": "1.2.0",
      "_view_name": "LayoutView",
      "align_content": null,
      "align_items": null,
      "align_self": null,
      "border": null,
      "bottom": null,
      "display": null,
      "flex": null,
      "flex_flow": null,
      "grid_area": null,
      "grid_auto_columns": null,
      "grid_auto_flow": null,
      "grid_auto_rows": null,
      "grid_column": null,
      "grid_gap": null,
      "grid_row": null,
      "grid_template_areas": null,
      "grid_template_columns": null,
      "grid_template_rows": null,
      "height": null,
      "justify_content": null,
      "justify_items": null,
      "left": null,
      "margin": null,
      "max_height": null,
      "max_width": null,
      "min_height": null,
      "min_width": null,
      "object_fit": null,
      "object_position": null,
      "order": null,
      "overflow": null,
      "overflow_x": null,
      "overflow_y": null,
      "padding": null,
      "right": null,
      "top": null,
      "visibility": null,
      "width": null
     }
    },
    "c7e674f51b1d432c8d78675ec54abcc3": {
     "model_module": "@jupyter-widgets/controls",
     "model_name": "ProgressStyleModel",
     "state": {
      "_model_module": "@jupyter-widgets/controls",
      "_model_module_version": "1.5.0",
      "_model_name": "ProgressStyleModel",
      "_view_count": null,
      "_view_module": "@jupyter-widgets/base",
      "_view_module_version": "1.2.0",
      "_view_name": "StyleView",
      "bar_color": null,
      "description_width": "initial"
     }
    },
    "c8ee80d63ff84f37bca6710576c0d6b9": {
     "model_module": "@jupyter-widgets/controls",
     "model_name": "HBoxModel",
     "state": {
      "_dom_classes": [],
      "_model_module": "@jupyter-widgets/controls",
      "_model_module_version": "1.5.0",
      "_model_name": "HBoxModel",
      "_view_count": null,
      "_view_module": "@jupyter-widgets/controls",
      "_view_module_version": "1.5.0",
      "_view_name": "HBoxView",
      "box_style": "",
      "children": [
       "IPY_MODEL_25b2cc65c3ec4b36bf2ec6b77ae6a076",
       "IPY_MODEL_376b3caf391048e293a284e92b7db30e"
      ],
      "layout": "IPY_MODEL_a9400c4a81b344f0a0a02bf317c1735a"
     }
    },
    "cebbeacbcc704f60bc69658153ad50cc": {
     "model_module": "@jupyter-widgets/controls",
     "model_name": "FloatProgressModel",
     "state": {
      "_dom_classes": [],
      "_model_module": "@jupyter-widgets/controls",
      "_model_module_version": "1.5.0",
      "_model_name": "FloatProgressModel",
      "_view_count": null,
      "_view_module": "@jupyter-widgets/controls",
      "_view_module_version": "1.5.0",
      "_view_name": "ProgressView",
      "bar_style": "success",
      "description": "Downloading: 100%",
      "description_tooltip": null,
      "layout": "IPY_MODEL_9d602bd1c04043e2a556830b80d0f2ec",
      "max": 625,
      "min": 0,
      "orientation": "horizontal",
      "style": "IPY_MODEL_ba3a856d51bf4681b0f46b39b97aceb6",
      "value": 625
     }
    },
    "d1282f5b7fde4ace9bbce6a58a4a6117": {
     "model_module": "@jupyter-widgets/controls",
     "model_name": "FloatProgressModel",
     "state": {
      "_dom_classes": [],
      "_model_module": "@jupyter-widgets/controls",
      "_model_module_version": "1.5.0",
      "_model_name": "FloatProgressModel",
      "_view_count": null,
      "_view_module": "@jupyter-widgets/controls",
      "_view_module_version": "1.5.0",
      "_view_name": "ProgressView",
      "bar_style": "success",
      "description": "Downloading: 100%",
      "description_tooltip": null,
      "layout": "IPY_MODEL_febf8e272c4844f48d4ae066ceea2b60",
      "max": 1083389348,
      "min": 0,
      "orientation": "horizontal",
      "style": "IPY_MODEL_3e2a00a24ca44d1fa89f30ed945edb1c",
      "value": 1083389348
     }
    },
    "d197afcc5e6040e581aa282d221d4d52": {
     "model_module": "@jupyter-widgets/controls",
     "model_name": "DescriptionStyleModel",
     "state": {
      "_model_module": "@jupyter-widgets/controls",
      "_model_module_version": "1.5.0",
      "_model_name": "DescriptionStyleModel",
      "_view_count": null,
      "_view_module": "@jupyter-widgets/base",
      "_view_module_version": "1.2.0",
      "_view_name": "StyleView",
      "description_width": ""
     }
    },
    "d763548ad4a248d187614652a2c7c076": {
     "model_module": "@jupyter-widgets/controls",
     "model_name": "FloatProgressModel",
     "state": {
      "_dom_classes": [],
      "_model_module": "@jupyter-widgets/controls",
      "_model_module_version": "1.5.0",
      "_model_name": "FloatProgressModel",
      "_view_count": null,
      "_view_module": "@jupyter-widgets/controls",
      "_view_module_version": "1.5.0",
      "_view_name": "ProgressView",
      "bar_style": "success",
      "description": "Downloading: 100%",
      "description_tooltip": null,
      "layout": "IPY_MODEL_00ec522befe84181b5c48492ab427c8b",
      "max": 995526,
      "min": 0,
      "orientation": "horizontal",
      "style": "IPY_MODEL_eaa95ff76f874799becf3ac80cef869e",
      "value": 995526
     }
    },
    "d7c62d9de69646f5a2fd6b1b08aefaa1": {
     "model_module": "@jupyter-widgets/controls",
     "model_name": "DescriptionStyleModel",
     "state": {
      "_model_module": "@jupyter-widgets/controls",
      "_model_module_version": "1.5.0",
      "_model_name": "DescriptionStyleModel",
      "_view_count": null,
      "_view_module": "@jupyter-widgets/base",
      "_view_module_version": "1.2.0",
      "_view_name": "StyleView",
      "description_width": ""
     }
    },
    "d8f36ed6f1d84652813336e6d8fa403d": {
     "model_module": "@jupyter-widgets/controls",
     "model_name": "HTMLModel",
     "state": {
      "_dom_classes": [],
      "_model_module": "@jupyter-widgets/controls",
      "_model_module_version": "1.5.0",
      "_model_name": "HTMLModel",
      "_view_count": null,
      "_view_module": "@jupyter-widgets/controls",
      "_view_module_version": "1.5.0",
      "_view_name": "HTMLView",
      "description": "",
      "description_tooltip": null,
      "layout": "IPY_MODEL_4c66d14bb2f14e5e9bbc8b816ea48b41",
      "placeholder": "​",
      "style": "IPY_MODEL_d7c62d9de69646f5a2fd6b1b08aefaa1",
      "value": " 1.96M/1.96M [00:01&lt;00:00, 1.74MB/s]"
     }
    },
    "dac51b2826474779b2fb706857e56f81": {
     "model_module": "@jupyter-widgets/controls",
     "model_name": "FloatProgressModel",
     "state": {
      "_dom_classes": [],
      "_model_module": "@jupyter-widgets/controls",
      "_model_module_version": "1.5.0",
      "_model_name": "FloatProgressModel",
      "_view_count": null,
      "_view_module": "@jupyter-widgets/controls",
      "_view_module_version": "1.5.0",
      "_view_name": "ProgressView",
      "bar_style": "success",
      "description": "Downloading: 100%",
      "description_tooltip": null,
      "layout": "IPY_MODEL_be54afeec956480ea52891867929fce0",
      "max": 1083389348,
      "min": 0,
      "orientation": "horizontal",
      "style": "IPY_MODEL_50eeac3f16084503b1f5dc02da6ed044",
      "value": 1083389348
     }
    },
    "dbf59548d59b401b986e1ed07c012c6c": {
     "model_module": "@jupyter-widgets/controls",
     "model_name": "ProgressStyleModel",
     "state": {
      "_model_module": "@jupyter-widgets/controls",
      "_model_module_version": "1.5.0",
      "_model_name": "ProgressStyleModel",
      "_view_count": null,
      "_view_module": "@jupyter-widgets/base",
      "_view_module_version": "1.2.0",
      "_view_name": "StyleView",
      "bar_color": null,
      "description_width": "initial"
     }
    },
    "ddc6778078264d0093a71e3daf7f8461": {
     "model_module": "@jupyter-widgets/controls",
     "model_name": "HBoxModel",
     "state": {
      "_dom_classes": [],
      "_model_module": "@jupyter-widgets/controls",
      "_model_module_version": "1.5.0",
      "_model_name": "HBoxModel",
      "_view_count": null,
      "_view_module": "@jupyter-widgets/controls",
      "_view_module_version": "1.5.0",
      "_view_name": "HBoxView",
      "box_style": "",
      "children": [
       "IPY_MODEL_e59e67bde1ec48d9921db980e413bfa3",
       "IPY_MODEL_13e861884e874bd3be484545f225dd47"
      ],
      "layout": "IPY_MODEL_fb57fc0dd234417ea33935fc3640c737"
     }
    },
    "e1cc87e460f64b00aa364e0dafd4a051": {
     "model_module": "@jupyter-widgets/base",
     "model_name": "LayoutModel",
     "state": {
      "_model_module": "@jupyter-widgets/base",
      "_model_module_version": "1.2.0",
      "_model_name": "LayoutModel",
      "_view_count": null,
      "_view_module": "@jupyter-widgets/base",
      "_view_module_version": "1.2.0",
      "_view_name": "LayoutView",
      "align_content": null,
      "align_items": null,
      "align_self": null,
      "border": null,
      "bottom": null,
      "display": null,
      "flex": null,
      "flex_flow": null,
      "grid_area": null,
      "grid_auto_columns": null,
      "grid_auto_flow": null,
      "grid_auto_rows": null,
      "grid_column": null,
      "grid_gap": null,
      "grid_row": null,
      "grid_template_areas": null,
      "grid_template_columns": null,
      "grid_template_rows": null,
      "height": null,
      "justify_content": null,
      "justify_items": null,
      "left": null,
      "margin": null,
      "max_height": null,
      "max_width": null,
      "min_height": null,
      "min_width": null,
      "object_fit": null,
      "object_position": null,
      "order": null,
      "overflow": null,
      "overflow_x": null,
      "overflow_y": null,
      "padding": null,
      "right": null,
      "top": null,
      "visibility": null,
      "width": null
     }
    },
    "e3095119b7934d28ac330751905ed0e2": {
     "model_module": "@jupyter-widgets/controls",
     "model_name": "HBoxModel",
     "state": {
      "_dom_classes": [],
      "_model_module": "@jupyter-widgets/controls",
      "_model_module_version": "1.5.0",
      "_model_name": "HBoxModel",
      "_view_count": null,
      "_view_module": "@jupyter-widgets/controls",
      "_view_module_version": "1.5.0",
      "_view_name": "HBoxView",
      "box_style": "",
      "children": [
       "IPY_MODEL_030cfbebebe4445597da222e7183958e",
       "IPY_MODEL_67a66d213bac41d08e63877848c14dff"
      ],
      "layout": "IPY_MODEL_5d2ab67544384f7c860d434cf3981550"
     }
    },
    "e3364f9b8f0b4d4cac5f6187650c634a": {
     "model_module": "@jupyter-widgets/controls",
     "model_name": "ProgressStyleModel",
     "state": {
      "_model_module": "@jupyter-widgets/controls",
      "_model_module_version": "1.5.0",
      "_model_name": "ProgressStyleModel",
      "_view_count": null,
      "_view_module": "@jupyter-widgets/base",
      "_view_module_version": "1.2.0",
      "_view_name": "StyleView",
      "bar_color": null,
      "description_width": "initial"
     }
    },
    "e3d596e837ee4dbeb895a246708295f9": {
     "model_module": "@jupyter-widgets/controls",
     "model_name": "HTMLModel",
     "state": {
      "_dom_classes": [],
      "_model_module": "@jupyter-widgets/controls",
      "_model_module_version": "1.5.0",
      "_model_name": "HTMLModel",
      "_view_count": null,
      "_view_module": "@jupyter-widgets/controls",
      "_view_module_version": "1.5.0",
      "_view_name": "HTMLView",
      "description": "",
      "description_tooltip": null,
      "layout": "IPY_MODEL_08ed1d73e4264fa5a8bb2a4843034610",
      "placeholder": "​",
      "style": "IPY_MODEL_20d3cf4805424416ac493f28c604d62c",
      "value": " 1.08G/1.08G [00:39&lt;00:00, 27.7MB/s]"
     }
    },
    "e3d864fdddbc4dd289aafe1a3887fbab": {
     "model_module": "@jupyter-widgets/controls",
     "model_name": "HTMLModel",
     "state": {
      "_dom_classes": [],
      "_model_module": "@jupyter-widgets/controls",
      "_model_module_version": "1.5.0",
      "_model_name": "HTMLModel",
      "_view_count": null,
      "_view_module": "@jupyter-widgets/controls",
      "_view_module_version": "1.5.0",
      "_view_name": "HTMLView",
      "description": "",
      "description_tooltip": null,
      "layout": "IPY_MODEL_59db8f726ffa409285ae77b79368b1c3",
      "placeholder": "​",
      "style": "IPY_MODEL_12023bab20424d52963941ba9d4e9fd9",
      "value": " 1.96M/1.96M [00:00&lt;00:00, 4.33MB/s]"
     }
    },
    "e59e67bde1ec48d9921db980e413bfa3": {
     "model_module": "@jupyter-widgets/controls",
     "model_name": "FloatProgressModel",
     "state": {
      "_dom_classes": [],
      "_model_module": "@jupyter-widgets/controls",
      "_model_module_version": "1.5.0",
      "_model_name": "FloatProgressModel",
      "_view_count": null,
      "_view_module": "@jupyter-widgets/controls",
      "_view_module_version": "1.5.0",
      "_view_name": "ProgressView",
      "bar_style": "success",
      "description": "Downloading: 100%",
      "description_tooltip": null,
      "layout": "IPY_MODEL_6ebe302de49841319bc6f235f2fc1e8a",
      "max": 995526,
      "min": 0,
      "orientation": "horizontal",
      "style": "IPY_MODEL_56db266fba244e0b8e730e3b0e8bd0fb",
      "value": 995526
     }
    },
    "e9d7f4888e714d798f4767655a6779ea": {
     "model_module": "@jupyter-widgets/controls",
     "model_name": "HTMLModel",
     "state": {
      "_dom_classes": [],
      "_model_module": "@jupyter-widgets/controls",
      "_model_module_version": "1.5.0",
      "_model_name": "HTMLModel",
      "_view_count": null,
      "_view_module": "@jupyter-widgets/controls",
      "_view_module_version": "1.5.0",
      "_view_name": "HTMLView",
      "description": "",
      "description_tooltip": null,
      "layout": "IPY_MODEL_0337c25cf3de491182b635d233177cbd",
      "placeholder": "​",
      "style": "IPY_MODEL_f448a5b675314ca2a534641268a361ba",
      "value": " 625/625 [00:03&lt;00:00, 168B/s]"
     }
    },
    "eaa95ff76f874799becf3ac80cef869e": {
     "model_module": "@jupyter-widgets/controls",
     "model_name": "ProgressStyleModel",
     "state": {
      "_model_module": "@jupyter-widgets/controls",
      "_model_module_version": "1.5.0",
      "_model_name": "ProgressStyleModel",
      "_view_count": null,
      "_view_module": "@jupyter-widgets/base",
      "_view_module_version": "1.2.0",
      "_view_name": "StyleView",
      "bar_color": null,
      "description_width": "initial"
     }
    },
    "eb14d6e4c9944b3c9e6c1c95a7512b22": {
     "model_module": "@jupyter-widgets/controls",
     "model_name": "ProgressStyleModel",
     "state": {
      "_model_module": "@jupyter-widgets/controls",
      "_model_module_version": "1.5.0",
      "_model_name": "ProgressStyleModel",
      "_view_count": null,
      "_view_module": "@jupyter-widgets/base",
      "_view_module_version": "1.2.0",
      "_view_name": "StyleView",
      "bar_color": null,
      "description_width": "initial"
     }
    },
    "ecfc9f947035497a9bbcd786f3e59391": {
     "model_module": "@jupyter-widgets/controls",
     "model_name": "HBoxModel",
     "state": {
      "_dom_classes": [],
      "_model_module": "@jupyter-widgets/controls",
      "_model_module_version": "1.5.0",
      "_model_name": "HBoxModel",
      "_view_count": null,
      "_view_module": "@jupyter-widgets/controls",
      "_view_module_version": "1.5.0",
      "_view_name": "HBoxView",
      "box_style": "",
      "children": [
       "IPY_MODEL_d1282f5b7fde4ace9bbce6a58a4a6117",
       "IPY_MODEL_07088b30256b41beabed4aa4c42fc31e"
      ],
      "layout": "IPY_MODEL_481ae790b5f84d0ab1b0139e72bc3013"
     }
    },
    "edb9682b784f4fccbbe53593286c4f49": {
     "model_module": "@jupyter-widgets/controls",
     "model_name": "HTMLModel",
     "state": {
      "_dom_classes": [],
      "_model_module": "@jupyter-widgets/controls",
      "_model_module_version": "1.5.0",
      "_model_name": "HTMLModel",
      "_view_count": null,
      "_view_module": "@jupyter-widgets/controls",
      "_view_module_version": "1.5.0",
      "_view_name": "HTMLView",
      "description": "",
      "description_tooltip": null,
      "layout": "IPY_MODEL_275fa525f73f4df9890d19ad12dd99e2",
      "placeholder": "​",
      "style": "IPY_MODEL_0cc048ade37642b89ce8f464979d3ec9",
      "value": " 625/625 [00:00&lt;00:00, 10.9kB/s]"
     }
    },
    "eea4c9db1c374050a079566d92e49c18": {
     "model_module": "@jupyter-widgets/controls",
     "model_name": "HBoxModel",
     "state": {
      "_dom_classes": [],
      "_model_module": "@jupyter-widgets/controls",
      "_model_module_version": "1.5.0",
      "_model_name": "HBoxModel",
      "_view_count": null,
      "_view_module": "@jupyter-widgets/controls",
      "_view_module_version": "1.5.0",
      "_view_name": "HBoxView",
      "box_style": "",
      "children": [
       "IPY_MODEL_faeec5239da4416da619d79057e3ca45",
       "IPY_MODEL_4048259cb3e042c19a06c08e361521d0"
      ],
      "layout": "IPY_MODEL_4b329ecf949947ceb3995ce967281335"
     }
    },
    "f448a5b675314ca2a534641268a361ba": {
     "model_module": "@jupyter-widgets/controls",
     "model_name": "DescriptionStyleModel",
     "state": {
      "_model_module": "@jupyter-widgets/controls",
      "_model_module_version": "1.5.0",
      "_model_name": "DescriptionStyleModel",
      "_view_count": null,
      "_view_module": "@jupyter-widgets/base",
      "_view_module_version": "1.2.0",
      "_view_name": "StyleView",
      "description_width": ""
     }
    },
    "f4734d41af4a479a9a253f22f995259e": {
     "model_module": "@jupyter-widgets/controls",
     "model_name": "HTMLModel",
     "state": {
      "_dom_classes": [],
      "_model_module": "@jupyter-widgets/controls",
      "_model_module_version": "1.5.0",
      "_model_name": "HTMLModel",
      "_view_count": null,
      "_view_module": "@jupyter-widgets/controls",
      "_view_module_version": "1.5.0",
      "_view_name": "HTMLView",
      "description": "",
      "description_tooltip": null,
      "layout": "IPY_MODEL_90831baa4ae140e19a1fa686777a1fa3",
      "placeholder": "​",
      "style": "IPY_MODEL_0f6bc8bed2d3434caa301c3bc5460aed",
      "value": " 625/625 [00:00&lt;00:00, 9.62kB/s]"
     }
    },
    "f6828918084046619e14432d47ff81f4": {
     "model_module": "@jupyter-widgets/controls",
     "model_name": "HBoxModel",
     "state": {
      "_dom_classes": [],
      "_model_module": "@jupyter-widgets/controls",
      "_model_module_version": "1.5.0",
      "_model_name": "HBoxModel",
      "_view_count": null,
      "_view_module": "@jupyter-widgets/controls",
      "_view_module_version": "1.5.0",
      "_view_name": "HBoxView",
      "box_style": "",
      "children": [
       "IPY_MODEL_cebbeacbcc704f60bc69658153ad50cc",
       "IPY_MODEL_e9d7f4888e714d798f4767655a6779ea"
      ],
      "layout": "IPY_MODEL_9e901f14fd4241ab94a41ddab2438683"
     }
    },
    "f6ef1bb83ef44c96b94fdbb59c602dcf": {
     "model_module": "@jupyter-widgets/controls",
     "model_name": "DescriptionStyleModel",
     "state": {
      "_model_module": "@jupyter-widgets/controls",
      "_model_module_version": "1.5.0",
      "_model_name": "DescriptionStyleModel",
      "_view_count": null,
      "_view_module": "@jupyter-widgets/base",
      "_view_module_version": "1.2.0",
      "_view_name": "StyleView",
      "description_width": ""
     }
    },
    "f79f52c7bf1044fdb270283a5b791a2c": {
     "model_module": "@jupyter-widgets/controls",
     "model_name": "HTMLModel",
     "state": {
      "_dom_classes": [],
      "_model_module": "@jupyter-widgets/controls",
      "_model_module_version": "1.5.0",
      "_model_name": "HTMLModel",
      "_view_count": null,
      "_view_module": "@jupyter-widgets/controls",
      "_view_module_version": "1.5.0",
      "_view_name": "HTMLView",
      "description": "",
      "description_tooltip": null,
      "layout": "IPY_MODEL_7dfec3e3d4d94e68b2fc3a669c4991ef",
      "placeholder": "​",
      "style": "IPY_MODEL_fa66b025e77743ae885e9ff4ac40fbb5",
      "value": " 1.08G/1.08G [03:39&lt;00:00, 4.95MB/s]"
     }
    },
    "f9fa6576029f4e5fb6bf5ffa74f43d74": {
     "model_module": "@jupyter-widgets/base",
     "model_name": "LayoutModel",
     "state": {
      "_model_module": "@jupyter-widgets/base",
      "_model_module_version": "1.2.0",
      "_model_name": "LayoutModel",
      "_view_count": null,
      "_view_module": "@jupyter-widgets/base",
      "_view_module_version": "1.2.0",
      "_view_name": "LayoutView",
      "align_content": null,
      "align_items": null,
      "align_self": null,
      "border": null,
      "bottom": null,
      "display": null,
      "flex": null,
      "flex_flow": null,
      "grid_area": null,
      "grid_auto_columns": null,
      "grid_auto_flow": null,
      "grid_auto_rows": null,
      "grid_column": null,
      "grid_gap": null,
      "grid_row": null,
      "grid_template_areas": null,
      "grid_template_columns": null,
      "grid_template_rows": null,
      "height": null,
      "justify_content": null,
      "justify_items": null,
      "left": null,
      "margin": null,
      "max_height": null,
      "max_width": null,
      "min_height": null,
      "min_width": null,
      "object_fit": null,
      "object_position": null,
      "order": null,
      "overflow": null,
      "overflow_x": null,
      "overflow_y": null,
      "padding": null,
      "right": null,
      "top": null,
      "visibility": null,
      "width": null
     }
    },
    "fa66b025e77743ae885e9ff4ac40fbb5": {
     "model_module": "@jupyter-widgets/controls",
     "model_name": "DescriptionStyleModel",
     "state": {
      "_model_module": "@jupyter-widgets/controls",
      "_model_module_version": "1.5.0",
      "_model_name": "DescriptionStyleModel",
      "_view_count": null,
      "_view_module": "@jupyter-widgets/base",
      "_view_module_version": "1.2.0",
      "_view_name": "StyleView",
      "description_width": ""
     }
    },
    "faeec5239da4416da619d79057e3ca45": {
     "model_module": "@jupyter-widgets/controls",
     "model_name": "FloatProgressModel",
     "state": {
      "_dom_classes": [],
      "_model_module": "@jupyter-widgets/controls",
      "_model_module_version": "1.5.0",
      "_model_name": "FloatProgressModel",
      "_view_count": null,
      "_view_module": "@jupyter-widgets/controls",
      "_view_module_version": "1.5.0",
      "_view_name": "ProgressView",
      "bar_style": "success",
      "description": "Downloading: 100%",
      "description_tooltip": null,
      "layout": "IPY_MODEL_e1cc87e460f64b00aa364e0dafd4a051",
      "max": 995526,
      "min": 0,
      "orientation": "horizontal",
      "style": "IPY_MODEL_a745fc76d15340ee946887008d6ae9ff",
      "value": 995526
     }
    },
    "fb10f527b6e843e3956ab3a042526160": {
     "model_module": "@jupyter-widgets/controls",
     "model_name": "DescriptionStyleModel",
     "state": {
      "_model_module": "@jupyter-widgets/controls",
      "_model_module_version": "1.5.0",
      "_model_name": "DescriptionStyleModel",
      "_view_count": null,
      "_view_module": "@jupyter-widgets/base",
      "_view_module_version": "1.2.0",
      "_view_name": "StyleView",
      "description_width": ""
     }
    },
    "fb57fc0dd234417ea33935fc3640c737": {
     "model_module": "@jupyter-widgets/base",
     "model_name": "LayoutModel",
     "state": {
      "_model_module": "@jupyter-widgets/base",
      "_model_module_version": "1.2.0",
      "_model_name": "LayoutModel",
      "_view_count": null,
      "_view_module": "@jupyter-widgets/base",
      "_view_module_version": "1.2.0",
      "_view_name": "LayoutView",
      "align_content": null,
      "align_items": null,
      "align_self": null,
      "border": null,
      "bottom": null,
      "display": null,
      "flex": null,
      "flex_flow": null,
      "grid_area": null,
      "grid_auto_columns": null,
      "grid_auto_flow": null,
      "grid_auto_rows": null,
      "grid_column": null,
      "grid_gap": null,
      "grid_row": null,
      "grid_template_areas": null,
      "grid_template_columns": null,
      "grid_template_rows": null,
      "height": null,
      "justify_content": null,
      "justify_items": null,
      "left": null,
      "margin": null,
      "max_height": null,
      "max_width": null,
      "min_height": null,
      "min_width": null,
      "object_fit": null,
      "object_position": null,
      "order": null,
      "overflow": null,
      "overflow_x": null,
      "overflow_y": null,
      "padding": null,
      "right": null,
      "top": null,
      "visibility": null,
      "width": null
     }
    },
    "fba1b8625e0d4690b66b58a4275dbcd1": {
     "model_module": "@jupyter-widgets/controls",
     "model_name": "DescriptionStyleModel",
     "state": {
      "_model_module": "@jupyter-widgets/controls",
      "_model_module_version": "1.5.0",
      "_model_name": "DescriptionStyleModel",
      "_view_count": null,
      "_view_module": "@jupyter-widgets/base",
      "_view_module_version": "1.2.0",
      "_view_name": "StyleView",
      "description_width": ""
     }
    },
    "fd536bef296c40559b3ecbbe4c04bed0": {
     "model_module": "@jupyter-widgets/controls",
     "model_name": "DescriptionStyleModel",
     "state": {
      "_model_module": "@jupyter-widgets/controls",
      "_model_module_version": "1.5.0",
      "_model_name": "DescriptionStyleModel",
      "_view_count": null,
      "_view_module": "@jupyter-widgets/base",
      "_view_module_version": "1.2.0",
      "_view_name": "StyleView",
      "description_width": ""
     }
    },
    "febf8e272c4844f48d4ae066ceea2b60": {
     "model_module": "@jupyter-widgets/base",
     "model_name": "LayoutModel",
     "state": {
      "_model_module": "@jupyter-widgets/base",
      "_model_module_version": "1.2.0",
      "_model_name": "LayoutModel",
      "_view_count": null,
      "_view_module": "@jupyter-widgets/base",
      "_view_module_version": "1.2.0",
      "_view_name": "LayoutView",
      "align_content": null,
      "align_items": null,
      "align_self": null,
      "border": null,
      "bottom": null,
      "display": null,
      "flex": null,
      "flex_flow": null,
      "grid_area": null,
      "grid_auto_columns": null,
      "grid_auto_flow": null,
      "grid_auto_rows": null,
      "grid_column": null,
      "grid_gap": null,
      "grid_row": null,
      "grid_template_areas": null,
      "grid_template_columns": null,
      "grid_template_rows": null,
      "height": null,
      "justify_content": null,
      "justify_items": null,
      "left": null,
      "margin": null,
      "max_height": null,
      "max_width": null,
      "min_height": null,
      "min_width": null,
      "object_fit": null,
      "object_position": null,
      "order": null,
      "overflow": null,
      "overflow_x": null,
      "overflow_y": null,
      "padding": null,
      "right": null,
      "top": null,
      "visibility": null,
      "width": null
     }
    }
   }
  }
 },
 "nbformat": 4,
 "nbformat_minor": 1
}
