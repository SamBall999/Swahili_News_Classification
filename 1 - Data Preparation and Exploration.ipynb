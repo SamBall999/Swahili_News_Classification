{
 "cells": [
  {
   "cell_type": "markdown",
   "metadata": {
    "id": "Or_xaaWEWLqz"
   },
   "source": [
    "<h1><center>COMS7047A Term Project: Swahili News Classification</center></h1> \n",
    "<h2><center>Notebook 1 - Data Preparation and Exploration</center></h2> \n",
    "\n",
    "<img src=\"./wits_logo.png\" alt=\"Wits_Logo\" style=\"width: 400px;\"/>\n",
    "\n",
    "***\n",
    "<h4><center> Samantha Ball  &nbsp;   1603701   &nbsp;  2021</center></h4>"
   ]
  },
  {
   "cell_type": "markdown",
   "metadata": {
    "id": "yqK-NPz9WLqz"
   },
   "source": [
    "## Introduction"
   ]
  },
  {
   "cell_type": "markdown",
   "metadata": {
    "id": "CQ7wZWyOWLq0"
   },
   "source": [
    "This project will investigate three different approaches to the problem of Swahili news classification. Three contrasting algorithms will be explored, namely,\n",
    "\n",
    "- Naive Bayes\n",
    "- Support Vector Machines\n",
    "- Transformers - BERT model\n",
    "\n",
    "In order to implement news classification, the dataset first requires significant preprocessing and data exploration which will be performed in this notebook. The notebook structure is as follows:\n",
    "\n",
    "- 1 - Data Preparation and Exploration\n",
    "- 2 - Classical Approaches: Naive Bayes and SVM\n",
    "- 3 - Deep Leaning Approaches: Exploring transformers"
   ]
  },
  {
   "cell_type": "code",
   "execution_count": 2,
   "metadata": {
    "executionInfo": {
     "elapsed": 1680,
     "status": "ok",
     "timestamp": 1623823622998,
     "user": {
      "displayName": "Sam Ball",
      "photoUrl": "",
      "userId": "13021419479325006913"
     },
     "user_tz": -120
    },
    "id": "CBITuFGKWLq0"
   },
   "outputs": [],
   "source": [
    "#----INSTALL LIBRARIES----#\n",
    "import matplotlib.pyplot as plt\n",
    "import numpy as np\n",
    "import pandas as pd\n",
    "import pandas.util.testing as tm\n",
    "import seaborn as sns\n",
    "from sklearn.metrics import r2_score , mean_squared_error\n",
    "from sklearn.model_selection import train_test_split \n",
    "%matplotlib inline"
   ]
  },
  {
   "cell_type": "markdown",
   "metadata": {
    "id": "tb0iU9_8WLq1"
   },
   "source": [
    "## Data Import\n",
    "\n",
    "The chosen dataset consists of a compilation of Swahili news articles which are categorised according to six different news categories. Specifically the *uchumi*, *kitaifa*, *michezo*, *afya*, *kimataifa* and *burudani* categories are considered which represent finance news, local news, sports news, health news, international news and entertainment news respectively.\n",
    "\n",
    "The dataset was obtained from [Zenodo](https://zenodo.org/record/4300294#.YMRNmDYza3I) [[1](#references)]."
   ]
  },
  {
   "cell_type": "code",
   "execution_count": 3,
   "metadata": {
    "colab": {
     "base_uri": "https://localhost:8080/",
     "height": 376
    },
    "executionInfo": {
     "elapsed": 46,
     "status": "ok",
     "timestamp": 1623823622998,
     "user": {
      "displayName": "Sam Ball",
      "photoUrl": "",
      "userId": "13021419479325006913"
     },
     "user_tz": -120
    },
    "id": "K101w7ppWLq1",
    "outputId": "b5b2348f-0d69-4619-fc41-600dab2c995e"
   },
   "outputs": [
    {
     "name": "stdout",
     "output_type": "stream",
     "text": [
      "The first 10 rows of the dataframe\n"
     ]
    },
    {
     "data": {
      "text/html": [
       "<div>\n",
       "<style scoped>\n",
       "    .dataframe tbody tr th:only-of-type {\n",
       "        vertical-align: middle;\n",
       "    }\n",
       "\n",
       "    .dataframe tbody tr th {\n",
       "        vertical-align: top;\n",
       "    }\n",
       "\n",
       "    .dataframe thead th {\n",
       "        text-align: right;\n",
       "    }\n",
       "</style>\n",
       "<table border=\"1\" class=\"dataframe\">\n",
       "  <thead>\n",
       "    <tr style=\"text-align: right;\">\n",
       "      <th></th>\n",
       "      <th>id</th>\n",
       "      <th>content</th>\n",
       "      <th>category</th>\n",
       "    </tr>\n",
       "  </thead>\n",
       "  <tbody>\n",
       "    <tr>\n",
       "      <th>0</th>\n",
       "      <td>SW4670</td>\n",
       "      <td>Bodi ya Utalii Tanzania (TTB) imesema, itafan...</td>\n",
       "      <td>uchumi</td>\n",
       "    </tr>\n",
       "    <tr>\n",
       "      <th>1</th>\n",
       "      <td>SW30826</td>\n",
       "      <td>PENDO FUNDISHA-MBEYA RAIS Dk. John Magufuri, ...</td>\n",
       "      <td>kitaifa</td>\n",
       "    </tr>\n",
       "    <tr>\n",
       "      <th>2</th>\n",
       "      <td>SW29725</td>\n",
       "      <td>Mwandishi Wetu -Singida BENKI ya NMB imetoa ms...</td>\n",
       "      <td>uchumi</td>\n",
       "    </tr>\n",
       "    <tr>\n",
       "      <th>3</th>\n",
       "      <td>SW20901</td>\n",
       "      <td>TIMU ya taifa ya Tanzania, Serengeti Boys jan...</td>\n",
       "      <td>michezo</td>\n",
       "    </tr>\n",
       "    <tr>\n",
       "      <th>4</th>\n",
       "      <td>SW12560</td>\n",
       "      <td>Na AGATHA CHARLES – DAR ES SALAAM ALIYEKUWA K...</td>\n",
       "      <td>kitaifa</td>\n",
       "    </tr>\n",
       "    <tr>\n",
       "      <th>5</th>\n",
       "      <td>SW30734</td>\n",
       "      <td>MAJADILIANO kati ya aliyekuwa Mkurugenzi wa z...</td>\n",
       "      <td>kitaifa</td>\n",
       "    </tr>\n",
       "    <tr>\n",
       "      <th>6</th>\n",
       "      <td>SW28096</td>\n",
       "      <td>Mwandishi\\nWetu – butiama MKUU wa majeshi\\nmst...</td>\n",
       "      <td>kitaifa</td>\n",
       "    </tr>\n",
       "    <tr>\n",
       "      <th>7</th>\n",
       "      <td>SW1223</td>\n",
       "      <td>['Huenda Manchester United ikasubiri ukaguzi w...</td>\n",
       "      <td>michezo</td>\n",
       "    </tr>\n",
       "    <tr>\n",
       "      <th>8</th>\n",
       "      <td>SW20534</td>\n",
       "      <td>SHIRIKA la Bima la Taifa (NIC) linakuja na Bi...</td>\n",
       "      <td>uchumi</td>\n",
       "    </tr>\n",
       "    <tr>\n",
       "      <th>9</th>\n",
       "      <td>SW9193</td>\n",
       "      <td>RAIS wa Zanzibar, Dk Ali Mohamed Shein amewat...</td>\n",
       "      <td>kitaifa</td>\n",
       "    </tr>\n",
       "  </tbody>\n",
       "</table>\n",
       "</div>"
      ],
      "text/plain": [
       "        id                                            content category\n",
       "0   SW4670   Bodi ya Utalii Tanzania (TTB) imesema, itafan...   uchumi\n",
       "1  SW30826   PENDO FUNDISHA-MBEYA RAIS Dk. John Magufuri, ...  kitaifa\n",
       "2  SW29725  Mwandishi Wetu -Singida BENKI ya NMB imetoa ms...   uchumi\n",
       "3  SW20901   TIMU ya taifa ya Tanzania, Serengeti Boys jan...  michezo\n",
       "4  SW12560   Na AGATHA CHARLES – DAR ES SALAAM ALIYEKUWA K...  kitaifa\n",
       "5  SW30734   MAJADILIANO kati ya aliyekuwa Mkurugenzi wa z...  kitaifa\n",
       "6  SW28096  Mwandishi\\nWetu – butiama MKUU wa majeshi\\nmst...  kitaifa\n",
       "7   SW1223  ['Huenda Manchester United ikasubiri ukaguzi w...  michezo\n",
       "8  SW20534   SHIRIKA la Bima la Taifa (NIC) linakuja na Bi...   uchumi\n",
       "9   SW9193   RAIS wa Zanzibar, Dk Ali Mohamed Shein amewat...  kitaifa"
      ]
     },
     "execution_count": 3,
     "metadata": {},
     "output_type": "execute_result"
    }
   ],
   "source": [
    "#----IMPORT DATA----#\n",
    "data_path = \"./train.csv\" # data given in CSV format\n",
    "df = pd.read_csv(data_path) #read in data\n",
    "\n",
    "pd.set_option('display.max_columns', None) #show all columns\n",
    "print(\"The first 10 rows of the dataframe\") \n",
    "df.head(10)"
   ]
  },
  {
   "cell_type": "markdown",
   "metadata": {
    "id": "li1EoeLMWLq2"
   },
   "source": [
    "## Data Preparation"
   ]
  },
  {
   "cell_type": "markdown",
   "metadata": {
    "id": "rk2N1IBEWLq2"
   },
   "source": [
    "We can see above that the input to our text classification algorithm is the *content* column, which contains news articles. The news articles contain\n",
    "\n",
    "- mixed case\n",
    "- abbreviations and\n",
    "- special characters \n",
    "\n",
    "These require preprocessing to adapt them to the correct form for the text classification algorithms.\n"
   ]
  },
  {
   "cell_type": "markdown",
   "metadata": {
    "id": "TxQg6KpIWLq2"
   },
   "source": [
    "### Missing Values\n",
    "\n",
    "We check for missing values in any of the columns."
   ]
  },
  {
   "cell_type": "code",
   "execution_count": 45,
   "metadata": {
    "colab": {
     "base_uri": "https://localhost:8080/"
    },
    "executionInfo": {
     "elapsed": 34,
     "status": "ok",
     "timestamp": 1623823622999,
     "user": {
      "displayName": "Sam Ball",
      "photoUrl": "",
      "userId": "13021419479325006913"
     },
     "user_tz": -120
    },
    "id": "ZJ2IIqg2WLq3",
    "outputId": "33894d97-24d5-4804-8d4d-6475e0231cfd"
   },
   "outputs": [
    {
     "name": "stdout",
     "output_type": "stream",
     "text": [
      "id\n",
      "False    23268\n",
      "Name: id, dtype: int64\n",
      "\n",
      "content\n",
      "False    23268\n",
      "Name: content, dtype: int64\n",
      "\n",
      "category\n",
      "False    23268\n",
      "Name: category, dtype: int64\n",
      "\n"
     ]
    }
   ],
   "source": [
    "#----IMPUTE MISSING VALUES----#\n",
    "\n",
    "#Find number of missing data entries in each column\n",
    "missing_data = df.isnull()\n",
    "\n",
    "for column in missing_data.columns.values.tolist():\n",
    "    print(column)\n",
    "    print (missing_data[column].value_counts())\n",
    "    print(\"\") "
   ]
  },
  {
   "cell_type": "markdown",
   "metadata": {
    "id": "Ojm0T_VAWLq3"
   },
   "source": [
    "No missing values found therefore no imputation needed."
   ]
  },
  {
   "cell_type": "markdown",
   "metadata": {
    "id": "4thb_E86WLq3"
   },
   "source": [
    "### Text preprocessing\n",
    "\n",
    "Data cleaning is vital to remove noise from the dataset, allowing the NLP models to focus on the text meaning. Several preprocessing steps will be perfomed including\n",
    "\n",
    "a) Lowercasing \n",
    "\n",
    "b) Removing stopwords \n",
    "\n",
    "c) Removing punctuation \n",
    "\n",
    "d) Tokenizing \n",
    "\n",
    "Each technique will be demonstrated using a single sample and then a function will be written to combine all pre-processing steps into a unified method."
   ]
  },
  {
   "cell_type": "markdown",
   "metadata": {
    "id": "XFafw1bTWLq4"
   },
   "source": [
    "#### a) Lowercasing"
   ]
  },
  {
   "cell_type": "code",
   "execution_count": 46,
   "metadata": {
    "executionInfo": {
     "elapsed": 33,
     "status": "ok",
     "timestamp": 1623823623000,
     "user": {
      "displayName": "Sam Ball",
      "photoUrl": "",
      "userId": "13021419479325006913"
     },
     "user_tz": -120
    },
    "id": "NsRxp98DWLq4"
   },
   "outputs": [],
   "source": [
    "#----TEST SAMPLE----#\n",
    "\n",
    "sample = df[\"content\"].values[10]"
   ]
  },
  {
   "cell_type": "code",
   "execution_count": 47,
   "metadata": {
    "colab": {
     "base_uri": "https://localhost:8080/"
    },
    "executionInfo": {
     "elapsed": 34,
     "status": "ok",
     "timestamp": 1623823623002,
     "user": {
      "displayName": "Sam Ball",
      "photoUrl": "",
      "userId": "13021419479325006913"
     },
     "user_tz": -120
    },
    "id": "7_IXm99GWLq4",
    "outputId": "e9ffc40b-68fe-4e1a-e9d0-12d68b03f249"
   },
   "outputs": [
    {
     "name": "stdout",
     "output_type": "stream",
     "text": [
      "stockholm, sweden serikali ya sweden\n",
      "imemrudisha nyumbani balozi wake nchini china kuhusiana na kuhusika kwake\n",
      "katika mkutano wenye utata uliohusisha binti wa muuza vitabu mwenye asili ya\n",
      "mataifa hayo mawili, ambaye anashikiliwa na china. balozi anna\n",
      "lindstedt, aliondoka beijing juzi, msemaji wa wizara ya mambo ya nje wa sweden\n",
      "alisema. tukio lilianza\n",
      "kwa angela gui, ambaye baba yake, gui minhai anaaminika kutekwa na makachero wa\n",
      "china mwaka 2015, kuandika kwenye mtandao wa jamii kuhusu mkutano huo na\n",
      "lindstedt. gui alikuwa mmoja\n",
      "wa wauza vitabu watano wa hong kong waliokamatwa. vitabu wanavyouza vimekuwa\n",
      "vikiikosoa vikali china. gui, ambaye\n",
      "alisomea shahada ya uzamivu katika chuo kikuu cha cambridge  uingereza, amekuwa akiendesha kampeni mitandaoni\n",
      "ya kutaka kuachiwa kwa baba yake. mwezi uliopita, lindstedt\n",
      "alikaribishwa katika mkutano na kundi la wafanyabiashara wa china waliodai kuwa\n",
      "na ukaribu na chama cha kikomunisti cha china. gui alisema watu\n",
      "hao walimshinikiza akubali kuingia makubaliano  ambayo yatamfanya aache kuzungumza hadharani\n",
      "kuhusu kesi ya baba yake na kumuahidi angetumikia kifungo cha miaka mitano na   kuachiwa. wizara ya mambo\n",
      "ya nje ya sweden ilisema haikupewa taarifa za kuwapo mkutano huo uliohudhuriwa\n",
      "na lindstedt, ambaye kwa sasa anakabiliwa na uchunguzi wa ndani. kwa mujibu wa gui,\n",
      "lindstedt aliwasiliana naye na kusema kuna mbinu mpya kuhusu kesi ya baba yake\n",
      "na kumtaka ahudhurie mkutano na wafanyabiashara hao mjini stockholm,” gui aliandika\n",
      "mtandaoni. akapanda ndege\n",
      "kuelekea stockholm na kufikia katika hoteli waliyopanga kukutana, ambako alipelekwa\n",
      "kwenye ukumbi alikoonana na watu hao. “kulikuwa na\n",
      "vinywaji vingi vya kulevya na maswali mengi ya ajabu ajabu,” gui aliandika. “lakini kwa\n",
      "sababu balozi lindstedt alikuwapo na alionekana kuridhika na kila kinachoendelea,\n",
      "nikadhani ni mkutano ulioandaliwa na wizara ya mambo ya nje ya sweden.” anasema mmoja wa\n",
      "wafanyabiashara alimpa ofa ya kufikia makubaliano  ambayo baba yake angeenda mahakamani na\n",
      "kufungwa jela miaka michache ili binti aache kuandika hadharani kuhusu\n",
      "kushikiliwa kwa baba yake. kwa mujibu ya\n",
      "maelezo ya gui, lindstedt alionekana kuunga mkono mpango huo, akimwambia kuwa china\n",
      "inaanzisha mpango mpya wa  diplomasia na\n",
      "iwapo ataendelea kutoa matamko mitandaoni china inaweza kuiadhibu sweden.\n"
     ]
    }
   ],
   "source": [
    "#----LOWERCASE----#\n",
    "\n",
    "# Convert all letters to lowercase\n",
    "sample = sample.lower()\n",
    "print (sample)"
   ]
  },
  {
   "cell_type": "markdown",
   "metadata": {
    "id": "yG15y_3BWLq4"
   },
   "source": [
    "#### b) Remove punctuation"
   ]
  },
  {
   "cell_type": "code",
   "execution_count": 48,
   "metadata": {
    "colab": {
     "base_uri": "https://localhost:8080/"
    },
    "executionInfo": {
     "elapsed": 33,
     "status": "ok",
     "timestamp": 1623823623003,
     "user": {
      "displayName": "Sam Ball",
      "photoUrl": "",
      "userId": "13021419479325006913"
     },
     "user_tz": -120
    },
    "id": "_G_HfYgRWLq5",
    "outputId": "49b15921-ab36-4704-e203-756df1c4177f"
   },
   "outputs": [
    {
     "name": "stdout",
     "output_type": "stream",
     "text": [
      "stockholm sweden serikali ya sweden\n",
      "imemrudisha nyumbani balozi wake nchini china kuhusiana na kuhusika kwake\n",
      "katika mkutano wenye utata uliohusisha binti wa muuza vitabu mwenye asili ya\n",
      "mataifa hayo mawili ambaye anashikiliwa na china balozi anna\n",
      "lindstedt aliondoka beijing juzi msemaji wa wizara ya mambo ya nje wa sweden\n",
      "alisema tukio lilianza\n",
      "kwa angela gui ambaye baba yake gui minhai anaaminika kutekwa na makachero wa\n",
      "china mwaka 2015 kuandika kwenye mtandao wa jamii kuhusu mkutano huo na\n",
      "lindstedt gui alikuwa mmoja\n",
      "wa wauza vitabu watano wa hong kong waliokamatwa vitabu wanavyouza vimekuwa\n",
      "vikiikosoa vikali china gui ambaye\n",
      "alisomea shahada ya uzamivu katika chuo kikuu cha cambridge  uingereza amekuwa akiendesha kampeni mitandaoni\n",
      "ya kutaka kuachiwa kwa baba yake mwezi uliopita lindstedt\n",
      "alikaribishwa katika mkutano na kundi la wafanyabiashara wa china waliodai kuwa\n",
      "na ukaribu na chama cha kikomunisti cha china gui alisema watu\n",
      "hao walimshinikiza akubali kuingia makubaliano  ambayo yatamfanya aache kuzungumza hadharani\n",
      "kuhusu kesi ya baba yake na kumuahidi angetumikia kifungo cha miaka mitano na   kuachiwa wizara ya mambo\n",
      "ya nje ya sweden ilisema haikupewa taarifa za kuwapo mkutano huo uliohudhuriwa\n",
      "na lindstedt ambaye kwa sasa anakabiliwa na uchunguzi wa ndani kwa mujibu wa gui\n",
      "lindstedt aliwasiliana naye na kusema kuna mbinu mpya kuhusu kesi ya baba yake\n",
      "na kumtaka ahudhurie mkutano na wafanyabiashara hao mjini stockholm” gui aliandika\n",
      "mtandaoni akapanda ndege\n",
      "kuelekea stockholm na kufikia katika hoteli waliyopanga kukutana ambako alipelekwa\n",
      "kwenye ukumbi alikoonana na watu hao “kulikuwa na\n",
      "vinywaji vingi vya kulevya na maswali mengi ya ajabu ajabu” gui aliandika “lakini kwa\n",
      "sababu balozi lindstedt alikuwapo na alionekana kuridhika na kila kinachoendelea\n",
      "nikadhani ni mkutano ulioandaliwa na wizara ya mambo ya nje ya sweden” anasema mmoja wa\n",
      "wafanyabiashara alimpa ofa ya kufikia makubaliano  ambayo baba yake angeenda mahakamani na\n",
      "kufungwa jela miaka michache ili binti aache kuandika hadharani kuhusu\n",
      "kushikiliwa kwa baba yake kwa mujibu ya\n",
      "maelezo ya gui lindstedt alionekana kuunga mkono mpango huo akimwambia kuwa china\n",
      "inaanzisha mpango mpya wa  diplomasia na\n",
      "iwapo ataendelea kutoa matamko mitandaoni china inaweza kuiadhibu sweden\n"
     ]
    }
   ],
   "source": [
    "#----REMOVE PUNCTUATION----#\n",
    "\n",
    "punctuation_list = \".!?`,)-(\\\"\" # add quotations and brackets\n",
    "for punc in punctuation_list:\n",
    "    sample = sample.replace(punc, \"\")\n",
    "print (sample)"
   ]
  },
  {
   "cell_type": "markdown",
   "metadata": {},
   "source": [
    "Whitespace characters such as newline characters, tabs and latin spaces are removed, as shown below."
   ]
  },
  {
   "cell_type": "code",
   "execution_count": 49,
   "metadata": {
    "colab": {
     "base_uri": "https://localhost:8080/"
    },
    "executionInfo": {
     "elapsed": 30,
     "status": "ok",
     "timestamp": 1623823623003,
     "user": {
      "displayName": "Sam Ball",
      "photoUrl": "",
      "userId": "13021419479325006913"
     },
     "user_tz": -120
    },
    "id": "NMFswsYHWLq5",
    "outputId": "a1402869-79a3-4e9f-c416-d9f00bd32a0e"
   },
   "outputs": [
    {
     "name": "stdout",
     "output_type": "stream",
     "text": [
      "stockholm sweden serikali ya sweden imemrudisha nyumbani balozi wake nchini china kuhusiana na kuhusika kwake katika mkutano wenye utata uliohusisha binti wa muuza vitabu mwenye asili ya mataifa hayo mawili ambaye anashikiliwa na china balozi anna lindstedt aliondoka beijing juzi msemaji wa wizara ya mambo ya nje wa sweden alisema tukio lilianza kwa angela gui ambaye baba yake gui minhai anaaminika kutekwa na makachero wa china mwaka 2015 kuandika kwenye mtandao wa jamii kuhusu mkutano huo na lindstedt gui alikuwa mmoja wa wauza vitabu watano wa hong kong waliokamatwa vitabu wanavyouza vimekuwa vikiikosoa vikali china gui ambaye alisomea shahada ya uzamivu katika chuo kikuu cha cambridge  uingereza amekuwa akiendesha kampeni mitandaoni ya kutaka kuachiwa kwa baba yake mwezi uliopita lindstedt alikaribishwa katika mkutano na kundi la wafanyabiashara wa china waliodai kuwa na ukaribu na chama cha kikomunisti cha china gui alisema watu hao walimshinikiza akubali kuingia makubaliano  ambayo yatamfanya aache kuzungumza hadharani kuhusu kesi ya baba yake na kumuahidi angetumikia kifungo cha miaka mitano na   kuachiwa wizara ya mambo ya nje ya sweden ilisema haikupewa taarifa za kuwapo mkutano huo uliohudhuriwa na lindstedt ambaye kwa sasa anakabiliwa na uchunguzi wa ndani kwa mujibu wa gui lindstedt aliwasiliana naye na kusema kuna mbinu mpya kuhusu kesi ya baba yake na kumtaka ahudhurie mkutano na wafanyabiashara hao mjini stockholm” gui aliandika mtandaoni akapanda ndege kuelekea stockholm na kufikia katika hoteli waliyopanga kukutana ambako alipelekwa kwenye ukumbi alikoonana na watu hao “kulikuwa na vinywaji vingi vya kulevya na maswali mengi ya ajabu ajabu” gui aliandika “lakini kwa sababu balozi lindstedt alikuwapo na alionekana kuridhika na kila kinachoendelea nikadhani ni mkutano ulioandaliwa na wizara ya mambo ya nje ya sweden” anasema mmoja wa wafanyabiashara alimpa ofa ya kufikia makubaliano  ambayo baba yake angeenda mahakamani na kufungwa jela miaka michache ili binti aache kuandika hadharani kuhusu kushikiliwa kwa baba yake kwa mujibu ya maelezo ya gui lindstedt alionekana kuunga mkono mpango huo akimwambia kuwa china inaanzisha mpango mpya wa  diplomasia na iwapo ataendelea kutoa matamko mitandaoni china inaweza kuiadhibu sweden\n"
     ]
    }
   ],
   "source": [
    "#---REMOVE WHITESPACE CHARACTERS---#\n",
    "\n",
    "sample = sample.replace(u'\\xa0', u' ') # remove latin spaces\n",
    "sample = sample.replace(u'\\n', u' ') # remove newline characters \n",
    "sample = sample.replace(u'\\t', u' ') # remove tab characters\n",
    "print(sample)"
   ]
  },
  {
   "cell_type": "markdown",
   "metadata": {
    "id": "nJkDUrgPWLq5"
   },
   "source": [
    "#### c) Tokenize\n",
    "\n",
    "Tokenizing refers to the splitting of the sample into individual words or 'tokens'."
   ]
  },
  {
   "cell_type": "code",
   "execution_count": 50,
   "metadata": {
    "colab": {
     "base_uri": "https://localhost:8080/"
    },
    "executionInfo": {
     "elapsed": 27,
     "status": "ok",
     "timestamp": 1623823623004,
     "user": {
      "displayName": "Sam Ball",
      "photoUrl": "",
      "userId": "13021419479325006913"
     },
     "user_tz": -120
    },
    "id": "soAweyPnWLq5",
    "outputId": "b97cc50b-2e0d-4c60-9637-90e937722178"
   },
   "outputs": [
    {
     "name": "stdout",
     "output_type": "stream",
     "text": [
      "['stockholm', 'sweden', 'serikali', 'ya', 'sweden', 'imemrudisha', 'nyumbani', 'balozi', 'wake', 'nchini', 'china', 'kuhusiana', 'na', 'kuhusika', 'kwake', 'katika', 'mkutano', 'wenye', 'utata', 'uliohusisha', 'binti', 'wa', 'muuza', 'vitabu', 'mwenye', 'asili', 'ya', 'mataifa', 'hayo', 'mawili', 'ambaye', 'anashikiliwa', 'na', 'china', 'balozi', 'anna', 'lindstedt', 'aliondoka', 'beijing', 'juzi', 'msemaji', 'wa', 'wizara', 'ya', 'mambo', 'ya', 'nje', 'wa', 'sweden', 'alisema', 'tukio', 'lilianza', 'kwa', 'angela', 'gui', 'ambaye', 'baba', 'yake', 'gui', 'minhai', 'anaaminika', 'kutekwa', 'na', 'makachero', 'wa', 'china', 'mwaka', '2015', 'kuandika', 'kwenye', 'mtandao', 'wa', 'jamii', 'kuhusu', 'mkutano', 'huo', 'na', 'lindstedt', 'gui', 'alikuwa', 'mmoja', 'wa', 'wauza', 'vitabu', 'watano', 'wa', 'hong', 'kong', 'waliokamatwa', 'vitabu', 'wanavyouza', 'vimekuwa', 'vikiikosoa', 'vikali', 'china', 'gui', 'ambaye', 'alisomea', 'shahada', 'ya', 'uzamivu', 'katika', 'chuo', 'kikuu', 'cha', 'cambridge', '', 'uingereza', 'amekuwa', 'akiendesha', 'kampeni', 'mitandaoni', 'ya', 'kutaka', 'kuachiwa', 'kwa', 'baba', 'yake', 'mwezi', 'uliopita', 'lindstedt', 'alikaribishwa', 'katika', 'mkutano', 'na', 'kundi', 'la', 'wafanyabiashara', 'wa', 'china', 'waliodai', 'kuwa', 'na', 'ukaribu', 'na', 'chama', 'cha', 'kikomunisti', 'cha', 'china', 'gui', 'alisema', 'watu', 'hao', 'walimshinikiza', 'akubali', 'kuingia', 'makubaliano', '', 'ambayo', 'yatamfanya', 'aache', 'kuzungumza', 'hadharani', 'kuhusu', 'kesi', 'ya', 'baba', 'yake', 'na', 'kumuahidi', 'angetumikia', 'kifungo', 'cha', 'miaka', 'mitano', 'na', '', '', 'kuachiwa', 'wizara', 'ya', 'mambo', 'ya', 'nje', 'ya', 'sweden', 'ilisema', 'haikupewa', 'taarifa', 'za', 'kuwapo', 'mkutano', 'huo', 'uliohudhuriwa', 'na', 'lindstedt', 'ambaye', 'kwa', 'sasa', 'anakabiliwa', 'na', 'uchunguzi', 'wa', 'ndani', 'kwa', 'mujibu', 'wa', 'gui', 'lindstedt', 'aliwasiliana', 'naye', 'na', 'kusema', 'kuna', 'mbinu', 'mpya', 'kuhusu', 'kesi', 'ya', 'baba', 'yake', 'na', 'kumtaka', 'ahudhurie', 'mkutano', 'na', 'wafanyabiashara', 'hao', 'mjini', 'stockholm”', 'gui', 'aliandika', 'mtandaoni', 'akapanda', 'ndege', 'kuelekea', 'stockholm', 'na', 'kufikia', 'katika', 'hoteli', 'waliyopanga', 'kukutana', 'ambako', 'alipelekwa', 'kwenye', 'ukumbi', 'alikoonana', 'na', 'watu', 'hao', '“kulikuwa', 'na', 'vinywaji', 'vingi', 'vya', 'kulevya', 'na', 'maswali', 'mengi', 'ya', 'ajabu', 'ajabu”', 'gui', 'aliandika', '“lakini', 'kwa', 'sababu', 'balozi', 'lindstedt', 'alikuwapo', 'na', 'alionekana', 'kuridhika', 'na', 'kila', 'kinachoendelea', 'nikadhani', 'ni', 'mkutano', 'ulioandaliwa', 'na', 'wizara', 'ya', 'mambo', 'ya', 'nje', 'ya', 'sweden”', 'anasema', 'mmoja', 'wa', 'wafanyabiashara', 'alimpa', 'ofa', 'ya', 'kufikia', 'makubaliano', '', 'ambayo', 'baba', 'yake', 'angeenda', 'mahakamani', 'na', 'kufungwa', 'jela', 'miaka', 'michache', 'ili', 'binti', 'aache', 'kuandika', 'hadharani', 'kuhusu', 'kushikiliwa', 'kwa', 'baba', 'yake', 'kwa', 'mujibu', 'ya', 'maelezo', 'ya', 'gui', 'lindstedt', 'alionekana', 'kuunga', 'mkono', 'mpango', 'huo', 'akimwambia', 'kuwa', 'china', 'inaanzisha', 'mpango', 'mpya', 'wa', '', 'diplomasia', 'na', 'iwapo', 'ataendelea', 'kutoa', 'matamko', 'mitandaoni', 'china', 'inaweza', 'kuiadhibu', 'sweden']\n"
     ]
    }
   ],
   "source": [
    "#----TOKENIZE----#\n",
    "\n",
    "sample = sample.split(\" \")\n",
    "print(sample)"
   ]
  },
  {
   "cell_type": "markdown",
   "metadata": {
    "id": "6_C71oA8WLq6"
   },
   "source": [
    "#### d) Remove stopwords\n",
    "\n",
    "Stopwords refer to joining or common words that do not add to the meaning of the sentence. Stopwords for the Swahili language were obtained through the integration of additional data from Mendeley data [[2](#references)]."
   ]
  },
  {
   "cell_type": "code",
   "execution_count": 51,
   "metadata": {
    "colab": {
     "base_uri": "https://localhost:8080/"
    },
    "executionInfo": {
     "elapsed": 25,
     "status": "ok",
     "timestamp": 1623823623005,
     "user": {
      "displayName": "Sam Ball",
      "photoUrl": "",
      "userId": "13021419479325006913"
     },
     "user_tz": -120
    },
    "id": "o0Pu65Q-WLq6",
    "outputId": "82f2d793-ab72-4564-fe9d-25d2aebebd77"
   },
   "outputs": [
    {
     "name": "stdout",
     "output_type": "stream",
     "text": [
      "['na' 'lakini' 'ingawa' 'ingawaje' 'kwa' 'sababu' 'hadi' 'hata' 'kama'\n",
      " 'ambapo' 'ambamo' 'ambako' 'ambacho' 'ambao' 'ambaye' 'ilhali' 'ya'\n",
      " 'yake' 'yao' 'yangu' 'yetu' 'yenu' 'vya' 'vyao' 'vyake' 'vyangu' 'vyenu'\n",
      " 'vyetu' 'yako' 'yao' 'hizo' 'yenu' 'mimi' 'sisi' 'wewe' 'nyinyi' 'yeye'\n",
      " 'wao' 'nao' 'nasi' 'nanyi' 'ni' 'alikuwa' 'atakuwa' 'hii' 'hizi' 'zile'\n",
      " 'ile' 'hivi' 'vile' 'za' 'zake' 'zao' 'zenu' 'kwenye' 'katika' 'kwa'\n",
      " 'kwao' 'kwenu' 'kwetu' 'dhidi' 'kati' 'miongoni' 'katikati' 'wakati'\n",
      " 'kabla' 'baada' 'baadaye' 'nje' 'tena' 'mbali' 'halafu' 'hapa' 'pale'\n",
      " 'mara' 'mara' 'yoyote' 'wowote' 'chochote' 'vyovyote' 'yeyote' 'lolote'\n",
      " 'mwenye' 'mwenyewe' 'lenyewe' 'lenye' 'wote' 'lote' 'vyote' 'nyote'\n",
      " 'kila' 'zaidi' 'hapana' 'ndiyo' 'au' 'ama' 'ama' 'sio' 'siye' 'tu' 'budi'\n",
      " 'nyingi' 'nyingine' 'wengine' 'mwingine' 'zingine' 'lingine' 'kingine'\n",
      " 'chote' 'sasa' 'basi' 'bila' 'cha' 'chini' 'hapo' 'pale' 'huku' 'kule'\n",
      " 'humu' 'hivyo' 'hivyohivyo' 'vivyo' 'palepale' 'fauka' 'hiyo' 'hiyohiyo'\n",
      " 'zile' 'zilezile' 'hao' 'haohao' 'huku' 'hukuhuku' 'humuhumu' 'huko'\n",
      " 'hukohuko' 'huo' 'huohuo' 'hili' 'hilihili' 'ilikuwa' 'juu' 'karibu'\n",
      " 'kila' 'kima' 'kisha' 'kutoka' 'kwenda' 'kubwa' 'ndogo' 'kwamba' 'kuwa'\n",
      " 'la' 'lao' 'lo' 'mara' 'na' 'mdogo' 'mkubwa' 'ng’o' 'pia' 'aidha' 'vile'\n",
      " 'vilevile' 'kadhalika' 'halikadhalika' 'ni' 'sana' 'pamoja' 'pamoja'\n",
      " 'tafadhali' 'tena' 'wa' 'wake' 'wao' 'ya' 'yule' 'wale' 'zangu' 'nje'\n",
      " 'afanaleki' 'salale' 'oyee' 'yupi' 'ipi' 'lipi' 'ngapi' 'yetu' 'si'\n",
      " 'angali' 'wangali' 'loo' 'la' 'ohoo' 'barabara' 'oyee' 'ewaa' 'walahi'\n",
      " 'masalale' 'duu' 'toba' 'mh' 'kumbe' 'ala' 'ebo' 'haraka' 'pole'\n",
      " 'polepole' 'harakaharaka' 'hiyo' 'hivyo' 'vyovyote' 'atakuwa' 'itakuwa'\n",
      " 'mtakuwa' 'tutakuwa' 'labda' 'yumkini' 'haiyumkini' 'yapata' 'takribani'\n",
      " 'hususani' 'yawezekana' 'nani' 'juu' 'chini' 'ndani' 'baadhi' 'kuliko'\n",
      " 'vile' 'mwa' 'kwa' 'hasha' 'hivyo' 'moja' 'kisha' 'pili' 'kwanza' 'ili'\n",
      " 'je' 'jinsi' 'ila' 'a' 'b' 'c' 'd' 'e' 'f' 'g' 'h' 'ila' 'nini' 'hasa'\n",
      " 'huu' 'zako' 'mimi']\n"
     ]
    }
   ],
   "source": [
    "#----REMOVE STOPWORDS----#\n",
    "\n",
    "data_path = \"./stopwords.csv\" # additional data from Mendeley data\n",
    "stopword_data = pd.read_csv(data_path) #read in data\n",
    "\n",
    "stopword_list = stopword_data[\"StopWords\"].values\n",
    "print(stopword_list)"
   ]
  },
  {
   "cell_type": "code",
   "execution_count": 52,
   "metadata": {
    "colab": {
     "base_uri": "https://localhost:8080/"
    },
    "executionInfo": {
     "elapsed": 21,
     "status": "ok",
     "timestamp": 1623823623005,
     "user": {
      "displayName": "Sam Ball",
      "photoUrl": "",
      "userId": "13021419479325006913"
     },
     "user_tz": -120
    },
    "id": "DC-WBy2rWLq6",
    "outputId": "c33ce5c2-b705-4108-ecd4-be012134aa10"
   },
   "outputs": [
    {
     "name": "stdout",
     "output_type": "stream",
     "text": [
      "['stockholm', 'sweden', 'serikali', 'sweden', 'imemrudisha', 'nyumbani', 'balozi', 'nchini', 'china', 'kuhusiana', 'kuhusika', 'kwake', 'mkutano', 'wenye', 'utata', 'uliohusisha', 'binti', 'muuza', 'vitabu', 'asili', 'mataifa', 'hayo', 'mawili', 'anashikiliwa', 'china', 'balozi', 'anna', 'lindstedt', 'aliondoka', 'beijing', 'juzi', 'msemaji', 'wizara', 'mambo', 'sweden', 'alisema', 'tukio', 'lilianza', 'angela', 'gui', 'baba', 'gui', 'minhai', 'anaaminika', 'kutekwa', 'makachero', 'china', 'mwaka', '2015', 'kuandika', 'mtandao', 'jamii', 'kuhusu', 'mkutano', 'lindstedt', 'gui', 'mmoja', 'wauza', 'vitabu', 'watano', 'hong', 'kong', 'waliokamatwa', 'vitabu', 'wanavyouza', 'vimekuwa', 'vikiikosoa', 'vikali', 'china', 'gui', 'alisomea', 'shahada', 'uzamivu', 'chuo', 'kikuu', 'cambridge', '', 'uingereza', 'amekuwa', 'akiendesha', 'kampeni', 'mitandaoni', 'kutaka', 'kuachiwa', 'baba', 'mwezi', 'uliopita', 'lindstedt', 'alikaribishwa', 'mkutano', 'kundi', 'wafanyabiashara', 'china', 'waliodai', 'ukaribu', 'chama', 'kikomunisti', 'china', 'gui', 'alisema', 'watu', 'walimshinikiza', 'akubali', 'kuingia', 'makubaliano', '', 'ambayo', 'yatamfanya', 'aache', 'kuzungumza', 'hadharani', 'kuhusu', 'kesi', 'baba', 'kumuahidi', 'angetumikia', 'kifungo', 'miaka', 'mitano', '', '', 'kuachiwa', 'wizara', 'mambo', 'sweden', 'ilisema', 'haikupewa', 'taarifa', 'kuwapo', 'mkutano', 'uliohudhuriwa', 'lindstedt', 'anakabiliwa', 'uchunguzi', 'mujibu', 'gui', 'lindstedt', 'aliwasiliana', 'naye', 'kusema', 'kuna', 'mbinu', 'mpya', 'kuhusu', 'kesi', 'baba', 'kumtaka', 'ahudhurie', 'mkutano', 'wafanyabiashara', 'mjini', 'stockholm”', 'gui', 'aliandika', 'mtandaoni', 'akapanda', 'ndege', 'kuelekea', 'stockholm', 'kufikia', 'hoteli', 'waliyopanga', 'kukutana', 'alipelekwa', 'ukumbi', 'alikoonana', 'watu', '“kulikuwa', 'vinywaji', 'vingi', 'kulevya', 'maswali', 'mengi', 'ajabu', 'ajabu”', 'gui', 'aliandika', '“lakini', 'balozi', 'lindstedt', 'alikuwapo', 'alionekana', 'kuridhika', 'kinachoendelea', 'nikadhani', 'mkutano', 'ulioandaliwa', 'wizara', 'mambo', 'sweden”', 'anasema', 'mmoja', 'wafanyabiashara', 'alimpa', 'ofa', 'kufikia', 'makubaliano', '', 'ambayo', 'baba', 'angeenda', 'mahakamani', 'kufungwa', 'jela', 'miaka', 'michache', 'binti', 'aache', 'kuandika', 'hadharani', 'kuhusu', 'kushikiliwa', 'baba', 'mujibu', 'maelezo', 'gui', 'lindstedt', 'alionekana', 'kuunga', 'mkono', 'mpango', 'akimwambia', 'china', 'inaanzisha', 'mpango', 'mpya', '', 'diplomasia', 'iwapo', 'ataendelea', 'kutoa', 'matamko', 'mitandaoni', 'china', 'inaweza', 'kuiadhibu', 'sweden']\n"
     ]
    }
   ],
   "source": [
    "# remove every occurrence of stopwords occurring in the sample \n",
    "\n",
    "sample = [word for word in sample if word not in stopword_list]\n",
    "print(sample)"
   ]
  },
  {
   "cell_type": "markdown",
   "metadata": {},
   "source": [
    "It can be observed that the cleaned sample is shorter than the original news article. The above steps are collated into a single method below."
   ]
  },
  {
   "cell_type": "code",
   "execution_count": 54,
   "metadata": {
    "executionInfo": {
     "elapsed": 18,
     "status": "ok",
     "timestamp": 1623823623006,
     "user": {
      "displayName": "Sam Ball",
      "photoUrl": "",
      "userId": "13021419479325006913"
     },
     "user_tz": -120
    },
    "id": "pCtFrcLuWLq6"
   },
   "outputs": [],
   "source": [
    "#----DATA CLEANING ALGORITHM---#\n",
    "\n",
    "# create one method to perform data cleaning steps\n",
    "def process_sample(sample, stopword_list):\n",
    "    \n",
    "     # lowercase\n",
    "    sample = sample.lower()\n",
    "    \n",
    "    # remove punctuation\n",
    "    punctuation_list = \".!`?,)-(\\\"\" \n",
    "    for punc in punctuation_list:\n",
    "        sample = sample.replace(punc, \"\") \n",
    "    \n",
    "    # remove newline and tab characters and latin spaces\n",
    "    sample = sample.replace(u'\\xa0', u' ')\n",
    "    sample = sample.replace(u'\\n', u' ')\n",
    "    sample = sample.replace(u'\\t', u' ')\n",
    "    \n",
    "    # tokenize   \n",
    "    sample = sample.split(\" \") \n",
    "    \n",
    "    # remove stopwords\n",
    "    sample = [word for word in sample if word not in stopword_list]\n",
    "    return sample\n",
    "    "
   ]
  },
  {
   "cell_type": "markdown",
   "metadata": {},
   "source": [
    "We now apply the pre-processing steps to all samples."
   ]
  },
  {
   "cell_type": "code",
   "execution_count": 56,
   "metadata": {
    "colab": {
     "base_uri": "https://localhost:8080/"
    },
    "executionInfo": {
     "elapsed": 75380,
     "status": "ok",
     "timestamp": 1623823748715,
     "user": {
      "displayName": "Sam Ball",
      "photoUrl": "",
      "userId": "13021419479325006913"
     },
     "user_tz": -120
    },
    "id": "lJZFTN2FWLq7",
    "outputId": "01bcc1b1-6674-457b-ec7d-b8911132c795"
   },
   "outputs": [
    {
     "name": "stdout",
     "output_type": "stream",
     "text": [
      "[[['', 'bodi', 'utalii', 'tanzania', 'ttb', 'imesema', 'itafanya', 'misafara', 'kutangaza', 'utalii', 'miji', 'minne', 'nchini', 'china', 'juni', '19', 'juni', '26', 'mwaka', 'huumisafara', 'itatembelea', 'miji', 'beijing', 'juni', '19', 'shanghai', 'juni', '21', 'nanjig', 'juni', '24', 'changsha', 'juni', '26mwenyekiti', 'bodi', 'ttb', 'jaji', 'mstaafu', 'thomas', 'mihayo', 'ameyasema', 'hayo', 'mkutano', 'waandishi', 'habari', 'jijini', 'dar', 'es', 'salaam“tunafanya', 'jitihada', 'kuhakikisha', 'tunavuna', 'watalii', 'wengi', 'china', 'tukizingatia', 'umuhimu', 'soko', 'sekta', 'utalii', 'nchini”', 'amesema', 'jaji', 'mihayonovemba', '2018', 'ttb', 'ilifanya', 'ziara', 'miji', 'beijing', 'shanghai', 'chengdu', 'guangzhou', 'hong', 'kong', 'kutangaza', 'vivutio', 'utalii', 'sanjari', 'kuzitangaza', 'safari', 'ndege', 'air', 'tanzaniaziara', 'inaelezwa', 'kuzaa', 'matunda', 'ikiwa', 'watalii', '300', 'kuja', 'nchini', 'mei', 'mwaka', 'kutembelea', 'vivutio', 'utalii'], 'uchumi'], [['', 'pendo', 'fundishambeya', 'rais', 'dk', 'john', 'magufuri', 'ametangaza', 'kuwafukuza', 'kazi', 'wakurugenzi', 'halmashauri', 'watabainika', 'kukiuka', 'sheria', 'ufutaji', 'tozo', 'ushuru', 'mazao', 'alisema', 'kuingia', 'madarakani', 'serikali', 'iliondoa', 'tozo', '80', 'tozo', 'ushuru', 'wakulima', 'walikuwa', 'wakilipa', 'mazao', 'halmashauri', 'rais', 'dk', 'magufuli', 'aliyasema', 'hayo', 'juzi', 'alipokuwa', 'akiwahutubia', 'wakazi', 'wilaya', 'kyela', 'ziara', 'kikazi', 'siku', '10', 'mkoani', 'mbeya', 'alisema', 'sheria', 'ufutaji', 'tozo', 'zilipitishwa', 'bunge', 'hakuna', 'mtu', 'kuitengua', 'mkurugenzi', 'atakaye', 'itengua', 'umevunja', 'sheria', 'anawajibu', 'kufukuzwa', 'kazi', 'alisema', 'licha', 'kupitishwa', 'sheria', 'wapo', 'watendaji', 'wameendelea', 'kuwatoza', 'ushuru', 'wananchi', 'kisingizio', 'kupandisha', 'ukusanyaji', 'mapato', 'hilo', 'jambo', 'sitaki', 'kulisikia', '“wapo', 'watendaji', 'wanasema', 'kufutwa', 'ushuru', 'kunapunguza', 'mapato', 'narudia', 'viongozi', 'wakurugenzi', 'watendaji', 'halmashauri', 'msiwatoze', 'wananchi', 'ushuru', 'mzigo', 'usio', 'zidi', 'tani', 'moja”alisema', 'alitoa', 'wito', 'watendaji', 'kuzingatia', 'sheria', 'kuwalinda', 'wakulima', 'ndio', 'maana', 'serikali', 'iliziondoa', 'tozo', '80'], 'kitaifa'], [['mwandishi', 'wetu', 'singida', 'benki', 'nmb', 'imetoa', 'msaada', 'vifaa', 'mbalimbali', 'vyenye', 'thamani', 'sh', 'milioni', '200', 'wilaya', 'kadhaa', 'nchini', 'misaada', 'iliyotolewa', 'benki', 'inayoongoza', 'kutengeneza', 'faida', 'benki', 'zote', 'zinazofanya', 'biashara', 'nchini', 'miezi', 'mitano', 'mwaka', 'inahusisha', 'vifaa', 'ujenzi', 'madawati', 'vifaa', 'vingine', 'vinavyowezesha', 'ukamilishaji', 'miradi', 'afyaelimu', 'usalama', 'raia', 'benki', '', 'nmb', 'imeshatoa', '', 'msaada', '', 'vifaa', 'vyenye', 'thamani', 'sh', 'milioni', '200', 'mikoa', 'kanda', 'akifafanua', 'kuhusu', 'misaada', 'akikabidhi', 'msaada', 'madawati', 'vitanda', 'shule', 'halmashauri', 'wilaya', 'iramba', 'mkoani', 'ingida', 'meneja', 'kanda', 'nmb', 'nsolo', 'mlozi', 'alibainisha', 'misaada', 'sh', 'milioni', '200', 'iliyotolewa', 'imelenga', 'sekta', 'elimu', 'afya', '', 'majanga', 'mikoa', 'mitatu', '', 'kanda', 'akikabidhi', 'msaada', 'madawati', 'vitanda', 'shule', 'halmashauri', 'wilaya', 'iramba', 'mkoanisingida', 'shule', 'sekondari', 'new', 'kiomboi', 'mlozi', 'alisema', 'fedha', 'zilizotolewa', 'nmb', 'zimetumika', 'kununua', 'madawati', 'viti', 'shule', 'sekondarivitanda', 'vifaa', 'tiba', 'sekta', 'afya', 'alisema', 'lengo', 'misaada', 'kuunga', 'mkono', 'juhudi', 'serikali', 'kuwahudumia', 'wananchi', 'sekta', 'mbalimbali', 'alisema', 'misaada', 'imekabidhiwa', 'shule', 'zahanati', 'hospitali', 'mikoa', 'singida', 'dodoma', 'manyara', 'nmb', 'walikabidhi', 'madawati', '250', 'vitanda', '80', 'vyenye', 'thamani', 'sh', 'milioni', '295', 'shule', 'wilaya', 'iramba', 'mkoani', 'humo', 'hatua', 'benki', 'imevipatia', 'kituo', 'polisi', 'wilaya', 'kilosa', 'mkoani', 'morogoro', 'shule', 'msingi', 'msowelo', 'mabati', '160', 'yenye', 'thamani', 'sh5', 'milioni', 'ajili', 'kuezekea', 'maboma', 'nmb', 'iliamua', 'kutoa', 'msaada', 'ikiwa', 'mpango', 'kuzipunguza', 'changamoto', 'taasisi', 'serikali', 'nchini', 'meneja', 'nmb', 'kanda', 'mashariki', 'baraka', 'ladislaus', 'alisema', 'kubainisha', 'msaada', 'sehemu', 'mikakati', 'benki', 'kurudisha', 'sehemu', 'faida', 'jamii', 'kusaidia', 'kuinua', 'miradi', 'maendeleo', 'baraka', 'alisema', 'mabati', 'hayo', 'kituo', 'polisi', 'wilaya', 'kimepa', 'tamabati', '80', 'shule', 'msingi', 'msowelo', 'nayo', 'ikipata', 'mabati', '80'], 'uchumi'], [['', 'timu', 'taifa', 'tanzania', 'serengeti', 'boys', 'jana', 'ilijiweka', 'nafasi', 'fi', 'nyu', 'mashindano', 'mataifa', 'afrika', 'wachezaji', 'wenye', 'umri', 'miaka', '17', 'kuchapwa', 'mabao', '30', 'uganda', 'uwanja', 'taifa', 'dar', 'es', 'salaamuganda', 'waliandika', 'bao', 'dakika', '15', 'lililofungwa', 'kawooya', 'andrew', 'akiunganisha', 'wavuni', 'krosi', 'najibu', 'viga', 'lile', 'likifungwa', 'asaba', 'ivan', 'dakika', '27', 'najib', 'yigaserengeti', 'boys', 'iliendelea', 'kulala', 'yiga', 'aliifungia', 'uganda', 'bao', 'tatu', 'ushindi', 'kuifanya', 'serengeti', 'kushika', 'mkia', 'kundi', 'kuacha', 'simanzi', 'wapenzi', 'soka', 'nchini', 'serengeti', 'boys', 'inasubiri', 'mchezo', 'mwisho', 'senegal', 'nigeria', 'ikisonga', 'mbele', 'kushinda', 'mchezo', 'awali', 'uwanja', 'kufikisha', 'pointi', 'sita', 'kushinda', 'ule', 'ufunguzi', 'tanzania'], 'michezo'], [['', 'agatha', 'charles', '–', 'dar', 'es', 'salaam', 'aliyekuwa', 'katibu', 'bunge', 'serikali', 'mitaa', 'sekretarieti', 'chama', 'actwazalendo', 'habibu', 'mchange', 'amejiondoa', 'uanachama', 'chama', 'hicho', 'kujiweka', 'kando', 'siasa', 'taarifa', 'uamuzi', 'mchange', 'ilisambazwa', 'jana', 'mitandao', 'kijamii', 'ikionyesha', 'kuandikwa', 'naye', 'ikiambatanishwa', 'namba', 'simu', 'andiko', 'hilo', 'mchange', 'aliyewahi', 'mwanachama', 'chadema', 'hajahamia', 'act', 'wazalendo', 'alisema', 'aliamua', 'kujitoa', 'rasmi', 'ushiriki', 'aina', 'siasa', 'apate', 'muda', 'kusimamia', 'shughuli', 'kijasiriamali', 'mchange', 'alisema', 'ameamua', 'kujiengua', 'siasa', 'kutoa', 'fursa', 'huduma', 'sawa', 'viongozi', 'wanachama', 'vyama', 'siasa', '“kwa', 'moyo', 'mkunjufu', 'kabisa', 'mapenzi', 'mema', 'taifa', 'langu', 'ninathibitisha', 'nimejitoa', 'rasmi', 'ushiriki', 'aina', 'yote', 'siasa', 'nipate', 'muda', 'mwingi', 'kufanya', 'kusimamia', 'shughuli', 'kijasiriamali', 'zinazonitaka', 'nitoe', 'fursa', 'huduma', 'sawa', 'viongozi', 'wanachama', 'vyama', 'siasa”', 'alisema', 'mchange', 'alisema', 'kutokana', 'uamuzi', 'aliomba', 'uheshimiwe', 'atakalolifanya', 'lisihusishwe', 'chama', 'bali', 'iwe', 'msimamo', 'mtu', 'huru', 'asiye', 'chama', '“ninafahamu', 'mwanachama', 'chama', 'siasa', 'haki', 'kikatiba', 'nimeamua', 'kuihifadhi', 'mpaka', 'nitakapoona', 'inafaa', 'kufanya', 'vinginevyo', 'ninawatakia', 'heri', 'waliokuwa', 'wanachama', 'wenzangu', 'act', 'wazalendo', 'kuyafikia', 'malengo', 'msingi', 'uanzishwaji', 'chama', 'hicho”', 'alisema', 'mchange', 'mchange', 'alisema', 'kujiondoa', 'kwake', 'kusihesabiwe', 'sehemu', 'kukwamisha', 'kurudisha', 'nyuma', 'matarajio', 'malengo', 'chama', 'hicho', 'bali', 'ichukuliwe', 'chachu', 'kufika', '“msivunjike', 'moyo', 'msirumbane', 'pendaneni', 'heshimianeni', 'shikamaneni', 'mfikie', 'lengo', 'nitabaki', 'kuendelea', 'ndugu', 'rafiki', 'swahiba', 'mtanzania', 'mwenzenu', 'tutaendelea', 'kushirikiana', 'mambo', 'yote', 'kijamii', 'kimaisha', 'yasiyohusiana', 'mlengo', 'kiitikadi', 'kisiasa”', 'alisema', 'mchange', 'mchange', 'alishika', 'nafasi', 'mbalimbali', 'chama', 'hicho', 'ikiwamo', 'katibu', 'mipango', 'mikakati', 'mjumbe', 'kamati', 'kuu', 'mjumbe', 'halmashauri', 'kuu', 'mjumbe', 'mkutano', 'mkuu', 'mtanzania', 'jumapili', 'lilimtafuta', 'mchange', 'simu', 'kuthibitisha', 'andiko', 'hilo', 'hakuweza', 'kupatikana', 'alipotafutwa', 'ofisa', 'habari', 'actwazalendo', 'abdallah', 'khamis', 'alikiri', 'andiko', 'hilo', 'mchange', 'mchange', 'anakuwa', 'mwanasiasa', 'tatu', 'kuondoka', 'actwazalendo', 'mwaka', 'aliyekuwa', 'katibu', 'mkuu', 'chama', 'hicho', 'samson', 'mwigamba', 'kuachia', 'nafasi', 'masomoni', 'nchini', 'kenya', 'aprili', 'mwaka', 'miezi', 'michache', 'novemba', 'mwaka', 'mwanasiasa', 'moses', 'machali', 'naye', 'alitangaza', 'kujiondoa', 'rasmi', 'chama', 'hicho', 'kuunga', 'mkono', 'jitihada', 'zinazofanywa', 'rais', 'dk', 'john', 'magufuli', 'machali', 'aliwahi', 'mbunge', 'kasulu', 'mjini', 'kupitia', 'chama', 'nccrmageuzi', 'mwaka', 'jana', 'kushindwa', 'kutetea', 'jimbo', 'lake', 'kupitia', 'actwazalendo'], 'kitaifa']]\n"
     ]
    }
   ],
   "source": [
    "#---PROCESS ALL SAMPLES---#\n",
    "\n",
    "clean_samples = []\n",
    "for i in range(len(df['content'].values)):\n",
    "    sample = df['content'].values[i]\n",
    "    clean = process_sample(sample, stopword_list)\n",
    "    row = [clean, df['category'].values[i]]\n",
    "    clean_samples.append(row)\n",
    "\n",
    "print(clean_samples[0:5])\n"
   ]
  },
  {
   "cell_type": "markdown",
   "metadata": {},
   "source": [
    "#### Save clean data to CSV\n",
    "\n",
    "The cleaned samples are saved to a csv file for further exploration."
   ]
  },
  {
   "cell_type": "code",
   "execution_count": 57,
   "metadata": {
    "executionInfo": {
     "elapsed": 2573,
     "status": "ok",
     "timestamp": 1623823772470,
     "user": {
      "displayName": "Sam Ball",
      "photoUrl": "",
      "userId": "13021419479325006913"
     },
     "user_tz": -120
    },
    "id": "maMFB7n1XzB6"
   },
   "outputs": [],
   "source": [
    "#---SAVE CLEAN DATA TO CSV---#\n",
    "\n",
    "df_clean = pd.DataFrame(clean_samples, columns = [\"content\", \"category\"]) \n",
    "    \n",
    "# saving the dataframe \n",
    "df_clean.to_csv('clean_samples.csv') "
   ]
  },
  {
   "cell_type": "code",
   "execution_count": 7,
   "metadata": {},
   "outputs": [
    {
     "name": "stdout",
     "output_type": "stream",
     "text": [
      "The first 10 rows of the dataframe\n"
     ]
    },
    {
     "data": {
      "text/html": [
       "<div>\n",
       "<style scoped>\n",
       "    .dataframe tbody tr th:only-of-type {\n",
       "        vertical-align: middle;\n",
       "    }\n",
       "\n",
       "    .dataframe tbody tr th {\n",
       "        vertical-align: top;\n",
       "    }\n",
       "\n",
       "    .dataframe thead th {\n",
       "        text-align: right;\n",
       "    }\n",
       "</style>\n",
       "<table border=\"1\" class=\"dataframe\">\n",
       "  <thead>\n",
       "    <tr style=\"text-align: right;\">\n",
       "      <th></th>\n",
       "      <th>Unnamed: 0</th>\n",
       "      <th>content</th>\n",
       "      <th>category</th>\n",
       "    </tr>\n",
       "  </thead>\n",
       "  <tbody>\n",
       "    <tr>\n",
       "      <th>0</th>\n",
       "      <td>0</td>\n",
       "      <td>[,  bodi,  utalii,  tanzania,  ttb,  imesema, ...</td>\n",
       "      <td>uchumi</td>\n",
       "    </tr>\n",
       "    <tr>\n",
       "      <th>1</th>\n",
       "      <td>1</td>\n",
       "      <td>[,  pendo,  fundishambeya,  rais,  dk,  john, ...</td>\n",
       "      <td>kitaifa</td>\n",
       "    </tr>\n",
       "    <tr>\n",
       "      <th>2</th>\n",
       "      <td>2</td>\n",
       "      <td>[mwandishi,  wetu,  singida,  benki,  nmb,  im...</td>\n",
       "      <td>uchumi</td>\n",
       "    </tr>\n",
       "    <tr>\n",
       "      <th>3</th>\n",
       "      <td>3</td>\n",
       "      <td>[,  timu,  taifa,  tanzania,  serengeti,  boys...</td>\n",
       "      <td>michezo</td>\n",
       "    </tr>\n",
       "    <tr>\n",
       "      <th>4</th>\n",
       "      <td>4</td>\n",
       "      <td>[,  agatha,  charles,  –,  dar,  es,  salaam, ...</td>\n",
       "      <td>kitaifa</td>\n",
       "    </tr>\n",
       "    <tr>\n",
       "      <th>5</th>\n",
       "      <td>5</td>\n",
       "      <td>[,  majadiliano,  aliyekuwa,  mkurugenzi,  zam...</td>\n",
       "      <td>kitaifa</td>\n",
       "    </tr>\n",
       "    <tr>\n",
       "      <th>6</th>\n",
       "      <td>6</td>\n",
       "      <td>[mwandishi,  wetu,  –,  butiama,  mkuu,  majes...</td>\n",
       "      <td>kitaifa</td>\n",
       "    </tr>\n",
       "    <tr>\n",
       "      <th>7</th>\n",
       "      <td>7</td>\n",
       "      <td>[\"[huenda\",  manchester,  united,  ikasubiri, ...</td>\n",
       "      <td>michezo</td>\n",
       "    </tr>\n",
       "    <tr>\n",
       "      <th>8</th>\n",
       "      <td>8</td>\n",
       "      <td>[,  shirika,  bima,  taifa,  nic,  linakuja,  ...</td>\n",
       "      <td>uchumi</td>\n",
       "    </tr>\n",
       "    <tr>\n",
       "      <th>9</th>\n",
       "      <td>9</td>\n",
       "      <td>[,  rais,  zanzibar,  dk,  ali,  mohamed,  she...</td>\n",
       "      <td>kitaifa</td>\n",
       "    </tr>\n",
       "  </tbody>\n",
       "</table>\n",
       "</div>"
      ],
      "text/plain": [
       "   Unnamed: 0                                            content category\n",
       "0           0  [,  bodi,  utalii,  tanzania,  ttb,  imesema, ...   uchumi\n",
       "1           1  [,  pendo,  fundishambeya,  rais,  dk,  john, ...  kitaifa\n",
       "2           2  [mwandishi,  wetu,  singida,  benki,  nmb,  im...   uchumi\n",
       "3           3  [,  timu,  taifa,  tanzania,  serengeti,  boys...  michezo\n",
       "4           4  [,  agatha,  charles,  –,  dar,  es,  salaam, ...  kitaifa\n",
       "5           5  [,  majadiliano,  aliyekuwa,  mkurugenzi,  zam...  kitaifa\n",
       "6           6  [mwandishi,  wetu,  –,  butiama,  mkuu,  majes...  kitaifa\n",
       "7           7  [\"[huenda\",  manchester,  united,  ikasubiri, ...  michezo\n",
       "8           8  [,  shirika,  bima,  taifa,  nic,  linakuja,  ...   uchumi\n",
       "9           9  [,  rais,  zanzibar,  dk,  ali,  mohamed,  she...  kitaifa"
      ]
     },
     "execution_count": 7,
     "metadata": {},
     "output_type": "execute_result"
    }
   ],
   "source": [
    "#---READ CLEAN DATA INTO DF---#\n",
    "\n",
    "def converter(sample):\n",
    "    res = sample.replace(\"'\", \"\")\n",
    "    res = res.strip('][').split(',')\n",
    "    return res\n",
    "\n",
    "data_path = \"./clean_samples.csv\" # data given in CSV format\n",
    "df_clean = pd.read_csv(data_path, converters={\"content\":converter}) #read in data\n",
    "#df_clean = pd.read_csv(data_path)\n",
    "\n",
    "pd.set_option('display.max_columns', None) #show all columns\n",
    "print(\"The first 10 rows of the dataframe\") \n",
    "df_clean.head(10)"
   ]
  },
  {
   "cell_type": "markdown",
   "metadata": {
    "id": "JeNEUkrwWLq7"
   },
   "source": [
    "## Data Exploration\n",
    "\n",
    "Now that we have transformed the textual data into a more amenable format, data exploration will be performed to further understand the structure and features of the data."
   ]
  },
  {
   "cell_type": "markdown",
   "metadata": {
    "id": "brgzXlE-WLq8"
   },
   "source": [
    "### Key Metrics\n",
    "\n",
    "Several key metrics for textual data are explored, including,\n",
    "\n",
    " 1. Number of samples\n",
    " 2. Number of classes/categories\n",
    " 3. Number of samples per class\n",
    " 4. Median number of words per sample\n",
    " 5. Distribution of number of words per sample\n",
    " 6. Median sample length per class"
   ]
  },
  {
   "cell_type": "markdown",
   "metadata": {
    "id": "TBv5Zz8XWLq8"
   },
   "source": [
    "#### No. of samples and classes\n",
    "\n",
    "We see below that the dataset consists of 23268 examples which are categorised into 6 classes."
   ]
  },
  {
   "cell_type": "code",
   "execution_count": 35,
   "metadata": {
    "colab": {
     "base_uri": "https://localhost:8080/"
    },
    "executionInfo": {
     "elapsed": 343,
     "status": "ok",
     "timestamp": 1623823795190,
     "user": {
      "displayName": "Sam Ball",
      "photoUrl": "",
      "userId": "13021419479325006913"
     },
     "user_tz": -120
    },
    "id": "gikVPLrUWLq8",
    "outputId": "7adc0495-9e53-4f9f-f29f-c33c5aeb771b"
   },
   "outputs": [
    {
     "name": "stdout",
     "output_type": "stream",
     "text": [
      "No. of Samples: 23268\n",
      "No. of Classes: 6\n"
     ]
    }
   ],
   "source": [
    "#----NO. OF SAMPLES AND CLASSES----#\n",
    "\n",
    "# No. of samples\n",
    "print(\"No. of Samples: {}\". format(df.shape[0]))\n",
    "\n",
    "# No. of classes\n",
    "print(\"No. of Classes: {}\". format(len(np.unique(df[\"category\"]))))"
   ]
  },
  {
   "cell_type": "markdown",
   "metadata": {
    "id": "H6mjN2j6WLq8"
   },
   "source": [
    "#### No. of samples per class\n",
    "\n",
    "We plot the distribution of the target variable *category* to investigate the presence of class imbalance."
   ]
  },
  {
   "cell_type": "code",
   "execution_count": 24,
   "metadata": {
    "colab": {
     "base_uri": "https://localhost:8080/",
     "height": 410
    },
    "executionInfo": {
     "elapsed": 1035,
     "status": "ok",
     "timestamp": 1623823798479,
     "user": {
      "displayName": "Sam Ball",
      "photoUrl": "",
      "userId": "13021419479325006913"
     },
     "user_tz": -120
    },
    "id": "DcDxT9FEWLq8",
    "outputId": "5bd47cad-60a1-4629-8b3d-a25891ea20d1"
   },
   "outputs": [
    {
     "name": "stdout",
     "output_type": "stream",
     "text": [
      "kitaifa      10242\n",
      "michezo       6004\n",
      "burudani      2229\n",
      "uchumi        2028\n",
      "kimataifa     1906\n",
      "afya           859\n",
      "Name: category, dtype: int64\n"
     ]
    },
    {
     "data": {
      "image/png": "[encoded data removed]",
      "text/plain": [
       "<Figure size 432x432 with 1 Axes>"
      ]
     },
     "metadata": {},
     "output_type": "display_data"
    }
   ],
   "source": [
    "#----DISTRIBUTION OF TARGET VARIABLE----#\n",
    "\n",
    "#Visualise target variable: news category\n",
    "# No. of samples per class\n",
    "\n",
    "fig, axs = plt.subplots(1,1,figsize=(6,6))\n",
    "target_counts = df['category'].value_counts()\n",
    "print(target_counts)\n",
    "ax = target_counts.plot.bar(x='lab', y='val', rot=0, color='cornflowerblue', alpha=0.4) ##007acc\n",
    "plt.ylabel(\"No. of Examples\", fontsize=14)\n",
    "plt.xlabel(\"News Category\", fontsize=14)\n",
    "ax.tick_params(axis='both', which='major', labelsize=12)\n",
    "plt.rcParams['font.family'] = 'sans-serif'\n",
    "plt.rcParams['font.sans-serif'] = 'Helvetica'\n",
    "#plt.title(\"Distribution of News Categories\")\n",
    "plt.rcParams[\"figure.figsize\"] = (8,8)\n",
    "plt.savefig('target.png', dpi = 300, bbox_inches='tight')\n",
    "plt.show()"
   ]
  },
  {
   "cell_type": "markdown",
   "metadata": {
    "id": "0Ti3o_-RWLq9"
   },
   "source": [
    "From the graph it can be observed that there is a severe class imbalance with an uneven distribution of samples across the news categories. Specifically, the *kitaifa* (local news) category has the highest number of samples with 10242 samples while the *afya* (health news) category has the lowest number of samples at 859.\n",
    "\n",
    "This class imbalance will need to be addressed during the modelling process."
   ]
  },
  {
   "cell_type": "markdown",
   "metadata": {
    "id": "5riPMRPNWLq9"
   },
   "source": [
    "#### Median no. of words per sample\n",
    "\n",
    "To investigate the characteristics of the news articles, the median sample length is found. "
   ]
  },
  {
   "cell_type": "code",
   "execution_count": 6,
   "metadata": {
    "colab": {
     "base_uri": "https://localhost:8080/",
     "height": 586
    },
    "executionInfo": {
     "elapsed": 1668,
     "status": "ok",
     "timestamp": 1623823809761,
     "user": {
      "displayName": "Sam Ball",
      "photoUrl": "",
      "userId": "13021419479325006913"
     },
     "user_tz": -120
    },
    "id": "_jYDO8u3WLq9",
    "outputId": "d9edbaa2-4034-4dfb-9836-771ed03328f7"
   },
   "outputs": [
    {
     "name": "stdout",
     "output_type": "stream",
     "text": [
      "Median No. of Words Per Sample: 274.0\n"
     ]
    },
    {
     "data": {
      "image/png": "[encoded data removed]",
      "text/plain": [
       "<Figure size 432x432 with 1 Axes>"
      ]
     },
     "metadata": {},
     "output_type": "display_data"
    }
   ],
   "source": [
    "#---MEDIAN NUMBER OF WORDS PER SAMPLE BEFORE PREPROCESSING---#\n",
    "\n",
    "lengths = [len(sample.split(\" \") ) for sample in df[\"content\"].values]\n",
    "median_length = np.median(lengths)\n",
    "print(\"Median No. of Words Per Sample: {}\". format(median_length))\n",
    "fig, axs = plt.subplots(1,1,figsize=(6,6))\n",
    "sns.set(font_scale=1.5)\n",
    "sns.set_style(\"ticks\")\n",
    "sns_plot = sns.distplot(lengths, color='cornflowerblue', hist_kws=dict(alpha=0.2))\n",
    "sns_plot.set(xlabel = 'No. of Words', ylabel = \"Frequency\")\n",
    "#plt.title(\"Median No. of Words Per Sample before Preprocessing\")\n",
    "plt.savefig('median_length_before.png', dpi = 200, bbox_inches='tight')\n",
    "plt.show()"
   ]
  },
  {
   "cell_type": "markdown",
   "metadata": {},
   "source": [
    "It can be noted that pre-processing steps such as stopword removal shorten the length of the news articles, therefore we calculate the median sample length following preprocessing."
   ]
  },
  {
   "cell_type": "code",
   "execution_count": 12,
   "metadata": {
    "colab": {
     "base_uri": "https://localhost:8080/",
     "height": 606
    },
    "executionInfo": {
     "elapsed": 1542,
     "status": "ok",
     "timestamp": 1623823814450,
     "user": {
      "displayName": "Sam Ball",
      "photoUrl": "",
      "userId": "13021419479325006913"
     },
     "user_tz": -120
    },
    "id": "3gcvQHPQWLq-",
    "outputId": "714c7771-7037-463e-af36-7d7d25ea4d84"
   },
   "outputs": [
    {
     "name": "stdout",
     "output_type": "stream",
     "text": [
      "Median No. of Words Per Sample: 188.0\n"
     ]
    },
    {
     "data": {
      "image/png": "[encoded data removed]",
      "text/plain": [
       "<Figure size 432x432 with 1 Axes>"
      ]
     },
     "metadata": {},
     "output_type": "display_data"
    }
   ],
   "source": [
    "#---MEDIAN NUMBER OF WORDS PER SAMPLE AFTER PREPROCESSING---#\n",
    "\n",
    "lengths = [len(sample) for sample in df_clean[\"content\"].values]\n",
    "median_length = np.median(lengths)\n",
    "print(\"Median No. of Words Per Sample: {}\". format(median_length))\n",
    "fig, axs = plt.subplots(1,1,figsize=(6,6))\n",
    "sns.set(font_scale=1.5)\n",
    "sns.set_style(\"ticks\")\n",
    "sns_plot = sns.distplot(lengths, color='lightcoral', hist_kws=dict(alpha=0.2))\n",
    "sns_plot.set(xlabel = 'No. of Words', ylabel = \"Frequency\")\n",
    "#plt.title(\"Median No. of Words Per Sample after Preprocessing\")\n",
    "plt.savefig('median_length_after.png', dpi = 200, bbox_inches='tight')\n",
    "plt.show()"
   ]
  },
  {
   "cell_type": "markdown",
   "metadata": {},
   "source": [
    "The median sample length decreses fairly significantly from 274 to 188. The comparison in sample length distributions before and after preprocessing is shown below."
   ]
  },
  {
   "cell_type": "code",
   "execution_count": 15,
   "metadata": {},
   "outputs": [
    {
     "name": "stdout",
     "output_type": "stream",
     "text": [
      "Median No. of Words Per Sample Before Pre-processing: 274.0\n",
      "Median No. of Words Per Sample After Pre-processing: 188.0\n"
     ]
    },
    {
     "data": {
      "image/png": "[encoded data removed]",
      "text/plain": [
       "<Figure size 432x432 with 1 Axes>"
      ]
     },
     "metadata": {},
     "output_type": "display_data"
    }
   ],
   "source": [
    "#---MEDIAN NUMBER OF WORDS PER SAMPLE BEFORE AND AFTER PREPROCESSING---#\n",
    "\n",
    "before_lengths = [len(sample.split(\" \")) for sample in df[\"content\"].values]\n",
    "median_length_before = np.median(before_lengths)\n",
    "print(\"Median No. of Words Per Sample Before Pre-processing: {}\". format(median_length_before))\n",
    "after_lengths = [len(sample) for sample in df_clean[\"content\"].values]\n",
    "median_length_after = np.median(after_lengths)\n",
    "print(\"Median No. of Words Per Sample After Pre-processing: {}\". format(median_length_after))\n",
    "fig, axs = plt.subplots(1,1,figsize=(6,6))\n",
    "sns.set_style(\"ticks\")\n",
    "sns_plot = sns.distplot(before_lengths, color='cornflowerblue', hist_kws=dict(alpha=0.2), label='Before')\n",
    "sns_plot = sns.distplot(after_lengths, color='lightcoral', hist_kws=dict(alpha=0.2), label='After')\n",
    "sns_plot.set(xlabel = 'No. of Words', ylabel = \"Frequency\")\n",
    "#plt.title(\"Median No. of Words Per Sample before and after Preprocessing\")\n",
    "plt.legend()\n",
    "plt.show()"
   ]
  },
  {
   "cell_type": "markdown",
   "metadata": {
    "id": "BPXTsTQHWLq-"
   },
   "source": [
    "It can be observed that the median number of words per sample has decreased following pre-processing as stopwords which add no additional meaning have been removed. The sample length distribution also exhibits smaller variance following preprocessing."
   ]
  },
  {
   "cell_type": "markdown",
   "metadata": {
    "id": "uojQ8kbjWLq-"
   },
   "source": [
    "#### Median sample length per class\n",
    "\n",
    "The lengths of each news article are further explored by finding the median sample length per news category."
   ]
  },
  {
   "cell_type": "code",
   "execution_count": 16,
   "metadata": {
    "colab": {
     "base_uri": "https://localhost:8080/"
    },
    "executionInfo": {
     "elapsed": 414,
     "status": "ok",
     "timestamp": 1623823823355,
     "user": {
      "displayName": "Sam Ball",
      "photoUrl": "",
      "userId": "13021419479325006913"
     },
     "user_tz": -120
    },
    "id": "5MGPQoWtWLq-",
    "outputId": "4fd0b977-d255-4624-9bef-9957f55b8a14"
   },
   "outputs": [
    {
     "name": "stdout",
     "output_type": "stream",
     "text": [
      "6\n"
     ]
    }
   ],
   "source": [
    "#---GROUP INTO NEWS CATEGORY---#\n",
    "\n",
    "groups_before = df.groupby(df[\"category\"])\n",
    "print(len(groups_before))"
   ]
  },
  {
   "cell_type": "code",
   "execution_count": 17,
   "metadata": {
    "colab": {
     "base_uri": "https://localhost:8080/"
    },
    "executionInfo": {
     "elapsed": 495,
     "status": "ok",
     "timestamp": 1623823825382,
     "user": {
      "displayName": "Sam Ball",
      "photoUrl": "",
      "userId": "13021419479325006913"
     },
     "user_tz": -120
    },
    "id": "4ssmM8oFWLq-",
    "outputId": "694a3159-aa57-4f8d-c331-ac60ecf7277d"
   },
   "outputs": [
    {
     "name": "stdout",
     "output_type": "stream",
     "text": [
      "('afya',             id                                            content category\n",
      "35     SW19363  AVELINE KITOMARY – DAR ES SALAAM  Daktari\\nBin...     afya\n",
      "69      SW9681  Na FLORENCE SANAWA-MTWARA  ULAJI wa panya umek...     afya\n",
      "101    SW18607  Na CHRISTIAN BWAYA WAZAZI bila kujali hali zen...     afya\n",
      "137    SW22023   Mahitaji   Jinsi ya kuandaa\\nKatakata vipande...     afya\n",
      "164    SW14345  Gurian Adolf, Sumbawanga MKUU wa Wilaya ya Nka...     afya\n",
      "...        ...                                                ...      ...\n",
      "23155  SW11688   NA VERONICA ROMWALD WATOTO 24 waliozaliwa na ...     afya\n",
      "23216   SW8885   MWANDISHI WETU WAZIRI wa Afya, Maendeleo ya J...     afya\n",
      "23253   SW6746  Ramadhan Hassan  -Dodoma  SERIKALI imesema bad...     afya\n",
      "23260  SW12537  Na Said Ameir, MAELEZO  KUWAPATIA wananchi daw...     afya\n",
      "23261   SW5272   MWILI wa binadamu na viumbe wengine kama vile...     afya\n",
      "\n",
      "[859 rows x 3 columns])\n",
      "328.0\n",
      "('burudani',             id                                            content  category\n",
      "13     SW25767   NA CHRISTOPHER MSEKENA MWIMBAJI wa nyimbo za ...  burudani\n",
      "17     SW16386   Na FESTO POLEA-DAR ES SALAAM KATI ya redio za...  burudani\n",
      "21      SW7020   NIMEKUWA nikikagua kwa umakini sana video za ...  burudani\n",
      "33     SW22464  Brighiter Masaki – Dar es Salaam Miss Tanzania...  burudani\n",
      "38     SW11034   Na LUCY SAID (TURDARCO) MTAYARISHAJI wa muzik...  burudani\n",
      "...        ...                                                ...       ...\n",
      "23211  SW24911  NA GLORY MLAY  BAADA ya kutamba na wimbo wa ‘B...  burudani\n",
      "23219  SW12619  \\n\\n \\n\\tENDAPO ningembiwa kitu gani nikibadil...  burudani\n",
      "23232   SW4748  \\n\\n \\n\\tNa BADI MCHOMOLO\\n \\n\\tUKIWA unakumbw...  burudani\n",
      "23238  SW30926  ALIYEKUWA mpenzi wa rapa Tyga, Kylie Jenner, a...  burudani\n",
      "23248   SW8818  NAIROBI, KENYA STAA wa muziki nchini Kenya, Da...  burudani\n",
      "\n",
      "[2229 rows x 3 columns])\n",
      "136.0\n",
      "('kimataifa',             id                                            content   category\n",
      "10      SW9898  STOCKHOLM, SWEDEN SERIKALI ya Sweden\\nimemrudi...  kimataifa\n",
      "16     SW23240  BRUSSELS, UBELGIJI \\nVIONGOZI wa Ulaya wametan...  kimataifa\n",
      "25     SW16209  NEW YORK, MAREKANI  NYOTA wa muziki wa RnB nch...  kimataifa\n",
      "31     SW23233  \\n\\tHARARE, ZIMBABWE\\n \\n\\n \\n\\tFAMILIA zaidi ...  kimataifa\n",
      "59     SW13043  NEW DELHI, INDIA WAISLAMU wa dhehebu la Shia n...  kimataifa\n",
      "...        ...                                                ...        ...\n",
      "23186  SW17585  WASHINGTON, MAREKANI  WAGOMBEA urais wa chama ...  kimataifa\n",
      "23193  SW15317  MANILA, PHILIPPINES RAIS wa Philippine, Rodrig...  kimataifa\n",
      "23197  SW26632  KINSHASA, DRC Shirika la afya la kimataifa WHO...  kimataifa\n",
      "23246  SW25233  TRIPOLI, LIBYA MAELFU ya wananchi nchini Libya...  kimataifa\n",
      "23254  SW25909   WASHINGTON, MAREKANI  RAIS wa Marekani, Donal...  kimataifa\n",
      "\n",
      "[1906 rows x 3 columns])\n",
      "227.0\n",
      "('kitaifa',             id                                            content category\n",
      "1      SW30826   PENDO FUNDISHA-MBEYA RAIS Dk. John Magufuri, ...  kitaifa\n",
      "4      SW12560   Na AGATHA CHARLES – DAR ES SALAAM ALIYEKUWA K...  kitaifa\n",
      "5      SW30734   MAJADILIANO kati ya aliyekuwa Mkurugenzi wa z...  kitaifa\n",
      "6      SW28096  Mwandishi\\nWetu – butiama MKUU wa majeshi\\nmst...  kitaifa\n",
      "9       SW9193   RAIS wa Zanzibar, Dk Ali Mohamed Shein amewat...  kitaifa\n",
      "...        ...                                                ...      ...\n",
      "23257   SW3133   Na MAREGESI PAUL – DODOMA BOMOABOMOA inayoend...  kitaifa\n",
      "23258   SW6098  Na RAMADHAN LIBENANGA-MOROGORO \\nWAFUGAJI wila...  kitaifa\n",
      "23262    SW897  \\n\\tNa WAANDISHI WETU – ZANZIBAR/DAR ES SALAAM...  kitaifa\n",
      "23264   SW4038   Na NORA DAMIAN-DAR ES SALAAM  TEKLA (si jina ...  kitaifa\n",
      "23267  SW11778   WIKI iliyopita, nilianza makala haya yanayole...  kitaifa\n",
      "\n",
      "[10242 rows x 3 columns])\n",
      "319.0\n",
      "('michezo',             id                                            content category\n",
      "3      SW20901   TIMU ya taifa ya Tanzania, Serengeti Boys jan...  michezo\n",
      "7       SW1223  ['Huenda Manchester United ikasubiri ukaguzi w...  michezo\n",
      "15     SW25666   Mchezo huo utapigwa kwenye Uwanja wa Jamhuri ...  michezo\n",
      "18     SW22592  NA ABDUCADO EMMANUEL, DAR ES SALAAM WAAMUZI ku...  michezo\n",
      "20       SW548   Shabalala aliumia juzi usiku nyama za paja ka...  michezo\n",
      "...        ...                                                ...      ...\n",
      "23245  SW25146   MOSCOW, URUSI UFARANSA wamefanikiwa kuingia h...  michezo\n",
      "23250   SW3486   BAADHI ya wachambuzi na makocha wa soka nchin...  michezo\n",
      "23251  SW28315   Kikwete alitoa agizo hilo katika hafla ya kum...  michezo\n",
      "23255   SW6292  LONDON, ENGLAND UONGOZI wa timu ya Tottenham u...  michezo\n",
      "23266  SW23291   MABINGWA wa Ligi Kuu Soka Tanzania Bara, Simb...  michezo\n",
      "\n",
      "[6004 rows x 3 columns])\n",
      "238.5\n",
      "('uchumi',             id                                            content category\n",
      "0       SW4670   Bodi ya Utalii Tanzania (TTB) imesema, itafan...   uchumi\n",
      "2      SW29725  Mwandishi Wetu -Singida BENKI ya NMB imetoa ms...   uchumi\n",
      "8      SW20534   SHIRIKA la Bima la Taifa (NIC) linakuja na Bi...   uchumi\n",
      "11     SW17477   KAMPUNI ya Kuhifadhi Mafuta ya Tanzania (Tipe...   uchumi\n",
      "22     SW25587   Kadhalika, serikali imetakiwa kudhibiti matum...   uchumi\n",
      "...        ...                                                ...      ...\n",
      "23207  SW26811   Agizo hilo lilitolewa juzi na Mkuu wa Wilaya ...   uchumi\n",
      "23233  SW28639   MKUU wa Mkoa wa Dodoma, Dk Binilith Mahenge a...   uchumi\n",
      "23259  SW24061  Mwandishi Wetu,Dar es Salaam ZAIDI ya wafanyab...   uchumi\n",
      "23263  SW24920   Alitoa pongezi hizo alipozindua rasmi hatua y...   uchumi\n",
      "23265  SW16649   Mkuu wa Mkoa wa Njombe, Dk Rehema Nchimbi wak...   uchumi\n",
      "\n",
      "[2028 rows x 3 columns])\n",
      "311.0\n"
     ]
    }
   ],
   "source": [
    "#----CALCULATE MEDIAN SAMPLE LENGTH PER CLASS BEFORE PRE-PROCESSING---#\n",
    "\n",
    "medians_before = {}\n",
    "for g in groups_before:\n",
    "    print(g)\n",
    "    lengths = [len(sample.split(\" \")) for sample in g[1][\"content\"].values]\n",
    "    median_length = np.median(lengths)\n",
    "    print(median_length)\n",
    "    medians_before[g[0]] = median_length"
   ]
  },
  {
   "cell_type": "code",
   "execution_count": 18,
   "metadata": {
    "colab": {
     "base_uri": "https://localhost:8080/",
     "height": 528
    },
    "executionInfo": {
     "elapsed": 1461,
     "status": "ok",
     "timestamp": 1623823830786,
     "user": {
      "displayName": "Sam Ball",
      "photoUrl": "",
      "userId": "13021419479325006913"
     },
     "user_tz": -120
    },
    "id": "5w7daCCRWLq_",
    "outputId": "cdcf9ea5-9120-4488-df78-77c010ac5d02"
   },
   "outputs": [
    {
     "name": "stdout",
     "output_type": "stream",
     "text": [
      "dict_keys(['afya', 'burudani', 'kimataifa', 'kitaifa', 'michezo', 'uchumi'])\n"
     ]
    },
    {
     "data": {
      "image/png": "[encoded data removed]",
      "text/plain": [
       "<Figure size 432x432 with 1 Axes>"
      ]
     },
     "metadata": {},
     "output_type": "display_data"
    }
   ],
   "source": [
    "#--PLOT MEDIAN SAMPLE LENGTH PER CLASS--#\n",
    "\n",
    "print(medians_before.keys())\n",
    "fig, ax = plt.subplots(1,1,figsize=(6,6))\n",
    "ax.bar(medians_before.keys(), medians_before.values(), color='cornflowerblue', alpha=0.6)\n",
    "plt.ylabel(\"Median Length\", fontsize=14)\n",
    "plt.xlabel(\"News Category\", fontsize=14)\n",
    "plt.xticks(fontsize=12)\n",
    "plt.rcParams['font.family'] = 'sans-serif'\n",
    "plt.rcParams['font.sans-serif'] = 'Helvetica'\n",
    "plt.rcParams[\"figure.figsize\"] = (8,8)\n",
    "plt.savefig('sample_length_per_class.png', dpi = 300)\n",
    "plt.show()"
   ]
  },
  {
   "cell_type": "markdown",
   "metadata": {
    "id": "iFyCAAFLWLq_"
   },
   "source": [
    "It can be observed that the *burudani* class (entertainment news) has a much smaller median length than the other news classes."
   ]
  },
  {
   "cell_type": "code",
   "execution_count": 19,
   "metadata": {
    "colab": {
     "base_uri": "https://localhost:8080/"
    },
    "executionInfo": {
     "elapsed": 356,
     "status": "ok",
     "timestamp": 1623823835484,
     "user": {
      "displayName": "Sam Ball",
      "photoUrl": "",
      "userId": "13021419479325006913"
     },
     "user_tz": -120
    },
    "id": "_CAvox1qYRKY",
    "outputId": "49828d67-48a6-4a6e-e295-16a0246cea1a"
   },
   "outputs": [
    {
     "name": "stdout",
     "output_type": "stream",
     "text": [
      "6\n"
     ]
    }
   ],
   "source": [
    "#---GROUP CLEAN DATA INTO NEWS CATEGORY---#\n",
    "\n",
    "groups_after = df_clean.groupby(df_clean[\"category\"])\n",
    "print(len(groups_after))"
   ]
  },
  {
   "cell_type": "code",
   "execution_count": 20,
   "metadata": {
    "colab": {
     "base_uri": "https://localhost:8080/"
    },
    "executionInfo": {
     "elapsed": 4,
     "status": "ok",
     "timestamp": 1623823837405,
     "user": {
      "displayName": "Sam Ball",
      "photoUrl": "",
      "userId": "13021419479325006913"
     },
     "user_tz": -120
    },
    "id": "CkTMA4ZFaooM",
    "outputId": "efdcc2d3-327f-4b73-dc8d-775b44515665"
   },
   "outputs": [
    {
     "name": "stdout",
     "output_type": "stream",
     "text": [
      "('afya',        Unnamed: 0                                            content category\n",
      "35             35  [aveline,  kitomary,  –,  dar,  es,  salaam,  ...     afya\n",
      "69             69  [florence,  sanawamtwara,  ,  ulaji,  panya,  ...     afya\n",
      "101           101  [christian,  bwaya,  wazazi,  kujali,  hali,  ...     afya\n",
      "137           137  [,  mahitaji,  ,  ,  kuandaa,  katakata,  vipa...     afya\n",
      "164           164  [gurian,  adolf,  sumbawanga,  mkuu,  wilaya, ...     afya\n",
      "...           ...                                                ...      ...\n",
      "23155       23155  [,  veronica,  romwald,  watoto,  24,  walioza...     afya\n",
      "23216       23216  [,  mwandishi,  wetu,  waziri,  afya,  maendel...     afya\n",
      "23253       23253  [ramadhan,  hassan,  ,  dodoma,  ,  serikali, ...     afya\n",
      "23260       23260  [said,  ameir,  maelezo,  ,  kuwapatia,  wanan...     afya\n",
      "23261       23261  [,  mwili,  binadamu,  viumbe,  wanyama,  una,...     afya\n",
      "\n",
      "[859 rows x 3 columns])\n",
      "233.0\n",
      "('burudani',        Unnamed: 0                                            content  category\n",
      "13             13  [,  christopher,  msekena,  mwimbaji,  nyimbo,...  burudani\n",
      "17             17  [,  festo,  poleadar,  es,  salaam,  redio,  1...  burudani\n",
      "21             21  [,  nimekuwa,  nikikagua,  umakini,  video,  w...  burudani\n",
      "33             33  [brighiter,  masaki,  –,  dar,  es,  salaam,  ...  burudani\n",
      "38             38  [,  lucy,  said,  turdarco,  mtayarishaji,  mu...  burudani\n",
      "...           ...                                                ...       ...\n",
      "23211       23211  [glory,  mlay,  ,  kutamba,  wimbo,  ‘baba,  s...  burudani\n",
      "23219       23219  [,  ,  ,  ,  ,  endapo,  ningembiwa,  kitu,  g...  burudani\n",
      "23232       23232  [,  ,  ,  ,  ,  badi,  mchomolo,  ,  ,  ,  uki...  burudani\n",
      "23238       23238  [aliyekuwa,  mpenzi,  rapa,  tyga,  kylie,  je...  burudani\n",
      "23248       23248  [nairobi,  kenya,  staa,  muziki,  nchini,  ke...  burudani\n",
      "\n",
      "[2229 rows x 3 columns])\n",
      "93.0\n",
      "('kimataifa',        Unnamed: 0                                            content  \\\n",
      "10             10  [stockholm,  sweden,  serikali,  sweden,  imem...   \n",
      "16             16  [brussels,  ubelgiji,  ,  viongozi,  ulaya,  w...   \n",
      "25             25  [new,  york,  marekani,  ,  nyota,  muziki,  r...   \n",
      "31             31  [,  ,  harare,  zimbabwe,  ,  ,  ,  ,  ,  ,  f...   \n",
      "59             59  [new,  delhi,  india,  waislamu,  dhehebu,  sh...   \n",
      "...           ...                                                ...   \n",
      "23186       23186  [washington,  marekani,  ,  wagombea,  urais, ...   \n",
      "23193       23193  [manila,  philippines,  rais,  philippine,  ro...   \n",
      "23197       23197  [kinshasa,  drc,  shirika,  afya,  kimataifa, ...   \n",
      "23246       23246  [tripoli,  libya,  maelfu,  wananchi,  nchini,...   \n",
      "23254       23254  [,  washington,  marekani,  ,  rais,  marekani...   \n",
      "\n",
      "        category  \n",
      "10     kimataifa  \n",
      "16     kimataifa  \n",
      "25     kimataifa  \n",
      "31     kimataifa  \n",
      "59     kimataifa  \n",
      "...          ...  \n",
      "23186  kimataifa  \n",
      "23193  kimataifa  \n",
      "23197  kimataifa  \n",
      "23246  kimataifa  \n",
      "23254  kimataifa  \n",
      "\n",
      "[1906 rows x 3 columns])\n",
      "160.0\n",
      "('kitaifa',        Unnamed: 0                                            content category\n",
      "1               1  [,  pendo,  fundishambeya,  rais,  dk,  john, ...  kitaifa\n",
      "4               4  [,  agatha,  charles,  –,  dar,  es,  salaam, ...  kitaifa\n",
      "5               5  [,  majadiliano,  aliyekuwa,  mkurugenzi,  zam...  kitaifa\n",
      "6               6  [mwandishi,  wetu,  –,  butiama,  mkuu,  majes...  kitaifa\n",
      "9               9  [,  rais,  zanzibar,  dk,  ali,  mohamed,  she...  kitaifa\n",
      "...           ...                                                ...      ...\n",
      "23257       23257  [,  maregesi,  paul,  –,  dodoma,  bomoabomoa,...  kitaifa\n",
      "23258       23258  [ramadhan,  libenangamorogoro,  ,  wafugaji,  ...  kitaifa\n",
      "23262       23262  [,  ,  waandishi,  wetu,  –,  zanzibar/dar,  e...  kitaifa\n",
      "23264       23264  [,  nora,  damiandar,  es,  salaam,  ,  tekla,...  kitaifa\n",
      "23267       23267  [,  wiki,  iliyopita,  nilianza,  makala,  hay...  kitaifa\n",
      "\n",
      "[10242 rows x 3 columns])\n",
      "219.0\n",
      "('michezo',        Unnamed: 0                                            content category\n",
      "3               3  [,  timu,  taifa,  tanzania,  serengeti,  boys...  michezo\n",
      "7               7  [\"[huenda\",  manchester,  united,  ikasubiri, ...  michezo\n",
      "15             15  [,  mchezo,  utapigwa,  uwanja,  jamhuri,  mji...  michezo\n",
      "18             18  [abducado,  emmanuel,  dar,  es,  salaam,  waa...  michezo\n",
      "20             20  [,  shabalala,  aliumia,  juzi,  usiku,  nyama...  michezo\n",
      "...           ...                                                ...      ...\n",
      "23245       23245  [,  moscow,  urusi,  ufaransa,  wamefanikiwa, ...  michezo\n",
      "23250       23250  [,  wachambuzi,  makocha,  soka,  nchini,  wam...  michezo\n",
      "23251       23251  [,  kikwete,  alitoa,  agizo,  hilo,  hafla,  ...  michezo\n",
      "23255       23255  [london,  england,  uongozi,  timu,  tottenham...  michezo\n",
      "23266       23266  [,  mabingwa,  ligi,  kuu,  soka,  tanzania,  ...  michezo\n",
      "\n",
      "[6004 rows x 3 columns])\n",
      "161.0\n",
      "('uchumi',        Unnamed: 0                                            content category\n",
      "0               0  [,  bodi,  utalii,  tanzania,  ttb,  imesema, ...   uchumi\n",
      "2               2  [mwandishi,  wetu,  singida,  benki,  nmb,  im...   uchumi\n",
      "8               8  [,  shirika,  bima,  taifa,  nic,  linakuja,  ...   uchumi\n",
      "11             11  [,  kampuni,  kuhifadhi,  mafuta,  tanzania,  ...   uchumi\n",
      "22             22  [,  serikali,  imetakiwa,  kudhibiti,  matumiz...   uchumi\n",
      "...           ...                                                ...      ...\n",
      "23207       23207  [,  agizo,  hilo,  lilitolewa,  juzi,  mkuu,  ...   uchumi\n",
      "23233       23233  [,  mkuu,  mkoa,  dodoma,  dk,  binilith,  mah...   uchumi\n",
      "23259       23259  [mwandishi,  wetudar,  es,  salaam,  wafanyabi...   uchumi\n",
      "23263       23263  [,  alitoa,  pongezi,  alipozindua,  rasmi,  h...   uchumi\n",
      "23265       23265  [,  mkuu,  mkoa,  njombe,  dk,  rehema,  nchim...   uchumi\n",
      "\n",
      "[2028 rows x 3 columns])\n",
      "207.0\n"
     ]
    }
   ],
   "source": [
    "#----CALCULATE MEDIAN SAMPLE LENGTH PER CLASS AFTER PRE-PROCESSING---#\n",
    "\n",
    "medians_after = {}\n",
    "for g in groups_after:\n",
    "    print(g)\n",
    "    lengths = [len(sample) for sample in g[1][\"content\"].values]\n",
    "    median_length = np.median(lengths)\n",
    "    print(median_length)\n",
    "    medians_after[g[0]] = median_length"
   ]
  },
  {
   "cell_type": "code",
   "execution_count": 21,
   "metadata": {
    "colab": {
     "base_uri": "https://localhost:8080/",
     "height": 528
    },
    "executionInfo": {
     "elapsed": 1612,
     "status": "ok",
     "timestamp": 1623823842791,
     "user": {
      "displayName": "Sam Ball",
      "photoUrl": "",
      "userId": "13021419479325006913"
     },
     "user_tz": -120
    },
    "id": "oSxEfqVsa74Q",
    "outputId": "460d60dc-f202-4f7f-f91c-576a8cd1d2e5"
   },
   "outputs": [
    {
     "name": "stdout",
     "output_type": "stream",
     "text": [
      "dict_keys(['afya', 'burudani', 'kimataifa', 'kitaifa', 'michezo', 'uchumi'])\n"
     ]
    },
    {
     "data": {
      "image/png": "[encoded data removed]",
      "text/plain": [
       "<Figure size 432x432 with 1 Axes>"
      ]
     },
     "metadata": {},
     "output_type": "display_data"
    }
   ],
   "source": [
    "#--PLOT MEDIAN SAMPLE LENGTH PER CLASS--#\n",
    "\n",
    "print(medians_after.keys())\n",
    "fig, ax = plt.subplots(1,1,figsize=(6,6))\n",
    "ax.bar(medians_after.keys(), medians_after.values(), color='lightcoral', alpha=0.6)\n",
    "plt.ylabel(\"Median Length\", fontsize=14)\n",
    "plt.xlabel(\"News Category\", fontsize=14)\n",
    "#ax.tick_params(axis='both', which='major', labelsize=14)\n",
    "plt.xticks(fontsize=12)\n",
    "plt.rcParams['font.family'] = 'sans-serif'\n",
    "plt.rcParams['font.sans-serif'] = 'Helvetica'\n",
    "#plt.title(\"Distribution of News Categories\")\n",
    "plt.rcParams[\"figure.figsize\"] = (8,8)\n",
    "plt.savefig('sample_length_per_class_clean.png', dpi = 300)\n",
    "plt.show()"
   ]
  },
  {
   "cell_type": "code",
   "execution_count": 22,
   "metadata": {},
   "outputs": [
    {
     "data": {
      "image/png": "[encoded data removed]",
      "text/plain": [
       "<Figure size 432x432 with 1 Axes>"
      ]
     },
     "metadata": {},
     "output_type": "display_data"
    }
   ],
   "source": [
    "#---PLOT COMPARISON BEFORE AND AFTER DATA CLEANING---#\n",
    "\n",
    "fig, ax = plt.subplots(1,1,figsize=(6,6))\n",
    "ax.bar(medians_before.keys(), medians_before.values(), color='cornflowerblue', alpha=0.4, label='Before', width=0.5)\n",
    "ax.bar(medians_after.keys(), medians_after.values(), color='lightcoral', alpha=0.4, label='After', width=0.5)\n",
    "plt.ylabel(\"Median Length\", fontsize=14)\n",
    "plt.xlabel(\"News Category\", fontsize=14)\n",
    "#ax.tick_params(axis='both', which='major', labelsize=14)\n",
    "plt.xticks(fontsize=12)\n",
    "plt.yticks(fontsize=12)\n",
    "plt.rcParams['font.family'] = 'sans-serif'\n",
    "plt.rcParams['font.sans-serif'] = 'Helvetica'\n",
    "#plt.title(\"Distribution of News Categories\")\n",
    "plt.rcParams[\"figure.figsize\"] = (8,8)\n",
    "plt.legend()\n",
    "plt.savefig('sample_length_per_class_clean.png', dpi = 300, bbox_inches='tight')\n",
    "plt.show()"
   ]
  },
  {
   "cell_type": "markdown",
   "metadata": {},
   "source": [
    "It can be noted that although all categories experience a reduction in median length after pre-processing, this does not change the relative lengths between the categories. Therefore articles in the entertainment news *burudani* category remain significantly shorter than articles in other news categories."
   ]
  },
  {
   "cell_type": "markdown",
   "metadata": {
    "id": "eru9vgfqWLq_"
   },
   "source": [
    "Now that the data structure and characteristics have been explored, the following notebook will explore the use of classical techniques such as Naive Bayes and Support Vector Machines to classify the Swahili news articles."
   ]
  },
  {
   "cell_type": "markdown",
   "metadata": {
    "id": "fwlfSZ9lWLrA"
   },
   "source": [
    "## References"
   ]
  },
  {
   "cell_type": "markdown",
   "metadata": {
    "id": "8JXePM8yWLrA"
   },
   "source": [
    "<a id='references'></a>\n",
    "\n",
    "[1] Davis David. Swahili: News classification dataset, Zenodo, 2020. http://doi.org/10.5281/zenodo.4300294\n",
    "\n",
    "[2] Noel Masasi, Bernard Masua. Common Swahili Stop-words, Mendeley Data, 2020. http://doi.org/10.17632/mmf4hnsm2n.1"
   ]
  }
 ],
 "metadata": {
  "colab": {
   "name": "1 - Data Preparation and Exploration.ipynb",
   "provenance": []
  },
  "kernelspec": {
   "display_name": "Python 3",
   "language": "python",
   "name": "python3"
  },
  "language_info": {
   "codemirror_mode": {
    "name": "ipython",
    "version": 3
   },
   "file_extension": ".py",
   "mimetype": "text/x-python",
   "name": "python",
   "nbconvert_exporter": "python",
   "pygments_lexer": "ipython3",
   "version": "3.7.4"
  }
 },
 "nbformat": 4,
 "nbformat_minor": 1
}
