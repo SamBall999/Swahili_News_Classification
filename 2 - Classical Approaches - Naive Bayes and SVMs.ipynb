{
 "cells": [
  {
   "cell_type": "markdown",
   "metadata": {
    "id": "PDBRTeHtz-F6"
   },
   "source": [
    "<h2><center>COMS7047A Term Project: Swahili News Classification</center></h2> \n",
    "<h2><center>Notebook 2 - Naive Bayes and SVMs</center></h2> \n",
    "\n",
    "<img src=\"./wits_logo.png\" alt=\"Wits_Logo\" style=\"width: 200px;\"/>\n",
    "\n",
    "***\n",
    "<h4><center> Samantha Ball  &nbsp;   1603701   &nbsp;  2021</center></h4>"
   ]
  },
  {
   "cell_type": "markdown",
   "metadata": {
    "id": "gKuaiUODMB1L"
   },
   "source": [
    "In this notebook, the use of classical machine learning techniques will be explored for the classification of Swahili news articles, specifically the Naive Bayes and Support Vector Machine classifiers.\n",
    "\n",
    "### Table of Contents\n",
    "\n",
    "- Training data preparation\n",
    "- Word embeddings\n",
    "- Model implementation: Naive Bayes Classifier and Support Vector Machine\n",
    "- Evaluation of classification performance \n",
    "- Model optimization: Naive Bayes Classifier and Support Vector Machine\n",
    "- Final evaluation and discussion"
   ]
  },
  {
   "cell_type": "markdown",
   "metadata": {
    "id": "2LbF_pcPMB1L"
   },
   "source": [
    "## Training Data Preparation"
   ]
  },
  {
   "cell_type": "code",
   "execution_count": 2,
   "metadata": {
    "colab": {
     "base_uri": "https://localhost:8080/"
    },
    "executionInfo": {
     "elapsed": 1596,
     "status": "ok",
     "timestamp": 1624172018524,
     "user": {
      "displayName": "Sam Ball",
      "photoUrl": "",
      "userId": "13021419479325006913"
     },
     "user_tz": -120
    },
    "id": "GFpuGsMvz-F_",
    "outputId": "25b624a6-80a6-4b63-b715-54a11f6190d6"
   },
   "outputs": [],
   "source": [
    "#----INSTALL LIBRARIES----#\n",
    "import matplotlib.pyplot as plt\n",
    "import numpy as np\n",
    "import pandas.util.testing as tm\n",
    "import pandas as pd\n",
    "import seaborn as sns\n",
    "from sklearn.metrics import r2_score , mean_squared_error, plot_confusion_matrix\n",
    "from sklearn.model_selection import train_test_split \n",
    "%matplotlib inline"
   ]
  },
  {
   "cell_type": "code",
   "execution_count": 4,
   "metadata": {
    "colab": {
     "base_uri": "https://localhost:8080/",
     "height": 376
    },
    "executionInfo": {
     "elapsed": 2792,
     "status": "ok",
     "timestamp": 1624172026914,
     "user": {
      "displayName": "Sam Ball",
      "photoUrl": "",
      "userId": "13021419479325006913"
     },
     "user_tz": -120
    },
    "id": "hHRUVcHKz-F_",
    "outputId": "601e705f-0042-452f-eea8-02ba8d026af8"
   },
   "outputs": [
    {
     "name": "stdout",
     "output_type": "stream",
     "text": [
      "The first 10 rows of the dataframe\n"
     ]
    },
    {
     "data": {
      "text/html": [
       "<div>\n",
       "<style scoped>\n",
       "    .dataframe tbody tr th:only-of-type {\n",
       "        vertical-align: middle;\n",
       "    }\n",
       "\n",
       "    .dataframe tbody tr th {\n",
       "        vertical-align: top;\n",
       "    }\n",
       "\n",
       "    .dataframe thead th {\n",
       "        text-align: right;\n",
       "    }\n",
       "</style>\n",
       "<table border=\"1\" class=\"dataframe\">\n",
       "  <thead>\n",
       "    <tr style=\"text-align: right;\">\n",
       "      <th></th>\n",
       "      <th>id</th>\n",
       "      <th>content</th>\n",
       "      <th>category</th>\n",
       "    </tr>\n",
       "  </thead>\n",
       "  <tbody>\n",
       "    <tr>\n",
       "      <th>0</th>\n",
       "      <td>SW4670</td>\n",
       "      <td>Bodi ya Utalii Tanzania (TTB) imesema, itafan...</td>\n",
       "      <td>uchumi</td>\n",
       "    </tr>\n",
       "    <tr>\n",
       "      <th>1</th>\n",
       "      <td>SW30826</td>\n",
       "      <td>PENDO FUNDISHA-MBEYA RAIS Dk. John Magufuri, ...</td>\n",
       "      <td>kitaifa</td>\n",
       "    </tr>\n",
       "    <tr>\n",
       "      <th>2</th>\n",
       "      <td>SW29725</td>\n",
       "      <td>Mwandishi Wetu -Singida BENKI ya NMB imetoa ms...</td>\n",
       "      <td>uchumi</td>\n",
       "    </tr>\n",
       "    <tr>\n",
       "      <th>3</th>\n",
       "      <td>SW20901</td>\n",
       "      <td>TIMU ya taifa ya Tanzania, Serengeti Boys jan...</td>\n",
       "      <td>michezo</td>\n",
       "    </tr>\n",
       "    <tr>\n",
       "      <th>4</th>\n",
       "      <td>SW12560</td>\n",
       "      <td>Na AGATHA CHARLES – DAR ES SALAAM ALIYEKUWA K...</td>\n",
       "      <td>kitaifa</td>\n",
       "    </tr>\n",
       "    <tr>\n",
       "      <th>5</th>\n",
       "      <td>SW30734</td>\n",
       "      <td>MAJADILIANO kati ya aliyekuwa Mkurugenzi wa z...</td>\n",
       "      <td>kitaifa</td>\n",
       "    </tr>\n",
       "    <tr>\n",
       "      <th>6</th>\n",
       "      <td>SW28096</td>\n",
       "      <td>Mwandishi\\nWetu – butiama MKUU wa majeshi\\nmst...</td>\n",
       "      <td>kitaifa</td>\n",
       "    </tr>\n",
       "    <tr>\n",
       "      <th>7</th>\n",
       "      <td>SW1223</td>\n",
       "      <td>['Huenda Manchester United ikasubiri ukaguzi w...</td>\n",
       "      <td>michezo</td>\n",
       "    </tr>\n",
       "    <tr>\n",
       "      <th>8</th>\n",
       "      <td>SW20534</td>\n",
       "      <td>SHIRIKA la Bima la Taifa (NIC) linakuja na Bi...</td>\n",
       "      <td>uchumi</td>\n",
       "    </tr>\n",
       "    <tr>\n",
       "      <th>9</th>\n",
       "      <td>SW9193</td>\n",
       "      <td>RAIS wa Zanzibar, Dk Ali Mohamed Shein amewat...</td>\n",
       "      <td>kitaifa</td>\n",
       "    </tr>\n",
       "  </tbody>\n",
       "</table>\n",
       "</div>"
      ],
      "text/plain": [
       "        id                                            content category\n",
       "0   SW4670   Bodi ya Utalii Tanzania (TTB) imesema, itafan...   uchumi\n",
       "1  SW30826   PENDO FUNDISHA-MBEYA RAIS Dk. John Magufuri, ...  kitaifa\n",
       "2  SW29725  Mwandishi Wetu -Singida BENKI ya NMB imetoa ms...   uchumi\n",
       "3  SW20901   TIMU ya taifa ya Tanzania, Serengeti Boys jan...  michezo\n",
       "4  SW12560   Na AGATHA CHARLES – DAR ES SALAAM ALIYEKUWA K...  kitaifa\n",
       "5  SW30734   MAJADILIANO kati ya aliyekuwa Mkurugenzi wa z...  kitaifa\n",
       "6  SW28096  Mwandishi\\nWetu – butiama MKUU wa majeshi\\nmst...  kitaifa\n",
       "7   SW1223  ['Huenda Manchester United ikasubiri ukaguzi w...  michezo\n",
       "8  SW20534   SHIRIKA la Bima la Taifa (NIC) linakuja na Bi...   uchumi\n",
       "9   SW9193   RAIS wa Zanzibar, Dk Ali Mohamed Shein amewat...  kitaifa"
      ]
     },
     "execution_count": 4,
     "metadata": {
      "tags": []
     },
     "output_type": "execute_result"
    }
   ],
   "source": [
    "#----IMPORT DATA----#\n",
    "data_path = \"./train.csv\" # data given in CSV format\n",
    "df = pd.read_csv(data_path) #read in data\n",
    "\n",
    "pd.set_option('display.max_columns', None) #show all columns\n",
    "print(\"The first 10 rows of the dataframe\") \n",
    "df.head(10)"
   ]
  },
  {
   "cell_type": "markdown",
   "metadata": {
    "id": "ghHiIAO8z-GA"
   },
   "source": [
    "### Train, validation and test sets\n",
    "\n",
    "The dataset was split into a training, validation and test set with ratios 70%, 15% and 15% respectively."
   ]
  },
  {
   "cell_type": "code",
   "execution_count": 5,
   "metadata": {
    "executionInfo": {
     "elapsed": 673,
     "status": "ok",
     "timestamp": 1624172033954,
     "user": {
      "displayName": "Sam Ball",
      "photoUrl": "",
      "userId": "13021419479325006913"
     },
     "user_tz": -120
    },
    "id": "WFRql8PWz-GA"
   },
   "outputs": [],
   "source": [
    "#---SPLITTING DATA INTO TRAIN, VALIDATION AND TEST SETS---#\n",
    "\n",
    "x = df[\"content\"].values # input is news article\n",
    "y = df[\"category\"].values # output is one of the six categories\n",
    "x_train, x_temp, y_train, y_temp = train_test_split(x, y, test_size = 1/3, random_state = 0)\n",
    "x_valid, x_test, y_valid, y_test = train_test_split(x_temp, y_temp, test_size = 1/2, random_state = 0)"
   ]
  },
  {
   "cell_type": "code",
   "execution_count": 6,
   "metadata": {
    "colab": {
     "base_uri": "https://localhost:8080/"
    },
    "executionInfo": {
     "elapsed": 4,
     "status": "ok",
     "timestamp": 1624172036973,
     "user": {
      "displayName": "Sam Ball",
      "photoUrl": "",
      "userId": "13021419479325006913"
     },
     "user_tz": -120
    },
    "id": "q4syymKqz-GB",
    "outputId": "2d956f87-b91e-4b62-92b9-ce2f8be5374a"
   },
   "outputs": [
    {
     "name": "stdout",
     "output_type": "stream",
     "text": [
      "Training Dataset: 15512\n",
      "Validation Dataset: 3878\n",
      "Test Dataset: 3878\n"
     ]
    }
   ],
   "source": [
    "#----NO. OF SAMPLES IN EACH SET----#\n",
    "\n",
    "print(\"Training Dataset: {}\".format(len(x_train)))\n",
    "print(\"Validation Dataset: {}\".format(len(x_valid)))\n",
    "print(\"Test Dataset: {}\".format(len(x_test)))"
   ]
  },
  {
   "cell_type": "markdown",
   "metadata": {
    "id": "UPbySLe0z-GB"
   },
   "source": [
    "### Word embeddings\n",
    "\n",
    "In order for the news articles to be input to the machine learning algorithms, the text data must first be converted to numerical representation."
   ]
  },
  {
   "cell_type": "code",
   "execution_count": 7,
   "metadata": {
    "executionInfo": {
     "elapsed": 313,
     "status": "ok",
     "timestamp": 1624172040286,
     "user": {
      "displayName": "Sam Ball",
      "photoUrl": "",
      "userId": "13021419479325006913"
     },
     "user_tz": -120
    },
    "id": "P8UAA64Cz-GC"
   },
   "outputs": [],
   "source": [
    "from sklearn.feature_extraction.text import CountVectorizer\n",
    "from sklearn.feature_extraction.text import TfidfTransformer"
   ]
  },
  {
   "cell_type": "code",
   "execution_count": 13,
   "metadata": {
    "executionInfo": {
     "elapsed": 328,
     "status": "ok",
     "timestamp": 1624172183471,
     "user": {
      "displayName": "Sam Ball",
      "photoUrl": "",
      "userId": "13021419479325006913"
     },
     "user_tz": -120
    },
    "id": "sl67NY0_z-GC"
   },
   "outputs": [],
   "source": [
    "data_path = \"./stopwords.csv\" # additional data from Mendeley data\n",
    "stopword_data = pd.read_csv(data_path) #read in data\n",
    "stopword_list = stopword_data[\"StopWords\"].values # list of stopwords"
   ]
  },
  {
   "cell_type": "markdown",
   "metadata": {
    "id": "VBNJcE4eMB1P"
   },
   "source": [
    "#### Building a Vocabulary and Document Term Matrix\n",
    "\n",
    "As detailed in the previous notebook, the text documents are separated into individual words during tokenization. These are then utilised to:\n",
    "\n",
    "- Create a vocabulary of words\n",
    "- Create a *Document Term Matrix* to store the frequency of each word in each document.\n",
    "\n",
    "These operations are implemented using the *CountVectorizer()* below."
   ]
  },
  {
   "cell_type": "code",
   "execution_count": 14,
   "metadata": {
    "colab": {
     "base_uri": "https://localhost:8080/"
    },
    "executionInfo": {
     "elapsed": 5607,
     "status": "ok",
     "timestamp": 1624172191370,
     "user": {
      "displayName": "Sam Ball",
      "photoUrl": "",
      "userId": "13021419479325006913"
     },
     "user_tz": -120
    },
    "id": "ufD1YVFOz-GD",
    "outputId": "2ad602fe-369b-44c7-fc40-128a0779602c"
   },
   "outputs": [
    {
     "data": {
      "text/plain": [
       "(15512, 162860)"
      ]
     },
     "execution_count": 14,
     "metadata": {
      "tags": []
     },
     "output_type": "execute_result"
    }
   ],
   "source": [
    "#---CREATE VOCABULARY AND DOCUMENT TERM MATRIX---#\n",
    "\n",
    "counts = CountVectorizer(stop_words = list(stopword_list)) # input custom stopword list\n",
    "x_train_counts = counts.fit_transform(x_train) # transforms text articles to feature vectors\n",
    "x_train_counts.shape"
   ]
  },
  {
   "cell_type": "markdown",
   "metadata": {
    "id": "roxbzFCHz-GD"
   },
   "source": [
    "#### Applying Term-Frequency-Inverse-Document-Frequency (TF-IDF)\n",
    "\n",
    "In order to account for the effects of documents of different lengths as well as words that appear frequently across many documents, we use term-frequency-inverse-document-frequency. We start by applying term-frequency to account for differing document lengths.\n",
    "\n",
    "\n",
    "\n",
    "To implement this, we use the *TfidfTransformer()* as shown below.\n"
   ]
  },
  {
   "cell_type": "code",
   "execution_count": 15,
   "metadata": {
    "colab": {
     "base_uri": "https://localhost:8080/"
    },
    "executionInfo": {
     "elapsed": 412,
     "status": "ok",
     "timestamp": 1624172195043,
     "user": {
      "displayName": "Sam Ball",
      "photoUrl": "",
      "userId": "13021419479325006913"
     },
     "user_tz": -120
    },
    "id": "ZFZj0pLdz-GD",
    "outputId": "1062c28b-221a-4dbe-a2ec-9099d5803569"
   },
   "outputs": [
    {
     "data": {
      "text/plain": [
       "(15512, 162860)"
      ]
     },
     "execution_count": 15,
     "metadata": {
      "tags": []
     },
     "output_type": "execute_result"
    }
   ],
   "source": [
    "#----APPLY TF-IDF----#\n",
    "\n",
    "tf = TfidfTransformer(use_idf=False).fit(x_train_counts) # only use tf for now\n",
    "x_train_tf = tf.transform(x_train_counts) # transform count matrix into tf representation\n",
    "x_train_tf.shape"
   ]
  },
  {
   "cell_type": "markdown",
   "metadata": {
    "id": "J2PbNfCkz-GE"
   },
   "source": [
    "## Classification Models\n",
    "\n",
    "The classification models are now trained and evaluated with the preprocessed training data. We investigate the probabilistic Naive Bayes model in comparison to the more geometric Support Vector Machine classifier."
   ]
  },
  {
   "cell_type": "markdown",
   "metadata": {
    "id": "lV7FJg1mz-GE"
   },
   "source": [
    "### Naive Bayes\n",
    "\n",
    " Naive Bayes classifiers are a set of probabilistic classifiers based on Bayes' Theorem. Naive Bayes classifiers rely on the assumption of conditional independence between every pair of input features given the target label.\n",
    "\n",
    "Bayes' Theorem for a set of input features $x_1, ... , x_n$ and target variable $y$ is given by,\n",
    "\n",
    "\\begin{equation}\n",
    "    P(y | x_1, ... , x_n) = \\frac{P(x_1, ... , x_n |y) P(y)}{P(x_1, ... , x_n)}\n",
    "\\end{equation}\n",
    "\n",
    "which, due to the independence assumption, is simplified to \n",
    "\n",
    "\\begin{equation}\n",
    "    P(y | x_1, ... , x_n) = \\frac{\\prod_{i=1}^n P(x_i | y) P(y)}{P(x_1, ... , x_n)}\n",
    "\\end{equation}\n",
    "\n",
    "Since $P(x_1, ... , x_n)$ is a normalizing constant, the classification rule can be written as, \n",
    "\n",
    "\\begin{equation}\n",
    "    \\hat{y} = \\arg\\max_{y} \\prod_{i=1}^n P(x_i | y) P(y)\n",
    "\\end{equation}"
   ]
  },
  {
   "cell_type": "markdown",
   "metadata": {
    "id": "-nmbRJCDMB1R"
   },
   "source": [
    "#### Multinomial Naive Bayes\n",
    "\n",
    "Multinomial Naive Bayes is ideal for text classification as it works with discrete counts. \n",
    "\n",
    "The algorithm is implemented as a pipeline including the transformation of the news articles into a document term matrix followed by the application of term-frequency and finally the classifier itself."
   ]
  },
  {
   "cell_type": "code",
   "execution_count": 16,
   "metadata": {
    "executionInfo": {
     "elapsed": 416,
     "status": "ok",
     "timestamp": 1624172201437,
     "user": {
      "displayName": "Sam Ball",
      "photoUrl": "",
      "userId": "13021419479325006913"
     },
     "user_tz": -120
    },
    "id": "c5a-WjfPz-GF"
   },
   "outputs": [],
   "source": [
    "from sklearn.naive_bayes import MultinomialNB\n",
    "from sklearn.pipeline import Pipeline"
   ]
  },
  {
   "cell_type": "code",
   "execution_count": null,
   "metadata": {
    "id": "anFTSvghz-GF"
   },
   "outputs": [],
   "source": [
    "#----MULTINOMIAL NAIVE BAYES----#\n",
    "\n",
    "mnb = MultinomialNB() # create multinomial naive bayes model\n",
    "\n",
    "# create pipeline to perform word embeddings and fitting of model in one \n",
    "text_mnb = Pipeline([\n",
    "        ('vect', counts), # create document term matrix\n",
    "        ('tfidf', tf), # apply term-frequency to account for different article lengths\n",
    "        ('clf', mnb), ]) # multinomial naive bayes classifier"
   ]
  },
  {
   "cell_type": "code",
   "execution_count": null,
   "metadata": {
    "id": "7fsQGdaKMB1S",
    "outputId": "3ec848b2-e443-4866-9e2f-9bdba18e07a3"
   },
   "outputs": [
    {
     "data": {
      "text/plain": [
       "Pipeline(steps=[('vect',\n",
       "                 CountVectorizer(stop_words=['na', 'lakini', 'ingawa',\n",
       "                                             'ingawaje', 'kwa', 'sababu',\n",
       "                                             'hadi', 'hata', 'kama', 'ambapo',\n",
       "                                             'ambamo', 'ambako', 'ambacho',\n",
       "                                             'ambao', 'ambaye', 'ilhali', 'ya',\n",
       "                                             'yake', 'yao', 'yangu', 'yetu',\n",
       "                                             'yenu', 'vya', 'vyao', 'vyake',\n",
       "                                             'vyangu', 'vyenu', 'vyetu', 'yako',\n",
       "                                             'yao', ...])),\n",
       "                ('tfidf', TfidfTransformer(use_idf=False)),\n",
       "                ('clf', MultinomialNB())])"
      ]
     },
     "execution_count": 11,
     "metadata": {
      "tags": []
     },
     "output_type": "execute_result"
    }
   ],
   "source": [
    "#---FIT TO TRAINING DATA---#\n",
    "\n",
    "text_mnb.fit(x_train, y_train) # fit the model to the training set"
   ]
  },
  {
   "cell_type": "markdown",
   "metadata": {
    "id": "3jeUpMmjz-GF"
   },
   "source": [
    "### Support Vector Machines (SVMs)\n",
    "\n",
    "Support Vector Machines (SVMs) aim to find the optimal set of hyperplanes to separate the feature space into classes.\n",
    "A good choice of hyperplane will result in a large distance between the hyperplane and the nearest data point belonging to a specific class, known as a margin. Thus, in the context of classification, Support Vector Machines aim to solve the primal problem defined by, \n",
    "\n",
    "\\begin{equation}\n",
    "\\begin{split}\n",
    "    \\min_{w, b, \\gamma} &= \\frac{1}{2}w^Tw + C\\sum_{i=1}^n \\gamma_i \\\\\n",
    "    subject \\; to \\; & y_i(w^T\\phi(x_i) + b) \\geq 1- \\gamma_i\n",
    "\\end{split}\n",
    "\\end{equation}\n",
    "\n",
    "which represents the maximization of the margin by minimizing the squared norm of the weights ω, and introduces\n",
    "a penalty for misclassified samples, as controlled by the\n",
    "parameter $C$."
   ]
  },
  {
   "cell_type": "markdown",
   "metadata": {},
   "source": [
    "#### SVM Hyperparameters"
   ]
  },
  {
   "cell_type": "markdown",
   "metadata": {
    "id": "9X8m7VSMIEac"
   },
   "source": [
    "- The SVM is trained with stochastic gradient descent with *l2* loss as the penalty term. \n",
    "- The $\\alpha$ term controls the strength of the regularization and was initialized to $1 × 10^{−3}$. \n",
    "- The number of epochs was set to 5 initially. \n",
    "\n",
    "All hyperparameters are then further optimized during model optimization."
   ]
  },
  {
   "cell_type": "markdown",
   "metadata": {
    "id": "Q4hxA8SRMB1T"
   },
   "source": [
    "#### Linear SVM\n",
    "\n",
    "The model uses hinge loss, therefore implementing a linear SVM."
   ]
  },
  {
   "cell_type": "code",
   "execution_count": 17,
   "metadata": {
    "executionInfo": {
     "elapsed": 308,
     "status": "ok",
     "timestamp": 1624172205381,
     "user": {
      "displayName": "Sam Ball",
      "photoUrl": "",
      "userId": "13021419479325006913"
     },
     "user_tz": -120
    },
    "id": "ErEYsFuMz-GF"
   },
   "outputs": [],
   "source": [
    "from sklearn.linear_model import SGDClassifier"
   ]
  },
  {
   "cell_type": "code",
   "execution_count": null,
   "metadata": {
    "id": "ZbOqdMboz-GG"
   },
   "outputs": [],
   "source": [
    "#----SUPPORT VECTOR MACHINE----#\n",
    "\n",
    "# create SVM model with initial hyperparameters\n",
    "svm = SGDClassifier(loss='hinge', penalty='l2', alpha=1e-3, random_state=42, max_iter=5, tol=None)\n",
    "\n",
    "# create pipeline to perform word embeddings and fitting of model in one \n",
    "text_svm = Pipeline([\n",
    "    ('vect', counts), # create document term matrix\n",
    "    ('tfidf',  tf), # apply term-frequency to account for different article lengths\n",
    "    ('clf', svm), # support vector classifier\n",
    "])\n"
   ]
  },
  {
   "cell_type": "code",
   "execution_count": null,
   "metadata": {
    "id": "kaUzmThyMB1T",
    "outputId": "a3122cae-8a71-471d-c662-92cb62b38f9a"
   },
   "outputs": [
    {
     "data": {
      "text/plain": [
       "Pipeline(steps=[('vect',\n",
       "                 CountVectorizer(stop_words=['na', 'lakini', 'ingawa',\n",
       "                                             'ingawaje', 'kwa', 'sababu',\n",
       "                                             'hadi', 'hata', 'kama', 'ambapo',\n",
       "                                             'ambamo', 'ambako', 'ambacho',\n",
       "                                             'ambao', 'ambaye', 'ilhali', 'ya',\n",
       "                                             'yake', 'yao', 'yangu', 'yetu',\n",
       "                                             'yenu', 'vya', 'vyao', 'vyake',\n",
       "                                             'vyangu', 'vyenu', 'vyetu', 'yako',\n",
       "                                             'yao', ...])),\n",
       "                ('tfidf', TfidfTransformer(use_idf=False)),\n",
       "                ('clf',\n",
       "                 SGDClassifier(alpha=0.001, max_iter=5, random_state=42,\n",
       "                               tol=None))])"
      ]
     },
     "execution_count": 14,
     "metadata": {
      "tags": []
     },
     "output_type": "execute_result"
    }
   ],
   "source": [
    "#---FIT TO TRAINING DATA---#\n",
    "\n",
    "text_svm.fit(x_train, y_train) #  fit the SVM model to the training set"
   ]
  },
  {
   "cell_type": "markdown",
   "metadata": {
    "id": "DlQn5oeQz-GG"
   },
   "source": [
    "## Metrics and Evaluation\n",
    "\n",
    "\n",
    "To provide a thorough analysis of the classification performance of each of the models, several metrics will be reported, including *test accuracy, precision, recall* and *F1-score*. Each of the chosen metrics provides different insight into the performance of the models. In addition, the *confusion matrix* will be plotted to indicate the nature of the misclassifications.\n",
    "\n",
    "1. Accuracy \n",
    "\n",
    "Accuracy provides a measure of how many samples are correctly predicted and is calculated as follows,\n",
    "\n",
    "\\begin{equation}\n",
    "    Accuracy = \\frac{(TP + TN)}{(TN + FP + FN + TP)}\n",
    "\\end{equation}\n",
    "\n",
    "\n",
    "where $TP, TN, FP$ and $FN$ represent the number of true positives, true negatives, false positives and false negatives respectively. However the test accuracy can provide a skewed metric in the case of imbalanced datasets as good performance on the majority class will translate to high accuracy. \n",
    "\n",
    "2. Precision\n",
    "\n",
    "Precision can be interpreted as the confidence that a certain positive classification is correct and is calculated as, \n",
    "\n",
    "\\begin{equation}\n",
    "    Precision = \\frac{TP}{(TP + FP)}\n",
    "\\end{equation}\n",
    "\n",
    "\n",
    "3. Recall\n",
    "\n",
    "Recall, also known as the True Positive Rate (TPR) measures the rate at which all samples labelled as positive are\n",
    "identified,\n",
    "\n",
    "\\begin{equation}\n",
    "    Recall = \\frac{TP}{(TP+FN)}\n",
    "\\end{equation}\n",
    "\n",
    "\n",
    "4. F1-Score\n",
    "\n",
    "The F1-score is the harmonic mean of the precision and recall and therefore provides a combined metric balancing these two objectives.\n",
    "\n",
    "\\begin{equation}\n",
    "    F1 \\; Score = \\frac{(2*precision*recall)}{(precision+recall)}\n",
    "\\end{equation}\n",
    "\n",
    "The F1-score provides an insightful metric in the face of class imbalance as it incorporates both precision and recall and is not skewed by the majority class."
   ]
  },
  {
   "cell_type": "markdown",
   "metadata": {
    "id": "khpnbyoAz-GG"
   },
   "source": [
    "The metrics will be implemented as a combination of the *metrics* package and custom functions for the confusion matrix and accuracy."
   ]
  },
  {
   "cell_type": "code",
   "execution_count": 18,
   "metadata": {
    "executionInfo": {
     "elapsed": 661,
     "status": "ok",
     "timestamp": 1624172210768,
     "user": {
      "displayName": "Sam Ball",
      "photoUrl": "",
      "userId": "13021419479325006913"
     },
     "user_tz": -120
    },
    "id": "kPyIPMaOz-GH"
   },
   "outputs": [],
   "source": [
    "#----METRICS AND EVALUATION----#\n",
    "\n",
    "from sklearn import metrics"
   ]
  },
  {
   "cell_type": "markdown",
   "metadata": {
    "id": "KEP6mgnTz-GH"
   },
   "source": [
    "### Naive Bayes"
   ]
  },
  {
   "cell_type": "markdown",
   "metadata": {
    "id": "SisXFaNXMB1U"
   },
   "source": [
    "#### Classification Performance"
   ]
  },
  {
   "cell_type": "code",
   "execution_count": null,
   "metadata": {
    "colab": {
     "base_uri": "https://localhost:8080/"
    },
    "executionInfo": {
     "elapsed": 1465,
     "status": "ok",
     "timestamp": 1623734655768,
     "user": {
      "displayName": "Sam Ball",
      "photoUrl": "",
      "userId": "13021419479325006913"
     },
     "user_tz": -120
    },
    "id": "3LE73VGLz-GH",
    "outputId": "9caf0042-7a82-45be-db0d-156781cfd86c"
   },
   "outputs": [
    {
     "name": "stdout",
     "output_type": "stream",
     "text": [
      "Test Accuracy: 0.6681279009798865\n"
     ]
    }
   ],
   "source": [
    "#---NAIVE BAYES TEST ACCURACY---#\n",
    "\n",
    "predicted = text_mnb.predict(x_test)\n",
    "accuracy = np.mean(predicted == y_test)\n",
    "\n",
    "print(\"Test Accuracy: {}\".format(accuracy))"
   ]
  },
  {
   "cell_type": "code",
   "execution_count": null,
   "metadata": {
    "colab": {
     "base_uri": "https://localhost:8080/"
    },
    "executionInfo": {
     "elapsed": 626,
     "status": "ok",
     "timestamp": 1623734658708,
     "user": {
      "displayName": "Sam Ball",
      "photoUrl": "",
      "userId": "13021419479325006913"
     },
     "user_tz": -120
    },
    "id": "Eb5dPIJF0r7Q",
    "outputId": "9fedb192-5126-41a2-bd1b-f32b014a5ee5"
   },
   "outputs": [
    {
     "name": "stdout",
     "output_type": "stream",
     "text": [
      "              precision    recall  f1-score   support\n",
      "\n",
      "        afya       1.00      0.00      0.00       157\n",
      "    burudani       0.84      0.14      0.23       340\n",
      "   kimataifa       1.00      0.00      0.00       300\n",
      "     kitaifa       0.58      0.99      0.73      1736\n",
      "     michezo       0.94      0.84      0.89       975\n",
      "      uchumi       1.00      0.04      0.08       370\n",
      "\n",
      "    accuracy                           0.67      3878\n",
      "   macro avg       0.89      0.33      0.32      3878\n",
      "weighted avg       0.78      0.67      0.58      3878\n",
      "\n"
     ]
    }
   ],
   "source": [
    "#---CLASSIFICATION REPORT---#\n",
    "\n",
    "print(metrics.classification_report(y_test, predicted,  target_names=['afya', 'burudani', 'kimataifa', 'kitaifa', 'michezo', 'uchumi'], zero_division=1))"
   ]
  },
  {
   "cell_type": "markdown",
   "metadata": {
    "id": "q0BqmXQpMB1V"
   },
   "source": [
    "Given the imbalanced nature of our dataset, we use the F1-score as our primary metric as it provides a balance of\n",
    "precision and recall. In addition, the macro average for the precision, recall and F1-score is favoured rather than the weighted average as it places equal importance on each news category and provide a fairer representation of model\n",
    "performance."
   ]
  },
  {
   "cell_type": "markdown",
   "metadata": {
    "id": "bDEnxALhMB1V"
   },
   "source": [
    "#### Confusion Matrix"
   ]
  },
  {
   "cell_type": "code",
   "execution_count": null,
   "metadata": {
    "id": "jajmzEufMB1V",
    "outputId": "1447fdca-ccbb-4c7d-bcd5-82777607196b"
   },
   "outputs": [
    {
     "data": {
      "image/png": "[encoded data removed]",
      "text/plain": [
       "<Figure size 432x432 with 2 Axes>"
      ]
     },
     "metadata": {
      "needs_background": "light",
      "tags": []
     },
     "output_type": "display_data"
    }
   ],
   "source": [
    "#----CONFUSION MATRIX----#\n",
    "\n",
    "fig, ax = plt.subplots(figsize=(6, 6))\n",
    "plot_confusion_matrix(text_mnb, x_test, y_test, cmap=plt.cm.Blues, xticks_rotation = 'vertical', ax=ax)  \n",
    "plt.savefig('naive_bayes_confusion_matrix', dpi = 300, bbox_inches='tight')\n",
    "plt.show() "
   ]
  },
  {
   "cell_type": "markdown",
   "metadata": {
    "id": "M-WHdcJMIOug"
   },
   "source": [
    "#### Analysis\n",
    "\n",
    "From the confusion matrix above, it can be clearly seen that the Naive Bayes classifier favours the majority *kitaifa* class as there are many misclassifications where the alternate classes are predicted to be in the *kitaifa* category. This effect is quite severe as the health news category *afya* with the lowest representation has no correct classifications and is always predicted to be in the majority *kitaifa* class. \n",
    "\n",
    "This explains the recall score of zero for the *afya* and *kimataifa* classes in the classification report above, as no correct classifications are made for thes under-represented classes."
   ]
  },
  {
   "cell_type": "markdown",
   "metadata": {
    "id": "sCW-o4Cxz-GI"
   },
   "source": [
    "### Support Vector Machine (SVM) "
   ]
  },
  {
   "cell_type": "markdown",
   "metadata": {
    "id": "Hxecq3w-MB1W"
   },
   "source": [
    "#### Classification Performance"
   ]
  },
  {
   "cell_type": "code",
   "execution_count": null,
   "metadata": {
    "colab": {
     "base_uri": "https://localhost:8080/"
    },
    "executionInfo": {
     "elapsed": 1417,
     "status": "ok",
     "timestamp": 1623734700586,
     "user": {
      "displayName": "Sam Ball",
      "photoUrl": "",
      "userId": "13021419479325006913"
     },
     "user_tz": -120
    },
    "id": "LIwsKEVFz-GI",
    "outputId": "5101a97c-16e4-498e-d957-1d5398d333e7"
   },
   "outputs": [
    {
     "name": "stdout",
     "output_type": "stream",
     "text": [
      "Test Accuracy: 0.8408973697782363\n"
     ]
    }
   ],
   "source": [
    "#---SVM TEST ACCURACY---#\n",
    "\n",
    "predicted = text_svm.predict(x_test)\n",
    "accuracy = np.mean(predicted == y_test)\n",
    "print(\"Test Accuracy: {}\".format(accuracy))"
   ]
  },
  {
   "cell_type": "code",
   "execution_count": null,
   "metadata": {
    "colab": {
     "base_uri": "https://localhost:8080/"
    },
    "executionInfo": {
     "elapsed": 1152,
     "status": "ok",
     "timestamp": 1623734705181,
     "user": {
      "displayName": "Sam Ball",
      "photoUrl": "",
      "userId": "13021419479325006913"
     },
     "user_tz": -120
    },
    "id": "qundKWqmz-GI",
    "outputId": "2327e8a3-d719-4fe3-fd95-46f85ab752d4"
   },
   "outputs": [
    {
     "name": "stdout",
     "output_type": "stream",
     "text": [
      "              precision    recall  f1-score   support\n",
      "\n",
      "        afya       1.00      0.01      0.01       157\n",
      "    burudani       0.81      0.89      0.84       340\n",
      "   kimataifa       0.87      0.73      0.80       300\n",
      "     kitaifa       0.78      0.95      0.86      1736\n",
      "     michezo       0.95      0.93      0.94       975\n",
      "      uchumi       0.93      0.48      0.63       370\n",
      "\n",
      "    accuracy                           0.84      3878\n",
      "   macro avg       0.89      0.66      0.68      3878\n",
      "weighted avg       0.86      0.84      0.82      3878\n",
      "\n"
     ]
    }
   ],
   "source": [
    "#---CLASSIFICATION REPORT---#\n",
    "\n",
    "print(metrics.classification_report(y_test, predicted, target_names=['afya', 'burudani', 'kimataifa', 'kitaifa', 'michezo', 'uchumi']))"
   ]
  },
  {
   "cell_type": "markdown",
   "metadata": {
    "id": "nG50edJRz-GI"
   },
   "source": [
    "Overall, the SVM approach far outperforms the Naive Bayes classifier across all metrics. In particular, a great improvement in recall in observed for the *kimataifa* class which had a recall of zero in the case of the Naive Bayes classifier."
   ]
  },
  {
   "cell_type": "markdown",
   "metadata": {
    "id": "D0BOPjZ7MB1X"
   },
   "source": [
    "#### Confusion Matrix"
   ]
  },
  {
   "cell_type": "code",
   "execution_count": null,
   "metadata": {
    "id": "ouQWio75MB1X",
    "outputId": "b26f4f97-724a-453b-808e-ff4f7aa733c4"
   },
   "outputs": [
    {
     "data": {
      "image/png": "[encoded data removed]",
      "text/plain": [
       "<Figure size 432x432 with 2 Axes>"
      ]
     },
     "metadata": {
      "needs_background": "light",
      "tags": []
     },
     "output_type": "display_data"
    }
   ],
   "source": [
    "#----CONFUSION MATRIX----#\n",
    "\n",
    "fig, ax = plt.subplots(figsize=(6, 6))\n",
    "plot_confusion_matrix(text_svm, x_test, y_test, cmap='Blues', xticks_rotation = 'vertical', ax=ax)  \n",
    "plt.savefig('svm_confusion_matrix', dpi = 300, bbox_inches='tight')\n",
    "plt.show()"
   ]
  },
  {
   "cell_type": "markdown",
   "metadata": {},
   "source": [
    "In contrast to the Naive Bayes classifier, the SVM indicates much better performance as larger numbers of correct classifications are indicated along the diagonal, with less dominance of the majority *kitaifa* class. However, poor results are still obtained for the least represented *afya* class as only one sample is correctly classified. \n",
    "\n",
    "Therefore model optimization is needed to ensure viable classification performance."
   ]
  },
  {
   "cell_type": "markdown",
   "metadata": {
    "id": "ulphQbriz-GI"
   },
   "source": [
    "## Model Optimization and Improvement\n",
    "\n",
    "Following on from the naive implementation of each of the machine learning algorithms, a thorough investigation into the role of the design choices and model parameters is undertaken.\n",
    "\n",
    "In order to improve on the baseline results, several optimization techniques will be considered for each algorithm."
   ]
  },
  {
   "cell_type": "markdown",
   "metadata": {
    "id": "LWBar6HVz-GJ"
   },
   "source": [
    "### Naive Bayes\n",
    "\n",
    "Since the Naive Bayes model contains very finite parameters, parameter tuning is not an effective means of optimization. Instead, the problem of class imbalance is addressed by integrating information regarding the complement of each target class. "
   ]
  },
  {
   "cell_type": "markdown",
   "metadata": {
    "id": "coAwNW7vMB1Y"
   },
   "source": [
    "### Complement Naive Bayes\n",
    "\n",
    "The mechanism of the Naive Bayes approach depends strongly on the underlying distribution. Complement Naive Bayes is an adaptation of the multinomial Naive Bayes classifier which aims to overcome the problems associated with imbalanced datasets. Specifically, model parameters are estimated by training with data from all the classes *excluding* the current class $c$.\n",
    "\n",
    "The same word embeddings stages including the creation of the *Document Term Matrix* and application of *term frequency* are once again included in the model pipeline."
   ]
  },
  {
   "cell_type": "code",
   "execution_count": null,
   "metadata": {
    "id": "04cZ9aijz-GJ"
   },
   "outputs": [],
   "source": [
    "from sklearn.naive_bayes import ComplementNB"
   ]
  },
  {
   "cell_type": "code",
   "execution_count": null,
   "metadata": {
    "executionInfo": {
     "elapsed": 693,
     "status": "ok",
     "timestamp": 1623734737346,
     "user": {
      "displayName": "Sam Ball",
      "photoUrl": "",
      "userId": "13021419479325006913"
     },
     "user_tz": -120
    },
    "id": "LvCAKIfYz-GJ",
    "outputId": "514efda7-78a7-4386-b353-04add37b4dec"
   },
   "outputs": [
    {
     "data": {
      "text/plain": [
       "Pipeline(steps=[('vect',\n",
       "                 CountVectorizer(stop_words=['na', 'lakini', 'ingawa',\n",
       "                                             'ingawaje', 'kwa', 'sababu',\n",
       "                                             'hadi', 'hata', 'kama', 'ambapo',\n",
       "                                             'ambamo', 'ambako', 'ambacho',\n",
       "                                             'ambao', 'ambaye', 'ilhali', 'ya',\n",
       "                                             'yake', 'yao', 'yangu', 'yetu',\n",
       "                                             'yenu', 'vya', 'vyao', 'vyake',\n",
       "                                             'vyangu', 'vyenu', 'vyetu', 'yako',\n",
       "                                             'yao', ...])),\n",
       "                ('tfidf', TfidfTransformer(use_idf=False)),\n",
       "                ('clf', ComplementNB())])"
      ]
     },
     "execution_count": 24,
     "metadata": {
      "tags": []
     },
     "output_type": "execute_result"
    }
   ],
   "source": [
    "#---COMPLEMENT NAIVE BAYES---#\n",
    "\n",
    "cnb = ComplementNB()\n",
    "text_cnb = Pipeline([\n",
    "        ('vect', counts), # create document term matrix\n",
    "        ('tfidf', tf), # apply term frequency\n",
    "        ('clf', cnb), ]) # complement naive bayes\n",
    "\n",
    "text_cnb.fit(x_train, y_train) # estimate parameters"
   ]
  },
  {
   "cell_type": "code",
   "execution_count": null,
   "metadata": {
    "colab": {
     "base_uri": "https://localhost:8080/"
    },
    "executionInfo": {
     "elapsed": 1539,
     "status": "ok",
     "timestamp": 1623734740415,
     "user": {
      "displayName": "Sam Ball",
      "photoUrl": "",
      "userId": "13021419479325006913"
     },
     "user_tz": -120
    },
    "id": "ZSt9NWJQz-GJ",
    "outputId": "1f888c96-6316-4215-a57d-9604e61efe97"
   },
   "outputs": [
    {
     "name": "stdout",
     "output_type": "stream",
     "text": [
      "0.7774626095925735\n"
     ]
    }
   ],
   "source": [
    "#---COMPLEMENT NAIVE BAYES TEST ACCURACY---#\n",
    "\n",
    "predicted = text_cnb.predict(x_test)\n",
    "accuracy = np.mean(predicted == y_test)\n",
    "print(accuracy)"
   ]
  },
  {
   "cell_type": "markdown",
   "metadata": {},
   "source": [
    "We observe an 11% increase in test accuracy from the introduction of complement information."
   ]
  },
  {
   "cell_type": "code",
   "execution_count": null,
   "metadata": {
    "colab": {
     "base_uri": "https://localhost:8080/"
    },
    "executionInfo": {
     "elapsed": 396,
     "status": "ok",
     "timestamp": 1623734743686,
     "user": {
      "displayName": "Sam Ball",
      "photoUrl": "",
      "userId": "13021419479325006913"
     },
     "user_tz": -120
    },
    "id": "l6f1r_zD002p",
    "outputId": "03b87858-b475-458c-db14-f0ff179bf473"
   },
   "outputs": [
    {
     "name": "stdout",
     "output_type": "stream",
     "text": [
      "              precision    recall  f1-score   support\n",
      "\n",
      "        afya       1.00      0.00      0.00       157\n",
      "    burudani       0.87      0.74      0.80       340\n",
      "   kimataifa       1.00      0.23      0.37       300\n",
      "     kitaifa       0.69      0.98      0.81      1736\n",
      "     michezo       0.95      0.91      0.93       975\n",
      "      uchumi       1.00      0.29      0.45       370\n",
      "\n",
      "    accuracy                           0.78      3878\n",
      "   macro avg       0.92      0.52      0.56      3878\n",
      "weighted avg       0.84      0.78      0.74      3878\n",
      "\n"
     ]
    }
   ],
   "source": [
    "#---CLASSIFICATION REPORT---#\n",
    "\n",
    "print(metrics.classification_report(y_test, predicted,  target_names=['afya', 'burudani', 'kimataifa', 'kitaifa', 'michezo', 'uchumi'], zero_division=1))"
   ]
  },
  {
   "cell_type": "markdown",
   "metadata": {},
   "source": [
    "Furthermore, a very notable increase in macro F1-score is observed after model optimization with 24% improvement over the baseline Naive Bayes model."
   ]
  },
  {
   "cell_type": "code",
   "execution_count": null,
   "metadata": {
    "id": "DYdd7Rr7MB1Z",
    "outputId": "63d8512a-e153-4bec-fe2a-79f7d640cfc0"
   },
   "outputs": [
    {
     "data": {
      "image/png": "[encoded data removed]",
      "text/plain": [
       "<Figure size 432x432 with 2 Axes>"
      ]
     },
     "metadata": {
      "needs_background": "light",
      "tags": []
     },
     "output_type": "display_data"
    }
   ],
   "source": [
    "#---CONFUSION MATRIX---#\n",
    "\n",
    "fig, ax = plt.subplots(figsize=(6, 6))\n",
    "plot_confusion_matrix(text_cnb, x_test, y_test, cmap='OrRd', xticks_rotation = 'vertical', ax=ax)  \n",
    "plt.savefig('naive_bayes_improved_confusion_matrix', dpi = 300, bbox_inches='tight')\n",
    "plt.show() "
   ]
  },
  {
   "cell_type": "markdown",
   "metadata": {},
   "source": [
    "In contrast to the initial results from multinomial Naive Bayes, the confusion matrix indicates improved performance with more correct classifications along the diagonal. However, for the *afya* class, no correct classifications are made, therefore suggesting that the use of Complementary Naive Bayes can only improve performance to a certain extent before a more complex classifier is needed."
   ]
  },
  {
   "cell_type": "markdown",
   "metadata": {
    "id": "DKtsDRNWz-GJ"
   },
   "source": [
    "### Support Vector Machines (SVMs)"
   ]
  },
  {
   "cell_type": "markdown",
   "metadata": {
    "id": "VDvpxDwMz-GK"
   },
   "source": [
    "Support Vector Machines involve a number of hyperparameters that can be tuned for optimal performance."
   ]
  },
  {
   "cell_type": "markdown",
   "metadata": {
    "id": "KnG1UwXt2Veh"
   },
   "source": [
    "### 1. Correcting for Class Imbalance\n",
    "\n",
    "The *class weight* parameter allows more importance to be placed on classes that are under-represented in the dataset.\n"
   ]
  },
  {
   "cell_type": "code",
   "execution_count": 20,
   "metadata": {
    "colab": {
     "base_uri": "https://localhost:8080/"
    },
    "executionInfo": {
     "elapsed": 6874,
     "status": "ok",
     "timestamp": 1624172247791,
     "user": {
      "displayName": "Sam Ball",
      "photoUrl": "",
      "userId": "13021419479325006913"
     },
     "user_tz": -120
    },
    "id": "WhIBL_pz2RCD",
    "outputId": "e45da6e1-22fe-4970-ef26-b5d40c7c99f6"
   },
   "outputs": [
    {
     "data": {
      "text/plain": [
       "Pipeline(memory=None,\n",
       "         steps=[('vect',\n",
       "                 CountVectorizer(analyzer='word', binary=False,\n",
       "                                 decode_error='strict',\n",
       "                                 dtype=<class 'numpy.int64'>, encoding='utf-8',\n",
       "                                 input='content', lowercase=True, max_df=1.0,\n",
       "                                 max_features=None, min_df=1,\n",
       "                                 ngram_range=(1, 1), preprocessor=None,\n",
       "                                 stop_words=['na', 'lakini', 'ingawa',\n",
       "                                             'ingawaje', 'kwa', 'sababu',\n",
       "                                             'hadi', 'hata', 'kama', 'ambapo',\n",
       "                                             'ambamo...\n",
       "                ('clf',\n",
       "                 SGDClassifier(alpha=0.001, average=False,\n",
       "                               class_weight='balanced', early_stopping=False,\n",
       "                               epsilon=0.1, eta0=0.0, fit_intercept=True,\n",
       "                               l1_ratio=0.15, learning_rate='optimal',\n",
       "                               loss='hinge', max_iter=5, n_iter_no_change=5,\n",
       "                               n_jobs=-1, penalty='l2', power_t=0.5,\n",
       "                               random_state=42, shuffle=True, tol=None,\n",
       "                               validation_fraction=0.1, verbose=0,\n",
       "                               warm_start=False))],\n",
       "         verbose=False)"
      ]
     },
     "execution_count": 20,
     "metadata": {
      "tags": []
     },
     "output_type": "execute_result"
    }
   ],
   "source": [
    "#----TRAIN OPTIMIZED SVM WITH CLASS WEIGHT----#\n",
    "\n",
    "# create SVM model\n",
    "svm_balanced = SGDClassifier(loss='hinge', penalty='l2', alpha=1e-3, random_state=42, max_iter=5, tol=None, class_weight = 'balanced',  n_jobs=-1)\n",
    "\n",
    "text_svm_balanced = Pipeline([\n",
    "    ('vect', counts),\n",
    "    ('tfidf',  tf),\n",
    "    ('clf', svm_balanced),\n",
    "])\n",
    "\n",
    "text_svm_balanced.fit(x_train, y_train)"
   ]
  },
  {
   "cell_type": "code",
   "execution_count": 21,
   "metadata": {
    "colab": {
     "base_uri": "https://localhost:8080/"
    },
    "executionInfo": {
     "elapsed": 1779,
     "status": "ok",
     "timestamp": 1624172258774,
     "user": {
      "displayName": "Sam Ball",
      "photoUrl": "",
      "userId": "13021419479325006913"
     },
     "user_tz": -120
    },
    "id": "LdsqmK8UMB1a",
    "outputId": "3d405664-7489-407f-9dcc-76e60237b32b"
   },
   "outputs": [
    {
     "name": "stdout",
     "output_type": "stream",
     "text": [
      "0.8396080453842186\n"
     ]
    }
   ],
   "source": [
    "#---SVM + CLASS WEIGHT TEST ACCURACY---#\n",
    "\n",
    "predicted = text_svm_balanced.predict(x_test)\n",
    "accuracy = np.mean(predicted == y_test)\n",
    "print(accuracy)"
   ]
  },
  {
   "cell_type": "code",
   "execution_count": null,
   "metadata": {
    "id": "7AjnNF6WMB1a",
    "outputId": "19a7df94-9126-42e1-9306-1189a6a1f41f"
   },
   "outputs": [
    {
     "name": "stdout",
     "output_type": "stream",
     "text": [
      "              precision    recall  f1-score   support\n",
      "\n",
      "        afya       0.43      0.62      0.51       157\n",
      "    burudani       0.78      0.94      0.85       340\n",
      "   kimataifa       0.77      0.84      0.81       300\n",
      "     kitaifa       0.88      0.82      0.85      1736\n",
      "     michezo       0.96      0.92      0.94       975\n",
      "      uchumi       0.73      0.72      0.73       370\n",
      "\n",
      "    accuracy                           0.84      3878\n",
      "   macro avg       0.76      0.81      0.78      3878\n",
      "weighted avg       0.85      0.84      0.84      3878\n",
      "\n"
     ]
    }
   ],
   "source": [
    "#---CLASSIFICATION REPORT---#\n",
    "\n",
    "print(metrics.classification_report(y_test, predicted,  target_names=['afya', 'burudani', 'kimataifa', 'kitaifa', 'michezo', 'uchumi'], zero_division=1))"
   ]
  },
  {
   "cell_type": "markdown",
   "metadata": {
    "id": "cqnxl9hyMB1b"
   },
   "source": [
    "Notably, the macro F1-score has improved by 10% from 0.68 to 0.78. Since F1-score is a better metric for our imbalance problem, this demonstrates the benefits of introducing the class weight parameter."
   ]
  },
  {
   "cell_type": "code",
   "execution_count": null,
   "metadata": {
    "id": "Cwz8u4g5MB1b",
    "outputId": "02e6ad66-9ad9-4ca7-fde2-128285c7316a"
   },
   "outputs": [
    {
     "data": {
      "image/png": "[encoded data removed]",
      "text/plain": [
       "<Figure size 432x432 with 2 Axes>"
      ]
     },
     "metadata": {
      "needs_background": "light",
      "tags": []
     },
     "output_type": "display_data"
    }
   ],
   "source": [
    "#---CONFUSION MATRIX---#\n",
    "\n",
    "fig, ax = plt.subplots(figsize=(6, 6))\n",
    "plot_confusion_matrix(text_svm_balanced, x_test, y_test, cmap='OrRd', xticks_rotation = 'vertical', ax=ax)  \n",
    "plt.savefig('svm_balanced_confusion_matrix', dpi = 300, bbox_inches='tight')\n",
    "plt.show() "
   ]
  },
  {
   "cell_type": "markdown",
   "metadata": {
    "id": "5c12UB8QMB1b"
   },
   "source": [
    "Furthermore, the confusion matrix shows a clear improvement in correct predicitions for the under-represented *afya* class. The predictions for the poorly represented *afya* class experience a great improvement with 97 correct classifications rather than 1 correct classification obtained previously. "
   ]
  },
  {
   "cell_type": "markdown",
   "metadata": {
    "id": "On_x1YgBMB1b"
   },
   "source": [
    "### 2. Grid Search\n",
    "\n",
    "Grid search is an exhaustive search of specified parameters in order to find the optimal combination. "
   ]
  },
  {
   "cell_type": "code",
   "execution_count": 19,
   "metadata": {
    "executionInfo": {
     "elapsed": 4,
     "status": "ok",
     "timestamp": 1624172231232,
     "user": {
      "displayName": "Sam Ball",
      "photoUrl": "",
      "userId": "13021419479325006913"
     },
     "user_tz": -120
    },
    "id": "VC8na3DtMB1b"
   },
   "outputs": [],
   "source": [
    "from sklearn.model_selection import GridSearchCV"
   ]
  },
  {
   "cell_type": "code",
   "execution_count": 22,
   "metadata": {
    "colab": {
     "base_uri": "https://localhost:8080/"
    },
    "executionInfo": {
     "elapsed": 409,
     "status": "ok",
     "timestamp": 1624172266618,
     "user": {
      "displayName": "Sam Ball",
      "photoUrl": "",
      "userId": "13021419479325006913"
     },
     "user_tz": -120
    },
    "id": "5cYiO2-42NRt",
    "outputId": "22412344-3403-4839-b2d4-22c010715809"
   },
   "outputs": [
    {
     "data": {
      "text/plain": [
       "dict_keys(['memory', 'steps', 'verbose', 'vect', 'tfidf', 'clf', 'vect__analyzer', 'vect__binary', 'vect__decode_error', 'vect__dtype', 'vect__encoding', 'vect__input', 'vect__lowercase', 'vect__max_df', 'vect__max_features', 'vect__min_df', 'vect__ngram_range', 'vect__preprocessor', 'vect__stop_words', 'vect__strip_accents', 'vect__token_pattern', 'vect__tokenizer', 'vect__vocabulary', 'tfidf__norm', 'tfidf__smooth_idf', 'tfidf__sublinear_tf', 'tfidf__use_idf', 'clf__alpha', 'clf__average', 'clf__class_weight', 'clf__early_stopping', 'clf__epsilon', 'clf__eta0', 'clf__fit_intercept', 'clf__l1_ratio', 'clf__learning_rate', 'clf__loss', 'clf__max_iter', 'clf__n_iter_no_change', 'clf__n_jobs', 'clf__penalty', 'clf__power_t', 'clf__random_state', 'clf__shuffle', 'clf__tol', 'clf__validation_fraction', 'clf__verbose', 'clf__warm_start'])"
      ]
     },
     "execution_count": 22,
     "metadata": {
      "tags": []
     },
     "output_type": "execute_result"
    }
   ],
   "source": [
    "# print all possible hyperparameters that can be tuned\n",
    "\n",
    "text_svm_balanced.get_params().keys()"
   ]
  },
  {
   "cell_type": "markdown",
   "metadata": {},
   "source": [
    "We explore variants of the ngram range, tf-idf, $\\alpha$ parameter and number of epochs."
   ]
  },
  {
   "cell_type": "code",
   "execution_count": 23,
   "metadata": {
    "executionInfo": {
     "elapsed": 524,
     "status": "ok",
     "timestamp": 1624172281307,
     "user": {
      "displayName": "Sam Ball",
      "photoUrl": "",
      "userId": "13021419479325006913"
     },
     "user_tz": -120
    },
    "id": "5LMkQnC_OFLp"
   },
   "outputs": [],
   "source": [
    "# select parameters to search through\n",
    "\n",
    "parameters = {\n",
    "    'vect__ngram_range': [(1, 1), (1, 2)],\n",
    "    'tfidf__use_idf': (True, False),\n",
    "    'clf__alpha': (1e-2, 1e-3, 1e-4),\n",
    "    'clf__max_iter': (10, 50, 100),\n",
    "}\n",
    "gs_clf = GridSearchCV(text_svm_balanced, parameters, cv=5) # apply grid search"
   ]
  },
  {
   "cell_type": "code",
   "execution_count": 24,
   "metadata": {
    "executionInfo": {
     "elapsed": 2292512,
     "status": "ok",
     "timestamp": 1624174580634,
     "user": {
      "displayName": "Sam Ball",
      "photoUrl": "",
      "userId": "13021419479325006913"
     },
     "user_tz": -120
    },
    "id": "AzenWkqMz-GK"
   },
   "outputs": [],
   "source": [
    "gs_clf = gs_clf.fit(x_train[0:10000], y_train[0:10000]) # use subset of data "
   ]
  },
  {
   "cell_type": "code",
   "execution_count": 25,
   "metadata": {
    "colab": {
     "base_uri": "https://localhost:8080/"
    },
    "executionInfo": {
     "elapsed": 2900,
     "status": "ok",
     "timestamp": 1624175897732,
     "user": {
      "displayName": "Sam Ball",
      "photoUrl": "",
      "userId": "13021419479325006913"
     },
     "user_tz": -120
    },
    "id": "OoXgPMQFz-GK",
    "outputId": "b37b7746-a717-4a5f-8fab-a7832da69cbb"
   },
   "outputs": [
    {
     "name": "stdout",
     "output_type": "stream",
     "text": [
      "0.8620422898401238\n"
     ]
    }
   ],
   "source": [
    "predicted = gs_clf.predict(x_test)\n",
    "accuracy = np.mean(predicted == y_test)\n",
    "print(accuracy)"
   ]
  },
  {
   "cell_type": "code",
   "execution_count": 26,
   "metadata": {
    "colab": {
     "base_uri": "https://localhost:8080/"
    },
    "executionInfo": {
     "elapsed": 604,
     "status": "ok",
     "timestamp": 1624175901432,
     "user": {
      "displayName": "Sam Ball",
      "photoUrl": "",
      "userId": "13021419479325006913"
     },
     "user_tz": -120
    },
    "id": "YDABJlux2BRy",
    "outputId": "3b9ef593-f55b-472d-ac02-f66684185aeb"
   },
   "outputs": [
    {
     "name": "stdout",
     "output_type": "stream",
     "text": [
      "              precision    recall  f1-score   support\n",
      "\n",
      "        afya       0.49      0.37      0.42       157\n",
      "    burudani       0.81      0.91      0.86       340\n",
      "   kimataifa       0.83      0.86      0.85       300\n",
      "     kitaifa       0.87      0.88      0.87      1736\n",
      "     michezo       0.95      0.94      0.95       975\n",
      "      uchumi       0.79      0.72      0.76       370\n",
      "\n",
      "    accuracy                           0.86      3878\n",
      "   macro avg       0.79      0.78      0.78      3878\n",
      "weighted avg       0.86      0.86      0.86      3878\n",
      "\n"
     ]
    }
   ],
   "source": [
    "#---CLASSIFICATION REPORT---#\n",
    "\n",
    "print(metrics.classification_report(y_test, predicted,  target_names=['afya', 'burudani', 'kimataifa', 'kitaifa', 'michezo', 'uchumi'], zero_division=1))"
   ]
  },
  {
   "cell_type": "markdown",
   "metadata": {},
   "source": [
    "The best parameters found from the grid search are shown below."
   ]
  },
  {
   "cell_type": "code",
   "execution_count": 27,
   "metadata": {
    "colab": {
     "base_uri": "https://localhost:8080/"
    },
    "executionInfo": {
     "elapsed": 585,
     "status": "ok",
     "timestamp": 1624175904989,
     "user": {
      "displayName": "Sam Ball",
      "photoUrl": "",
      "userId": "13021419479325006913"
     },
     "user_tz": -120
    },
    "id": "iRcdtkK0U4xW",
    "outputId": "c12b9942-5373-4002-8cb0-f6e2b3e8b625"
   },
   "outputs": [
    {
     "data": {
      "text/plain": [
       "{'clf__alpha': 0.0001,\n",
       " 'clf__max_iter': 50,\n",
       " 'tfidf__use_idf': True,\n",
       " 'vect__ngram_range': (1, 2)}"
      ]
     },
     "execution_count": 27,
     "metadata": {
      "tags": []
     },
     "output_type": "execute_result"
    }
   ],
   "source": [
    "#---BEST COMBINATION FOUND---#\n",
    "\n",
    "gs_clf.best_params_"
   ]
  },
  {
   "cell_type": "markdown",
   "metadata": {
    "id": "rxH1dZ2eMB1d"
   },
   "source": [
    "### Final SVM model after grid search\n",
    "\n",
    "Several optimizations were discovered through the grid search process."
   ]
  },
  {
   "cell_type": "markdown",
   "metadata": {
    "id": "FhlmO6E7MB1d"
   },
   "source": [
    "#### a) Ngram range\n",
    "\n",
    "It was found that expanding the *n-gram* range from (1, 1) to (1, 2) was beneficial during the creation of\n",
    "the Document Term Matrix. An *n-gram* range of (1, 2) expands the *n-gram* construction to include bigrams as well\n",
    "as unigrams."
   ]
  },
  {
   "cell_type": "code",
   "execution_count": null,
   "metadata": {
    "colab": {
     "base_uri": "https://localhost:8080/"
    },
    "executionInfo": {
     "elapsed": 19880,
     "status": "ok",
     "timestamp": 1623738297652,
     "user": {
      "displayName": "Sam Ball",
      "photoUrl": "",
      "userId": "13021419479325006913"
     },
     "user_tz": -120
    },
    "id": "7QObJeQ6V047",
    "outputId": "594f9bbd-4678-4446-edf1-e643aa1238a7"
   },
   "outputs": [
    {
     "data": {
      "text/plain": [
       "(15512, 1789156)"
      ]
     },
     "execution_count": 36,
     "metadata": {
      "tags": []
     },
     "output_type": "execute_result"
    }
   ],
   "source": [
    "#---NGRAM RANGE = (1, 2)---#\n",
    "\n",
    "counts_best = CountVectorizer(stop_words = list(stopword_list), ngram_range=(1, 2)) # include bigrams\n",
    "x_train_counts = counts_best.fit_transform(x_train)\n",
    "x_train_counts.shape"
   ]
  },
  {
   "cell_type": "markdown",
   "metadata": {
    "id": "mOF7Sgf4MB1d"
   },
   "source": [
    "#### b) TF-IDF\n",
    "\n",
    "A further optimization is the inclusion of *inverse-document-frequency* as well as *term-frequency* in order to account for the prevalence of a term across the corpus as a whole."
   ]
  },
  {
   "cell_type": "code",
   "execution_count": null,
   "metadata": {
    "colab": {
     "base_uri": "https://localhost:8080/"
    },
    "executionInfo": {
     "elapsed": 2336,
     "status": "ok",
     "timestamp": 1623738344047,
     "user": {
      "displayName": "Sam Ball",
      "photoUrl": "",
      "userId": "13021419479325006913"
     },
     "user_tz": -120
    },
    "id": "DcaEJhPZWAP4",
    "outputId": "725c1c67-bcdc-4388-a631-0ed4c4accd3a"
   },
   "outputs": [
    {
     "data": {
      "text/plain": [
       "(15512, 1789156)"
      ]
     },
     "execution_count": 37,
     "metadata": {
      "tags": []
     },
     "output_type": "execute_result"
    }
   ],
   "source": [
    "#---INCLUDING INVERSE DOCUMENT FREQUENCY---#\n",
    "\n",
    "tf_best = TfidfTransformer(use_idf=True).fit(x_train_counts)\n",
    "x_train_tf = tf_best.transform(x_train_counts)\n",
    "x_train_tf.shape"
   ]
  },
  {
   "cell_type": "markdown",
   "metadata": {
    "id": "00iOPTKIMB1e"
   },
   "source": [
    "#### c) SVM Hyperparameters\n",
    "\n",
    "The optimal values for the regularization parameter and number of epochs were found to be:\n",
    "\n",
    "- $\\alpha$ = $1 \\times 10^4$\n",
    "- max iter = 50"
   ]
  },
  {
   "cell_type": "code",
   "execution_count": null,
   "metadata": {
    "executionInfo": {
     "elapsed": 334,
     "status": "ok",
     "timestamp": 1623738353084,
     "user": {
      "displayName": "Sam Ball",
      "photoUrl": "",
      "userId": "13021419479325006913"
     },
     "user_tz": -120
    },
    "id": "6oNaVmBvVML5",
    "outputId": "384754cb-a89c-4594-e611-2a2460196408"
   },
   "outputs": [
    {
     "data": {
      "text/plain": [
       "Pipeline(steps=[('vect',\n",
       "                 CountVectorizer(ngram_range=(1, 2),\n",
       "                                 stop_words=['na', 'lakini', 'ingawa',\n",
       "                                             'ingawaje', 'kwa', 'sababu',\n",
       "                                             'hadi', 'hata', 'kama', 'ambapo',\n",
       "                                             'ambamo', 'ambako', 'ambacho',\n",
       "                                             'ambao', 'ambaye', 'ilhali', 'ya',\n",
       "                                             'yake', 'yao', 'yangu', 'yetu',\n",
       "                                             'yenu', 'vya', 'vyao', 'vyake',\n",
       "                                             'vyangu', 'vyenu', 'vyetu', 'yako',\n",
       "                                             'yao', ...])),\n",
       "                ('tfidf', TfidfTransformer()),\n",
       "                ('clf',\n",
       "                 SGDClassifier(class_weight='balanced', max_iter=50, n_jobs=-1,\n",
       "                               random_state=42, tol=None))])"
      ]
     },
     "execution_count": 38,
     "metadata": {
      "tags": []
     },
     "output_type": "execute_result"
    }
   ],
   "source": [
    "#---CREATE AND TRAIN OPTIMIZED SVM MODEL---#\n",
    "\n",
    "svm_grid = SGDClassifier(loss='hinge', penalty='l2', alpha=1e-4, random_state=42, max_iter=50, tol=None, class_weight = 'balanced',  n_jobs=-1)\n",
    "\n",
    "text_svm_grid = Pipeline([\n",
    "    ('vect', counts_best),\n",
    "    ('tfidf',  tf_best),\n",
    "    ('clf', svm_grid),\n",
    "])\n",
    "\n",
    "text_svm_grid.fit(x_train, y_train) "
   ]
  },
  {
   "cell_type": "code",
   "execution_count": null,
   "metadata": {
    "colab": {
     "base_uri": "https://localhost:8080/"
    },
    "executionInfo": {
     "elapsed": 2901,
     "status": "ok",
     "timestamp": 1623738485170,
     "user": {
      "displayName": "Sam Ball",
      "photoUrl": "",
      "userId": "13021419479325006913"
     },
     "user_tz": -120
    },
    "id": "jhbIKWvBWTRX",
    "outputId": "0811b5ee-9c54-4eff-e03b-b05eb427972a"
   },
   "outputs": [
    {
     "name": "stdout",
     "output_type": "stream",
     "text": [
      "0.8625580195977308\n"
     ]
    }
   ],
   "source": [
    "#---SVM + GRID SEARCH TEST ACCURACY---#\n",
    "\n",
    "predicted = text_svm_grid.predict(x_test)\n",
    "accuracy = np.mean(predicted == y_test)\n",
    "print(accuracy)"
   ]
  },
  {
   "cell_type": "code",
   "execution_count": null,
   "metadata": {
    "id": "_b-y3YE0MB1e",
    "outputId": "f141ebd8-932f-456c-de28-ee4df38561c9"
   },
   "outputs": [
    {
     "name": "stdout",
     "output_type": "stream",
     "text": [
      "              precision    recall  f1-score   support\n",
      "\n",
      "        afya       0.47      0.45      0.46       157\n",
      "    burudani       0.80      0.94      0.86       340\n",
      "   kimataifa       0.83      0.87      0.85       300\n",
      "     kitaifa       0.88      0.87      0.87      1736\n",
      "     michezo       0.96      0.94      0.95       975\n",
      "      uchumi       0.79      0.75      0.77       370\n",
      "\n",
      "    accuracy                           0.86      3878\n",
      "   macro avg       0.79      0.80      0.79      3878\n",
      "weighted avg       0.86      0.86      0.86      3878\n",
      "\n"
     ]
    }
   ],
   "source": [
    "#---CLASSIFICATION REPORT---#\n",
    "\n",
    "print(metrics.classification_report(y_test, predicted,  target_names=['afya', 'burudani', 'kimataifa', 'kitaifa', 'michezo', 'uchumi'], zero_division=1))"
   ]
  },
  {
   "cell_type": "markdown",
   "metadata": {
    "id": "jJir3b-UMB1e"
   },
   "source": [
    "As indicated by the metrics above, the test accuracy and f1-score improved by 2% and 1% respectively due to the optimal hyperparameters found."
   ]
  },
  {
   "cell_type": "code",
   "execution_count": null,
   "metadata": {
    "id": "toA-NjP0MB1f",
    "outputId": "b04e03a0-81ae-4639-96f2-af1f356d5e7b"
   },
   "outputs": [
    {
     "data": {
      "image/png": "[encoded data removed]",
      "text/plain": [
       "<Figure size 432x432 with 2 Axes>"
      ]
     },
     "metadata": {
      "needs_background": "light",
      "tags": []
     },
     "output_type": "display_data"
    }
   ],
   "source": [
    "#---CONFUSION MATRIX---#\n",
    "\n",
    "fig, ax = plt.subplots(figsize=(6, 6))\n",
    "plot_confusion_matrix(text_svm_grid, x_test, y_test, cmap='OrRd', xticks_rotation = 'vertical', ax=ax)  \n",
    "plt.savefig('svm_grid_confusion_matrix', dpi = 300, bbox_inches='tight')\n",
    "plt.show() "
   ]
  },
  {
   "cell_type": "markdown",
   "metadata": {
    "id": "6YTzZdEyMB1f"
   },
   "source": [
    "The SVM after both the *class weight* and *grid search* optimizations obtains the best performance out of the classical machine learning approaches and their respective variants, obtaining 86% accuracy and an F1-score of 79%."
   ]
  },
  {
   "cell_type": "markdown",
   "metadata": {},
   "source": [
    "The next notebook will explore deep learning techniques as an alternative to classical machine learning approaches to text classification."
   ]
  }
 ],
 "metadata": {
  "colab": {
   "collapsed_sections": [
    "KEP6mgnTz-GH",
    "sCW-o4Cxz-GI",
    "LWBar6HVz-GJ"
   ],
   "name": "2 - Classical Approaches - Naive Bayes and SVMs.ipynb",
   "provenance": []
  },
  "kernelspec": {
   "display_name": "Python 3",
   "language": "python",
   "name": "python3"
  },
  "language_info": {
   "codemirror_mode": {
    "name": "ipython",
    "version": 3
   },
   "file_extension": ".py",
   "mimetype": "text/x-python",
   "name": "python",
   "nbconvert_exporter": "python",
   "pygments_lexer": "ipython3",
   "version": "3.7.4"
  }
 },
 "nbformat": 4,
 "nbformat_minor": 1
}
