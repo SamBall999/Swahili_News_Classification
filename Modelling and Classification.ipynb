{
 "cells": [
  {
   "cell_type": "code",
   "execution_count": null,
   "metadata": {},
   "outputs": [],
   "source": [
    "# Text gives us useful insights but is unstructured data therefore challenging and time consuming to mine its value\n",
    "# Use cases: Brand monitoring, sentiment of reviews"
   ]
  },
  {
   "cell_type": "code",
   "execution_count": null,
   "metadata": {},
   "outputs": [],
   "source": [
    "#---SPLITTING DATA INTO TRAIN AND TEST SETS---#"
   ]
  },
  {
   "cell_type": "code",
   "execution_count": null,
   "metadata": {},
   "outputs": [],
   "source": [
    "#----ENCODING APPROACHES----#\n",
    "\n",
    "# 1. Bag of Words"
   ]
  },
  {
   "cell_type": "code",
   "execution_count": null,
   "metadata": {},
   "outputs": [],
   "source": [
    "#----CLASSIFICATION MODELS----#\n",
    "\n",
    "# 1. Naive Bayes e.g.  Multinomial Naive Bayes (MNB)\n",
    "# 2. Support Vector Machines \n",
    "# 3. CNNs\n",
    "# 4. RNNs"
   ]
  },
  {
   "cell_type": "code",
   "execution_count": null,
   "metadata": {},
   "outputs": [],
   "source": [
    "#----CROSS-VALIDATION----#"
   ]
  },
  {
   "cell_type": "code",
   "execution_count": null,
   "metadata": {},
   "outputs": [],
   "source": [
    "#----METRICS AND EVALUATION----#\n",
    "\n",
    "# 1. Accuracy\n",
    "# 2. Precision\n",
    "# 3. Recall \n",
    "# 4. F1 Score\n",
    "\n",
    "# Confusion matrix??"
   ]
  }
 ],
 "metadata": {
  "kernelspec": {
   "display_name": "Python 3",
   "language": "python",
   "name": "python3"
  },
  "language_info": {
   "codemirror_mode": {
    "name": "ipython",
    "version": 3
   },
   "file_extension": ".py",
   "mimetype": "text/x-python",
   "name": "python",
   "nbconvert_exporter": "python",
   "pygments_lexer": "ipython3",
   "version": "3.7.4"
  }
 },
 "nbformat": 4,
 "nbformat_minor": 2
}
