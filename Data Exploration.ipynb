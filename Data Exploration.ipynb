{
 "cells": [
  {
   "cell_type": "markdown",
   "metadata": {},
   "source": [
    "<h1><center>COMS7047A Term Project: Swahili News Classification</center></h1> \n",
    "\n",
    "<img src=\"./wits_logo.png\" alt=\"Wits_Logo\" style=\"width: 400px;\"/>\n",
    "\n",
    "***\n",
    "<h4><center> Samantha Ball  &nbsp;   1603701   &nbsp;  2021</center></h4>"
   ]
  },
  {
   "cell_type": "code",
   "execution_count": 130,
   "metadata": {},
   "outputs": [],
   "source": [
    "#----INSTALL LIBRARIES----#\n",
    "import matplotlib.pyplot as plt\n",
    "import numpy as np\n",
    "import pandas as pd\n",
    "import seaborn as sns\n",
    "from sklearn.metrics import r2_score , mean_squared_error\n",
    "from sklearn.model_selection import train_test_split \n",
    "%matplotlib inline"
   ]
  },
  {
   "cell_type": "markdown",
   "metadata": {},
   "source": [
    "## Data Import\n",
    "The chosen dataset involves factors affecting medical insurance costs where costs are predicted based on variables such as *age, sex, bmi, children, smoker, region* and *charges*. The dataset was obtained from [Kaggle](https://www.kaggle.com/mirichoi0218/insurance). "
   ]
  },
  {
   "cell_type": "code",
   "execution_count": 131,
   "metadata": {},
   "outputs": [
    {
     "name": "stdout",
     "output_type": "stream",
     "text": [
      "The first 10 rows of the dataframe\n"
     ]
    },
    {
     "data": {
      "text/html": [
       "<div>\n",
       "<style scoped>\n",
       "    .dataframe tbody tr th:only-of-type {\n",
       "        vertical-align: middle;\n",
       "    }\n",
       "\n",
       "    .dataframe tbody tr th {\n",
       "        vertical-align: top;\n",
       "    }\n",
       "\n",
       "    .dataframe thead th {\n",
       "        text-align: right;\n",
       "    }\n",
       "</style>\n",
       "<table border=\"1\" class=\"dataframe\">\n",
       "  <thead>\n",
       "    <tr style=\"text-align: right;\">\n",
       "      <th></th>\n",
       "      <th>id</th>\n",
       "      <th>content</th>\n",
       "      <th>category</th>\n",
       "    </tr>\n",
       "  </thead>\n",
       "  <tbody>\n",
       "    <tr>\n",
       "      <td>0</td>\n",
       "      <td>SW4670</td>\n",
       "      <td>Bodi ya Utalii Tanzania (TTB) imesema, itafan...</td>\n",
       "      <td>uchumi</td>\n",
       "    </tr>\n",
       "    <tr>\n",
       "      <td>1</td>\n",
       "      <td>SW30826</td>\n",
       "      <td>PENDO FUNDISHA-MBEYA RAIS Dk. John Magufuri, ...</td>\n",
       "      <td>kitaifa</td>\n",
       "    </tr>\n",
       "    <tr>\n",
       "      <td>2</td>\n",
       "      <td>SW29725</td>\n",
       "      <td>Mwandishi Wetu -Singida BENKI ya NMB imetoa ms...</td>\n",
       "      <td>uchumi</td>\n",
       "    </tr>\n",
       "    <tr>\n",
       "      <td>3</td>\n",
       "      <td>SW20901</td>\n",
       "      <td>TIMU ya taifa ya Tanzania, Serengeti Boys jan...</td>\n",
       "      <td>michezo</td>\n",
       "    </tr>\n",
       "    <tr>\n",
       "      <td>4</td>\n",
       "      <td>SW12560</td>\n",
       "      <td>Na AGATHA CHARLES – DAR ES SALAAM ALIYEKUWA K...</td>\n",
       "      <td>kitaifa</td>\n",
       "    </tr>\n",
       "    <tr>\n",
       "      <td>5</td>\n",
       "      <td>SW30734</td>\n",
       "      <td>MAJADILIANO kati ya aliyekuwa Mkurugenzi wa z...</td>\n",
       "      <td>kitaifa</td>\n",
       "    </tr>\n",
       "    <tr>\n",
       "      <td>6</td>\n",
       "      <td>SW28096</td>\n",
       "      <td>Mwandishi\\nWetu – butiama MKUU wa majeshi\\nmst...</td>\n",
       "      <td>kitaifa</td>\n",
       "    </tr>\n",
       "    <tr>\n",
       "      <td>7</td>\n",
       "      <td>SW1223</td>\n",
       "      <td>['Huenda Manchester United ikasubiri ukaguzi w...</td>\n",
       "      <td>michezo</td>\n",
       "    </tr>\n",
       "    <tr>\n",
       "      <td>8</td>\n",
       "      <td>SW20534</td>\n",
       "      <td>SHIRIKA la Bima la Taifa (NIC) linakuja na Bi...</td>\n",
       "      <td>uchumi</td>\n",
       "    </tr>\n",
       "    <tr>\n",
       "      <td>9</td>\n",
       "      <td>SW9193</td>\n",
       "      <td>RAIS wa Zanzibar, Dk Ali Mohamed Shein amewat...</td>\n",
       "      <td>kitaifa</td>\n",
       "    </tr>\n",
       "  </tbody>\n",
       "</table>\n",
       "</div>"
      ],
      "text/plain": [
       "        id                                            content category\n",
       "0   SW4670   Bodi ya Utalii Tanzania (TTB) imesema, itafan...   uchumi\n",
       "1  SW30826   PENDO FUNDISHA-MBEYA RAIS Dk. John Magufuri, ...  kitaifa\n",
       "2  SW29725  Mwandishi Wetu -Singida BENKI ya NMB imetoa ms...   uchumi\n",
       "3  SW20901   TIMU ya taifa ya Tanzania, Serengeti Boys jan...  michezo\n",
       "4  SW12560   Na AGATHA CHARLES – DAR ES SALAAM ALIYEKUWA K...  kitaifa\n",
       "5  SW30734   MAJADILIANO kati ya aliyekuwa Mkurugenzi wa z...  kitaifa\n",
       "6  SW28096  Mwandishi\\nWetu – butiama MKUU wa majeshi\\nmst...  kitaifa\n",
       "7   SW1223  ['Huenda Manchester United ikasubiri ukaguzi w...  michezo\n",
       "8  SW20534   SHIRIKA la Bima la Taifa (NIC) linakuja na Bi...   uchumi\n",
       "9   SW9193   RAIS wa Zanzibar, Dk Ali Mohamed Shein amewat...  kitaifa"
      ]
     },
     "execution_count": 131,
     "metadata": {},
     "output_type": "execute_result"
    }
   ],
   "source": [
    "#----IMPORT DATA----#\n",
    "data_path = \"./train.csv\" # data given in CSV format\n",
    "df = pd.read_csv(data_path) #read in data\n",
    "\n",
    "pd.set_option('display.max_columns', None) #show all columns\n",
    "print(\"The first 10 rows of the dataframe\") \n",
    "df.head(10)"
   ]
  },
  {
   "cell_type": "markdown",
   "metadata": {},
   "source": [
    "## Data Preparation"
   ]
  },
  {
   "cell_type": "code",
   "execution_count": 132,
   "metadata": {},
   "outputs": [
    {
     "name": "stdout",
     "output_type": "stream",
     "text": [
      "id\n",
      "False    23268\n",
      "Name: id, dtype: int64\n",
      "\n",
      "content\n",
      "False    23268\n",
      "Name: content, dtype: int64\n",
      "\n",
      "category\n",
      "False    23268\n",
      "Name: category, dtype: int64\n",
      "\n"
     ]
    }
   ],
   "source": [
    "#----IMPUTE MISSING VALUES----#\n",
    "\n",
    "#Find number of missing data entries in each column\n",
    "missing_data = df.isnull()\n",
    "\n",
    "for column in missing_data.columns.values.tolist():\n",
    "    print(column)\n",
    "    print (missing_data[column].value_counts())\n",
    "    print(\"\") "
   ]
  },
  {
   "cell_type": "code",
   "execution_count": 133,
   "metadata": {},
   "outputs": [],
   "source": [
    "#----TEXT PRE-PROCESSING----#\n",
    "\n",
    "# 1. Tokenize\n",
    "# 2. Lowercase\n",
    "\n",
    "# 3. Remove stopwords\n",
    "\n",
    "\n",
    "# 4. Remove punctuation (for now and then revisit if it is helpful)\n",
    "# 5. Stemming"
   ]
  },
  {
   "cell_type": "code",
   "execution_count": 134,
   "metadata": {},
   "outputs": [],
   "source": [
    "sample = df[\"content\"].values[0]"
   ]
  },
  {
   "cell_type": "code",
   "execution_count": 135,
   "metadata": {},
   "outputs": [
    {
     "name": "stdout",
     "output_type": "stream",
     "text": [
      " bodi ya utalii tanzania (ttb) imesema, itafanya misafara ya kutangaza utalii kwenye miji minne nchini china kati ya juni 19 hadi juni 26 mwaka huu.misafara hiyo itatembelea miji ya beijing juni 19, shanghai juni 21, nanjig juni 24 na changsha juni 26.mwenyekiti wa bodi ttb, jaji mstaafu thomas mihayo ameyasema hayo kwenye mkutano na waandishi wa habari jijini dar es salaam.“tunafanya jitihada kuhakikisha tunavuna watalii wengi zaidi kutoka china hasa tukizingatia umuhimu wa soko la sekta ya utalii nchini,” amesema jaji mihayo.novemba 2018 ttb ilifanya ziara kwenye miji ya beijing, shanghai, chengdu, guangzhou na hong kong kutangaza vivutio vya utalii sanjari kuzitangaza safari za ndege za air tanzania.ziara hiyo inaelezwa kuzaa matunda ikiwa ni pamoja na watalii zaidi ya 300 kuja nchini mei mwaka huu kutembelea vivutio vya utalii.\n"
     ]
    }
   ],
   "source": [
    "#----LOWERCASE----#\n",
    "# Check that this step is actually helpful\n",
    "sample = sample.lower()\n",
    "print (sample)"
   ]
  },
  {
   "cell_type": "code",
   "execution_count": 136,
   "metadata": {},
   "outputs": [
    {
     "name": "stdout",
     "output_type": "stream",
     "text": [
      " bodi ya utalii tanzania (ttb) imesema itafanya misafara ya kutangaza utalii kwenye miji minne nchini china kati ya juni 19 hadi juni 26 mwaka huumisafara hiyo itatembelea miji ya beijing juni 19 shanghai juni 21 nanjig juni 24 na changsha juni 26mwenyekiti wa bodi ttb jaji mstaafu thomas mihayo ameyasema hayo kwenye mkutano na waandishi wa habari jijini dar es salaam“tunafanya jitihada kuhakikisha tunavuna watalii wengi zaidi kutoka china hasa tukizingatia umuhimu wa soko la sekta ya utalii nchini” amesema jaji mihayonovemba 2018 ttb ilifanya ziara kwenye miji ya beijing shanghai chengdu guangzhou na hong kong kutangaza vivutio vya utalii sanjari kuzitangaza safari za ndege za air tanzaniaziara hiyo inaelezwa kuzaa matunda ikiwa ni pamoja na watalii zaidi ya 300 kuja nchini mei mwaka huu kutembelea vivutio vya utalii\n"
     ]
    }
   ],
   "source": [
    "#----REMOVE PUNCTUATION----#\n",
    "punctuation_list = \".!?,\" # add quotations and brackets?\n",
    "for punc in punctuation_list:\n",
    "    sample = sample.replace(punc, \"\")\n",
    "print (sample)\n",
    "#no_punc = df[\"content\"].values[0].replace(\",\", \" \")"
   ]
  },
  {
   "cell_type": "code",
   "execution_count": 137,
   "metadata": {},
   "outputs": [
    {
     "name": "stdout",
     "output_type": "stream",
     "text": [
      "['', 'bodi', 'ya', 'utalii', 'tanzania', '(ttb)', 'imesema', 'itafanya', 'misafara', 'ya', 'kutangaza', 'utalii', 'kwenye', 'miji', 'minne', 'nchini', 'china', 'kati', 'ya', 'juni', '19', 'hadi', 'juni', '26', 'mwaka', 'huumisafara', 'hiyo', 'itatembelea', 'miji', 'ya', 'beijing', 'juni', '19', 'shanghai', 'juni', '21', 'nanjig', 'juni', '24', 'na', 'changsha', 'juni', '26mwenyekiti', 'wa', 'bodi', 'ttb', 'jaji', 'mstaafu', 'thomas', 'mihayo', 'ameyasema', 'hayo', 'kwenye', 'mkutano', 'na', 'waandishi', 'wa', 'habari', 'jijini', 'dar', 'es', 'salaam“tunafanya', 'jitihada', 'kuhakikisha', 'tunavuna', 'watalii', 'wengi', 'zaidi', 'kutoka', 'china', 'hasa', 'tukizingatia', 'umuhimu', 'wa', 'soko', 'la', 'sekta', 'ya', 'utalii', 'nchini”', 'amesema', 'jaji', 'mihayonovemba', '2018', 'ttb', 'ilifanya', 'ziara', 'kwenye', 'miji', 'ya', 'beijing', 'shanghai', 'chengdu', 'guangzhou', 'na', 'hong', 'kong', 'kutangaza', 'vivutio', 'vya', 'utalii', 'sanjari', 'kuzitangaza', 'safari', 'za', 'ndege', 'za', 'air', 'tanzaniaziara', 'hiyo', 'inaelezwa', 'kuzaa', 'matunda', 'ikiwa', 'ni', 'pamoja', 'na', 'watalii', 'zaidi', 'ya', '300', 'kuja', 'nchini', 'mei', 'mwaka', 'huu', 'kutembelea', 'vivutio', 'vya', 'utalii']\n"
     ]
    }
   ],
   "source": [
    "#----TOKENIZE----#\n",
    "sample = sample.split(\" \")\n",
    "print(sample)"
   ]
  },
  {
   "cell_type": "code",
   "execution_count": 138,
   "metadata": {},
   "outputs": [
    {
     "name": "stdout",
     "output_type": "stream",
     "text": [
      "['na' 'lakini' 'ingawa' 'ingawaje' 'kwa' 'sababu' 'hadi' 'hata' 'kama'\n",
      " 'ambapo' 'ambamo' 'ambako' 'ambacho' 'ambao' 'ambaye' 'ilhali' 'ya'\n",
      " 'yake' 'yao' 'yangu' 'yetu' 'yenu' 'vya' 'vyao' 'vyake' 'vyangu' 'vyenu'\n",
      " 'vyetu' 'yako' 'yao' 'hizo' 'yenu' 'mimi' 'sisi' 'wewe' 'nyinyi' 'yeye'\n",
      " 'wao' 'nao' 'nasi' 'nanyi' 'ni' 'alikuwa' 'atakuwa' 'hii' 'hizi' 'zile'\n",
      " 'ile' 'hivi' 'vile' 'za' 'zake' 'zao' 'zenu' 'kwenye' 'katika' 'kwa'\n",
      " 'kwao' 'kwenu' 'kwetu' 'dhidi' 'kati' 'miongoni' 'katikati' 'wakati'\n",
      " 'kabla' 'baada' 'baadaye' 'nje' 'tena' 'mbali' 'halafu' 'hapa' 'pale'\n",
      " 'mara' 'mara' 'yoyote' 'wowote' 'chochote' 'vyovyote' 'yeyote' 'lolote'\n",
      " 'mwenye' 'mwenyewe' 'lenyewe' 'lenye' 'wote' 'lote' 'vyote' 'nyote'\n",
      " 'kila' 'zaidi' 'hapana' 'ndiyo' 'au' 'ama' 'ama' 'sio' 'siye' 'tu' 'budi'\n",
      " 'nyingi' 'nyingine' 'wengine' 'mwingine' 'zingine' 'lingine' 'kingine'\n",
      " 'chote' 'sasa' 'basi' 'bila' 'cha' 'chini' 'hapo' 'pale' 'huku' 'kule'\n",
      " 'humu' 'hivyo' 'hivyohivyo' 'vivyo' 'palepale' 'fauka' 'hiyo' 'hiyohiyo'\n",
      " 'zile' 'zilezile' 'hao' 'haohao' 'huku' 'hukuhuku' 'humuhumu' 'huko'\n",
      " 'hukohuko' 'huo' 'huohuo' 'hili' 'hilihili' 'ilikuwa' 'juu' 'karibu'\n",
      " 'kila' 'kima' 'kisha' 'kutoka' 'kwenda' 'kubwa' 'ndogo' 'kwamba' 'kuwa'\n",
      " 'la' 'lao' 'lo' 'mara' 'na' 'mdogo' 'mkubwa' 'ng’o' 'pia' 'aidha' 'vile'\n",
      " 'vilevile' 'kadhalika' 'halikadhalika' 'ni' 'sana' 'pamoja' 'pamoja'\n",
      " 'tafadhali' 'tena' 'wa' 'wake' 'wao' 'ya' 'yule' 'wale' 'zangu' 'nje'\n",
      " 'afanaleki' 'salale' 'oyee' 'yupi' 'ipi' 'lipi' 'ngapi' 'yetu' 'si'\n",
      " 'angali' 'wangali' 'loo' 'la' 'ohoo' 'barabara' 'oyee' 'ewaa' 'walahi'\n",
      " 'masalale' 'duu' 'toba' 'mh' 'kumbe' 'ala' 'ebo' 'haraka' 'pole'\n",
      " 'polepole' 'harakaharaka' 'hiyo' 'hivyo' 'vyovyote' 'atakuwa' 'itakuwa'\n",
      " 'mtakuwa' 'tutakuwa' 'labda' 'yumkini' 'haiyumkini' 'yapata' 'takribani'\n",
      " 'hususani' 'yawezekana' 'nani' 'juu' 'chini' 'ndani' 'baadhi' 'kuliko'\n",
      " 'vile' 'mwa' 'kwa' 'hasha' 'hivyo' 'moja' 'kisha' 'pili' 'kwanza' 'ili'\n",
      " 'je' 'jinsi' 'ila' 'a' 'b' 'c' 'd' 'e' 'f' 'g' 'h' 'ila' 'nini' 'hasa'\n",
      " 'huu' 'zako' 'mimi']\n"
     ]
    }
   ],
   "source": [
    "#----REMOVE STOPWORDS----#\n",
    "\n",
    "data_path = \"./stopwords.csv\" # additional data from Mendeley data\n",
    "stopword_data = pd.read_csv(data_path) #read in data\n",
    "\n",
    "stopword_list = stopword_data[\"StopWords\"].values\n",
    "print(stopword_list)"
   ]
  },
  {
   "cell_type": "code",
   "execution_count": 139,
   "metadata": {},
   "outputs": [
    {
     "name": "stdout",
     "output_type": "stream",
     "text": [
      "['', 'bodi', 'utalii', 'tanzania', '(ttb)', 'imesema', 'itafanya', 'misafara', 'kutangaza', 'utalii', 'miji', 'minne', 'nchini', 'china', 'juni', '19', 'juni', '26', 'mwaka', 'huumisafara', 'itatembelea', 'miji', 'beijing', 'juni', '19', 'shanghai', 'juni', '21', 'nanjig', 'juni', '24', 'changsha', 'juni', '26mwenyekiti', 'bodi', 'ttb', 'jaji', 'mstaafu', 'thomas', 'mihayo', 'ameyasema', 'hayo', 'mkutano', 'waandishi', 'habari', 'jijini', 'dar', 'es', 'salaam“tunafanya', 'jitihada', 'kuhakikisha', 'tunavuna', 'watalii', 'wengi', 'china', 'tukizingatia', 'umuhimu', 'soko', 'sekta', 'utalii', 'nchini”', 'amesema', 'jaji', 'mihayonovemba', '2018', 'ttb', 'ilifanya', 'ziara', 'miji', 'beijing', 'shanghai', 'chengdu', 'guangzhou', 'hong', 'kong', 'kutangaza', 'vivutio', 'utalii', 'sanjari', 'kuzitangaza', 'safari', 'ndege', 'air', 'tanzaniaziara', 'inaelezwa', 'kuzaa', 'matunda', 'ikiwa', 'watalii', '300', 'kuja', 'nchini', 'mei', 'mwaka', 'kutembelea', 'vivutio', 'utalii']\n"
     ]
    }
   ],
   "source": [
    "# list comprehension  \n",
    "sample = [word for word in sample if word not in stopword_list]\n",
    "print(sample)"
   ]
  },
  {
   "cell_type": "code",
   "execution_count": null,
   "metadata": {},
   "outputs": [],
   "source": [
    "# need to remove \\n characters! and split words joined by these"
   ]
  },
  {
   "cell_type": "code",
   "execution_count": 140,
   "metadata": {},
   "outputs": [],
   "source": [
    "# numbers - probably add meaning especially for finance/economic - replace with keyword NUM? \n",
    "# or replace dates with DATE?\n",
    "#"
   ]
  },
  {
   "cell_type": "code",
   "execution_count": 150,
   "metadata": {},
   "outputs": [],
   "source": [
    "# create one method to perform data cleaning steps\n",
    "def process_sample(sample, stopword_list):\n",
    "    \n",
    "     # lowercase\n",
    "    sample = sample.lower()\n",
    "    \n",
    "    # remove punctuation\n",
    "    punctuation_list = \".!?,\" \n",
    "    for punc in punctuation_list:\n",
    "        sample = sample.replace(punc, \"\") # does this replace all? do list comprehension instead somehow?\n",
    "    \n",
    "    # tokenize   \n",
    "    sample = sample.split(\" \") \n",
    "    \n",
    "    # remove stopwords\n",
    "    sample = [word for word in sample if word not in stopword_list]\n",
    "    return sample\n",
    "    "
   ]
  },
  {
   "cell_type": "markdown",
   "metadata": {},
   "source": [
    "## Data Exploration"
   ]
  },
  {
   "cell_type": "code",
   "execution_count": 141,
   "metadata": {},
   "outputs": [],
   "source": [
    "#  Understanding the characteristics of your data beforehand will enable you to build a better model. \n",
    "# This could simply mean obtaining a higher accuracy. \n",
    "# It could also mean requiring less data for training, or fewer computational resources.\n"
   ]
  },
  {
   "cell_type": "code",
   "execution_count": 142,
   "metadata": {},
   "outputs": [],
   "source": [
    "#----KEY METRICS----#\n",
    "# 1. Number of samples: Total number of examples you have in the data.\n",
    "# 2. Number of classes: Total number of topics or categories in the data.\n",
    "# 3. Number of samples per class: Number of samples per class (topic/category). In a balanced dataset, all classes will have a similar number of samples; in an imbalanced dataset, the number of samples in each class will vary widely.\n",
    "# 4. Number of words per sample: Median number of words in one sample.\n",
    "# 5. Frequency distribution of words: Distribution showing the frequency (number of occurrences) of each word in the dataset.\n",
    "# 6. Distribution of sample length: Distribution showing the number of words per sample in the dataset."
   ]
  },
  {
   "cell_type": "code",
   "execution_count": 143,
   "metadata": {},
   "outputs": [
    {
     "name": "stdout",
     "output_type": "stream",
     "text": [
      "No. of Samples: 23268\n",
      "No. of Classes: 6\n"
     ]
    }
   ],
   "source": [
    "#----NO. OF SAMPLES AND CLASSES----#\n",
    "\n",
    "# No. of samples\n",
    "print(\"No. of Samples: {}\". format(df.shape[0]))\n",
    "\n",
    "# No. of classes\n",
    "print(\"No. of Classes: {}\". format(len(np.unique(df[\"category\"]))))"
   ]
  },
  {
   "cell_type": "code",
   "execution_count": 144,
   "metadata": {},
   "outputs": [
    {
     "name": "stdout",
     "output_type": "stream",
     "text": [
      "kitaifa      10242\n",
      "michezo       6004\n",
      "burudani      2229\n",
      "uchumi        2028\n",
      "kimataifa     1906\n",
      "afya           859\n",
      "Name: category, dtype: int64\n"
     ]
    },
    {
     "data": {
      "text/plain": [
       "Text(0.5, 0, 'New Category')"
      ]
     },
     "execution_count": 144,
     "metadata": {},
     "output_type": "execute_result"
    },
    {
     "data": {
      "image/png": "[encoded data removed]",
      "text/plain": [
       "<Figure size 432x288 with 1 Axes>"
      ]
     },
     "metadata": {
      "needs_background": "light"
     },
     "output_type": "display_data"
    }
   ],
   "source": [
    "#----DISTRIBUTION OF TARGET VARIABLE----#\n",
    "\n",
    "#Visualise target variable: news category\n",
    "# No. of samples per class\n",
    "\n",
    "# Six different topics\n",
    "# kitaifa - Local/National News\n",
    "# michezo - Sports News\n",
    "# burudani - Entertainment News\n",
    "# uchumi - Finance/Economic News\n",
    "# kimataifa - International News\n",
    "# afya - Health News\n",
    "\n",
    "target_counts = df['category'].value_counts()\n",
    "print(target_counts)\n",
    "ax = target_counts.plot.bar(x='lab', y='val', rot=0)\n",
    "plt.ylabel(\"No. of Examples\")\n",
    "plt.xlabel(\"New Category\")"
   ]
  },
  {
   "cell_type": "code",
   "execution_count": 145,
   "metadata": {},
   "outputs": [],
   "source": [
    "# NB is this an imbalanced data set and what can be done about it"
   ]
  },
  {
   "cell_type": "code",
   "execution_count": 146,
   "metadata": {},
   "outputs": [
    {
     "name": "stdout",
     "output_type": "stream",
     "text": [
      "Median No. of Words Per Sample: 1830.0\n"
     ]
    },
    {
     "data": {
      "image/png": "[encoded data removed]",
      "text/plain": [
       "<Figure size 432x288 with 1 Axes>"
      ]
     },
     "metadata": {
      "needs_background": "light"
     },
     "output_type": "display_data"
    }
   ],
   "source": [
    "#---MEDIAN NUMBER OF WORDS PER SAMPLE---#\n",
    "\n",
    "lengths = [len(sample) for sample in df[\"content\"].values]\n",
    "median_length = np.median(lengths)\n",
    "print(\"Median No. of Words Per Sample: {}\". format(median_length))\n",
    "sns_plot = sns.distplot(lengths);\n",
    "sns_plot.set(xlabel = 'No. of Words', ylabel = \"Frequency\")\n",
    "plt.show()"
   ]
  },
  {
   "cell_type": "code",
   "execution_count": 149,
   "metadata": {},
   "outputs": [
    {
     "name": "stdout",
     "output_type": "stream",
     "text": [
      "17828\n",
      "17327\n",
      "Median No. of Words Per Sample (No Outliers): 1830.0\n"
     ]
    },
    {
     "data": {
      "image/png": "[encoded data removed]",
      "text/plain": [
       "<Figure size 432x288 with 1 Axes>"
      ]
     },
     "metadata": {
      "needs_background": "light"
     },
     "output_type": "display_data"
    }
   ],
   "source": [
    "#---MEDIAN NUMBER OF WORDS PER SAMPLE (No outliers)---#\n",
    "\n",
    "# do outliers properly - with std dev or something\n",
    "\n",
    "lengths_no_outliers = lengths\n",
    "maximum = np.max(lengths_no_outliers)\n",
    "print(maximum)\n",
    "lengths_no_outliers.remove(int(maximum))\n",
    "print(np.max(lengths_no_outliers))\n",
    "median_length_no_outliers = np.median(lengths_no_outliers)\n",
    "print(\"Median No. of Words Per Sample (No Outliers): {}\". format(median_length_no_outliers))\n",
    "sns_plot = sns.distplot(lengths_no_outliers);\n",
    "sns_plot.set(xlabel = 'No. of Words', ylabel = \"Frequency\")\n",
    "plt.show()"
   ]
  },
  {
   "cell_type": "code",
   "execution_count": 152,
   "metadata": {},
   "outputs": [
    {
     "name": "stdout",
     "output_type": "stream",
     "text": [
      "['', 'bodi', 'utalii', 'tanzania', '(ttb)', 'imesema', 'itafanya', 'misafara', 'kutangaza', 'miji', 'minne', 'nchini', 'china', 'juni', '19', '26', 'mwaka', 'huumisafara', 'itatembelea', 'beijing', 'shanghai', '21', 'nanjig', '24', 'changsha', '26mwenyekiti', 'ttb', 'jaji', 'mstaafu', 'thomas', 'mihayo', 'ameyasema', 'hayo', 'mkutano', 'waandishi', 'habari', 'jijini', 'dar', 'es', 'salaam“tunafanya', 'jitihada', 'kuhakikisha', 'tunavuna', 'watalii', 'wengi', 'tukizingatia', 'umuhimu', 'soko', 'sekta', 'nchini”', 'amesema', 'mihayonovemba', '2018', 'ilifanya', 'ziara', 'chengdu', 'guangzhou', 'hong', 'kong', 'vivutio', 'sanjari', 'kuzitangaza', 'safari', 'ndege', 'air', 'tanzaniaziara', 'inaelezwa', 'kuzaa', 'matunda', 'ikiwa', '300', 'kuja', 'mei', 'kutembelea', 'pendo', 'fundisha-mbeya', 'rais', 'dk', 'john', 'magufuri', 'ametangaza', 'kuwafukuza\\nkazi', 'wakurugenzi', 'halmashauri', 'watabainika', 'kukiuka', 'sheria', 'ya\\nufutaji', 'tozo', 'ushuru', 'mazao', 'alisema', 'kuingia', 'madarakani', 'serikali\\niliondoa', '80', 'wakulima', 'walikuwa\\nwakilipa', 'magufuli', 'aliyasema', 'juzi', 'alipokuwa\\nakiwahutubia', 'wakazi', 'wilaya', 'kyela', 'kikazi', 'siku', '10', 'mkoani\\nmbeya', 'ufutaji', 'hizo\\nzilipitishwa', 'bunge', 'hakuna', 'mtu', 'kuitengua', 'mkurugenzi\\natakaye', 'itengua', 'umevunja', 'anawajibu', 'kufukuzwa', 'kazi', 'licha', 'kupitishwa', 'wapo\\nbaadhi', 'watendaji', 'wameendelea', 'kuwatoza', 'wananchi', 'kisingizio', 'cha\\nkupandisha', 'ukusanyaji', 'mapato', 'hilo', 'jambo', 'sitaki', 'kulisikia', '“wapo', 'watendaji\\nwanasema', 'kufutwa', 'kunapunguza', 'narudia', 'viongozi', 'wakurugenzi\\nwatendaji', 'msiwatoze', 'mzigo', 'usio\\nzidi', 'tani', 'moja”alisema', 'alitoa', 'wito', 'kuzingatia\\nsheria', 'kuwalinda', 'ndio', 'maana', 'serikali', 'iliziondoa', 'mwandishi', 'wetu', '-singida', 'benki', 'nmb', 'imetoa', 'msaada', 'vifaa', 'mbalimbali', 'vyenye', 'thamani', 'sh', 'milioni', '200', 'kadhaa', 'misaada', 'iliyotolewa', 'inayoongoza', 'kutengeneza', 'faida', 'zote', 'zinazofanya', 'biashara', 'miezi', 'mitano', 'inahusisha', 'ujenzi', 'madawati', 'vingine', 'vinavyowezesha', 'ukamilishaji', 'miradi', 'afyaelimu', 'usalama', 'raia', 'benki\\xa0', 'imeshatoa\\xa0', 'wa\\xa0', 'mikoa', 'kanda', 'akifafanua', 'kuhusu', 'akikabidhi', 'vitanda', 'shule', 'iramba', 'mkoani', 'ingida', 'meneja', 'nsolo', 'mlozi', 'alibainisha', 'imelenga', 'elimu', 'afya\\xa0', 'majanga', 'mitatu', 'ya\\xa0', 'mkoanisingida', 'sekondari', 'new', 'kiomboi', 'fedha', 'zilizotolewa', 'zimetumika', 'kununua', 'viti', 'sekondarivitanda', 'tiba', 'afya', 'lengo', 'kuunga', 'mkono', 'juhudi', 'kuwahudumia', 'imekabidhiwa', 'zahanati', 'hospitali', 'singida', 'dodoma', 'manyara', 'walikabidhi', '250', '295', 'humo', 'hatua', 'imevipatia', 'kituo', 'polisi', 'kilosa', 'morogoro', 'msingi', 'msowelo', 'mabati', '160', 'yenye', 'sh5', 'ajili', 'kuezekea', 'maboma', 'iliamua', 'kutoa', 'mpango', 'kuzipunguza', 'changamoto', 'taasisi', 'mashariki', 'baraka', 'ladislaus', 'kubainisha', 'sehemu', 'mikakati', 'kurudisha', 'jamii', 'kusaidia', 'kuinua', 'maendeleo', 'kimepa', 'tamabati', 'nayo', 'ikipata', 'timu', 'taifa', 'serengeti', 'boys', 'jana', 'ilijiweka', 'nafasi', 'fi', 'nyu', 'mashindano', 'mataifa', 'afrika', 'wachezaji', 'wenye', 'umri', 'miaka', '17', 'kuchapwa', 'mabao', '3-0', 'uganda', 'uwanja', 'salaamuganda', 'waliandika', 'bao', 'dakika', '15', 'lililofungwa', 'kawooya', 'andrew', 'akiunganisha', 'wavuni', 'krosi', 'najibu', 'viga', 'lile', 'likifungwa', 'asaba', 'ivan', '27', 'najib', 'yigaserengeti', 'iliendelea', 'kulala', 'yiga', 'aliifungia', 'tatu', 'ushindi', 'kuifanya', 'kushika', 'mkia', 'kundi', 'kuacha', 'simanzi', 'wapenzi', 'soka', 'inasubiri', 'mchezo', 'mwisho', 'senegal', 'nigeria', 'ikisonga', 'mbele', 'kushinda', 'awali', 'kufikisha', 'pointi', 'sita', 'ule', 'ufunguzi', 'agatha', 'charles', '–\\xa0dar', 'salaam', 'aliyekuwa', 'katibu', 'mitaa', 'sekretarieti', 'chama', 'act-wazalendo', 'habibu', 'mchange', 'amejiondoa', 'uanachama', 'hicho', 'kujiweka', 'kando', 'siasa', 'taarifa', 'uamuzi', 'ilisambazwa', 'mitandao', 'kijamii', 'ikionyesha', 'kuandikwa', 'naye', 'ikiambatanishwa', 'namba', 'simu', 'andiko', 'aliyewahi', 'mwanachama', 'chadema', 'hajahamia', 'act', 'wazalendo', 'aliamua', 'kujitoa', 'rasmi', 'ushiriki', 'aina', 'apate', 'muda', 'kusimamia', 'shughuli', 'kijasiriamali', 'ameamua', 'kujiengua', 'fursa', 'huduma', 'sawa', 'wanachama', 'vyama', '“kwa', 'moyo', 'mkunjufu', 'kabisa', 'mapenzi', 'mema', 'langu', 'ninathibitisha', 'nimejitoa', 'yote', 'nipate', 'mwingi', 'kufanya', 'zinazonitaka', 'nitoe', 'siasa”', 'kutokana', 'aliomba', 'uheshimiwe', 'atakalolifanya', 'lisihusishwe', 'bali', 'iwe', 'msimamo', 'huru', 'asiye', '“ninafahamu', 'haki', 'kikatiba', 'nimeamua', 'kuihifadhi', 'mpaka', 'nitakapoona', 'inafaa', 'vinginevyo', 'ninawatakia', 'heri', 'waliokuwa', 'wenzangu', 'kuyafikia', 'malengo', 'uanzishwaji', 'hicho”', 'kujiondoa', 'kwake', 'kusihesabiwe', 'kukwamisha', 'nyuma', 'matarajio', 'ichukuliwe', 'chachu', 'kufika', '“msivunjike', 'msirumbane', 'pendaneni', 'heshimianeni', 'shikamaneni', 'mfikie', 'nitabaki', 'kuendelea', 'ndugu', 'rafiki', 'swahiba', 'mtanzania', 'mwenzenu', 'tutaendelea', 'kushirikiana', 'mambo', 'kimaisha', 'yasiyohusiana', 'mlengo', 'kiitikadi', 'kisiasa”', 'alishika', 'ikiwamo', 'mipango', 'mjumbe', 'kamati', 'kuu', 'mkuu', 'jumapili', 'lilimtafuta', 'kuthibitisha', 'hakuweza', 'kupatikana', 'alipotafutwa', 'ofisa', 'abdallah', 'khamis', 'alikiri', 'anakuwa', 'mwanasiasa', 'kuondoka', 'samson', 'mwigamba', 'kuachia', 'masomoni', 'kenya', 'aprili', 'michache', 'novemba', 'moses', 'machali', 'alitangaza', 'zinazofanywa', 'aliwahi', 'mbunge', 'kasulu', 'mjini', 'kupitia', 'nccr-mageuzi', 'kushindwa', 'kutetea', 'jimbo', 'lake', 'majadiliano', 'mkurugenzi', 'zamani', 'ufuatiliaji', 'tathimini', 'kuzuia', 'kupambana', 'rushwa', '(takukuru)', 'kulthum', 'mansoor', 'anayekabiliwa', 'mashitaka', 'utakatishaji', '(dpp)', 'yamekufa', 'pande', 'kuafi', 'kianawakili', 'utetezi', 'elia', 'mwingira', 'alidai', 'hakimu', 'mwandamizi', 'mfawidhi', 'godfrey', 'isaya', 'kesi', 'ilipokuja', 'kutajwa', 'mazungumzo', 'kuelewana', 'mahakama', 'iwaelekeze', 'upande', 'kukamilisha', 'upelelezi', 'akijibu', 'hoja', 'wakili', 'wankyo', 'simon', 'kuchelewa', 'kumesababishwa', 'barua', 'dpp', 'waeleze', 'wamefikia', 'wapi“mazungumzo', 'yalikufa', 'tulishindwa', 'tunaomba', 'waharakishe', 'kwani', 'mrefu”alidai', 'oktoba', '30', 'waliieleza', 'mteja', 'ameandika', 'kuomba', 'makubaliano', 'kukiri', 'makosa', 'yakebaada', 'kueleza', 'aliahirisha', 'januari', '20', 'anakabiliwa', 'manane', 'kughushi', 'kujipatia', 'njia', 'udanganyifu', 'kutakatisha', 'bilioni', '1477inadaiwa', 'tarehe', 'tofauti', '2013', 'mshitakiwa', 'alighushi', 'ofa', 'agosti', '13', '2003', 'madhumuni', 'kuonesha', 'imetolewa', 'bagamoyo', 'akijua', 'kwelikatika', 'inadaiwa', '2012', '2017', 'maeneo', 'upanga', 'ilala', 'kudanganya', 'alijipatia', '52', 'alex', 'mavika', 'mfanyakazi', 'takukuru', 'malipo', 'kiwanja', 'kilichopo', 'kijiji', 'ukuni', 'bagamoyopia', 'katondo', 'wilayani', 'pwanimshitakiwa', 'huyo', 'tano', 'gogo', 'migutah', 'eneo', 'saba', 'ekwabi', 'majungu', 'hichokulthum', 'anadaiwa', 'akiwa', 'tathminu', 'sangwa', 'hiloindaiwa', 'mwajiriwa', 'rose', 'shingela', '1477243000', 'haramu', 'kosa', 'tangulizi', 'mwandishi\\nwetu', '–', 'butiama', 'majeshi\\nmstaafu', 'jenerali', 'david', 'msuguri', 'ameadhimisha', '100', 'tangu', 'azaliwe', 'januari\\n4', '1920', 'ya\\nuwezo', 'kutembea', 'kupungua', 'amelitumikia', 'jeshi', 'la\\nwananchi', '(jwtz)', '55', '100\\nakionekana', 'nguvu', 'wanaotimiza', 'huyo\\nmstaafu', 'majeshi', 'aliadhimisha', 'kumbukumbu', 'nyumbani', 'ya\\nbutiama', 'ibada', 'misa', 'takatifu', 'iliyoongozwa', 'askofu\\nwa', 'kanisa', 'katoliki', 'musoma', 'michela', 'msongazila', 'mwonekano', 'wa\\njenerali', 'mrefu', 'ulimlazimisha\\naskofu', 'msongazila\\xa0', 'kuzungumzia', 'siri', 'hiyo\\nakisema', 'inatokana', 'kuishi', 'maisha', 'nidhamu', 'kijeshi', 'kumtukuza\\nmungu', 'akiwa\\nameketi', 'kiti', 'maalumu', 'meza', 'ameambatana', 'na\\nfamilia', 'akiwamo', 'mkewe', 'maria', 'alishiriki', 'kikamilifu', 'ibada\\nhiyo', 'iliyochukua', 'saa', 'tukio\\nlililoibua', 'gumzo', 'shangwe', 'kwaya', 'kujenga', '(jkt)\\nrwamkoma', 'walipokuwa', 'wakiimba', 'aliwaomba', 'wasaidizi', 'wake\\nkumsaidia', 'walipo', 'wanakwaya', 'kujumuika', 'akionekana', 'na\\nbashasha', 'msuguri\\nana', 'historia', 'ndefu', 'kipekee', 'akiwahi', 'kushiriki', 'vita\\nya', 'dunia', 'ndiye\\naliyeongoza', 'vita', 'mwaka\\n1979', 'kumwondoa', 'idd', 'amin', 'dada', 'akizungumza\\nkatika', 'maadhimisho', 'kutimiza', 'askofu', 'msongazila\\namewataka', 'watanzania', 'kudumisha', 'amani', 'utulivu', 'kipindi', 'hiki', 'ambacho\\nnchi', 'inaelekea', 'uchaguzi', 'mambo\\nyanayopaswa', 'kuzingatiwa', 'askofu\\nmsongazila', 'yapo', 'muhimu', 'ambayo', 'umoja', 'wao\\nwanatakiwa', 'kuzingatia', 'kunakuwa', 'miaka\\nyote', 'alitaja\\nmambo', 'kuheshimiana', 'kusikilizana', 'mazungumzo\\npamoja', 'kuvumiliana', 'aliongeza\\nkuwa', 'wanapaswa', 'wanakuwa', 'woga', 'mwenyezi\\nmungu', 'maridhiano', 'haya', 'yanapaswa', 'kufanywa', 'kujali', 'cheo\\nwadhifa', 'bila\\nmambo', 'nchi', 'vitakuwa', 'hatarini', 'ambalo\\nasingependa', 'litokee', 'misingi', 'imara', 'iliyojengwa', 'waasisi\\nwa', 'kuwaenzi', 'na\\nkuwalinda', 'wazee', 'aliiomba\\nserikali', 'kuwapa', 'bora\\nwanazostahili', 'waweze', 'vizuri', 'alisema\\nwazee', 'wametumikia', 'kiserikali', 'ni\\nvema', 'wakapewa', 'heshima', 'wanayostahili', 'ulinzi', 'kuenziwa', 'serikali\\nili', 'kuona', 'mchango', 'waliotoa', 'viwango', 'bima\\nya', 'msongazila\\nalisema', 'suala', 'inapaswa', 'kuangalia', 'upya', 'maelezo', 'gharama', 'ziko', 'kiasi', 'hawawezi\\nkuzimudu', 'akitolea\\nmfano', 'bima', 'wanatakiwa', 'kulipia', '984000', 'kuweza\\nkupata', 'alichokitaja', 'kikubwa', 'wao\\nkustaafu', 'watashindwa', 'kumudu', 'alisema\\nhuduma', 'inapokuwa\\nkubwa', 'namna', 'na\\nukweli', 'hawana', 'uwezo', 'kuzalisha', 'mali', 'awaasa\\nvijana', 'aliwaasa', 'vijana', 'kufanya\\nmazoezi', 'utaratibu', 'ulaji', 'na\\nmaisha', 'marefu', 'ndoa', 'mke\\nmmoja', 'kuhusu\\nmaisha', 'kiimani', 'mingi\\niliyopita', 'alianza', 'mchakato', 'kurudi', 'kanisani', 'kuandika', 'alisema\\npamoja', 'kufunga\\nndoa', 'mke', 'mmoja', 'aliokuwa', 'amewaoa', 'kimila', 'kauli', 'ya\\nserikali', '\\xa0akizungumza', 'hafla', 'mkoa', 'wa\\nmara', 'adam', 'malima', 'inatambua', 'katika\\nmaendeleo', 'ujumla', 'busara', 'zitaendelea', 'kutumika', 'kuwa\\nkutokana', 'aliwezesha', 'tanzania\\nkuwa', 'bora', 'kuheshimiwa', 'duniani', 'kuwataka', 'watanzania\\nwengine', 'kuiga', 'mfano', 'kutumikia', 'malima\\nalisema', 'alijitolea', 'usalama\\nwa', 'unakuwapo', 'alifanikiwa', 'uganda\\naliyoiongoza', 'alichosema\\njenerali', 'akitoa\\nshukrani', 'aliwashukuru', 'waliohudhuria', 'hafla\\nhiyo', 'yaliyozungumzwa', 'wasemaji', 'kweli', 'akisisitiza\\nkuwa', 'alifanya', 'kuwa\\nbaada', 'kustaafu', 'jeshini', 'alitumika', 'aliamua\\nkurudi', 'kijijini', 'ndiko', 'alikozaliwa', 'ndiko\\natakapozikwa', 'atakapofariki', 'huyu', 'ndiye\\nmsuguri', 'fupi\\nambazo', 'zinapatikana', 'zinamwelezea', 'kwamba\\nalizaliwa', '4', '1942', 'msuguri\\nalijiunga', 'vikosi', 'mwingereza', 'king’s', 'african', 'rifles', '(kar)\\nna', 'baadae', 'madagascar', 'kama\\n‘private’', '1957', 'utawala', 'uingereza', 'ulianzisha', 'cheo', '‘effendi’\\nndani', 'kar', 'walichopewa', 'maofisa', 'waandamizi', 'kiafrika', 'wakifanya\\nvizuri', 'alipewa', 'desemba', '1961\\ntanganyika', 'ikawa', 'vilihamishiwa', 'vipya\\nvya', 'tanganyika', 'cha\\n‘effendi', 'kiliachwa', 'mfupi', '1962', 'akapandishwa', 'cheo\\nna', 'luteni', 'wa\\nmaandamano', '1964', 'cha\\ntabora', 'vya\\nwaasi', 'vilivyojaribu', 'kuondoa', 'kuchukua', 'kiingereza\\nwalimtangaza', 'meja', 'msuguri\\nalipanda', 'vyeo', 'kufikia', 'brigedia', '1979\\nalipandishwa', 'kuongoza', 'jwtz', 'kukusanya', 'kuvamia\\nuganda', 'kufuatia', 'kuzuka', '1978', '1980', 'msuguri\\naliteuliwa', 'awamu', 'kwanza\\nmwalimu', 'julius', 'nyerere', 'alimpandisha', 'akawa', 'februari', '7\\n1981', 'milton', 'obote', 'alimpa', 'mikuki', 'miwili', 'kwa\\nheshima', 'ambazo\\namepigana', 'world', 'war', 'ii', '(battle', 'of\\nmadagascar)', 'kagera', 'of', 'simba', 'hills\\nbattle', 'masaka', 'battle', 'lukaya)', 'alitangazwa\\nkustaafu', '31', '1988', 'alihamia', 'aliko\\nhadi', \"['huenda\", 'manchester', 'united', 'ikasubiri', 'ukaguzi', 'mchezaji', 'kiungo', 'ufaransa', 'anthony', 'martial', '23', 'kuruhusu', 'uhamisho', 'mkopo', 'kimataifa', 'chile', 'alexis', 'sanchez', 'inter', 'milan', \"(guardian)'\", \"'paris\", 'st-germain', 'imeambia', 'real', 'madrid', 'itatafakari', 'kumuuza', 'brazil', 'neymar', 'iwapo', 'klabu', 'uhispania', 'mshambuliaji', 'vinicius', 'jr', 'iatakuwa', 'kudumu', \"(as)'\", \"'wakurugenzi\", 'barcelona', 'wamekutana', 'jumatatu', 'kujadili', 'ombi', \"(marca)'\", \"'huenda\", 'ikamgeukia', 'city', 'wilfried', 'bony', 'ivory', 'coast', 'haichezei', 'kuachiwa', 'swansea', 'msimu', 'joto', \"(goalcom)'\", \"'mchezaji\", 'serbia', 'nemanja', 'matic', 'ameitisha', 'ole', 'gunnar', 'solskjaer', 'kuipoteza', 'old', 'trafford', \"(mirror)'\", \"'arsenal\", 'ipo', 'tayari', 'kumruhusu', 'uhispani', 'nacho', 'monreal', 'kujiunga', 'sociedad', 'wiki', '33', 'ataomba', \"(sun)'\", \"'javi\", 'gracia', 'anapigania', 'kuokoa', 'watford', 'kuanza', 'ligi', 'england', \"(telegraph)'\", \"'mshambuliaji\", 'chelsea', 'tammy', 'abraham', 'anaelekea', 'kupata', 'mkataba', 'mpya', 'huenda', 'ukaongeza', 'mbili', '£50000', \"wiki(telegraph)'\", \"'wawakilishi\", 'christian', 'eriksen', 'hawatofikiria', 'pendekezo', 'tottenham', '£200000', 'unamalizika', 'ujao', 'anatumai', \"'eriksen\", 'amejiuzulu', 'kusalia', 'kifupii', 'ndoto', 'ikishindwa', 'kufanikiwa', \"(mail)'\", \"'winga\", 'celta', 'vigo', 'pione', 'sisto', 'anakaribia', 'torino', 'aston', 'villa', 'kutofanikiwa', \"'mabingwa\", 'italia', 'sampdoria', 'wanataka', 'kumsajili', 'winga', 'anayeichezea', 'ghana', 'andre', 'ayew', '29', 'kufungwa', 'dirisha', 'ulaya', \"(star)'\", \"'mlinzi\", 'luke', 'shaw', 'mwezi', 'jeraha', 'msuli', 'paja', \"(talksport)'\", 'sunderland', 'ikawasilisha', 'mlinzi', 'sheffield', 'morgan', 'fox', '25', 'kesho', 'jumatano', '(newcastle', \"chronicle)'\", \"'jurgen\", 'klopp', 'anaamini', 'mbinu', 'usimamizi', 'inaongeza', 'uwezekano', 'mapumzikoni', 'chake', 'kitakapomalizika', 'liverpool', '2022', \"(times)'\", \"'kevin\", 'de', 'bruyne', 'ameunga', 'vincent', 'kompany', 'kuwanyamazisha', 'wakosoaji', 'kufungua', 'ufanisi', 'bosi', 'anderlecht', 'kujizolea', 'pointimbili', 'mechi', 'nne', '(manchester', 'evening', \"news)'\", \"'tetesi\", \"jumatatu'\", 'spurs', 'victor', 'wanyama', 'amepewa', '£65000-', 'club', 'bruges', 'anapokaribia', '(scottish', \"sun)'\", \"'kalbu\", 'fiorentina', 'serie', 'inajitayarisha', 'kuwasilisha', 'fred', \"(calciomercato)'\", \"'norwich\", 'itamfukuzia', 'kipa', 'stoke', 'jack', 'butland', 'ifikapo', 'itashuka', \"'bordeaux\", 'inataka', 'kumchukua', 'arsenal', 'misri', 'mohamed', 'elneny', 'ligue', '1', '(foot', \"mercato)'\", \"'leeds\", 'inatarajiwa', 'kalvin', 'phillips', 'anataka', 'kulipwa', '£40000', 'elland', 'road', '(football', \"insider)'\", \"'aliyekuwa\", 'beki', 'kamili', 'filipe', 'luis', '34', 'amekataa', 'lyon', 'borussia', 'dortmund', 'flamengo', 'anakotoka', '(globo', \"esporte)'\", 'kulia', 'leicester', 'danny', 'simpson', '32', 'anafanya', '-', 'amiens', \"'meneja\", 'frank', 'lampard', 'amemkaribisha', 'exeter', 'ben', 'chrisene', 'mazoezi', 'kucheza', 'kikosi', \"(sun)']\", 'shirika', '(nic)', 'linakuja', 'kilimo', 'itakayosaidia', 'uchumi', 'viwandamkurugenzi', 'mtendaji', 'nic', 'sam', 'kamanga', 'uti', 'mgongo', 'ndicho', 'kinachotoa', 'malighafi', 'viwandani', 'itasaidia', 'viwandaakizungumza', 'maonesho', '42', 'sabasaba', 'yanayoendelea', 'viwanja', 'mwalimu', 'kilwa', 'inaunga', 'ujenga', 'viwanda', 'mkombozi', 'yanapowafikaamewataka', 'kuichangamkia', 'ina', 'manufaa', 'ujumlakamanga', 'aliwataka', 'banda', 'wanazotoa', 'mbalimbalialisema', 'limeimarisha', 'magari', 'kusini', '(comesa)', 'imewekwa', 'mfumo', 'kidijiti', 'hali', 'inazuia', 'bandia“kwa', 'tuko', 'inatuwezesha', 'kuziba', 'mianya', 'udanganyifu”', 'amesemaamefafanua', 'ulikuwa', 'unaikosesha', 'limeziba', 'upotevu', 'mapatokamanga', 'linafanya', 'kisasa', 'liko', 'ushindani', 'makampuni', 'mengine', 'bimaamewatoa', 'hofu', 'wateja', 'ulipwaji', 'fidia', 'muafaka', 'inamjali', 'ucheleweshaji', 'itathibitika', 'madai', 'kweli“tunalipa', 'ikithibitika', 'hatuna', 'njoo', 'kesho…tunatoa', 'kisasa”', 'zanzibar', 'ali', 'shein', 'amewataka', 'kuidumisha', 'mafanikio', 'yatakayopatikana', 'baadayedk', 'risala', 'kuukaribisha', '2019', 'aliyoitoa', 'vyombo', 'ikulu', 'utekelezaji', 'makubwa', 'yamepatikana', 'yamechangiwa', 'kuwepo', 'mshikamano', 'yaliopoaidha', 'imewavutia', 'washirika', 'wanaridhika', 'zinazochukuliwa', 'mapinduzi', 'kuiunga', '“tukiwa', 'tunaukaribisha', 'nachukua', 'niaba', 'kuwashukuru', 'dhati', 'kutuunga', 'tunathamini', 'mikopo', 'ushauri', 'tulioupata', 'kwao”', 'stockholm', 'sweden', 'sweden\\nimemrudisha', 'balozi', 'kuhusiana', 'kuhusika', 'kwake\\nkatika', 'utata', 'uliohusisha', 'binti', 'muuza', 'vitabu', 'asili', 'ya\\nmataifa', 'mawili', 'anashikiliwa', 'anna\\nlindstedt', 'aliondoka', 'msemaji', 'wizara', 'sweden\\nalisema', 'tukio', 'lilianza\\nkwa', 'angela', 'gui', 'baba', 'minhai', 'anaaminika', 'kutekwa', 'makachero', 'wa\\nchina', '2015', 'mtandao', 'na\\nlindstedt', 'mmoja\\nwa', 'wauza', 'watano', 'waliokamatwa', 'wanavyouza', 'vimekuwa\\nvikiikosoa', 'vikali', 'ambaye\\nalisomea', 'shahada', 'uzamivu', 'chuo', 'kikuu', 'cambridge', '\\xa0uingereza', 'amekuwa', 'akiendesha', 'kampeni', 'mitandaoni\\nya', 'kutaka', 'uliopita', 'lindstedt\\nalikaribishwa', 'wafanyabiashara', 'waliodai', 'kuwa\\nna', 'ukaribu', 'kikomunisti', 'watu\\nhao', 'walimshinikiza', 'akubali', '\\xa0ambayo', 'yatamfanya', 'aache', 'kuzungumza', 'hadharani\\nkuhusu', 'kumuahidi', 'angetumikia', 'kifungo', '\\xa0\\xa0kuachiwa', 'mambo\\nya', 'ilisema', 'haikupewa', 'kuwapo', 'uliohudhuriwa\\nna', 'lindstedt', 'uchunguzi', 'mujibu', 'gui\\nlindstedt', 'aliwasiliana', 'kusema', 'kuna', 'yake\\nna', 'kumtaka', 'ahudhurie', 'stockholm”', 'aliandika\\nmtandaoni', 'akapanda', 'ndege\\nkuelekea', 'hoteli', 'waliyopanga', 'kukutana', 'alipelekwa\\nkwenye', 'ukumbi', 'alikoonana', 'watu', '“kulikuwa', 'na\\nvinywaji', 'vingi', 'kulevya', 'maswali', 'mengi', 'ajabu', 'ajabu”', 'aliandika', '“lakini', 'kwa\\nsababu', 'alikuwapo', 'alionekana', 'kuridhika', 'kinachoendelea\\nnikadhani', 'ulioandaliwa', 'sweden”', 'anasema', 'wa\\nwafanyabiashara', 'angeenda', 'mahakamani', 'na\\nkufungwa', 'jela', 'hadharani', 'kuhusu\\nkushikiliwa', 'ya\\nmaelezo', 'akimwambia', 'china\\ninaanzisha', '\\xa0diplomasia', 'na\\niwapo', 'ataendelea', 'matamko', 'mitandaoni', 'inaweza', 'kuiadhibu', 'kampuni', 'kuhifadhi', 'mafuta', '(tiper)', 'gawio', 'iliyotoa', 'wanahisa', 'addax-oryx', 'group', 'uswisi', 'ongezeko', 'kiwango', '2000akizungumza', 'kukabidhi', 'hisa', 'ilipewa', 'mwenyekiti', 'profesa', 'abdulkarim', 'mruma', 'wastani', '2010', '2013“uongozi', 'unaona', 'fahari', 'kuweza', 'uendeshaji', 'kukuza', 'wake’’', 'amesemaakizungumzia', 'upokeaji', 'ghala', 'inatarajia', 'pekee', 'yanayoingia', 'bandari', 'prof', 'yanayotarajiwa', 'yameshajadiliwa', 'kupokewa', 'vyema', 'wadau', 'wote“', 'zipo', 'wazi', 'ambazo', 'udhibiti', 'kinachoingia', 'kupunguza', 'wizi', 'kuzifanya', 'meli', 'zinazolipwa', 'wamiliki', 'serikali’’amesema', 'kufanikisha', 'mradi', 'tiper', 'imepitisha', 'mahususi', 'uwekezaji', 'dola', 'marekani', 'ishirini', '2019“tumeazimia', 'kuongeza', 'asilimia', '50', 'mita', 'ujazo', '213000', 'meta', '319000', 'matangi', 'mapya', '80000', 'kukarabati', 'tangi', 'lililokuwa', 'ghafi', '46000’’ametaja', 'azimio', 'kutandika', 'bomba', 'petroli', 'kurasini', 'kigamboni', 'kusukuma', 'kipya', 'kusukumia', 'kitakuwa', 'mashine', 'kuzima', 'moto', 'vinavyokubaliwa', 'salama', 'tiper“mpango', 'upanuzi', 'unafanikishwa', 'inayotokana', 'benki’’', 'ametajaamesema', 'yatakuwa', 'chanzo', 'kushughulikia', 'mingine', 'forodha', 'ambalo', 'litavutia', 'kuboresha', 'mkakati', 'itakayovutia', 'uingizaji', 'jirani', 'ukanda', '\\n\\tna', 'samwel', 'mwanga\\n', '\\n\\n', '\\n\\tserikali', 'maswa', 'imewaonya', 'pikipiki', 'zinazosafirisha', 'abiria', 'maarufu', 'jina', 'bodaboda', '\\xa0madereva', 'wanaowakabidhi', 'waliopata', '\\xa0mafunzo', 'barabarani\\n', '\\n\\tagizo', 'lilitolewa', 'seif', 'shekalaghe', 'alipofunga', 'mafunzo', 'barabarani', 'yaliyoandaliwa', 'uongozi', '\\xa0\\xa0kwa', 'waendesha', 'kubeba', 'maswa\\n', '\\n\\taliwataka', 'madereva', 'kuheshimu', 'inawapatia', 'kipato', 'siyo', 'vinginevyo\\n', '\\n\\tdc', '\\xa0wake', 'kutambua', 'wajibu', '\\xa0wanawakabidhi', 'ujuzi\\n', '\\n\\t“wamiliki', 'mnawekeza', 'wenu', 'mnawakabidhi', 'ambao\\xa0', 'ajali', '\\n\\t“hakikisheni', 'wamepewa', 'wasaideni', 'wapate', '\\xa0\\xa0kuepuka', 'kupoteza', 'lazima”alisema\\n', '\\n\\talisema', '\\xa0lengo', 'kuandaa', 'kuwafanya', 'wawe', 'watumiaji', 'kuepusha', 'zisizokuwa', 'lazima', '\\xa0\\xa0na', 'leseni', 'udereva\\n', '\\n\\tpia', 'kuunda', 'vikundi', '\\xa0serikali', 'iweze', 'kuwasaidia', 'kuwapatia', '\\xa0\\xa0waweze', 'kumiliki', 'binafsi', 'bajaj', 'hiace\\n', '\\n\\t“undeni', 'ambavyo', 'mtavisajili', 'itawasaidia', '\\xa0muweze', 'kujitegemea', 'mlio', 'mnazofanyia', 'zenu\\n', '\\n\\t“hivyo', 'anamiliki', 'ikibidi', 'muweze', 'bajaji', 'hiace”alisema\\n', '\\n\\t\\xa0mkuu', '\\xa0\\xa0bwire', 'essore\\xa0', '\\xa0ajali', 'zinazotokea', 'kusababisha', 'kufariki', '\\xa0na', 'vilema\\n', '\\xa0nyingi', 'zinasababishwa', 'christopher', 'msekena', 'mwimbaji', 'nyimbo', 'injili', 'ussy', 'charugamba', 'wakongwe', 'tasnia', 'anamkubali', 'mhando', 'amewaonyesha', 'waimbaji', 'production', 'ameliambia', 'anajiona', 'bahati', 'kumshirikisha', 'wimbo', 'unaoitwa', '‘wema’', 'utakuwa', 'albamu', '“rose', 'ana', 'amefungua', 'milango', 'wanachokifanya', 'najiona', 'ninajivunia', 'mkongwe', 'naomba', 'tumpe', 'yake”', 'makambako', 'deo', 'sanga', 'jah', 'people', '(ccm)', 'ameshauri', 'kuongezewa', 'kimoja', 'badala', 'kumaliza', 'urais', '2025', 'akae', '2030“rais', '(magufuli)', 'maono', 'kuifikisha', 'aombewe', 'awe', 'aongezewe', '2030', '“mimi', 'tutatembea', 'nzima', 'kumuombea…ikifika', '2021', 'wabunge', 'tuanze', 'kumuombea', 'muda”', 'sangambunge', 'ccm', 'iringa', 'maoni', 'akichangia', 'mapitio', 'mwelekeo', 'makadirio', 'matumizi', 'ofisi', 'waziri', '2019/2020', 'yaliyowasilishwa', 'kassim', 'majaliwanaye', 'kijitoupele', 'shamsi', 'vuai', 'nahodha', 'kulipeleka', 'kuachana', 'kupitisha', 'bakuli', 'wafadhili', 'kuombaomba', 'bidii', 'lijitosheleze', 'kilombero', 'peter', 'lijuakali', '(chadema)alisema', '“inasikitisha', 'wana', 'mawazo', 'katiba', 'ifanyiwe', 'marekebisho', 'muda…inafedhehesha', 'sana”hata', 'ameshasema', 'hana', 'ikifika', 'madaraka', 'atafanya', 'hivo', 'anayotakiwa', 'moshi', 'jaffar', 'michael', '(chadema)', 'alitaka', 'masoko', 'kutopewa', 'vitambulisho', 'ujasiriamali', 'kumesababisha', 'kukosa', 'kusafisha', 'hayombunge', 'kuteuliwa', 'bulembo', 'madini', 'tume', 'kuwasimamia', 'wanaowanyima', 'wachimbaji', 'walio', 'safi', 'wasio', 'matatizo', 'wanaotaka', 'kulipa', 'kodi', 'baraza', 'wawakilishi', 'jaku', 'hashim', 'ayoub', 'aliitaka', 'kuwapeleka', 'mashuhuri', 'wanaotoka', 'wanaotembelea', 'utapigwa', 'jamhuri', 'mshindi', 'kutwaa', 'taji', 'atapata', 'tiketi', 'kuiwakilisha', 'kombe', 'shirikisho', 'atakabidhiwa', 'kitita', '50homa', 'presha', 'mashabiki', 'imekuwa', 'wametoa', 'ahadi', 'hamasa', 'wapambanaji', 'kupaa', 'kuungana', 'yanga', 'bendera', 'michuano', 'kimataifaahadi', 'endapo', 'itaifunga', 'mbao', 'wamekusudiambali', 'wameahidi', 'zawadi', 'watafanikiwa', 'kuwakilisha', 'kimataifasimba', 'wenyeji', 'leo', 'wamewasili', '12', 'jioni', 'wakitokea', 'waliweka', 'kambi', 'kujiandaa', 'kuikosa', 'mrefukocha', 'wacheze', 'wanapata', 'utakaowafanya', 'kile', 'walichokikusudia', 'mwakanimcameroon', 'anatambua', 'mgumu', 'wamejipanga', 'wamewasoma', 'kutosha', 'wapinzani', 'shaka', 'mazuri“mbao', 'nzuri', '(leo)', 'watatusamahe', 'tumejipanga', 'tunashinda', 'kuirudisha', 'hadhi', 'litimie”', 'omogkocha', 'hakina', 'majeruhi', 'itakwenda', 'mapema', 'walilikosa', 'kutolewa', 'robo', 'fainali', 'coastal', 'unionmbao', 'inapewa', 'sapoti', 'kuwasili', 'jumhuri', 'inayofundishwa', 'kocha', 'etienne', 'ndyariagije', 'matumaini', 'maajabu', 'kuifunga', 'hilokuelekea', 'ilivyo', 'wamepoka', 'mwanza', 'watashinda', 'anayeongoza', 'mongela', 'ameahidi', 'kusafiria', 'wataifunga', 'ubingwa', 'fapia', 'kiongozi', 'wamechanga', 'pesa', 'wanatwaa', '“mnatakiwa', 'kuipigania', 'msiogope', 'majina', 'nyie', 'hamna', 'pengine', 'mna', 'sema', 'hamjapata', 'kusajiliwa', 'kujitangaza”', 'mongelakocha', 'mzuri', 'maandalizi', 'waliyofanya', 'kuelekea', 'atamkosa', 'tegemezi', 'bernad', 'mujweaki', 'anayesumbuliwa', 'maumivu', 'nyama', 'imani', 'washambuliaji', 'waliopo', 'fiti', 'mpambano', 'leo“tunaiheshimu', 'ukilinganisha', 'wanatuudhi', 'wangu', 'wanatamani', 'kuichezea', 'letu', 'likiwa', 'kuhitimisha', 'tuliyoianza', 'nyuma”', 'ndyariagijemchezo', 'unatarajiwa', 'majira', '90', 'hajapatikana', 'utaongezwa', 'hakutakuwa', 'iliyopata', 'utaamuliwa', 'mikwaju', 'penati', 'brussels', 'ubelgiji', '\\nviongozi', 'wametangaza', 'wataendelea', 'nyuklia', 'iran', 'donald', 'trump', 'huo\\nwakati', '(un)', 'urusi', 'zikiishangaa', 'israel', 'saudi', 'arabia', 'zimeshangilia', 'ujerumani', 'zimeapa', 'yaliyosalia', 'zikiitaka', 'kutovuruga', 'utekelezwaji', 'yaliyosaini', 'zimesema', 'kuyaunga', 'hassan', 'rouhani', 'watashirikiana', 'kunusuru', 'uwapo', 'kiroho', 'ayatollah', 'khamanei', 'aliilaani', 'wakichoma', 'kufafanua', 'khamenei', 'alimtuhumu', 'uongo', 'kuonya', 'haipaswi', 'kuziamini', 'yaliizuia', 'un', 'ukikubali', 'kuiondolea', 'vikwazo', 'vilivyowekwa', 'ulaya\\nkatika', 'runinga', 'inajiondoa', '(jcpoa)', 'aliutaja', 'mbaya', 'unaopendelea', 'haungeweza', 'kufikiwa\\nmbali', 'kuilinda', 'umeweka', 'masharti', 'hafifu', 'haikuwekewa', 'nyendo', 'syria', 'yemen', 'kwingineko\\nrais', 'aliongezea', 'hayakuangazia', 'utengezaji', 'silaha', 'masafa', 'iran\\namesema', 'atarudisha', 'kiuchumi', 'vilikuwa', 'yalipotiwa', 'saini', 'havitawekwa', 'ijayo', 'mshauri', 'masuala', 'bolton', 'ameripotiwa', 'akionya', 'yanayofanya', 'yatalazimika', 'kuisitisha', 'sivyo', 'ziwekewe', 'barrack', 'obama', 'alichukua', 'jukumu', 'facebook', 'yanalinda', 'maslahi', 'wamarekani', '”kujiondoa', 'kunaiweka', 'wajumbe', 'wakuu', 'wanasayansi', 'wapelelezi', 'walijadiliana', 'kuafikia”', 'hasmu', 'benjamin', 'netanyahu', 'zimeeleza', 'walioutaja', 'janga', 'festo', 'polea-dar', 'redio', 'zilizopo', 'vituo', 'vitatu', 'vikiwamo', 'mlimani', 'tv', 'azam', 'joy', 'fm', 'kigoma', 'ndivyo', 'vilivyolipa', 'mirabaha', 'kutumia', 'wasanii', 'mkaguzi', 'hakimiliki', '(cosota)', 'paul', 'mabula', 'kukumbwa', 'wanapokwenda', 'walipe', 'wamelazimika', 'kuwaandikia', 'tcra', 'wajue', '“tumeiandikia', 'itusaidie', 'tunazokumbana', 'nazo', 'kudai', 'baa', 'mengi”', 'aliongeza', 'cosota', 'inakabiliwa', 'idadi', 'inawawia', 'vigumu', 'mapambano', 'inayofanyika', '“vipo', 'vilivyotaka', 'tuvipeleke', 'wanavyodaiwa', 'vitatu”', 'alieleza', 'sanaa', '(basata)', 'kusikitishwa', 'mabaraza', 'wameitaka', 'kushirikisha', 'watoe', 'wasaidie', 'abducado', 'emmanuel', 'waamuzi', 'somalia', 'wamepangwa', 'kuchezesha', 'kufuzu', '‘taifa', 'stars’', 'malawi', '‘the', 'flames’', 'utakaofanyika', 'keshokutwa', '(fifa)', 'umeonyesha', 'mwamuzi', 'atakayepuliza', 'kipenga', 'haji', 'wiish', 'msaidizi', 'anatarajia', 'hamza', 'abdi', 'mikoba', 'itashikwa', 'salah', 'omar', 'akiba', 'bashir', 'olad', 'stars', 'kimeshaanza', 'tokea', 'ijumaa', 'iliyopita', 'mkwasa', 'hemed', 'morocco', 'makipa', 'manyika', 'ujio', 'wanaocheza', '(tff)', 'celestine', 'mwesigwa', 'aliliambia', 'watawasili', '“mbwana', 'samatta', 'ulimwengu', '(tp', 'mazembe)', 'wanamalizia', '(jana)', 'mabingwa', 'watatua', 'mrisho', 'ngassa', 'tunamtarajia', '(leo)”', 'imewasili', 'asubuhi', 'msafara', 'wakiwemo', 'wakiwa', 'kuivaa', 'marudiano', 'utafanyika', 'kamuzu', 'bingwa', 'jumla', 'atafuzu', 'raundi', 'kumenyana', 'algeria', 'kutinga', 'makundi', 'uunganishaji', 'maji', 'mamlaka', 'majisafi', 'majitaka', '(dawasa)', 'umeshika', 'kasi', 'ikisema', 'inakwenda', 'watapata', 'majiakizungumza', 'karibuni', '‘tunatekeleza’', 'kinachorushwa', 'chaneli', 'tbc', 'one', 'utangazaji', '(tbc)', 'alhamisi', 'dawasa', 'cyprian', 'luhemeja', 'ameifafanua', 'unaopaswa', 'kufuatwa', 'mkopoakijibu', 'mtangazaji', 'kufahamu', 'umbali', 'ulioidhinishwa', 'kuunganisha', 'kuepuka', 'vishoka', 'mwananchi', 'anatakiwa', 'fomu', 'utambuzi', 'mtaaamesema', 'akifika', 'anapaswa', 'kupewa', 'unaoruhusiwa', 'yuko', 'inabidi', 'wapeleke', 'inchi', 'kuingiza', 'wengineakizungumzia', 'wakishafanya', 'akapata', 'kuunganishiwa', 'ikipatikana', 'wanaandikishiana', 'unaomwezesha', '12akizungumzia', 'mabomba', 'yasiyotoa', 'yale', 'yasiyo', 'usambazaji', 'haujafikia', '60', 'alisisitiza', 'hawahitaji', 'walikuwa', 'wakitapelikwa', 'maunganisho', '200000', '350000', 'kulingana', 'mkupuochini', 'kukopesha', 'imetekeleza', 'vitendo', 'agizo', 'umwagiliaji', 'makame', 'mbarawa', 'alilotoa', 'akizindua', 'kiwalanialitaka', 'inaunganisha', 'kidogo', '90katika', 'alizungumzia', 'zinazotumiwa', 'umeme', '(tanesco)', 'majaribio', 'wakubwa', '11', 'yamekamilika', 'zitaandaliwa', '1000baada', 'watapeleka', 'majumbani', 'akizungumzia', 'wanaolimbikiza', 'madeni', 'wako', 'ankara', 'zaokwa', 'inakusanya', '112', '90amesema', 'walizindua', '‘tunawahitaji’', 'waliokatiwa', 'wamewaita', 'wakilipa', 'wanalipia', 'zamaniamesema', 'ikaridhia', 'itafuta', 'yaliyobaki', 'kusisitiza', 'shabalala', 'aliumia', 'usiku', 'ura', 'ilishinda', '1-0katika', '64', 'anatarajiwa', '“tshabalala', 'ameumia', 'kutanigharimu”', 'alisemaaidha', 'amefurahishwa', 'kilichooneshwa', 'nyingialisema', 'anachokitumia', 'hawapati', 'walimuangusha', 'alipowapanga', 'jamhurialiwataka', 'anaowapa', 'kuitumia', 'wamshawishi', 'kuwapanga', 'michezo', 'nimekuwa', 'nikikagua', 'umakini', 'video', 'hususan', 'bongo', 'fleva', 'ubora', 'kujiridhisha', 'bajeti', 'kushutia', 'wanazozitaja', 'zinalingana', 'ukweli', 'halisi', 'kiweledi', 'kwaliti', 'inshu', 'uhalisia', 'kichupa', 'kikibamba', 'poa', 'levo', 'inakuwa', 'njema', 'kinapagawisha', 'mida', 'unataka', 'kukikagua', 'manake', 'hakikuchoshi', 'nimegundua', 'kitu', 'diamond', 'platnumz', 'alipoanza', 'kitambo', '(back)', '(front)', 'mabadiliko', 'kutendea', 'vichupa', 'anavyoshuti', '‘kamwambie’', '‘mbagala’', '‘my', 'number', 'one’', 'kudondokea', '‘utanipenda’', 'unaoridhisha', 'simulizi', 'kueleweka', 'utapima', 'vigezo', 'kimojawapo', 'kukicheki', 'kimya', '‘scenes’', 'zinaleta', 'stori', 'inayoeleweka', 'mukide', 'engo', 'hisia', 'kuigiza', 'matukio', 'kadiri', 'anavyoendelea', 'ulivyomuona', 'alivyoigiza', 'ukachala', '‘gesture’', 'yaani', 'usoni', 'zinajiakisi', 'inavyopaswa', 'kukubalisha', 'kujikita', 'yanayohusika', 'uliyoianzia', 'kuishia', 'usiende', 'matawi', 'ukaigiza', 'muvi', 'kivyako', 'songi', 'zikawa', 'soundtraki', 'kusindikizia', 'wenzetu', 'waliotutangulia', 'kawaida', 'msanii', 'mikong’osio', 'haziendi', 'zitaboa', 'inawezekana', 'kushirikishwa', 'vipande', 'flani', 'kwako', 'husika', 'iko', 'almasi', 'aka', 'kitasha', 'mshale', 'ulioibuka', 'zama', 'ukakitwa', 'bado', 'unapaa', 'upae', 'kuchupa', 'itadhihirisha', 'ulipofikia', 'vidato', 'unavyopaswa', 'kukwea', 'inapendeza', 'nyanja', 'mbadala', 'umethibitisha', 'mauwezo', 'kuwapiga', 'tafu', 'wcb', 'wasiomaindi', 'kuchonga', 'wametinga', 'lebo', 'akiwemo', 'rich', 'mavoko', 'songa', 'ushushe', 'inatosha', 'vyako', 'vinajieleza', 'ukiongozwa', 'muongozaji', 'haina', 'kitakachoibuka', 'mwake', 'babake', 'kujipanga', 'inakuchagiza', 'uitimize', '‘front’', 'unayopaswa', 'kuifikia', 'kutokea', '‘back’', 'uliyotoka', 'tatizo', 'mbagala', 'umehama', 'tandale', 'ukiishi', 'madale', 'watakupenda', 'ukitia', 'maguu', 'imetakiwa', 'kudhibiti', 'kuimarisha', 'shilingi', 'kushuka', 'kunasababisha', 'bidhaa', 'zinazoingia', 'kupanda', 'beiakichangia', '2025/16', 'mwibara', 'kangi', 'lugola', 'kuachwa', 'dampo', 'zingeweza', 'kuzalishwa', 'mojawapo', 'kuyumba“leo', 'imefikia', '2075…', 'tunasaka', 'kuleta', 'tunaweza', 'kuzizalisha', 'akielekeza', 'lawama', 'vinachanua', 'ilivyokuwa', '1970katika', 'maneno', 'alikuja', 'fuko', 'zikiwa', 'zimetoka', 'alizimwaga', 'kuzionesha', 'nyingine“hili', 'dodoki', 'lingeweza', 'pamba', 'masikioni', 'kiberiti', 'toka', 'kenya”', 'akiendelea', 'kutaja', 'njiti', 'kutolea', 'meno', 'pipi', 'rula', 'penseli', 'kadhalikanaye', 'igunga', 'dalally', 'kafumu', 'kunachangiwa', 'yasiyodhibitiwa', 'dola“ukienda', 'hawakuruhusu', 'ukitoa', 'wanakuambia', 'kachenji', 'wanajua', 'holela', 'rahisi', 'kuzitorosha', 'yao”', 'alisemadk', 'lililochangia', 'kuanguka', 'migodi', 'dhahabu', 'kukiwa', 'kuifungua', 'zaidi“migodi', 'imefungwa', 'tunawasema', 'vibaya', 'wawekezaji”', 'tabia', 'wawekezaji', 'watatukimbia', 'zitto', 'kabwe', 'wenyekiti', 'jumuiya', '(sadc)', '(eac)', 'akiwataka', 'kisifutiwe', 'usajili', 'ikiwezekana', 'magufulialisema', 'akieleza', 'imechukua', 'kukabiliana', 'msajili', 'francis', 'mutungi', 'kukifuta', 'wameandika', 'sadc', 'namibia', 'imeshamfikia', 'kufanyiwa', 'kazikatika', 'uzito', 'wamemuandikia', 'cyril', 'ramaphosa', 'wakimuomba', 'azungumze', 'aone', 'kukisaidia', 'kimeandika', 'eac', 'kagame', 'rwanda', 'nakala', 'kutumwa', 'uhuru', 'kenyattakiongozi', 'actwazalendo', 'mabalozi', 'wanaowakilisha', 'zimefika', 'wahusika', 'uharaka', 'kulifanyia', 'wamechukua', 'tahadhari', 'kisheria', 'akisema', 'kutakuwa', 'athari', 'kisiasa', 'madiwani', 'wenyeviti', 'mbeya', '(tra)', 'imewataka', 'hawajakadiriwa', 'kinachoishia', 'marchi', 'kukadiriwa', '302020', 'yamezungumzwa', 'kaimu', 'mlipakodi', 'tra', 'stephen', 'kauzeni', 'amewahimiza', 'uhamasishaji', 'ulipaji', 'inayoendelea', 'amewakumbusha', 'mahesabu', 'unaishia', '312019\\xa0', 'ritani', 'wanaolipa', 'wakafika', 'wakadiriwe', 'adhabu', 'riba', '“tunawatembelea', 'kuwakumbusha', 'na\\xa0', 'kuwahimiza', 'hawajafanyiwa', 'wakakadiriwe', 'wawahi', 'bughudha', 'kusubiri', 'kabisa”', 'ameongeza', 'ugonjwa', 'korona', 'isingependa', 'msongamano', 'imewalazimu', 'kuwafuata', 'walipakodi\\xa0', 'kuwasisitiza', 'wakailipe', '“ni', 'kumkumbusha', 'tumewafuata', 'madukani', 'wakati’’', 'hesabu', 'wanawasilisha', '2020', 'ziweze', 'kuhakikiwa', 'zinavyoelekeza\\xa0', '“niwasihi', 'walipakodi', 'wafuate', 'mapema”', 'amesisitiza', 'inalenga', 'hiyari', 'watoa', 'zinazolipiwa', 'mawakili', 'wahasibu', 'fani', 'zilizosajliwa', 'utoaji', 'inaendelea', 'york', 'nyota', 'muziki', 'rnb', 'shaffer\\nsmith', 'ne-yo', 'ameweka', 'hajala', 'wala', 'vitu\\nvyovyote', 'vinavyotokana', '39', 'amedai\\nkwa', 'anakula', 'vyakula', 'mimea', 'huku\\nakiamua', 'mayai', '“ninapenda', 'ninayoishi', 'ni\\nmiaka', 'nimebadilisha', 'sura', 'kwa\\nsasa', 'inanawiri', 'umepungua', 'kikubwa”', 'maamuzi', 'hayo\\nbaada', 'kuangailia', 'kilikuwa', 'kinaonesha', '‘afya', 'ni\\nnini’', 'kilimfanya', 'achukue', 'kugundua', 'kwamba\\nulaji', 'wingi', 'unaweza', 'ukasababisha', 'magonjwa', 'ramadhan', '-dodoma', 'wa\\nnchi', 'utumishi', 'george', 'mkuchika', 'amezitaka\\nwizara', 'zinawalipa', 'mishahara', 'na\\nstahili', 'watumishi', 'wamepandishwa', 'madaraja', 'walizo\\nnazo', 'ameagiza\\nupandishaji', 'wapewe', 'upendeleo', 'ambao\\nwanakaribia', 'hiyo\\nimekuja', 'wafanyakazi', 'utumishi\\nwa', 'umma', 'kumlalamikia', 'wamekuwa', 'wakipandishwa\\nmadaraja', 'hawalipwi', 'stahiki', 'akizungumza\\nna', 'wa\\nbaraza', 'mkuchika\\xa0\\nalisema\\xa0', 'kumekuwa', 'malalamiko\\nkatika', 'ilitoa', 'maagizo\\nkuwa', 'wapandishwe', 'imebaki', '“nilikuwa\\nmkoani', 'ruvuma', 'nimekutana', 'malalamiko', 'mtumishi\\nanalalamika', 'kapanda', 'daraja', 'mshahara', 'haujapanda”', 'alisema\\nmkuchika', 'alisema\\nkutokana', 'wanaohusika', 'hilo\\nwanatakiwa', 'wanalifanyia', 'stahili', 'zao\\nwatumishi', 'waliopanda', 'aliagiza\\nkatika', 'upandishaji', 'wale\\nambao', 'wanakaribia', '“serikali\\nilitangaza', 'sifa', 'wanaotakiwa\\nkupatiwa', 'kipaumbele', 'umma\\nili', 'zitawawezesha', 'kujikimu', 'wanakokwenda”\\nalisema', 'alisema\\xa0', 'mosi', 'iliidhinisha\\nwatumishi', 'wapatao', '85000', 'waliokasimiwa', '2015/16\\nkupandishwa', '“awamu\\nnyingine', 'imefanyika', '193166\\nwaliokasimiwa', '2017/18', 'vyeo”', 'alifafanua\\nmkuchika', 'aliwapongeza\\nwatumishi', 'mstari', 'kukusanya\\nna', 'yanatumika', 'miundombinu\\nmbalimbali', '“nyie', 'ndiyo\\nmmekuwa', 'mkikusanya', 'niwapongeze', 'kwani\\nhapo', 'tulikuwa', 'tukikusanya', 'kiasi\\ncha', 'sh\\xa0', '800', 'sasa\\nimefikia', 'trilioni', 'tunatakiwa', 'kushikilia\\nhapohapo”', 'aliwataka\\nwatumishi', 'bora\\nkuhakikisha', 'kupinga', 'kazi\\nkwa', 'uadilifu', 'kuchagua', '“rushwa\\nkatika', 'kikwazo', 'tunaowatumikia', 'naomba\\nkatika', 'muwe', 'mtakuwa\\nhamjihusishi', 'kuakisi', 'bora”', 'makamu\\nmwenyekiti', 'leah', 'zimekuwa', 'kero\\nkwa', 'upandishwaji', 'nyingine\\nikiwemo', '“tunakuomba\\nmheshimiwa', 'lifanyiwe', 'tumepata\\nfursa', 'tuweze', 'zetu', 'miongozo', 'ya\\nutumishi', 'umma”', '*puma\\nyaungana', 'kuadhimisha', 'nenda', 'wetu-dar', 'energy', 'imeungana', 'na\\nshirika', 'kampuni\\nhiyo', 'ikitoa', 'barabarani\\nkwa', 'watoto', 'puma', 'ya\\nvipaumbele', 'imeona', 'wa\\nkuungana', 'elimu\\nkwa', 'akizungumza', 'mtendaji\\nwa', 'dominic', 'dhanah', 'amewaambia', 'kuwa\\nwameamua', 'ya\\nmaadhimisho', '‘un-global\\nroad', 'safety', 'week', '(ungrsw)’', '“puma', 'tumeungana', 'elimu\\nambapo', 'wanafunzi', 'ni\\nmabalozi', '“pia', 'tumeamua', 'kuwatumia', 'ni\\xa0', 'wanaanza', 'uelewa', 'barabarani”', 'programu', 'usalama\\nbarabarani\\xa0', 'neema', 'swai', 'kauli\\nmbiu', '‘sema', 'usikike', 'okoa', 'maisha’', 'hayo\\nhuadhimishwa', '“kila', 'wanaotumia', 'barabara\\nkwenda', 'wasipokuwa', 'tutawapoteza\\nwengi', 'walioshiriki', 'godbless\\nmlacha', 'anayesoma', 'darasa', 'amesema\\nwanawashauri\\xa0', 'kutumia\\nvilevi', 'mwendo', 'yanakua\\nhatarini', '“nahitaji', 'nitimize', 'zangu\\nuzembe', 'dereva', 'uhai', 'kunipa', 'kilema', 'kidumu\\nnimechagua', 'kupaza', 'sauti', 'tatizo”', 'mlacha', 'jessca', 'nangawe', 'hamis', 'yusuph', 'amemtaka', 'lwandamina', 'kumpa', 'chipukizi', 'hajji', 'shaibu', '‘ninja’', 'kumjengea', 'kujiamini', 'kuonyesha', 'kipaji', 'kumuweka', 'benchi', 'dimbani', 'kuvaana', 'njombe', 'mji', 'iliyopanda', 'uliopo', 'ninja', '“ninja', 'kuzomewa', 'angekuwa', 'anamtumia', 'aweze', 'mbalimbali”', 'nadir', 'haroub', '‘cannavaro’', 'alijifunza', 'alipo', 'alisajiliwa', 'akitokea', 'jang’ombe', 'visiwani', 'ameonekana', 'kutoaminiwa', 'akimuweka', '\\xa0', 'sherehe', 'tuzo', 'iliyofanyika', 'ilifanyika', 'paris', 'zilishinda', 'startimes', 'lanfang', 'liao', 'wake“tuzo', 'mwishoni', 'business', 'initiative', 'directions', '(bid)', 'waandaaji', 'zimefanyika', 'huu”', 'kuongeza:“utolewaji', 'ulihusisha', 'marais', 'wanapendekeza', 'inayostahili', 'duniani”katika', 'upigaji', 'kura', 'hufanyika', 'inayopigiwa', 'kujua', 'ilijinyakulia', 'heshima“wateja', 'kutunukiwa', 'ningependa', 'wafahamu', 'iliyotunukiwa', 'hii”', 'alisemaaliishukuru', 'kuweka', 'mazingira', 'mazuri', 'zinazokuja', 'kuwekeza', '“ningependa', 'kutuamini', 'wakae', 'mkao', 'kula', 'kabambe', 'zinazoendelea', 'kuzinduliwa', 'karibuni”', 'asha', 'bani-dar', '(cuf)', 'wamemuunga', 'maalim', 'sharif', 'hamad', '\\xa0huku', 'wakigomea', 'kuitwa', 'kuhojiwa', 'anayetambuliwa', 'ibrahim', 'lipumba', 'wamesema', 'kufanyakazi', 'kuwahoji', 'alishapoteza', 'kukiongoza', 'cuf', 'wameunga', 'tamko', 'makamu', 'demokrasia', 'pwani', 'saed', 'kubenea', 'operesheni', 'inayojulikana', '‘ondoa', 'msaliti', 'buguruni’(omb)', 'iliyotangazwa', 'mtaa', 'mtambani', 'manispaa', 'kinondoni', '\\xa0bakari', 'kasubi', 'kuwaita', 'alishafukuzwa', '“tunasikia', 'eti', 'wanaojiita', 'walipora', 'isiyo', 'wanaandaa', 'kinachoitwa', '‘feki’', 'maadili', 'hatuwezi', 'hao’’', 'wanaunga', 'uliochukuliwa', 'chao', 'taifa\\xa0', 'uliotolewa', 'wanaungana', 'rita', 'kifungu', 'taratibu', 'wadhamini', 'zinazohusiana', 'hujuma', 'walitaja', 'ruzuku', '“tunapingana', 'njama', 'kujiingiza', 'hovyo\\xa0', 'muelekeo', 'kuiharibia', 'mustakabali', 'cuf\\xa0', 'kuwaathiri', 'kuasisi', 'kuijenga', 'miongo', 'nusu', 'sasa’’alisema', 'wanampinga', 'kukubali', 'kutumiwa', 'masilahi', 'kuthamini', '“lipumba', 'kuweweseka', 'ameshindwa', 'taaluma', 'kukicha', 'anatafuta', 'dhamira', 'kukemea', 'viovu\\xa0', 'vinavyoendelea', 'wafuasi', 'wanapohudhuria', 'kushambulia', 'kashfa', 'kejeli', '’’alisema', 'kandamizi', 'kuwashughulikia', 'waliowaita', 'vibaraka', 'wanaotumika', 'kuharibu', 'demokarsia', 'kukivuruga', '\\n\\tharare', 'zimbabwe\\n', '\\n\\tfamilia', 'zilizotimuliwa', 'robert', 'mugabe', 'grace', 'makazi', 'mashambani', 'zimeitaka', '(sadc', 'kuingilia', 'kati\\n', '\\n\\thilo', 'ripoti', 'zikisema', 'hukumu', 'kupanua', 'himaya', 'mazowe\\n', '\\n\\tbaada', 'wanakijiji', 'mazowe', 'amri', 'kutowaondoa', 'shamba', 'arnold\\n', '\\n\\twanakijiji', 'wakiishi', 'miliki', 'shukrani', 'zikiiendea', 'sera', 'tata', 'mageuzi', 'ardhi', 'ilishuhudia', 'wakitumia', 'kuwatimua', 'wazungu', 'mashamba', 'yao\\n', '\\n\\tlakini', 'inaonekana', 'wamepuuza', 'timua', 'rais\\n', '\\n\\tmwakilishi', 'innocent', 'dube', 'alikaririwa', 'kuonekana', 'hawawezi', 'hapa\\n', '\\n\\twaliwasilisha', 'ubalozi', 'swaziland', 'ubalozi\\n', '\\n\\t\"waliweza', 'kupokea', 'shauri', 'mawasiliano', 'kutuahidi', 'kututafuta”', 'hadija', 'omary', 'lindi', 'mashauri', '161', 'utelekezwaji', 'yameripotiwa', 'shirika\\nla', 'usaidizi', 'women', 'paralegals', '(liwopac)\\nkatika\\xa0\\xa0', 'mwaka\\xa0', 'yameelezwa', 'cosma', 'bullu\\xa0', 'alipokuwa\\nanazungumza', 'digital', 'ofisini', 'bullu', '558', 'yaliyopokelewa', 'hilo\\nmashari', '430', 'yaliripotiwa', 'wanawake', 'huku\\xa0\\nmashauri', 'yalihusiana', 'wanaume', 'kutelekeza', 'familia', 'wadogo\\nhasa', 'wachanga', '78', 'wanaoongozwa\\nkulalamikiwa', 'wamezaa', 'bulu', 'wanaume\\xa0', 'kulelewa', 'mzazi', 'kwa\\nkiasi', 'hupelekea', 'uwepo', 'mitaani', 'ustawi', 'richard\\nkimaro', 'ushirikiano', 'malezi', 'mtoto', 'wazazi', 'walezi\\npamoja', 'unahitajika', 'kuhakikisha\\xa0', 'kimaro', 'nzima\\nmlezi', 'ngazi', 'na\\nserikali', 'wakishirikiana', 'hawataweza', 'siku\\nmoja', 'kuwaona', 'wanazurura', 'kuwa\\nshuleni', 'tubaki', 'brighiter', 'masaki', 'miss', '2004', 'faraja', 'nyalandu', 'mwanamuziki', 'matata', 'wamelamba', 'dili', 'usafiri', 'anga', 'travelstart', 'kuwafikia', 'zitolewazo', 'othman', 'wameamua', '“tumeamua', 'tumeona', 'kirefu', '“kwenye', 'matangazo', 'akipita', 'akiona', 'mdudu', 'nyuki', 'kipepeo', 'konokono', 'apige', 'picha', 'atume', 'amejipatia', 'kusafiri', '“safari', 'washindi', 'watasafiri', 'watakwenda', 'thailand', 'jordan', 'amsterdam', 'dubai', 'mauritius', 'tutaangalia', 'tukasafirisha', 'ngorongoro', 'nyingine”', 'tanga', 'hawaoni', 'shidakulipa', 'mikubwa', 'maendeleoinayofanywa', 'yalizungumzwa', 'elimukwa', 'maafisa', 'mamlakaya', 'makao', 'makuu', 'kukishirikiana', 'namaafisa', 'waliwatembelea', 'maduka', 'yaoyaliyopo', 'kuwaelimisha', 'nakuwakumbusha', 'wakatisambamba', 'waliweza', 'kusikiliza', 'kerozinazowakabili', 'natrathabiti', 'salimu', 'mfanyabiashara', 'ukwaju', 'rejarejakatika', 'atamshangaamfanyabiashara', 'atayekwepa', 'hikiambacho', 'wameshuhudia', 'mingi', 'ikitekelezwa', '“rais', 'anatumia', 'tunaona', 'miradimingi', 'tuendelee', 'yautekelezaji', 'itakwama”', 'dina', 'mbenu', 'vipuli', 'kuwaikiwa', 'watakwepa', 'watasababisha', 'madhara', 'yakiuchumi', 'kuathiri', 'miundombinuikiwemo', 'kuwatembelea', 'yaokwa', 'kuwahamasisha', 'kero', 'yaoinawasaidia', 'kutopoteza', 'wakisubiri', 'kuhudumiwa', 'afisa', 'msimamizi', 'mjenga', 'amesemazoezi', 'endelevu', 'kufanyikatanga', 'zoezi', 'limeshafanyika', 'mwanzambeya', 'kuwakumbushawafanyabiashara', 'nachangamoto', 'kuzitatuanaye', 'specioza', 'owure', 'aliwaombawafanyabiashara', 'linalofanywa', 'lautoaji', 'linalenga', 'mlipakodi“niwaombe', 'mkiwaona', 'wanatembeleamsifunge', 'wapokeeni', 'wanalengakuwaelimisha', 'zinazowakabili', 'kwenyebiashara', 'kuzitafutia', 'ufumbuzi”alisema', 'wafanyabiasharamkoani', 'linatarajiwa', 'kumalizika', 'likiwani', 'aveline', 'kitomary', 'daktari\\nbingwa', 'upasuaji', 'mifupa', 'ajali\\xa0\\nkutoka', 'muhimbili', '(moi)', 'kennedy', 'nchimbi\\namesema', 'binadamu', 'huzaliwa', 'anapokuwa', 'mzima\\nhuungana', '206', 'kutengeneza\\xa0', 'dk\\nnchimbi', 'ukomavu', '(ossifications)', 'binadamu\\nanapokuwa', 'mzima', 'huungana', 'mdogo\\nmifupa', 'imeachana', 'anavyozidi', 'kukua', 'inavyoungana', 'amesema\\nkuna', 'haijafunga', 'ikihesabiwa', 'na\\nbaadae', 'zinaungana', 'ukuaji', 'hurefuka', '“zaidi\\nya', 'mwili', 'mikono', 'miguu', 'ya\\nmifupa', '106', 'miguu”', 'nchimbi', 'aidha\\nameeleza', 'zinagawanyika', 'kukomaa', 'zinaruhusu\\xa0', '(growth', 'plates\\xa0', 'epiphyceal', 'plate)', 'mfano\\xa0', 'mfupa', 'kawaida\\xa0', 'hadi\\nnne\\xa0', 'ukubwani', 'huonekana\\nmmoja', '“ndio\\nmaana\\xa0', 'anapozaliwa\\xa0', 'fuvu', 'kichwa\\xa0', 'kulibana\\xa0', 'huwezi', 'hivyo\\xa0', 'kukomaa\\xa0\\xa0', 'akina', 'mama', 'wanaopitiliza', 'kujifungua\\nyaani', '40', 'hawezi', 'kujifungua', 'shida”namesema', 'matokeo', 'kidato', 'yaliyotangazwa', 'zilizofanya', 'mtihani', 'kitaifa', 'zinatoka', 'kmbalimbalishule', 'kemebn', 'st', 'girls', 'feza', 'canossa', 'anwarite', 'kilimanjaronyingine', 'precious', 'blood', 'arusha', 'marian', 'augustine', 'tagaste', 'maua', 'seminari', 'kilimanjaro', 'musabe', 'mwanzashule', 'zilizoibuka', 'kidedea', 'mitihani', 'kemebos', 'centennial', 'seminary', 'more', 'machrina', 'bethel', 'sabs', 'salaamshule', 'bright', 'future', 'ukarabati', 'uliofanywa', 'kisumu', 'umeifanya', 'ukubwa', 'kichocheo', 'ujumlawananchi', 'hamu', 'ikizinduliwa', 'utendaji', 'usio', 'viwangokwa', 'kidemokrasia', 'kongo', '(drc)', 'wanatarajiwa', 'kuhudhuria', 'uzinduzi', 'unaotarajiwa', 'kufanyika', 'huubandari', 'imefanyiwa', 'kuifanyia', '225', 'zitatumikarais', 'kenyatta', '(au)', 'miundombinu', 'raila', 'odinga', 'wataongoza', 'unaotajwa', 'kihistoria', 'utanufaisha', 'lucy', 'said', '(turdarco)', 'mtayarishaji', 'studio', 'fish', 'crab', 'lamar', 'haumtishi', 'japokuwa', 'yupo', 'wamefungua', '“uwepo', 'nyingi\\xa0', 'haunitishi', 'hauniathiri', 'kinachohitajika', 'ujuzi', '“msanii', 'daima', 'atabaki', 'kumlinganisha', 'prodyuza', 'japo', 'chache', '“kikubwa', 'nina', 'sina', 'wasiwasi', 'upo', 'pale”', 'kuendeleza', '‘car', 'wash’', 'vitu', 'vinavyohusu', 'kassara-dar', 'imepania', 'kupindua\\nmeza', '‘', 'stars’\\xa0', 'kimetua', 'sudan\\xa0', 'kusaka\\ntiketi', 'za\\nndani(chan)', 'utakaopigwa', 'khartoum', 'zilipoumana', 'wa\\nkwanza', 'uliochezwa', 'septemba', '22', 'sudan\\niliibuka', '1-0', 'kuishinda', 'sudan', 'ya\\nmakundi', 'itatakiwa', 'kuanzia', '2-0\\nzitakaporudiana\\xa0', 'kutwa', 'kiliondoka', 'kigali', 'juzi\\nusiku', 'kirafiki', 'ya\\nrwanda\\xa0', 'amahoro', 'na\\nkumalizika', 'suluhu', '\\nmchezo', 'kujipima', 'ubavu', 'kukidhi', 'matakwa', 'kalenda', 'ya\\nshirikisho', '(fifa)\\n\\n', 'marudiano\\nkati\\xa0', 'omdurman', 'wenye\\nuwezo', 'watazamaji', '65000', 'kikosi\\ncha', 'zinalengwa', 'kuzoea\\nhali', 'hewa', 'hicho\\nakizungumza', '\\xa0rwanda', 'stars\\netienne', 'ndayiragije', 'aliridhishwa', 'waliyoipata', 'kuwa\\nmchezo', 'ulikuwa\\xa0', 'kipimo\\nsahihi', '“nashukuru', 'kwa\\nmchezo', 'nimeridhishwa', 'kilichoonyeshwa', 'wachezaji\\nwangu', 'nakiri', '\\xa0kwamba', 'tulipata', 'mtihani\\nsahihi', 'kazi\\xa0', 'iliyo', 'mbele\\nyetu', '“mchezo', 'huu\\nutatusadia', 'sudan\\nkuna', 'vichache', 'kufanyia', 'tuna', 'kurekebisha', 'lakini\\nvijana', 'walicheza', 'kufuata', 'maelekezo', 'nimefurahishwa', 'hiyo”\\nalisema', 'burundi', 'julai', 'iliingiza', 'zenye', 'wapo', 'wanaoona', 'mapungufu', 'fulani', 'umaskini', 'huusisha', 'zima', 'huguswa', 'kutenda', 'nakadhalika', 'humwezesha', 'hatimaye', 'mzalendo', 'yanapokuwa', 'yanachangia', 'tumekuwa', 'wazuri', 'tukiamini', 'tukikosa', 'kukumbusha', 'kimaamuzi', 'kiutendaji', 'tukisisitiza', 'vinapaswa', 'kutafuta', 'kutatua', 'kuyaongeza', 'yamefanywa', 'taswira', 'kukomoa', 'kuumiza', 'makusudi', 'tukisisitiza\\xa0', 'zinaonyesha', 'barani', 'wameumizwa', 'kudhulumiwa', 'kutopea', 'kimawazo', 'kuhadaika', 'wanasiasa', 'dhuluma', 'msingi\\xa0', 'kama\\xa0', 'chombo', 'habari\\xa0', 'tunao', 'inachofanya', 'vitambue', 'vinao', 'kuchunguza', 'kubadilisha', 'nyakati', 'tumeshuhudia', 'vikichukua', 'ghafla', 'nyeti', 'mifumo', 'nk\\xa0', 'kitakachofanyika', 'tuliyoitaja', 'kitakwenda', 'mwema', 'aliyepata', 'mtakatifu', 'benedikto', 'xvi', 'watawala', 'dunia\\xa0', 'alisema;', '“jamii', 'hujengwa', 'wanajamii', 'haki”\\xa0', 'tukitaka', 'wenyewe', 'alikwenda', 'kusema;', 'kiufundi', 'utume', 'haliwezi', 'kuuacha', 'kuutangaza', 'linapaswa', 'kubebwa', 'kidini', 'uslama', 'polisi\\xa0', 'nk', 'msemo', 'kwamba;', 'utakaowaweka', 'huru:', 'kijamii\\xa0', 'tunaamini', 'sote', 'linawajibika', 'hiyo\\xa0', 'itambue', 'kupigania', 'wakala', 'bunge\\xa0', 'viongozi\\xa0', 'wakiwamo', 'watambue', 'wawajibikaji', 'hawa', 'watauzingatia', 'dhamiri', 'zilizojengwa', 'tupu', 'uhakika', 'kimaendeleo', 'inakisiwa', 'vifo', '150000', 'kuumwa', 'mbwa', 'kichaaakitoa', 'takwimu', 'mifugo', 'martin', 'ruheta', 'inaonesha', 'kulikuwa', '28000', 'vichaa', 'kuambukizwa', 'huoamesema', 'kidunia', 'zinaonesha', '60000', 'wanafariki', 'vinatokea', 'bara', 'asia', 'vijijinidk', '28', 'kichaa', 'mbwa;', 'yatafanyika', 'zikiwemo', 'kuudhibitiamesema', 'yatatoa', 'aliyepatwa', 'virusi', 'inagharimu', '44', 'kuchanja', 'kunakogharimu', 'tudk', 'kutibu', 'mgonjwa', 'vijijini\"kwa', 'azma', 'kutokomeza', 'itimie', 'inawekana\"', 'amesemaamesema', 'umeandaliwa', 'dhamana', 'mpangokazi', 'kulinda', 'pamojaamesema', 'ulianza', 'kutambuliwa', '1932/33', 'umekuwa', 'ukisambaa', 'mikoanialisema', 'tishio', 'unampata', 'aliye', 'aliyeathirika', 'akiumwa', 'kuguswa', 'anaweza', '\\xa0editha', 'karlo', 'imeamuru', 'kukamatwa', 'kuchukuliwa', 'walikamatwa', 'wakiuza', 'sukari', 'bei', 'elekezi', '3200', 'iliyowekwa', 'imekuja', 'wakiongozwa', 'walifanikiwa', 'kuwakamata', 'kukutwa', 'kilo', '3700', 'aliamuru', 'kufunga', 'zitakapomalizikakatika', 'alitembelea', 'nazareth', 'alifunga', 'matatu', 'stendi', 'mabasi', 'yaendayo', 'masanga', 'kuamuru', 'yanayowakabili', 'kushtukiza', 'maagizo', 'yanafuatwa', 'kutekelezwa', 'itachukua', 'mkondo', 'watakaotiwa', 'hatiani', '“serikali', 'imejiridhisha', 'uhaba', 'kuwaumiza', 'wananchi”', 'dc', 'makocha', 'kigeni', 'wakilipwa', 'kuzisababishia', 'mikataba', 'kuwagharamia', 'posho', 'sambamba', 'timupia', 'ameishauri', 'wazawa', 'kuifundisha', 'kuwaleta', 'kuwasomesha', 'ukochambunge', 'kozi', 'walimu', 'mpira', 'inatambuliwa', '(caf)', 'morogorokwa', 'abood', 'ufundishaji', 'wanaletwa', 'yangambali', 'fc', 'stand', 'shinyanga', 'union', 'sugar', 'ruvu', 'shooting', 'kigenihata', 'ilimtumia', 'virago', 'james', 'nandwa', 'kenyaalisema', 'kinachokosekana', 'kujengewa', 'hawapewi', 'kuutumia', 'taifa“tunao', 'kuwazidi', 'wakigeni', 'wanaoletwa', 'zetuninaona', 'mzawa', 'unalingana', 'wanazidiwa', 'nyumbani”', 'mpenzi', 'sokahivyo', 'zinazotumika', 'kufundisha', 'zingetumika', 'wandani', 'watumike', 'nyumbani“hizi', 'kuwalipa', 'ingetumika', 'kuwalipia', 'vyuo', 'wakirudi', 'watumikie', 'aboodalisema', 'kasumba', 'zimepitwa', 'mdau', 'anakusudia', 'kuliwasilisha', 'serikalini', 'kazi“nchi', 'zinatumia', 'zimepata', 'kisoka', 'linajidhihirisha', 'joel', '1980”', 'akimzungumzia', 'aliyeifikisha', 'afrikaaliwataka', 'washiriki', 'kutobweteka', 'wazidi', 'nora', 'damian-dar', 'free', 'pentecoste', '(fptc)', 'limetoa', 'mwongozo', 'waumini', 'kujikinga', 'maambukizi', 'corona\\xa0', 'vipengele', 'fpct', 'stevie', 'mulenga', 'makanisa', 'unaoelekeza', 'wachache\\xa0', 'wameitikia', 'rahisi\\xa0', '“wanatekeleza', 'makanisani', 'tulishawaambia', 'wahakikishe', 'ndoo', 'yanayotiririka', 'wanavaa', 'barakoa', 'tumezifupisha', 'harusi', 'tulishaondoa', 'itafungwa', 'yanatekelezwa', 'kabisa\\xa0', '“kuketi', 'tunalifanya', 'lina', 'shida', 'mahali', 'tumeshaanzisha', 'wanaweka', '“na', 'yanayotokea', 'ngumu', 'hakufa', 'corona', 'anakubali', 'kuvaa', 'anaepusha', 'zaidi”', 'uliosainiwa', 'mchungaji', 'mwita', 'unaelekeza', 'semina', 'makongamano', 'warsha', 'zisitishwe', 'kiidara\\xa0', 'inaelekezwa', 'majuma', 'idara', 'yawe', 'kuhudumu', 'ibadani', '“sherehe', 'zisizo', 'zimesitishwa', 'maziko', 'wachache', 'matanga', 'misiba', 'yamesitishwa', 'sasa”', 'inasomeka', 'vitakasa', 'sabuni', 'kunawia', 'milangoni', 'kuketi', '“salamu', 'kupeana', 'kukumbatiana', 'sahihi', 'unaoshauriwa', 'vipaza', 'makanisani”', 'ilisomeka', 'ziwe', 'fupi', 'unavyosema', 'imeshauriwa', 'maombi', 'ifanyike', 'juma', 'zinazokusanya', 'ubatizo', 'ufanyike', 'bwana', 'uzingatie', 'kanuni', 'kiafya', '“wanaohisi', 'dalili', 'wanaombwa', 'kumwona', 'daktari', 'tuwe', 'waangalifu', 'tafsiri', 'potofu', 'tufanyie', 'zinazotolewa', '“idara', 'theolojia', 'zielimishe', 'mungu', 'alinusuru', 'letu”', 'unasema', 'lilisema', 'wanaongozwa', 'zilizowekwa', 'yanayotolewa', '“mfano', 'inachukua', 'masaa', 'kwanini', 'tusiifanye', 'unapowaweka', 'unapunguza', 'hatari', 'maambukizi”', 'maaskofu', '(tec)', 'padri', 'kitima', 'alipozungumza', 'liliwashauri', 'wasogeze', 'ikiwemo', 'liishe', 'waje', 'mazoea', 'shamra', 'hulka', 'akasisitiza', 'zinahatarisha', '“kama', 'unadhani', 'kipaimara', 'wachumba', 'wawili', 'mnasema', 'tulishapanga', 'mje', 'mtafunga', 'mko', 'wawii', 'wasimamizi', 'sherehe”', 'sakramenti', 'kitaalamu', '“kuna', 'amekaribia', 'kufa', 'kumnyima', 'itatolewa', 'unakuta', 'ameelekezwa', 'asiambukizwe', 'asiambukize', 'wengine”', 'kitima\\xa0', 'rulenge', 'ngara', 'lilitangaza', 'kusitisha', 'yanayokusanya', 'sala', 'kkkt', 'dayosisi', 'karagwe', 'benson', 'bagonza', 'ras', 'inno', 'lililopita', '‘amnesty', 'international’', 'lilitoa', 'iliyotonesha', 'kidonda', 'madhila', 'yaliyotokea', 'mitatu\\xa0', 'ushei', 'imeshayasau', 'kuangazia', 'migogoro', 'inayofukuta', 'imekanusha', 'yaliyobainishwa', 'amnesty', 'inayotaja', 'ikikumbusha', 'machungu', 'hayajasahaulika', 'walioumizwa', 'imebainisha', 'vimewaua', '150', 'maandamano', 'lililoko', 'biafra', 'linalotaka', 'kujitenga', 'kuwatwanga', 'risasi', 'waandamanaji', 'waasilia', '(ipob)', 'vuguvugu', 'jipya', 'linalozidi', 'kukanganya', 'halijamaliza', 'boko', 'haram', 'kaskazini', 'sekeseke', 'linaloendelea', 'delta', 'kilichoanzisha', 'hamkani', 'mwendelezo', 'manung’uniko', 'kabila', 'igbo', 'wanaoishi', 'kupuuzwa', 'ukosefu', 'duni', 'zikiwamo', 'weledi', 'kutoteuliwa', 'nyadhifa', 'liliibuka', 'ipob', 'nnamndi', 'kanu', 'kutiwa', 'kizuizini', 'aliporejea', 'anakoishi', 'kufunguliwa', 'mashtaka', 'uhaini', 'kuendesha', 'london', 'inayodaiwa', 'kuchochea', 'kushambuliwa', 'kinachobainishwa', 'kikonyo', 'kina', 'kilichotokea', 'iliyorindima', '1967', '1970', 'lililipojitangazia', 'kujipa', 'ghuba', 'iliyoko', 'kujumuisha', 'makabila', 'waefik', 'waibibio', 'waanang', 'waejang', 'waeket', 'waibeno', 'waijaw', 'lililojitenga', 'lilisababisha', 'mgawanyiko', 'gabon', 'zambia', 'lilitambuliwa', 'visiwa', 'haiti', 'jumuya', 'mapigano', 'ilishindwa', 'kurudishwa', 'iliyolaaniwa', 'kote', 'iliyotumiwa', '“adui', 'msababishie', 'njaa”', 'kulizingira', 'njaa', 'lililoua', 'kimsingi', 'ilidaiwa', 'haijapata', 'wakoloni', '‘biafara’', 'ikiunganisha', '‘bay’', 'iliyokaliwa', 'wanaotokana', 'kizazi', '‘ephraim’', 'kujinasibisha', 'mto', 'nun', 'ulioko', 'joshua', 'ephraim', 'anayesimuliwa', 'biblia', 'linalomaanisha:', '‘baraka', 'mungu’', 'aliyopewa', 'kuamini', 'ubishani', 'uliozaa', 'mkanganyiko', 'unasababishwa', 'unaoligubika', 'kinachoigusa', 'hakihusiani', 'mashiko', 'zinazokandamizwa', 'ikikumbukwa', 'muhammadu', 'buhari', 'kutawala', 'mnamo', 'aliyeongoza', 'yalishutumiwa', 'ukatili', 'aliyetamka', 'kulikoni', 'harakati', 'kuibuka', 'kuligawanya', 'lizame', 'bahari', 'kuangamia', 'unaodhihirisha', 'mgogoro', 'haujamalizika', 'yaliyogawa', 'oau', 'yanazua', 'alipotetea', 'kuitambua', 'kuwa:', '“kutokana', 'anastahili', 'mahala', 'anapopaita', 'kubughudhiwa', 'wanachofanyiwa', 'wayahudi', 'walivyofanyiwa', 'hitler', 'wamebahatika', 'waliyokimbilia', 'kujinusuru', 'kujitangazia', 'muktadha', 'tunalazimika', 'kukosoa', 'dhima', 'kuwastawisha', 'wanadamu”', 'pembe', 'ng’ombe', 'lisilofichika', 'lililoibuliwa', 'amesty', 'international', 'uliojitokeza', 'ziliiunga', 'yakubu', 'gowon', 'vilivyoongozwa', 'chukwuemeka', 'odumegwu', 'ojukwu', 'zilifanya', 'kuhofia', 'kungeamsha', 'zilizotaka', 'haijawahi', 'ikisababisha', 'yanayoishia', 'kuanzishwa', 'ilivyotokea', 'eritrea', 'iliyopigana', 'ethiopia', 'tarime', 'imewahukumu', 'watatu', 'faini', '105', 'kusaﬁ', 'risha', 'nia', 'kuyapeleka', 'kibaliwatuhumiwa', 'walilipa', 'kuikwepa', 'mkazi', 'veronika', 'mugendi', 'waliohukumiwa', 'yong', 'zhe', 'ye', '(32)', 'chang', 'shaobo', '(31)', 'xaolin', 'wang', '(25)hata', 'heneriko', 'shija', '(51)', 'amebaki', 'kukanusha', 'litatajwa', '28116', 'gari', 'walilokuwa', 'nalo', 'utafiti', 'zimetaifishwa', 'wakitorosha', 'kinyume', 'nchiwanafikisha', '6', 'kufikishwa', 'li', 'ninghi', 'xialong', 'zungsong', 'vifurushi', 'tisa', '30075', 'yakiwemo', 'toyota', 'landcruiser', 'vx', 'v8', 'kbw', '515', 'l', 'wakishtakiwa', 'kusafirisha', 'kibali', 'uhujumu', 'uchumikatika', 'alihukumiwa', '5', '5walilipa', 'vilitaifishwa', '51/2019', 'wachina', 'yongzhe', 'walikiri', 'wakitetea', 'mwanasheria', 'joseph', 'wanasheria', 'venance', 'mayenga', 'aininus', 'kainunura', 'walidai', 'wakijishughulisha', 'nyasirori', 'butiamawalidai', '3', 'kizuizi', 'komaswa', 'sirari', 'hilux', 't', '994', 'dhc', 'wamefunika', 'matikiti', 'chupa', 'wakisafirisha', 'vibali', 'kulwa', 'mzee', '-dar', 'vigogo', 'viettel', 'halotel', 'son', 'nguyen', '(46)', 'wanaokabiliwa', 'kuisababishia', '(tcra)', 'hasara', 'wanaendelea', 'kusota', 'rumande', 'majibu', 'washtakiwa', 'walipandishwa', 'kizimbani', 'machi', 'walisomewa', 'ulidai', 'haujakamilika', 'akaomba', 'benedict', 'ishabakaki', 'yakikamilika', 'wataletwa', 'hati', 'hao\\xa0', 'ilipokewa', 'yalianza', 'yalikamilika', 'kinachosubiriwa', 'kuipa', 'kisutu', 'minh', '(40)\\xa0', 'vu', 'tiep', 'mameneja', 'ha', 'than', '(39)', 'mtaalamu', 'teknolojia', '(tehama)', 'cong', 'viattel', 'waliposomewa', 'mbele\\xa0', 'walidaiwa\\xa0', '8', 'mikocheni', 'waliongoza', 'genge', 'uhalifu', '2020\\xa0', 'walitumia', '7', '2016', 'muungano', 'vietnam', 'walitengeneza', 'ulitumia', 'zinazojulikana', 'virtual', 'private', 'network', '(vpn)', 'shtaka', 'walikwepa', 'mitambo', 'yaliyounganishwa', 'vietnam\\xa0', 'walisababishia', '75', 'wanadaiwa', 'vpn', 'waliisababishia', '303', 'wakijua', 'ilitakatisha', 'zinazokabili', 'kimara-', 'kivukoni-gerezani', '(dart)', 'umesema', 'wanatarajia', 'mwekezaji', 'ameanza', 'kaziaidha', 'watatangaza', 'zabuni', 'ametaka', 'kujitokeza', 'zitakuwa', 'inavyofanyika', 'inayoanza', 'ujayo', 'mwendeshaji', 'mpito', 'itakayoendesha', 'itapatikana', 'utakaotumia', '200kwa', 'udart', '140', 'kuongezeka', '305', 'tija', 'salaammtendaji', 'dart', 'ronald', 'rwakatare', 'itakamilisha', 'kuisha“ni', 'machache', 'akikabiliwa', 'tumejifunza;', 'mpito”alisemaofisa', 'kizalendo', 'zinaweza', 'wanatoa', 'usafirishaji', 'malori', 'kilometa', '600', 'watashindwaje', 'kilomita', 'hazifiki“ikiwa', 'anakidhi', 'wataalamu', 'ukatishaji', 'mengineyo', 'wanaweza', 'vema', 'hiyo”alisemaalibainisha', 'watatumia', 'kasoro', 'zilizojitokeza', 'itakayojengwa', 'haitakuwa', 'changamotokatika', 'majengo', 'karakana', 'kukamilika', 'zitajengwa', 'mitatukatika', 'kawawa', 'sokoine', 'gerezani', 'bandarini', 'chang’ombe', 'urefu', '203alisema', 'mkandarasi', 'amepatikana', 'zimelipwa', 'unaanza', 'ujaoalieleza', 'tathmini', 'yanayohitajika', 'wanafanya', 'kuhuisha', 'kuhamia', 'kongowe', 'vikindu', 'ilipangwa', 'rangi', 'tatubaada', 'itafuata', 'kurahisisha']\n"
     ]
    }
   ],
   "source": [
    "#---FREQUENCY DISTRIBUTION OF WORDS---#\n",
    "\n",
    "# make a dictionary of words and count their frequencies?\n",
    "# optimise this with python optimization and list comprehension\n",
    "vocabulary = []\n",
    "for sample in df['content'].values[0:50]:\n",
    "    sample = process_sample(sample, stopword_list)\n",
    "    for word in sample:\n",
    "        if word not in vocabulary:\n",
    "            vocabulary.append(word)\n",
    "print(vocabulary)"
   ]
  },
  {
   "cell_type": "code",
   "execution_count": null,
   "metadata": {},
   "outputs": [],
   "source": []
  },
  {
   "cell_type": "code",
   "execution_count": null,
   "metadata": {},
   "outputs": [],
   "source": [
    "# Create Document Term Matrix"
   ]
  },
  {
   "cell_type": "code",
   "execution_count": null,
   "metadata": {},
   "outputs": [],
   "source": [
    "# NB what are the steps to explore textual data ?"
   ]
  },
  {
   "cell_type": "code",
   "execution_count": null,
   "metadata": {},
   "outputs": [],
   "source": [
    "#----NOTES----#\n",
    "\n",
    "# Think of ways to extend project and make it really good\n",
    "# Can we make it into a generic Python library?\n",
    "# Can we add to it e.g. add sentiment analysis in some way?\n",
    "# Can we compare approaches?\n",
    "# Can we extend to other languages/multi-lingual?"
   ]
  }
 ],
 "metadata": {
  "kernelspec": {
   "display_name": "Python 3",
   "language": "python",
   "name": "python3"
  },
  "language_info": {
   "codemirror_mode": {
    "name": "ipython",
    "version": 3
   },
   "file_extension": ".py",
   "mimetype": "text/x-python",
   "name": "python",
   "nbconvert_exporter": "python",
   "pygments_lexer": "ipython3",
   "version": "3.7.4"
  }
 },
 "nbformat": 4,
 "nbformat_minor": 2
}
